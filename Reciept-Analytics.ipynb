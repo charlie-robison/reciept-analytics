{
 "cells": [
  {
   "cell_type": "code",
   "execution_count": 1,
   "id": "c2714468",
   "metadata": {},
   "outputs": [],
   "source": [
    "# !pip install langchain\n",
    "# !pip install openai -U\n",
    "# !pip install nervaluate\n",
    "# !pip install faiss\n",
    "# !pip install tiktoken\n",
    "# !pip install pandas\n",
    "# !pip install sentence-transformers\n",
    "# !pip install matplotlib"
   ]
  },
  {
   "cell_type": "code",
   "execution_count": 2,
   "id": "8b4abedc",
   "metadata": {},
   "outputs": [],
   "source": [
    "### THE OVERVIEW: \n",
    "# 1. Prompt in LLM.\n",
    "# 2. Convert the receipt text structured data\n",
    "# 3. Use labels and K-nearest neighbors (embeddings) to classify the vendor into vendor categories.\n",
    "# 4. Classify the items into categories; propose your own .\n",
    "# 5. Plot these analytics of vendors and items."
   ]
  },
  {
   "cell_type": "code",
   "execution_count": 3,
   "id": "14a3bf88",
   "metadata": {},
   "outputs": [],
   "source": [
    "from langchain.prompts import PromptTemplate\n",
    "from langchain.chains import LLMChain\n",
    "from langchain.chat_models import ChatOpenAI\n",
    "from langchain.embeddings.openai import OpenAIEmbeddings\n",
    "from langchain.embeddings import HuggingFaceEmbeddings\n",
    "from sklearn.model_selection import GridSearchCV\n",
    "from sklearn.neighbors import KNeighborsClassifier\n",
    "from sklearn.metrics import precision_score, recall_score, f1_score, accuracy_score\n",
    "from nervaluate import Evaluator\n",
    "import matplotlib.pyplot as plt\n",
    "import pandas as pd\n",
    "import numpy as np\n",
    "import json\n",
    "import os\n",
    "import openai"
   ]
  },
  {
   "cell_type": "code",
   "execution_count": 4,
   "id": "0bfdaacd",
   "metadata": {},
   "outputs": [],
   "source": [
    "prompt = \"\"\"\n",
    "Can you please convert this unstructured receipt text data into a structured JSON object which includes ReceiptInfo and ITEMS.\n",
    "Note that sometimes the quantity for an item may be located next to the item name.\n",
    "Text in the structured JSON should appear in the same format as the unstructured receipt.\n",
    "Please just give the structured JSON object and nothing else.\n",
    "\n",
    "Here is the schema for the JSON object:\n",
    "{{\n",
    "  \"ReceiptInfo\": {{\n",
    "    \"merchant\": \"(string value)\",\n",
    "    \"address\": \"(string value)\",\n",
    "    \"city\": \"(string value)\",\n",
    "    \"state\": \"(string value)\",\n",
    "    \"phoneNumber\": \"(string value)\",\n",
    "    \"tax\": \"(float value)\",\n",
    "    \"total\": \"(float value)\",\n",
    "    \"receiptDate\": \"(string value)\",\n",
    "    \"receiptTime\": \"(string value)\",\n",
    "\n",
    "\n",
    "    \"ITEMS\": [\n",
    "      {{\n",
    "        \"description\": \"(string value)\",\n",
    "        \"quantity\": \"(integer value)\",\n",
    "        \"unitPrice\": \"(float value)\",\n",
    "        \"totalPrice\": \"(float value)\",\n",
    "        \"discountAmount\": \"(float value)\"\n",
    "      }}\n",
    "    ]\n",
    "  }}\n",
    "}}\n",
    "\n",
    "\n",
    "Examples:\n",
    "\n",
    "Receipt:\n",
    "Give us feedback @ <UNKNOWN>\n",
    "Thank you! ID <UNKNOWN> <UNKNOWN>\n",
    "Walmart\n",
    "301-604-0180 Mgr:DEBRA\n",
    "3549 RUSSETT GRN\n",
    "LAUREL MD 20724\n",
    "ST# 01985 OP# 009049 TE# 49 TR# 04345\n",
    "<UNKNOWN> PRK SB 008265754333 F\n",
    "1.98 X\n",
    "BOOSTER\n",
    "088439295372\n",
    "19.98 N\n",
    "VOIDED BANKCARD TRANSACTION\n",
    "TERMINAL <UNKNOWN> SC010112\n",
    "TRANSACTION NOT COMPLETE\n",
    "07/04/23\n",
    "16:19:53\n",
    "<UNKNOWN> BANKCARD TRANSACTION\n",
    "TERMINAL # SC010112\n",
    "TRANSACTION <UNKNOWN> COMPLETE\n",
    "07/04/23\n",
    "16:20:01\n",
    "SUBTOTAL\n",
    "21.96\n",
    "TAX 1\n",
    "6.000 %\n",
    "0.12\n",
    "TOTAL\n",
    "22.08\n",
    "VISA TEND\n",
    "22.08\n",
    "ACCOUNT #\n",
    "**** **** <UNKNOWN> 2130 F\n",
    "APPROVAL # 00592D\n",
    "REF # 318500762875\n",
    "TRANS ID - 583185732192035\n",
    "VALIDATION - B339\n",
    "PAYMENT SERVICE - E\n",
    "TERMINAL # SC010112\n",
    "07/04/23\n",
    "16:20:21\n",
    "CHANGE DUE\n",
    "0.00\n",
    "# ITEMS SOLD 2\n",
    "<UNKNOWN> 0069 6254 8220 4557 9869\n",
    "Walmart\n",
    "Become a member\n",
    "Scan for free 30-day trial\n",
    "Low Prices You Can <UNKNOWN> Every <UNKNOWN>\n",
    "07/04/23\n",
    "16:20:22\n",
    "***CUSTOMER <UNKNOWN>\n",
    "\n",
    "JSON:\n",
    "{{\n",
    "  \"ReceiptInfo\": {{\n",
    "    \"merchant\": \"Walmart\",\n",
    "    \"address\": \"3549 RUSSETT GRN\",\n",
    "    \"city\": \"LAUREL\",\n",
    "    \"state\": \"MD\",\n",
    "    \"phoneNumber\": \"301-604-0180\",\n",
    "    \"tax\": \"0.12\",\n",
    "    \"total\": \"22.08\",\n",
    "    \"receiptDate\": \"07/04/23\",\n",
    "    \"receiptTime\": \"4:20pm\",\n",
    "\n",
    "\n",
    "    \"ITEMS\": [\n",
    "      {{\n",
    "        \"description\": \"PRK SB\",\n",
    "        \"quantity\": \"1\",\n",
    "        \"unitPrice\": \"1.98\",\n",
    "        \"totalPrice\": \"1.98\",\n",
    "        \"discountAmount\": \"0.00\"\n",
    "      }},\n",
    "      {{\n",
    "        \"description\": \"BOOSTER\",\n",
    "        \"quantity\": \"1\",\n",
    "        \"unitPrice\": \"19.98\",\n",
    "        \"totalPrice\": \"19.98\",\n",
    "        \"discountAmount\": \"0.00\"\n",
    "      }}\n",
    "    ]\n",
    "  }}\n",
    "}}\n",
    "\n",
    "Receipt:\n",
    "Unstructured Receipt Text Data:\n",
    "203\n",
    "BUY ONE GET ONE FREE QUARTER POUNDER\n",
    "W/CHEESE OR EGG MCMUFFIN\n",
    "Go to www.mcdvoice.com within 7 days\n",
    "and tell <UNKNOWN> about your visit.\n",
    "Validation Code:\n",
    "Expires 30 days after receipt date.\n",
    "Valid at participating US\n",
    "Survey Code:\n",
    "<UNKNOWN>\n",
    "McDonald's Restaurant <UNKNOWN>\n",
    "2915 E MANCA RD\n",
    "<UNKNOWN> 96822\n",
    "TEL# <UNKNOWN>\n",
    "Thank You Valued Customer\n",
    "KS# 2\n",
    "08/19/2023 03:33 PM\n",
    "<UNKNOWN>\n",
    "Order 03\n",
    "1 Happy Meal Ch Burger\n",
    "5.89\n",
    "1 Cheeseburger\n",
    "ONLY Onions\n",
    "ONLY Ketchup\n",
    "1 Extra Kids Fry\n",
    "1 Apple Juice\n",
    "1 NERF\n",
    "Subtotal\n",
    "5.89\n",
    "Tax\n",
    "0.28\n",
    "Take-Out Total\n",
    "6.17\n",
    "Cashless\n",
    "6.17\n",
    "Change\n",
    "0.00\n",
    "MER# 467782\n",
    "CARD ISSUER\n",
    "ACCOUNT\n",
    "Visa SALE\n",
    "<UNKNOWN> <UNKNOWN> 130\n",
    "TRANSACTION AMOUNT\n",
    "6.17\n",
    "CONTACTLESS\n",
    "AUTHORIZATION CODE - <UNKNOWN>\n",
    "SEQ# 107204\n",
    "AID: A0000000031010\n",
    "McDonald's Restaurant\n",
    "Sign up for MyMcDonald's rewards\n",
    "to earn points on future visit\n",
    "\n",
    "JSON:\n",
    "{{\n",
    "  \"ReceiptInfo\": {{\n",
    "    \"merchant\": \"McDonald's Restaurant\",\n",
    "    \"address\": \"2915 E MANOA RD\",\n",
    "    \"city\": \"Honolulu\",\n",
    "    \"state\": \"HI\",\n",
    "    \"phoneNumber\": \"\",\n",
    "    \"tax\": \"0.28\",\n",
    "    \"total\": \"6.17\",\n",
    "    \"receiptDate\": \"08/19/2023\",\n",
    "    \"receiptTime\": \"03:33 PM\",\n",
    "\n",
    "\n",
    "    \"ITEMS\": [\n",
    "      {{\n",
    "        \"description\": \"Happy Meal Ch Burger\",\n",
    "        \"quantity\": \"1\",\n",
    "        \"unitPrice\": \"5.89\",\n",
    "        \"totalPrice\": \"5.89\",\n",
    "        \"discountAmount\": \"0.00\"\n",
    "      }}\n",
    "    ]\n",
    "  }}\n",
    "}}\n",
    "\n",
    "Receipt:\n",
    "Unstructured Receipt Text Data:\n",
    "H\n",
    "<UNKNOWN>\n",
    "MART\n",
    "http://www.hmart.com\n",
    "458 Keawe st\n",
    "Honolulu, <UNKNOWN> 96813\n",
    "TEL (808) 219-0924\n",
    "Your Cashier was TIM\n",
    "WANG DANGMYUN\n",
    "4.99 B\n",
    "K-T TOPPOKI\n",
    "PC\n",
    "6.99 B\n",
    "OTG SOUP RICECAKE\n",
    "7.99 B\n",
    "HT VEGE DUMPLING\n",
    "14.99 B\n",
    "TAX\n",
    "1.65\n",
    "****\n",
    "BALANCE\n",
    "36.61\n",
    "Discover Credit - C\n",
    "ACCOUNT <UNKNOWN> ************ 1153\n",
    "APPROVAL CODE: 01263R\n",
    "SEQUENCE NUMBER: 22907\n",
    "No CVM\n",
    "Amount USD $36.61\n",
    "CARD:Discover CREDIT XXXX1153 EMV\n",
    "APPROVAL CODE : 01263R\n",
    "AID A0000001523010\n",
    "TVR : 0000008000\n",
    "IAD <UNKNOWN>\n",
    "TSI : E800\n",
    "APPLICATION CRYPTOGRAM CB8F25799B68A2B\n",
    "APPLICATION PREFERRED NAME Discover Cr\n",
    "APPLICATION LABEL : Discover\n",
    "TC CB8F25799B68A2B3\n",
    "<UNKNOWN> 00\n",
    "RespDate : 06112023\n",
    "Resp Time 211509\n",
    "<UNKNOWN>\n",
    "TOTAL AMOUNT: $36.61\n",
    "RESPONSE CODE: APPROVED\n",
    "06/11/23 09:15pm 113 20\n",
    "Discover\n",
    "<UNKNOWN> 61\n",
    "CHANGE\n",
    "0.00\n",
    "TOTAL NUMBER OF ITEMS SOLD =\n",
    "4\n",
    "06/11/23 09:15pm 81 20 363 113\n",
    "\n",
    "JSON:\n",
    "{{\n",
    "  \"ReceiptInfo\": {{\n",
    "    \"merchant\": \"H MART\",\n",
    "    \"address\": \"458 Keawe st\",\n",
    "    \"city\": \"Honolulu\",\n",
    "    \"state\": \"HI\",\n",
    "    \"phoneNumber\": \"(808) 219-0924\",\n",
    "    \"tax\": \"1.65\",\n",
    "    \"total\": \"36.61\",\n",
    "    \"receiptDate\": \"06/11/23\",\n",
    "    \"receiptTime\": \"09:15pm\",\n",
    "\n",
    "\n",
    "    \"ITEMS\": [\n",
    "      {{\n",
    "        \"description\": \"WANG DANGMYUN\",\n",
    "        \"quantity\": \"1\",\n",
    "        \"unitPrice\": \"4.99\",\n",
    "        \"totalPrice\": \"4.99\",\n",
    "        \"discountAmount\": \"0.00\"\n",
    "      }},\n",
    "      {{\n",
    "        \"description\": \"K-T TOPPOKI PC\",\n",
    "        \"quantity\": \"1\",\n",
    "        \"unitPrice\": \"6.99\",\n",
    "        \"totalPrice\": \"6.99\",\n",
    "        \"discountAmount\": \"0.00\"\n",
    "      }},\n",
    "      {{\n",
    "        \"description\": \"OTG SOUP RICECAKE\",\n",
    "        \"quantity\": \"1\",\n",
    "        \"unitPrice\": \"7.99\",\n",
    "        \"totalPrice\": \"7.99\",\n",
    "        \"discountAmount\": \"0.00\"\n",
    "      }},\n",
    "      {{\n",
    "        \"description\": \"HT VEGE DUMPLING\",\n",
    "        \"quantity\": \"1\",\n",
    "        \"unitPrice\": \"14.99\",\n",
    "        \"totalPrice\": \"14.99\",\n",
    "        \"discountAmount\": \"0.00\"\n",
    "      }}\n",
    "    ]\n",
    "  }}\n",
    "}}\n",
    "\n",
    "Receipt:\n",
    "SAFEWAY\n",
    "O\n",
    "<UNKNOWN>\n",
    "Store 204 Dir Kaipo Ah Mook Sang\n",
    "Main (808) 988-2058\n",
    "2855 East Manoa Road\n",
    "HONOLULU HI 96822\n",
    "GROCERY\n",
    "6.99 B\n",
    "MARINARA SCE\n",
    "Regular Price\n",
    "8.49\n",
    "Member Savings\n",
    "1.50-\n",
    "REFRIG/FROZEN\n",
    "LUC CHES COLBY JAC.\n",
    "10.99 B\n",
    "Regular Price\n",
    "13.49\n",
    "Member Savings\n",
    "2.50-\n",
    "MARIE CALLENDER'S\n",
    "4.00 B\n",
    "Regular Price\n",
    "6.49\n",
    "Member Savings\n",
    "2.49-\n",
    "MEAT\n",
    "AIDELLS MEATBALLS\n",
    "5.99 B\n",
    "Regular Price\n",
    "8.99\n",
    "Member Savings\n",
    "3.00-\n",
    "TAX\n",
    "1.32\n",
    "**** BALANCE\n",
    "29.29\n",
    "Credit Purchase 08/01/23 20:15\n",
    "CARD # <UNKNOWN>\n",
    "<UNKNOWN> 861544421300 AUTH: 0006375D\n",
    "PAYMENT AMOUNT\n",
    "29.29\n",
    "AL VISA CREDIT\n",
    "AID A0000000031010\n",
    "TVR 0000000000\n",
    "TSI 0000\n",
    "Visa\n",
    "29.29\n",
    "CHANGE\n",
    "0.00\n",
    "TOTAL NUMBER OF ITEMS SOLD =\n",
    "4\n",
    "08/01/23 20:15 204 51 151\n",
    "8851\n",
    "Gameplays Earned 2\n",
    "Sweepstakes Entries Earned 2\n",
    "*Subject to limit of 10 <UNKNOWN> day\n",
    "Earn gameplays and sweepstakes entries\n",
    "by shopping, then play\n",
    "Flavor Adventure for a chance to win!\n",
    "Scan the QR code to Play. Win. Save.\n",
    "REWARDS AVAILABLE\n",
    "2\n",
    "POINTS EARNED TODAY\n",
    "Base Points 27\n",
    "Total 27\n",
    "Points Towards Next Reward 57 of 100\n",
    "YOUR CASHIER TODAY WAS SELF\n",
    "YOUR SAVINGS\n",
    "Member Savings\n",
    "Total\n",
    "9.49\n",
    "Total Savings Value\n",
    "9.49\n",
    "25%\n",
    "Thank <UNKNOWN> you for shopping <UNKNOWN>\n",
    "For SAFEWAY FOR U questions\n",
    "877-276-9637 or Safeway.com/foru call\n",
    "\n",
    "JSON:\n",
    "{{\n",
    "  \"ReceiptInfo\": {{\n",
    "    \"merchant\": \"SAFEWAY\",\n",
    "    \"address\": \"2855 East Manoa Road\",\n",
    "    \"city\": \"Honolulu\",\n",
    "    \"state\": \"HI\",\n",
    "    \"phoneNumber\": \"(808) 988-2058\",\n",
    "    \"tax\": \"1.32\",\n",
    "    \"total\": \"29.29\",\n",
    "    \"receiptDate\": \"08/01/23\",\n",
    "    \"receiptTime\": \"8:15pm\",\n",
    "\n",
    "\n",
    "    \"ITEMS\": [\n",
    "      {{\n",
    "        \"description\": \"MARINARA SCE\",\n",
    "        \"quantity\": \"1\",\n",
    "        \"unitPrice\": \"8.49\",\n",
    "        \"totalPrice\": \"6.99\",\n",
    "        \"discountAmount\": \"1.50\"\n",
    "      }},\n",
    "      {{\n",
    "        \"description\": \"LUC CHES COLBY JAC.\",\n",
    "        \"quantity\": \"1\",\n",
    "        \"unitPrice\": \"13.49\",\n",
    "        \"totalPrice\": \"10.99\",\n",
    "        \"discountAmount\": \"2.50\"\n",
    "      }},\n",
    "      {{\n",
    "        \"description\": \"MARIE CALLENDER'S\",\n",
    "        \"quantity\": \"1\",\n",
    "        \"unitPrice\": \"6.49\",\n",
    "        \"totalPrice\": \"4.00\",\n",
    "        \"discountAmount\": \"2.49\"\n",
    "      }},\n",
    "      {{\n",
    "        \"description\": \"AIDELLS MEATBALLS\",\n",
    "        \"quantity\": \"1\",\n",
    "        \"unitPrice\": \"8.99\",\n",
    "        \"totalPrice\": \"5.99\",\n",
    "        \"discountAmount\": \"3.00\"\n",
    "      }}\n",
    "    ]\n",
    "  }}\n",
    "}}\n",
    "\n",
    "Here is the Unstructured Receipt Text Data (Turn this into structured JSON):\n",
    "\n",
    "Receipt: {receipt}\n",
    "\"\"\""
   ]
  },
  {
   "cell_type": "code",
   "execution_count": 5,
   "id": "40077233",
   "metadata": {},
   "outputs": [],
   "source": [
    "def get_receipts():\n",
    "    \"\"\"Gets unstructured receipt text from each receipt text file in the receipts directory.\"\"\"\n",
    "    folder_path = 'receipts/text'\n",
    "    receipts = []\n",
    "    \n",
    "    # List all files in the folder\n",
    "    files = os.listdir(folder_path)\n",
    "    \n",
    "    # Iterate through each file\n",
    "    for file_name in files:\n",
    "        file_path = os.path.join(folder_path, file_name)\n",
    "    \n",
    "        # Check if it's a text file\n",
    "        if file_name.endswith('.txt'):\n",
    "            with open(file_path, 'r') as file:\n",
    "                # Read the content and append to the array\n",
    "                text_content = file.read()\n",
    "                receipts.append(text_content)\n",
    "    \n",
    "    return receipts\n",
    "\n",
    "test_receipts = get_receipts()[0:20]"
   ]
  },
  {
   "cell_type": "code",
   "execution_count": 6,
   "id": "4960a0a0",
   "metadata": {},
   "outputs": [
    {
     "name": "stderr",
     "output_type": "stream",
     "text": [
      "2023-12-13 11:41:28 httpx INFO: HTTP Request: POST https://api.openai.com/v1/chat/completions \"HTTP/1.1 200 OK\"\n",
      "2023-12-13 11:41:44 httpx INFO: HTTP Request: POST https://api.openai.com/v1/chat/completions \"HTTP/1.1 200 OK\"\n",
      "2023-12-13 11:42:00 httpx INFO: HTTP Request: POST https://api.openai.com/v1/chat/completions \"HTTP/1.1 200 OK\"\n",
      "2023-12-13 11:42:16 httpx INFO: HTTP Request: POST https://api.openai.com/v1/chat/completions \"HTTP/1.1 200 OK\"\n",
      "2023-12-13 11:42:32 httpx INFO: HTTP Request: POST https://api.openai.com/v1/chat/completions \"HTTP/1.1 200 OK\"\n",
      "2023-12-13 11:42:47 httpx INFO: HTTP Request: POST https://api.openai.com/v1/chat/completions \"HTTP/1.1 200 OK\"\n",
      "2023-12-13 11:43:04 httpx INFO: HTTP Request: POST https://api.openai.com/v1/chat/completions \"HTTP/1.1 200 OK\"\n",
      "2023-12-13 11:43:18 httpx INFO: HTTP Request: POST https://api.openai.com/v1/chat/completions \"HTTP/1.1 200 OK\"\n",
      "2023-12-13 11:44:19 httpx INFO: HTTP Request: POST https://api.openai.com/v1/chat/completions \"HTTP/1.1 200 OK\"\n",
      "2023-12-13 11:44:27 httpx INFO: HTTP Request: POST https://api.openai.com/v1/chat/completions \"HTTP/1.1 200 OK\"\n",
      "2023-12-13 11:44:49 httpx INFO: HTTP Request: POST https://api.openai.com/v1/chat/completions \"HTTP/1.1 200 OK\"\n",
      "2023-12-13 11:44:59 httpx INFO: HTTP Request: POST https://api.openai.com/v1/chat/completions \"HTTP/1.1 200 OK\"\n",
      "2023-12-13 11:45:25 httpx INFO: HTTP Request: POST https://api.openai.com/v1/chat/completions \"HTTP/1.1 200 OK\"\n",
      "2023-12-13 11:45:41 httpx INFO: HTTP Request: POST https://api.openai.com/v1/chat/completions \"HTTP/1.1 200 OK\"\n",
      "2023-12-13 11:46:01 httpx INFO: HTTP Request: POST https://api.openai.com/v1/chat/completions \"HTTP/1.1 200 OK\"\n",
      "2023-12-13 11:46:22 httpx INFO: HTTP Request: POST https://api.openai.com/v1/chat/completions \"HTTP/1.1 200 OK\"\n",
      "2023-12-13 11:46:29 httpx INFO: HTTP Request: POST https://api.openai.com/v1/chat/completions \"HTTP/1.1 200 OK\"\n",
      "2023-12-13 11:47:18 httpx INFO: HTTP Request: POST https://api.openai.com/v1/chat/completions \"HTTP/1.1 200 OK\"\n",
      "2023-12-13 11:47:32 httpx INFO: HTTP Request: POST https://api.openai.com/v1/chat/completions \"HTTP/1.1 200 OK\"\n",
      "2023-12-13 11:47:49 httpx INFO: HTTP Request: POST https://api.openai.com/v1/chat/completions \"HTTP/1.1 200 OK\"\n"
     ]
    },
    {
     "data": {
      "text/plain": [
       "['{\\n  \"ReceiptInfo\": {\\n    \"merchant\": \"SAFEWAY\",\\n    \"address\": \"2855 East Manoa Road\",\\n    \"city\": \"Honolulu\",\\n    \"state\": \"HI\",\\n    \"phoneNumber\": \"(808) 988-2058\",\\n    \"tax\": \"0.21\",\\n    \"total\": \"4.70\",\\n    \"receiptDate\": \"05/26/22\",\\n    \"receiptTime\": \"11:57am\",\\n\\n\\n    \"ITEMS\": [\\n      {\\n        \"description\": \"LUCERNE MILK WHOLE\",\\n        \"quantity\": \"1\",\\n        \"unitPrice\": \"4.49\",\\n        \"totalPrice\": \"4.49\",\\n        \"discountAmount\": \"0.00\"\\n      }\\n    ]\\n  }\\n}',\n",
       " '{\\n  \"ReceiptInfo\": {\\n    \"merchant\": \"Sugar Sugar Hawaii\",\\n    \"address\": \"4211 Waialae Ave., #W-2D\",\\n    \"city\": \"Honolulu\",\\n    \"state\": \"Hawaii\",\\n    \"phoneNumber\": \"\",\\n    \"tax\": \"1.71\",\\n    \"total\": \"37.86\",\\n    \"receiptDate\": \"Nov 04, 2023\",\\n    \"receiptTime\": \"02:26 PM\",\\n\\n\\n    \"ITEMS\": [\\n      {\\n        \"description\": \"Knitty Critters - Pouch Pals - Eddy\",\\n        \"quantity\": \"1\",\\n        \"unitPrice\": \"18.00\",\\n        \"totalPrice\": \"18.00\",\\n        \"discountAmount\": \"0.00\"\\n      },\\n      {\\n        \"description\": \"The Bear Crochet Kit\",\\n        \"quantity\": \"1\",\\n        \"unitPrice\": \"18.00\",\\n        \"totalPrice\": \"18.00\",\\n        \"discountAmount\": \"0.00\"\\n      },\\n      {\\n        \"description\": \"Knitty Critters - Pouch Pals - Popcorn The Bunny Crochet Kit\",\\n        \"quantity\": \"1\",\\n        \"unitPrice\": \"0.15\",\\n        \"totalPrice\": \"0.15\",\\n        \"discountAmount\": \"0.00\"\\n      }\\n    ]\\n  }\\n}',\n",
       " '{\\n  \"ReceiptInfo\": {\\n    \"merchant\": \"Foodland\",\\n    \"address\": \"2939 Harding Avenue\",\\n    \"city\": \"Honolulu\",\\n    \"state\": \"HI\",\\n    \"phoneNumber\": \"808-734-6303\",\\n    \"tax\": \"0.74\",\\n    \"total\": \"16.52\",\\n    \"receiptDate\": \"09/04/23\",\\n    \"receiptTime\": \"02:41pm\",\\n\\n\\n    \"ITEMS\": [\\n      {\\n        \"description\": \"SPRAY ROSES\",\\n        \"quantity\": \"1\",\\n        \"unitPrice\": \"8.99\",\\n        \"totalPrice\": \"8.99\",\\n        \"discountAmount\": \"0.00\"\\n      },\\n      {\\n        \"description\": \"LINDT MILK CHOC\",\\n        \"quantity\": \"1\",\\n        \"unitPrice\": \"6.79\",\\n        \"totalPrice\": \"6.79\",\\n        \"discountAmount\": \"0.00\"\\n      }\\n    ]\\n  }\\n}',\n",
       " '{\\n  \"ReceiptInfo\": {\\n    \"merchant\": \"Halal Gyro Kabob House\",\\n    \"address\": \"240 EAST DELAWARE AVENUE\",\\n    \"city\": \"NEWARK\",\\n    \"state\": \"DE\",\\n    \"phoneNumber\": \"4439937029\",\\n    \"tax\": \"0.00\",\\n    \"total\": \"16.09\",\\n    \"receiptDate\": \"06-Jul-2023\",\\n    \"receiptTime\": \"7:57:49P\",\\n\\n\\n    \"ITEMS\": [\\n      {\\n        \"description\": \"#18. Lamb Salad\",\\n        \"quantity\": \"1\",\\n        \"unitPrice\": \"13.99\",\\n        \"totalPrice\": \"13.99\",\\n        \"discountAmount\": \"0.00\"\\n      }\\n    ]\\n  }\\n}',\n",
       " '{\\n  \"ReceiptInfo\": {\\n    \"merchant\": \"Walmart\",\\n    \"address\": \"700 KEEAUMOKU ST\",\\n    \"city\": \"HONOLULU\",\\n    \"state\": \"HI\",\\n    \"phoneNumber\": \"808-955-8441\",\\n    \"tax\": \"0.50\",\\n    \"total\": \"11.03\",\\n    \"receiptDate\": \"11/05/23\",\\n    \"receiptTime\": \"6:06pm\",\\n\\n\\n    \"ITEMS\": [\\n      {\\n        \"description\": \"GV CF LG 12\",\\n        \"quantity\": \"1\",\\n        \"unitPrice\": \"2.40\",\\n        \"totalPrice\": \"2.40\",\\n        \"discountAmount\": \"0.00\"\\n      },\\n      {\\n        \"description\": \"EZEKIEL\",\\n        \"quantity\": \"1\",\\n        \"unitPrice\": \"8.13\",\\n        \"totalPrice\": \"8.13\",\\n        \"discountAmount\": \"0.00\"\\n      }\\n    ]\\n  }\\n}',\n",
       " '{\\n  \"ReceiptInfo\": {\\n    \"merchant\": \"LILIHA BAKERY\",\\n    \"address\": \"Pearl Highlands Center\",\\n    \"city\": \"Pearl City\",\\n    \"state\": \"HI\",\\n    \"phoneNumber\": \"(808)455-1188\",\\n    \"tax\": \"2.22\",\\n    \"total\": \"49.36\",\\n    \"receiptDate\": \"10/21/2023\",\\n    \"receiptTime\": \"5:46:41 PM\",\\n\\n\\n    \"ITEMS\": [\\n      {\\n        \"description\": \"Poi Donut\",\\n        \"quantity\": \"10\",\\n        \"unitPrice\": \"20.90\",\\n        \"totalPrice\": \"20.90\",\\n        \"discountAmount\": \"0.00\"\\n      },\\n      {\\n        \"description\": \"Coco Puff\",\\n        \"quantity\": \"6\",\\n        \"unitPrice\": \"12.50\",\\n        \"totalPrice\": \"12.50\",\\n        \"discountAmount\": \"0.00\"\\n      },\\n      {\\n        \"description\": \"Green Tea Puff\",\\n        \"quantity\": \"6\",\\n        \"unitPrice\": \"13.74\",\\n        \"totalPrice\": \"13.74\",\\n        \"discountAmount\": \"0.00\"\\n      }\\n    ]\\n  }\\n}',\n",
       " '{\\n  \"ReceiptInfo\": {\\n    \"merchant\": \"Walmart\",\\n    \"address\": \"700 <UNKNOWN> ST\",\\n    \"city\": \"<UNKNOWN>\",\\n    \"state\": \"HI\",\\n    \"phoneNumber\": \"808-955-8441\",\\n    \"tax\": \"1.62\",\\n    \"total\": \"36.09\",\\n    \"receiptDate\": \"10/21/23\",\\n    \"receiptTime\": \"11:46:09\",\\n\\n\\n    \"ITEMS\": [\\n      {\\n        \"description\": \"LOCK BOX\",\\n        \"quantity\": \"1\",\\n        \"unitPrice\": \"34.47\",\\n        \"totalPrice\": \"34.47\",\\n        \"discountAmount\": \"0.00\"\\n      }\\n    ]\\n  }\\n}',\n",
       " '{\\n  \"ReceiptInfo\": {\\n    \"merchant\": \"Walmart\",\\n    \"address\": \"700 KEEAUMOKU ST\",\\n    \"city\": \"HONOLULU\",\\n    \"state\": \"HI\",\\n    \"phoneNumber\": \"808-955-8441\",\\n    \"tax\": \"0.32\",\\n    \"total\": \"7.12\",\\n    \"receiptDate\": \"10/08/23\",\\n    \"receiptTime\": \"12:20pm\",\\n\\n\\n    \"ITEMS\": [\\n      {\\n        \"description\": \"PREP PROD CH\",\\n        \"quantity\": \"1\",\\n        \"unitPrice\": \"2.38\",\\n        \"totalPrice\": \"2.38\",\\n        \"discountAmount\": \"0.00\"\\n      },\\n      {\\n        \"description\": \"GV CHK MOZZ\",\\n        \"quantity\": \"1\",\\n        \"unitPrice\": \"4.42\",\\n        \"totalPrice\": \"4.42\",\\n        \"discountAmount\": \"0.00\"\\n      }\\n    ]\\n  }\\n}',\n",
       " '{\\n  \"ReceiptInfo\": {\\n    \"merchant\": \"Walmart\",\\n    \"address\": \"1131 KUALA ST\",\\n    \"city\": \"PEARL CITY\",\\n    \"state\": \"HI\",\\n    \"phoneNumber\": \"808-454-8785\",\\n    \"tax\": \"4.78\",\\n    \"total\": \"106.18\",\\n    \"receiptDate\": \"10/04/23\",\\n    \"receiptTime\": \"2:25pm\",\\n\\n\\n    \"ITEMS\": [\\n      {\\n        \"description\": \"KETTLE\",\\n        \"quantity\": \"1\",\\n        \"unitPrice\": \"43.24\",\\n        \"totalPrice\": \"43.24\",\\n        \"discountAmount\": \"0.00\"\\n      },\\n      {\\n        \"description\": \"POPCORN\",\\n        \"quantity\": \"1\",\\n        \"unitPrice\": \"7.88\",\\n        \"totalPrice\": \"7.88\",\\n        \"discountAmount\": \"0.00\"\\n      },\\n      {\\n        \"description\": \"DOG SNACKS\",\\n        \"quantity\": \"1\",\\n        \"unitPrice\": \"4.54\",\\n        \"totalPrice\": \"4.54\",\\n        \"discountAmount\": \"0.00\"\\n      },\\n      {\\n        \"description\": \"CHK NDL SOUP\",\\n        \"quantity\": \"3\",\\n        \"unitPrice\": \"2.26\",\\n        \"totalPrice\": \"6.78\",\\n        \"discountAmount\": \"0.00\"\\n      },\\n      {\\n        \"description\": \"POT RST SOUP\",\\n        \"quantity\": \"1\",\\n        \"unitPrice\": \"2.26\",\\n        \"totalPrice\": \"2.26\",\\n        \"discountAmount\": \"0.00\"\\n      },\\n      {\\n        \"description\": \"TUNA\",\\n        \"quantity\": \"4\",\\n        \"unitPrice\": \"1.32\",\\n        \"totalPrice\": \"5.28\",\\n        \"discountAmount\": \"0.00\"\\n      },\\n      {\\n        \"description\": \"SPAM LNCH MT\",\\n        \"quantity\": \"1\",\\n        \"unitPrice\": \"2.98\",\\n        \"totalPrice\": \"2.98\",\\n        \"discountAmount\": \"0.00\"\\n      },\\n      {\\n        \"description\": \"DL BAR 8CT\",\\n        \"quantity\": \"1\",\\n        \"unitPrice\": \"7.12\",\\n        \"totalPrice\": \"7.12\",\\n        \"discountAmount\": \"0.00\"\\n      },\\n      {\\n        \"description\": \"BENADRYL 100\",\\n        \"quantity\": \"1\",\\n        \"unitPrice\": \"15.24\",\\n        \"totalPrice\": \"15.24\",\\n        \"discountAmount\": \"0.00\"\\n      },\\n      {\\n        \"description\": \"GOLDBEARS\",\\n        \"quantity\": \"2\",\\n        \"unitPrice\": \"1.28\",\\n        \"totalPrice\": \"2.56\",\\n        \"discountAmount\": \"0.00\"\\n      },\\n      {\\n        \"description\": \"SR GLDBRS\",\\n        \"quantity\": \"1\",\\n        \"unitPrice\": \"0.98\",\\n        \"totalPrice\": \"0.98\",\\n        \"discountAmount\": \"0.00\"\\n      },\\n      {\\n        \"description\": \"NORI\",\\n        \"quantity\": \"2\",\\n        \"unitPrice\": \"1.27\",\\n        \"totalPrice\": \"2.54\",\\n        \"discountAmount\": \"0.00\"\\n      }\\n    ]\\n  }\\n}',\n",
       " '{\\n  \"ReceiptInfo\": {\\n    \"merchant\": \"DRIVER LICENSE HAWAII KA\",\\n    \"address\": \"6600 KALANIANAOLE HWY ST\",\\n    \"city\": \"HONOLULU\",\\n    \"state\": \"HI\",\\n    \"phoneNumber\": \"(808) 768-4800\",\\n    \"tax\": \"0.00\",\\n    \"total\": \"40.94\",\\n    \"receiptDate\": \"05/03/22\",\\n    \"receiptTime\": \"12:48:17\",\\n\\n\\n    \"ITEMS\": []\\n  }\\n}',\n",
       " '{\\n  \"ReceiptInfo\": {\\n    \"merchant\": \"Walmart\",\\n    \"address\": \"700 KEEAUMOKU ST\",\\n    \"city\": \"HONOLULU\",\\n    \"state\": \"HI\",\\n    \"phoneNumber\": \"808-955-8441\",\\n    \"tax\": \"2.30\",\\n    \"total\": \"51.26\",\\n    \"receiptDate\": \"06/27/23\",\\n    \"receiptTime\": \"8:09pm\",\\n\\n\\n    \"ITEMS\": [\\n      {\\n        \"description\": \"DOLE JCE\",\\n        \"quantity\": \"1\",\\n        \"unitPrice\": \"7.68\",\\n        \"totalPrice\": \"7.68\",\\n        \"discountAmount\": \"0.00\"\\n      },\\n      {\\n        \"description\": \"HI FEE/DEP\",\\n        \"quantity\": \"1\",\\n        \"unitPrice\": \"9.96\",\\n        \"totalPrice\": \"9.96\",\\n        \"discountAmount\": \"0.00\"\\n      },\\n      {\\n        \"description\": \"FC FC PNUT PNUT BTR BTR\",\\n        \"quantity\": \"1\",\\n        \"unitPrice\": \"3.48\",\\n        \"totalPrice\": \"3.48\",\\n        \"discountAmount\": \"0.00\"\\n      },\\n      {\\n        \"description\": \"SEASONED SF CANDY PTY\",\\n        \"quantity\": \"1\",\\n        \"unitPrice\": \"3.48\",\\n        \"totalPrice\": \"3.48\",\\n        \"discountAmount\": \"0.00\"\\n      },\\n      {\\n        \"description\": \"SF CANDY\",\\n        \"quantity\": \"2\",\\n        \"unitPrice\": \"5.12\",\\n        \"totalPrice\": \"10.24\",\\n        \"discountAmount\": \"0.00\"\\n      },\\n      {\\n        \"description\": \"KETCHUP\",\\n        \"quantity\": \"1\",\\n        \"unitPrice\": \"2.30\",\\n        \"totalPrice\": \"2.30\",\\n        \"discountAmount\": \"0.00\"\\n      }\\n    ]\\n  }\\n}',\n",
       " '{\\n  \"ReceiptInfo\": {\\n    \"merchant\": \"BEN FRANKLIN CRAFTS #05575 (2)\",\\n    \"address\": \"\",\\n    \"city\": \"\",\\n    \"state\": \"\",\\n    \"phoneNumber\": \"(808) 261-4621\",\\n    \"tax\": \"2.89\",\\n    \"total\": \"64.25\",\\n    \"receiptDate\": \"08/31/23\",\\n    \"receiptTime\": \"7:22PM\",\\n    \"ITEMS\": [\\n      {\\n        \"description\": \"SALE\",\\n        \"quantity\": \"2\",\\n        \"unitPrice\": \"34.09\",\\n        \"totalPrice\": \"68.18\",\\n        \"discountAmount\": \"6.82\"\\n      },\\n      {\\n        \"description\": \"LAUHALA MAT\",\\n        \"quantity\": \"1\",\\n        \"unitPrice\": \"68.18\",\\n        \"totalPrice\": \"68.18\",\\n        \"discountAmount\": \"0.00\"\\n      }\\n    ]\\n  }\\n}',\n",
       " '{\\n  \"ReceiptInfo\": {\\n    \"merchant\": \"COSTCO WHOLESALE\",\\n    \"address\": \"525 Alakawa St\",\\n    \"city\": \"Honolulu\",\\n    \"state\": \"HI\",\\n    \"phoneNumber\": \"\",\\n    \"tax\": \"3.68\",\\n    \"total\": \"81.73\",\\n    \"receiptDate\": \"06/22/2022\",\\n    \"receiptTime\": \"4:43pm\",\\n\\n\\n    \"ITEMS\": [\\n      {\\n        \"description\": \"840043 MASHD POTATO\",\\n        \"quantity\": \"1\",\\n        \"unitPrice\": \"7.49\",\\n        \"totalPrice\": \"7.49\",\\n        \"discountAmount\": \"0.00\"\\n      },\\n      {\\n        \"description\": \"3 WHOLE MILK\",\\n        \"quantity\": \"1\",\\n        \"unitPrice\": \"5.77\",\\n        \"totalPrice\": \"5.77\",\\n        \"discountAmount\": \"0.00\"\\n      },\\n      {\\n        \"description\": \"8789 PINEAPPLE\",\\n        \"quantity\": \"1\",\\n        \"unitPrice\": \"3.69\",\\n        \"totalPrice\": \"3.69\",\\n        \"discountAmount\": \"0.00\"\\n      },\\n      {\\n        \"description\": \"48757 SPRING MIX\",\\n        \"quantity\": \"1\",\\n        \"unitPrice\": \"5.49\",\\n        \"totalPrice\": \"5.49\",\\n        \"discountAmount\": \"0.00\"\\n      },\\n      {\\n        \"description\": \"1089787 KS BAGS 200\",\\n        \"quantity\": \"1\",\\n        \"unitPrice\": \"18.89\",\\n        \"totalPrice\": \"18.89\",\\n        \"discountAmount\": \"0.00\"\\n      },\\n      {\\n        \"description\": \"1634838 MASSAMAN\",\\n        \"quantity\": \"1\",\\n        \"unitPrice\": \"8.99\",\\n        \"totalPrice\": \"8.99\",\\n        \"discountAmount\": \"0.00\"\\n      },\\n      {\\n        \"description\": \"36946 BEEF BULGOGI\",\\n        \"quantity\": \"1\",\\n        \"unitPrice\": \"27.73\",\\n        \"totalPrice\": \"27.73\",\\n        \"discountAmount\": \"0.00\"\\n      }\\n    ]\\n  }\\n}',\n",
       " '{\\n  \"ReceiptInfo\": {\\n    \"merchant\": \"Walmart\",\\n    \"address\": \"700 KEEAUMOKU ST\",\\n    \"city\": \"HONOLULU\",\\n    \"state\": \"HI\",\\n    \"phoneNumber\": \"808-955-8441\",\\n    \"tax\": \"1.33\",\\n    \"total\": \"29.50\",\\n    \"receiptDate\": \"05/09/22\",\\n    \"receiptTime\": \"6:36pm\",\\n\\n\\n    \"ITEMS\": [\\n      {\\n        \"description\": \"JD EGWCH FLT\",\\n        \"quantity\": \"1\",\\n        \"unitPrice\": \"9.93\",\\n        \"totalPrice\": \"9.93\",\\n        \"discountAmount\": \"0.00\"\\n      },\\n      {\\n        \"description\": \"SF CANDY\",\\n        \"quantity\": \"1\",\\n        \"unitPrice\": \"2.88\",\\n        \"totalPrice\": \"2.88\",\\n        \"discountAmount\": \"0.00\"\\n      },\\n      {\\n        \"description\": \"FC PB 6CT\",\\n        \"quantity\": \"2\",\\n        \"unitPrice\": \"7.68\",\\n        \"totalPrice\": \"15.36\",\\n        \"discountAmount\": \"0.00\"\\n      }\\n    ]\\n  }\\n}',\n",
       " '{\\n  \"ReceiptInfo\": {\\n    \"merchant\": \"WHOLE FOODS MARKET\",\\n    \"address\": \"388 Kamakee St Ste 100\",\\n    \"city\": \"Honolulu\",\\n    \"state\": \"HI\",\\n    \"phoneNumber\": \"808-379-1800\",\\n    \"tax\": \"1.69\",\\n    \"total\": \"37.46\",\\n    \"receiptDate\": \"08/02/2023\",\\n    \"receiptTime\": \"05:03 PM\",\\n\\n\\n    \"ITEMS\": [\\n      {\\n        \"description\": \"365WFM OG ITALIAN BAG\",\\n        \"quantity\": \"1\",\\n        \"unitPrice\": \"4.19\",\\n        \"totalPrice\": \"4.19\",\\n        \"discountAmount\": \"0.00\"\\n      },\\n      {\\n        \"description\": \"365WFM BREADED CALAMARI\",\\n        \"quantity\": \"1\",\\n        \"unitPrice\": \"7.99\",\\n        \"totalPrice\": \"7.99\",\\n        \"discountAmount\": \"0.00\"\\n      },\\n      {\\n        \"description\": \"OG RSTD PEANUT BUTTER\",\\n        \"quantity\": \"1\",\\n        \"unitPrice\": \"7.29\",\\n        \"totalPrice\": \"7.29\",\\n        \"discountAmount\": \"0.00\"\\n      },\\n      {\\n        \"description\": \"OVF OG UHT WHOLE MLK\",\\n        \"quantity\": \"1\",\\n        \"unitPrice\": \"2.11\",\\n        \"totalPrice\": \"2.11\",\\n        \"discountAmount\": \"0.00\"\\n      },\\n      {\\n        \"description\": \"365WFM PECAN HALVES\",\\n        \"quantity\": \"1\",\\n        \"unitPrice\": \"6.99\",\\n        \"totalPrice\": \"6.99\",\\n        \"discountAmount\": \"0.00\"\\n      }\\n    ]\\n  }\\n}',\n",
       " '{\\n  \"ReceiptInfo\": {\\n    \"merchant\": \"THE COUNTER\",\\n    \"address\": \"<UNKNOWN> Waialae Ave\",\\n    \"city\": \"<UNKNOWN>\",\\n    \"state\": \"HI\",\\n    \"phoneNumber\": \"\",\\n    \"tax\": \"2.30\",\\n    \"total\": \"51.05\",\\n    \"receiptDate\": \"Jun 8\\'23\",\\n    \"receiptTime\": \"05:34PM\",\\n\\n\\n    \"ITEMS\": [\\n      {\\n        \"description\": \"Classic Choc\",\\n        \"quantity\": \"1\",\\n        \"unitPrice\": \"9.50\",\\n        \"totalPrice\": \"9.50\",\\n        \"discountAmount\": \"0.00\"\\n      },\\n      {\\n        \"description\": \"Fries & Sweets\",\\n        \"quantity\": \"1\",\\n        \"unitPrice\": \"11.00\",\\n        \"totalPrice\": \"11.00\",\\n        \"discountAmount\": \"0.00\"\\n      },\\n      {\\n        \"description\": \"K-Mini Burgers\",\\n        \"quantity\": \"1\",\\n        \"unitPrice\": \"8.50\",\\n        \"totalPrice\": \"8.50\",\\n        \"discountAmount\": \"0.00\"\\n      },\\n      {\\n        \"description\": \"Beef 1/3\",\\n        \"quantity\": \"1\",\\n        \"unitPrice\": \"15.00\",\\n        \"totalPrice\": \"15.00\",\\n        \"discountAmount\": \"0.00\"\\n      },\\n      {\\n        \"description\": \"Glass of Water\",\\n        \"quantity\": \"2\",\\n        \"unitPrice\": \"0.00\",\\n        \"totalPrice\": \"0.00\",\\n        \"discountAmount\": \"0.00\"\\n      },\\n      {\\n        \"description\": \"Diet Coke\",\\n        \"quantity\": \"1\",\\n        \"unitPrice\": \"4.75\",\\n        \"totalPrice\": \"4.75\",\\n        \"discountAmount\": \"0.00\"\\n      }\\n    ]\\n  }\\n}',\n",
       " '{\\n  \"ReceiptInfo\": {\\n    \"merchant\": \"PHO 777\",\\n    \"address\": \"STE 2041960 KAPIOLANI BLVD\",\\n    \"city\": \"HONOLULU\",\\n    \"state\": \"HI\",\\n    \"phoneNumber\": \"8089557770\",\\n    \"tax\": \"0.00\",\\n    \"total\": \"44.47\",\\n    \"receiptDate\": \"26-Oct-2022\",\\n    \"receiptTime\": \"7:07:53PM\",\\n\\n\\n    \"ITEMS\": []\\n  }\\n}',\n",
       " '{\\n  \"ReceiptInfo\": {\\n    \"merchant\": \"Foodland\",\\n    \"address\": \"1150 Kuala Street\",\\n    \"city\": \"Pearl City\",\\n    \"state\": \"HI\",\\n    \"phoneNumber\": \"808-453-1850\",\\n    \"tax\": \"5.01\",\\n    \"total\": \"\",\\n    \"receiptDate\": \"\",\\n    \"receiptTime\": \"\",\\n\\n\\n    \"ITEMS\": [\\n      {\\n        \"description\": \"SALMON FILLET\",\\n        \"quantity\": \"1\",\\n        \"unitPrice\": \"12.31\",\\n        \"totalPrice\": \"12.31\",\\n        \"discountAmount\": \"0.00\"\\n      },\\n      {\\n        \"description\": \"FF CHX BL SL THGH\",\\n        \"quantity\": \"1\",\\n        \"unitPrice\": \"15.62\",\\n        \"totalPrice\": \"15.62\",\\n        \"discountAmount\": \"0.00\"\\n      },\\n      {\\n        \"description\": \"=TF SHRED LETTUCE PC\",\\n        \"quantity\": \"1\",\\n        \"unitPrice\": \"4.49\",\\n        \"totalPrice\": \"4.49\",\\n        \"discountAmount\": \"0.00\"\\n      },\\n      {\\n        \"description\": \"KFT F/MEX 4-CHS PC\",\\n        \"quantity\": \"1\",\\n        \"unitPrice\": \"3.00\",\\n        \"totalPrice\": \"3.00\",\\n        \"discountAmount\": \"3.19\"\\n      },\\n      {\\n        \"description\": \"=KR SHRED MOZZRLLAPC\",\\n        \"quantity\": \"2\",\\n        \"unitPrice\": \"3.00\",\\n        \"totalPrice\": \"6.00\",\\n        \"discountAmount\": \"6.38\"\\n      },\\n      {\\n        \"description\": \"KFT SHRD ITAL 5CHSPC\",\\n        \"quantity\": \"1\",\\n        \"unitPrice\": \"6.00\",\\n        \"totalPrice\": \"6.00\",\\n        \"discountAmount\": \"6.38\"\\n      },\\n      {\\n        \"description\": \"OM FC BACON PC\",\\n        \"quantity\": \"1\",\\n        \"unitPrice\": \"5.69\",\\n        \"totalPrice\": \"5.69\",\\n        \"discountAmount\": \"2.80\"\\n      },\\n      {\\n        \"description\": \"93/7 GRND BF BRICKPC\",\\n        \"quantity\": \"1\",\\n        \"unitPrice\": \"6.49\",\\n        \"totalPrice\": \"6.49\",\\n        \"discountAmount\": \"2.50\"\\n      },\\n      {\\n        \"description\": \"CHALL CANOLA OIL PC\",\\n        \"quantity\": \"1\",\\n        \"unitPrice\": \"3.59\",\\n        \"totalPrice\": \"3.59\",\\n        \"discountAmount\": \"1.60\"\\n      },\\n      {\\n        \"description\": \"LCL POKE AHI PC\",\\n        \"quantity\": \"1\",\\n        \"unitPrice\": \"7.69\",\\n        \"totalPrice\": \"7.69\",\\n        \"discountAmount\": \"0.00\"\\n      },\\n      {\\n        \"description\": \"LCL AHI CAL ROLL PPC\",\\n        \"quantity\": \"1\",\\n        \"unitPrice\": \"7.76\",\\n        \"totalPrice\": \"7.76\",\\n        \"discountAmount\": \"0.00\"\\n      },\\n      {\\n        \"description\": \"LCL AHI MAUI POKE PC\",\\n        \"quantity\": \"1\",\\n        \"unitPrice\": \"7.13\",\\n        \"totalPrice\": \"7.13\",\\n        \"discountAmount\": \"0.00\"\\n      },\\n      {\\n        \"description\": \"LCL FLOUR TORT PC\",\\n        \"quantity\": \"1\",\\n        \"unitPrice\": \"5.69\",\\n        \"totalPrice\": \"5.69\",\\n        \"discountAmount\": \"0.40\"\\n      },\\n      {\\n        \"description\": \"ROSARITA REFRIED BPC\",\\n        \"quantity\": \"1\",\\n        \"unitPrice\": \"3.39\",\\n        \"totalPrice\": \"3.39\",\\n        \"discountAmount\": \"0.40\"\\n      },\\n      {\\n        \"description\": \"=BUSH BLACK BEANS PC\",\\n        \"quantity\": \"1\",\\n        \"unitPrice\": \"2.59\",\\n        \"totalPrice\": \"2.59\",\\n        \"discountAmount\": \"0.40\"\\n      },\\n      {\\n        \"description\": \"=APPLE ENVY PC\",\\n        \"quantity\": \"1\",\\n        \"unitPrice\": \"8.80\",\\n       ',\n",
       " '{\\n  \"ReceiptInfo\": {\\n    \"merchant\": \"ROSS DRESS FOR LESS\",\\n    \"address\": \"HONOLULU, HI 96814\",\\n    \"city\": \"HONOLULU\",\\n    \"state\": \"HI\",\\n    \"phoneNumber\": \"808-945-0848\",\\n    \"tax\": \"0.68\",\\n    \"total\": \"15.16\",\\n    \"receiptDate\": \"10/14/23\",\\n    \"receiptTime\": \"11:51:39 AM\",\\n\\n\\n    \"ITEMS\": [\\n      {\\n        \"description\": \"120Z BLUE PREMIUM\",\\n        \"quantity\": \"1\",\\n        \"unitPrice\": \"3.49\",\\n        \"totalPrice\": \"3.49\",\\n        \"discountAmount\": \"0.00\"\\n      },\\n      {\\n        \"description\": \"12x11.3x4.75 Acac\",\\n        \"quantity\": \"1\",\\n        \"unitPrice\": \"10.99\",\\n        \"totalPrice\": \"10.99\",\\n        \"discountAmount\": \"0.00\"\\n      }\\n    ]\\n  }\\n}',\n",
       " '{\\n  \"ReceiptInfo\": {\\n    \"merchant\": \"BEN FRANKLIN CRAFTS #05614\",\\n    \"address\": \"\",\\n    \"city\": \"\",\\n    \"state\": \"\",\\n    \"phoneNumber\": \"(808) 735-4211\",\\n    \"tax\": \"0.45\",\\n    \"total\": \"9.93\",\\n    \"receiptDate\": \"06/21/23\",\\n    \"receiptTime\": \"7:29pm\",\\n\\n\\n    \"ITEMS\": [\\n      {\\n        \"description\": \"TRAVEL SEWING KIT\",\\n        \"quantity\": \"1\",\\n        \"unitPrice\": \"4.99\",\\n        \"totalPrice\": \"4.99\",\\n        \"discountAmount\": \"0.00\"\\n      },\\n      {\\n        \"description\": \"SLAM DUNK BUBBLE GUM\",\\n        \"quantity\": \"1\",\\n        \"unitPrice\": \"4.49\",\\n        \"totalPrice\": \"4.49\",\\n        \"discountAmount\": \"0.00\"\\n      }\\n    ]\\n  }\\n}']"
      ]
     },
     "execution_count": 6,
     "metadata": {},
     "output_type": "execute_result"
    }
   ],
   "source": [
    "## Getting output from LLM.\n",
    "# Uses OpenAI model.\n",
    "model = ChatOpenAI()\n",
    "\n",
    "# Creates a template for the prompt.\n",
    "prompt_template = PromptTemplate.from_template(prompt)\n",
    "\n",
    "# Inserts the prompt into model and gets output.\n",
    "chain = LLMChain(llm=model, prompt=prompt_template)\n",
    "\n",
    "receipt_outputs = [chain.run(receipt=test_receipt) for test_receipt in test_receipts]\n",
    "receipt_outputs"
   ]
  },
  {
   "cell_type": "code",
   "execution_count": 7,
   "id": "e9c55ef8",
   "metadata": {},
   "outputs": [
    {
     "name": "stderr",
     "output_type": "stream",
     "text": [
      "2023-12-13 11:47:52 sentence_transformers.SentenceTransformer INFO: Load pretrained SentenceTransformer: sentence-transformers/all-mpnet-base-v2\n",
      "2023-12-13 11:47:53 sentence_transformers.SentenceTransformer INFO: Use pytorch device: cpu\n"
     ]
    },
    {
     "data": {
      "application/vnd.jupyter.widget-view+json": {
       "model_id": "469f9a9de7154db5809561db911a4662",
       "version_major": 2,
       "version_minor": 0
      },
      "text/plain": [
       "Batches:   0%|          | 0/12 [00:00<?, ?it/s]"
      ]
     },
     "metadata": {},
     "output_type": "display_data"
    },
    {
     "data": {
      "application/vnd.jupyter.widget-view+json": {
       "model_id": "744e1b898f88487a8923030097ff2e9f",
       "version_major": 2,
       "version_minor": 0
      },
      "text/plain": [
       "Batches:   0%|          | 0/15 [00:00<?, ?it/s]"
      ]
     },
     "metadata": {},
     "output_type": "display_data"
    },
    {
     "data": {
      "application/vnd.jupyter.widget-view+json": {
       "model_id": "055d114f25854064835ac6d42492cfb2",
       "version_major": 2,
       "version_minor": 0
      },
      "text/plain": [
       "Batches:   0%|          | 0/16 [00:00<?, ?it/s]"
      ]
     },
     "metadata": {},
     "output_type": "display_data"
    },
    {
     "data": {
      "application/vnd.jupyter.widget-view+json": {
       "model_id": "af9d1a58996f4a56a8f18d8ad23fba9e",
       "version_major": 2,
       "version_minor": 0
      },
      "text/plain": [
       "Batches:   0%|          | 0/9 [00:00<?, ?it/s]"
      ]
     },
     "metadata": {},
     "output_type": "display_data"
    },
    {
     "data": {
      "application/vnd.jupyter.widget-view+json": {
       "model_id": "77f9a91dd3ec4f2886ff896ef5ff82ee",
       "version_major": 2,
       "version_minor": 0
      },
      "text/plain": [
       "Batches:   0%|          | 0/6 [00:00<?, ?it/s]"
      ]
     },
     "metadata": {},
     "output_type": "display_data"
    },
    {
     "data": {
      "application/vnd.jupyter.widget-view+json": {
       "model_id": "70ac9e7b94154880a7607ccb93d3aa77",
       "version_major": 2,
       "version_minor": 0
      },
      "text/plain": [
       "Batches:   0%|          | 0/12 [00:00<?, ?it/s]"
      ]
     },
     "metadata": {},
     "output_type": "display_data"
    },
    {
     "data": {
      "application/vnd.jupyter.widget-view+json": {
       "model_id": "8d3e308ad9844f31b51821826e600de0",
       "version_major": 2,
       "version_minor": 0
      },
      "text/plain": [
       "Batches:   0%|          | 0/15 [00:00<?, ?it/s]"
      ]
     },
     "metadata": {},
     "output_type": "display_data"
    },
    {
     "data": {
      "text/plain": [
       "362"
      ]
     },
     "execution_count": 7,
     "metadata": {},
     "output_type": "execute_result"
    }
   ],
   "source": [
    "categories = [\"Grocery and Supermarkets\", \"Restaurants and Food Services\", \"Clothing and Apparel\", \n",
    "              \"Health and Beauty\", \"Electronics and Appliances\", \"Home and Garden\", \"Entertainment and Leisure\"]\n",
    "\n",
    "def get_training_data():\n",
    "    folder_path = 'training_data/'\n",
    "    category_train_test_data = {}\n",
    "    category_training_items = []\n",
    "    \n",
    "    # List all files in the folder\n",
    "    files = os.listdir(folder_path)\n",
    "    i = 0\n",
    "\n",
    "    # Gets the items for each category.\n",
    "    for category in categories:\n",
    "        # Gets the file identifier for the category.\n",
    "        category_id = (category.split(\" \")[0]).lower()\n",
    "        file_name = f'{category_id}_items.txt'\n",
    "        file_path = os.path.join(folder_path, file_name)\n",
    "    \n",
    "        # Check if it's a text file.\n",
    "        if file_name.endswith('.txt'):\n",
    "            with open(file_path, 'r') as file:\n",
    "                # Read the content and split into list by newline character.\n",
    "                text_content = file.read().split('\\n')\n",
    "                # Adds the items to the category in the dict.\n",
    "                category_train_test_data[categories[i]] = text_content\n",
    "                i += 1\n",
    "    return category_train_test_data\n",
    "\n",
    "category_train_test_data = get_training_data()\n",
    "category_training_embeddings = {}\n",
    "\n",
    "embeddings_model = HuggingFaceEmbeddings()\n",
    "\n",
    "for category in category_train_test_data:\n",
    "    category_training_embeddings[category] = embeddings_model.embed_documents(category_train_test_data[category])\n",
    "\n",
    "len(category_training_embeddings[\"Grocery and Supermarkets\"])"
   ]
  },
  {
   "cell_type": "code",
   "execution_count": 8,
   "id": "668615dd",
   "metadata": {},
   "outputs": [
    {
     "data": {
      "text/plain": [
       "(2627, 769)"
      ]
     },
     "execution_count": 8,
     "metadata": {},
     "output_type": "execute_result"
    }
   ],
   "source": [
    "\"\"\"\n",
    "\"Categories\"                        \"Embedding 1\"     \"Embedding 2\" ....\n",
    "-------------------------------------------------------------------------\n",
    "\"Grocery and Supermarkets\"\n",
    "\"Grocery and Supermarkets\"  \n",
    "\"Grocery and Supermarkets\"  \n",
    "\"Grocery and Supermarkets\"  \n",
    "\"Restaurants and Food Services\"\n",
    "\"Restaurants and Food Services\"\n",
    "\"Restaurants and Food Services\"\n",
    "\"Clothing and Apparel\" \n",
    "\"Health and Beauty\"\n",
    "\"Electronics and Appliances\"\n",
    "\"Home and Garden\"\n",
    "\"Entertainment and Leisure\"\n",
    "\"\"\"\n",
    "\n",
    "df_category_items = []\n",
    "d = {'categories':[]}\n",
    "\n",
    "# Each category.\n",
    "for category in category_training_embeddings:\n",
    "    # Each item in the category.\n",
    "    for item in category_training_embeddings[category]:\n",
    "        df_category_items.append(category)\n",
    "\n",
    "        # Each embedding in an item.\n",
    "        for i in range(len(item)):\n",
    "            embedding = item[i]\n",
    "\n",
    "            if f'embedding_{i}' in d:\n",
    "                d[f'embedding_{i}'].append(embedding)\n",
    "            else:\n",
    "                d[f'embedding_{i}'] = []\n",
    "                d[f'embedding_{i}'].append(embedding)\n",
    "\n",
    "d['categories'] = df_category_items\n",
    "    \n",
    "# Training and Testing data.\n",
    "category_data = pd.DataFrame(d)\n",
    "\n",
    "# 637 Items (Training (80%): 509, Testing (20%): 128)\n",
    "category_data.shape"
   ]
  },
  {
   "cell_type": "code",
   "execution_count": 9,
   "id": "f6c171e9",
   "metadata": {},
   "outputs": [
    {
     "data": {
      "text/html": [
       "<div>\n",
       "<style scoped>\n",
       "    .dataframe tbody tr th:only-of-type {\n",
       "        vertical-align: middle;\n",
       "    }\n",
       "\n",
       "    .dataframe tbody tr th {\n",
       "        vertical-align: top;\n",
       "    }\n",
       "\n",
       "    .dataframe thead th {\n",
       "        text-align: right;\n",
       "    }\n",
       "</style>\n",
       "<table border=\"1\" class=\"dataframe\">\n",
       "  <thead>\n",
       "    <tr style=\"text-align: right;\">\n",
       "      <th></th>\n",
       "      <th>categories</th>\n",
       "      <th>embedding_0</th>\n",
       "      <th>embedding_1</th>\n",
       "      <th>embedding_2</th>\n",
       "      <th>embedding_3</th>\n",
       "      <th>embedding_4</th>\n",
       "      <th>embedding_5</th>\n",
       "      <th>embedding_6</th>\n",
       "      <th>embedding_7</th>\n",
       "      <th>embedding_8</th>\n",
       "      <th>...</th>\n",
       "      <th>embedding_758</th>\n",
       "      <th>embedding_759</th>\n",
       "      <th>embedding_760</th>\n",
       "      <th>embedding_761</th>\n",
       "      <th>embedding_762</th>\n",
       "      <th>embedding_763</th>\n",
       "      <th>embedding_764</th>\n",
       "      <th>embedding_765</th>\n",
       "      <th>embedding_766</th>\n",
       "      <th>embedding_767</th>\n",
       "    </tr>\n",
       "  </thead>\n",
       "  <tbody>\n",
       "    <tr>\n",
       "      <th>1934</th>\n",
       "      <td>Home and Garden</td>\n",
       "      <td>-0.018610</td>\n",
       "      <td>-0.000485</td>\n",
       "      <td>0.004235</td>\n",
       "      <td>-0.005684</td>\n",
       "      <td>0.009949</td>\n",
       "      <td>-0.019993</td>\n",
       "      <td>0.017275</td>\n",
       "      <td>-0.044064</td>\n",
       "      <td>0.030638</td>\n",
       "      <td>...</td>\n",
       "      <td>-0.019992</td>\n",
       "      <td>-0.015327</td>\n",
       "      <td>0.037442</td>\n",
       "      <td>0.068687</td>\n",
       "      <td>0.026335</td>\n",
       "      <td>0.080368</td>\n",
       "      <td>0.069234</td>\n",
       "      <td>-0.032312</td>\n",
       "      <td>-0.025942</td>\n",
       "      <td>-0.006741</td>\n",
       "    </tr>\n",
       "    <tr>\n",
       "      <th>387</th>\n",
       "      <td>Restaurants and Food Services</td>\n",
       "      <td>-0.014677</td>\n",
       "      <td>-0.010353</td>\n",
       "      <td>0.004088</td>\n",
       "      <td>-0.045702</td>\n",
       "      <td>-0.026520</td>\n",
       "      <td>0.015793</td>\n",
       "      <td>-0.038680</td>\n",
       "      <td>0.057609</td>\n",
       "      <td>-0.068610</td>\n",
       "      <td>...</td>\n",
       "      <td>-0.023004</td>\n",
       "      <td>-0.039232</td>\n",
       "      <td>-0.019236</td>\n",
       "      <td>-0.042849</td>\n",
       "      <td>0.001805</td>\n",
       "      <td>0.034058</td>\n",
       "      <td>-0.022008</td>\n",
       "      <td>0.026730</td>\n",
       "      <td>-0.011957</td>\n",
       "      <td>0.000337</td>\n",
       "    </tr>\n",
       "    <tr>\n",
       "      <th>2448</th>\n",
       "      <td>Entertainment and Leisure</td>\n",
       "      <td>-0.005280</td>\n",
       "      <td>-0.022421</td>\n",
       "      <td>-0.000068</td>\n",
       "      <td>0.029104</td>\n",
       "      <td>-0.054567</td>\n",
       "      <td>0.013671</td>\n",
       "      <td>0.095149</td>\n",
       "      <td>0.005926</td>\n",
       "      <td>0.013876</td>\n",
       "      <td>...</td>\n",
       "      <td>0.005020</td>\n",
       "      <td>0.033287</td>\n",
       "      <td>0.016077</td>\n",
       "      <td>-0.003388</td>\n",
       "      <td>-0.009331</td>\n",
       "      <td>-0.005993</td>\n",
       "      <td>-0.015878</td>\n",
       "      <td>0.028114</td>\n",
       "      <td>0.005401</td>\n",
       "      <td>-0.055992</td>\n",
       "    </tr>\n",
       "    <tr>\n",
       "      <th>1235</th>\n",
       "      <td>Clothing and Apparel</td>\n",
       "      <td>-0.011321</td>\n",
       "      <td>0.007333</td>\n",
       "      <td>-0.014486</td>\n",
       "      <td>0.013274</td>\n",
       "      <td>-0.041692</td>\n",
       "      <td>0.009088</td>\n",
       "      <td>-0.033575</td>\n",
       "      <td>0.036855</td>\n",
       "      <td>-0.025266</td>\n",
       "      <td>...</td>\n",
       "      <td>-0.068998</td>\n",
       "      <td>-0.006536</td>\n",
       "      <td>0.021983</td>\n",
       "      <td>-0.004396</td>\n",
       "      <td>0.018403</td>\n",
       "      <td>0.012671</td>\n",
       "      <td>-0.006552</td>\n",
       "      <td>0.007622</td>\n",
       "      <td>0.006138</td>\n",
       "      <td>-0.026980</td>\n",
       "    </tr>\n",
       "    <tr>\n",
       "      <th>1273</th>\n",
       "      <td>Clothing and Apparel</td>\n",
       "      <td>0.004619</td>\n",
       "      <td>-0.037675</td>\n",
       "      <td>0.000039</td>\n",
       "      <td>-0.007284</td>\n",
       "      <td>-0.021983</td>\n",
       "      <td>-0.013255</td>\n",
       "      <td>0.000753</td>\n",
       "      <td>0.045357</td>\n",
       "      <td>-0.075236</td>\n",
       "      <td>...</td>\n",
       "      <td>-0.083153</td>\n",
       "      <td>-0.026199</td>\n",
       "      <td>0.024063</td>\n",
       "      <td>-0.007061</td>\n",
       "      <td>0.011862</td>\n",
       "      <td>0.031875</td>\n",
       "      <td>0.015585</td>\n",
       "      <td>0.022842</td>\n",
       "      <td>0.036784</td>\n",
       "      <td>0.009604</td>\n",
       "    </tr>\n",
       "    <tr>\n",
       "      <th>...</th>\n",
       "      <td>...</td>\n",
       "      <td>...</td>\n",
       "      <td>...</td>\n",
       "      <td>...</td>\n",
       "      <td>...</td>\n",
       "      <td>...</td>\n",
       "      <td>...</td>\n",
       "      <td>...</td>\n",
       "      <td>...</td>\n",
       "      <td>...</td>\n",
       "      <td>...</td>\n",
       "      <td>...</td>\n",
       "      <td>...</td>\n",
       "      <td>...</td>\n",
       "      <td>...</td>\n",
       "      <td>...</td>\n",
       "      <td>...</td>\n",
       "      <td>...</td>\n",
       "      <td>...</td>\n",
       "      <td>...</td>\n",
       "      <td>...</td>\n",
       "    </tr>\n",
       "    <tr>\n",
       "      <th>1453</th>\n",
       "      <td>Health and Beauty</td>\n",
       "      <td>0.033187</td>\n",
       "      <td>0.040520</td>\n",
       "      <td>-0.000198</td>\n",
       "      <td>-0.036830</td>\n",
       "      <td>-0.008805</td>\n",
       "      <td>-0.010714</td>\n",
       "      <td>-0.002989</td>\n",
       "      <td>0.050195</td>\n",
       "      <td>-0.055486</td>\n",
       "      <td>...</td>\n",
       "      <td>-0.047040</td>\n",
       "      <td>-0.036226</td>\n",
       "      <td>0.064050</td>\n",
       "      <td>-0.025264</td>\n",
       "      <td>-0.002885</td>\n",
       "      <td>0.004849</td>\n",
       "      <td>-0.041267</td>\n",
       "      <td>-0.021874</td>\n",
       "      <td>-0.055130</td>\n",
       "      <td>0.011195</td>\n",
       "    </tr>\n",
       "    <tr>\n",
       "      <th>769</th>\n",
       "      <td>Restaurants and Food Services</td>\n",
       "      <td>0.060236</td>\n",
       "      <td>-0.003112</td>\n",
       "      <td>-0.000164</td>\n",
       "      <td>0.003834</td>\n",
       "      <td>-0.043377</td>\n",
       "      <td>-0.024117</td>\n",
       "      <td>-0.072399</td>\n",
       "      <td>0.016327</td>\n",
       "      <td>-0.027187</td>\n",
       "      <td>...</td>\n",
       "      <td>-0.067919</td>\n",
       "      <td>0.014172</td>\n",
       "      <td>0.014913</td>\n",
       "      <td>0.007774</td>\n",
       "      <td>0.044452</td>\n",
       "      <td>0.005435</td>\n",
       "      <td>-0.029798</td>\n",
       "      <td>-0.013008</td>\n",
       "      <td>0.000170</td>\n",
       "      <td>0.001870</td>\n",
       "    </tr>\n",
       "    <tr>\n",
       "      <th>932</th>\n",
       "      <td>Clothing and Apparel</td>\n",
       "      <td>-0.011729</td>\n",
       "      <td>-0.003253</td>\n",
       "      <td>-0.006915</td>\n",
       "      <td>0.003009</td>\n",
       "      <td>-0.015334</td>\n",
       "      <td>0.014234</td>\n",
       "      <td>0.025388</td>\n",
       "      <td>0.026844</td>\n",
       "      <td>-0.088106</td>\n",
       "      <td>...</td>\n",
       "      <td>-0.053082</td>\n",
       "      <td>0.017853</td>\n",
       "      <td>-0.014125</td>\n",
       "      <td>-0.035680</td>\n",
       "      <td>-0.021220</td>\n",
       "      <td>0.101436</td>\n",
       "      <td>-0.009555</td>\n",
       "      <td>0.025221</td>\n",
       "      <td>0.022141</td>\n",
       "      <td>-0.024563</td>\n",
       "    </tr>\n",
       "    <tr>\n",
       "      <th>2411</th>\n",
       "      <td>Entertainment and Leisure</td>\n",
       "      <td>0.030085</td>\n",
       "      <td>-0.145898</td>\n",
       "      <td>0.038918</td>\n",
       "      <td>0.011347</td>\n",
       "      <td>0.004830</td>\n",
       "      <td>-0.051631</td>\n",
       "      <td>0.034916</td>\n",
       "      <td>-0.018866</td>\n",
       "      <td>0.007872</td>\n",
       "      <td>...</td>\n",
       "      <td>-0.048926</td>\n",
       "      <td>-0.050983</td>\n",
       "      <td>-0.031834</td>\n",
       "      <td>0.001270</td>\n",
       "      <td>0.024348</td>\n",
       "      <td>0.060509</td>\n",
       "      <td>0.070534</td>\n",
       "      <td>0.008424</td>\n",
       "      <td>-0.018714</td>\n",
       "      <td>-0.026703</td>\n",
       "    </tr>\n",
       "    <tr>\n",
       "      <th>681</th>\n",
       "      <td>Restaurants and Food Services</td>\n",
       "      <td>0.068661</td>\n",
       "      <td>-0.021593</td>\n",
       "      <td>-0.001810</td>\n",
       "      <td>0.034232</td>\n",
       "      <td>0.009508</td>\n",
       "      <td>-0.013558</td>\n",
       "      <td>-0.031368</td>\n",
       "      <td>0.019015</td>\n",
       "      <td>-0.071959</td>\n",
       "      <td>...</td>\n",
       "      <td>-0.072411</td>\n",
       "      <td>0.013526</td>\n",
       "      <td>-0.010565</td>\n",
       "      <td>-0.001226</td>\n",
       "      <td>0.011284</td>\n",
       "      <td>-0.047157</td>\n",
       "      <td>-0.015710</td>\n",
       "      <td>0.017805</td>\n",
       "      <td>-0.020188</td>\n",
       "      <td>0.022334</td>\n",
       "    </tr>\n",
       "  </tbody>\n",
       "</table>\n",
       "<p>2101 rows × 769 columns</p>\n",
       "</div>"
      ],
      "text/plain": [
       "                         categories  embedding_0  embedding_1  embedding_2  \\\n",
       "1934                Home and Garden    -0.018610    -0.000485     0.004235   \n",
       "387   Restaurants and Food Services    -0.014677    -0.010353     0.004088   \n",
       "2448      Entertainment and Leisure    -0.005280    -0.022421    -0.000068   \n",
       "1235           Clothing and Apparel    -0.011321     0.007333    -0.014486   \n",
       "1273           Clothing and Apparel     0.004619    -0.037675     0.000039   \n",
       "...                             ...          ...          ...          ...   \n",
       "1453              Health and Beauty     0.033187     0.040520    -0.000198   \n",
       "769   Restaurants and Food Services     0.060236    -0.003112    -0.000164   \n",
       "932            Clothing and Apparel    -0.011729    -0.003253    -0.006915   \n",
       "2411      Entertainment and Leisure     0.030085    -0.145898     0.038918   \n",
       "681   Restaurants and Food Services     0.068661    -0.021593    -0.001810   \n",
       "\n",
       "      embedding_3  embedding_4  embedding_5  embedding_6  embedding_7  \\\n",
       "1934    -0.005684     0.009949    -0.019993     0.017275    -0.044064   \n",
       "387     -0.045702    -0.026520     0.015793    -0.038680     0.057609   \n",
       "2448     0.029104    -0.054567     0.013671     0.095149     0.005926   \n",
       "1235     0.013274    -0.041692     0.009088    -0.033575     0.036855   \n",
       "1273    -0.007284    -0.021983    -0.013255     0.000753     0.045357   \n",
       "...           ...          ...          ...          ...          ...   \n",
       "1453    -0.036830    -0.008805    -0.010714    -0.002989     0.050195   \n",
       "769      0.003834    -0.043377    -0.024117    -0.072399     0.016327   \n",
       "932      0.003009    -0.015334     0.014234     0.025388     0.026844   \n",
       "2411     0.011347     0.004830    -0.051631     0.034916    -0.018866   \n",
       "681      0.034232     0.009508    -0.013558    -0.031368     0.019015   \n",
       "\n",
       "      embedding_8  ...  embedding_758  embedding_759  embedding_760  \\\n",
       "1934     0.030638  ...      -0.019992      -0.015327       0.037442   \n",
       "387     -0.068610  ...      -0.023004      -0.039232      -0.019236   \n",
       "2448     0.013876  ...       0.005020       0.033287       0.016077   \n",
       "1235    -0.025266  ...      -0.068998      -0.006536       0.021983   \n",
       "1273    -0.075236  ...      -0.083153      -0.026199       0.024063   \n",
       "...           ...  ...            ...            ...            ...   \n",
       "1453    -0.055486  ...      -0.047040      -0.036226       0.064050   \n",
       "769     -0.027187  ...      -0.067919       0.014172       0.014913   \n",
       "932     -0.088106  ...      -0.053082       0.017853      -0.014125   \n",
       "2411     0.007872  ...      -0.048926      -0.050983      -0.031834   \n",
       "681     -0.071959  ...      -0.072411       0.013526      -0.010565   \n",
       "\n",
       "      embedding_761  embedding_762  embedding_763  embedding_764  \\\n",
       "1934       0.068687       0.026335       0.080368       0.069234   \n",
       "387       -0.042849       0.001805       0.034058      -0.022008   \n",
       "2448      -0.003388      -0.009331      -0.005993      -0.015878   \n",
       "1235      -0.004396       0.018403       0.012671      -0.006552   \n",
       "1273      -0.007061       0.011862       0.031875       0.015585   \n",
       "...             ...            ...            ...            ...   \n",
       "1453      -0.025264      -0.002885       0.004849      -0.041267   \n",
       "769        0.007774       0.044452       0.005435      -0.029798   \n",
       "932       -0.035680      -0.021220       0.101436      -0.009555   \n",
       "2411       0.001270       0.024348       0.060509       0.070534   \n",
       "681       -0.001226       0.011284      -0.047157      -0.015710   \n",
       "\n",
       "      embedding_765  embedding_766  embedding_767  \n",
       "1934      -0.032312      -0.025942      -0.006741  \n",
       "387        0.026730      -0.011957       0.000337  \n",
       "2448       0.028114       0.005401      -0.055992  \n",
       "1235       0.007622       0.006138      -0.026980  \n",
       "1273       0.022842       0.036784       0.009604  \n",
       "...             ...            ...            ...  \n",
       "1453      -0.021874      -0.055130       0.011195  \n",
       "769       -0.013008       0.000170       0.001870  \n",
       "932        0.025221       0.022141      -0.024563  \n",
       "2411       0.008424      -0.018714      -0.026703  \n",
       "681        0.017805      -0.020188       0.022334  \n",
       "\n",
       "[2101 rows x 769 columns]"
      ]
     },
     "execution_count": 9,
     "metadata": {},
     "output_type": "execute_result"
    }
   ],
   "source": [
    "# Randomly shuffles the rows.\n",
    "shuffled_data = category_data.sample(frac=1)\n",
    "\n",
    "total_rows = shuffled_data.shape[0]\n",
    "train_size = int(total_rows*0.8)\n",
    " \n",
    "# Split data into test and train\n",
    "train = shuffled_data[0:train_size]\n",
    "test = shuffled_data[train_size:]\n",
    "\n",
    "train"
   ]
  },
  {
   "cell_type": "code",
   "execution_count": 10,
   "id": "a07060e5",
   "metadata": {},
   "outputs": [
    {
     "data": {
      "text/html": [
       "<div>\n",
       "<style scoped>\n",
       "    .dataframe tbody tr th:only-of-type {\n",
       "        vertical-align: middle;\n",
       "    }\n",
       "\n",
       "    .dataframe tbody tr th {\n",
       "        vertical-align: top;\n",
       "    }\n",
       "\n",
       "    .dataframe thead th {\n",
       "        text-align: right;\n",
       "    }\n",
       "</style>\n",
       "<table border=\"1\" class=\"dataframe\">\n",
       "  <thead>\n",
       "    <tr style=\"text-align: right;\">\n",
       "      <th></th>\n",
       "      <th>embedding_0</th>\n",
       "      <th>embedding_1</th>\n",
       "      <th>embedding_2</th>\n",
       "      <th>embedding_3</th>\n",
       "      <th>embedding_4</th>\n",
       "      <th>embedding_5</th>\n",
       "      <th>embedding_6</th>\n",
       "      <th>embedding_7</th>\n",
       "      <th>embedding_8</th>\n",
       "      <th>embedding_9</th>\n",
       "      <th>...</th>\n",
       "      <th>embedding_758</th>\n",
       "      <th>embedding_759</th>\n",
       "      <th>embedding_760</th>\n",
       "      <th>embedding_761</th>\n",
       "      <th>embedding_762</th>\n",
       "      <th>embedding_763</th>\n",
       "      <th>embedding_764</th>\n",
       "      <th>embedding_765</th>\n",
       "      <th>embedding_766</th>\n",
       "      <th>embedding_767</th>\n",
       "    </tr>\n",
       "  </thead>\n",
       "  <tbody>\n",
       "    <tr>\n",
       "      <th>1490</th>\n",
       "      <td>0.039650</td>\n",
       "      <td>-0.041361</td>\n",
       "      <td>-0.015267</td>\n",
       "      <td>-0.002952</td>\n",
       "      <td>-0.028554</td>\n",
       "      <td>0.038195</td>\n",
       "      <td>-0.030651</td>\n",
       "      <td>0.080210</td>\n",
       "      <td>-0.014214</td>\n",
       "      <td>-0.015315</td>\n",
       "      <td>...</td>\n",
       "      <td>-0.079268</td>\n",
       "      <td>-0.029991</td>\n",
       "      <td>0.066873</td>\n",
       "      <td>0.023905</td>\n",
       "      <td>0.024190</td>\n",
       "      <td>0.044641</td>\n",
       "      <td>-0.040476</td>\n",
       "      <td>-0.014075</td>\n",
       "      <td>-0.057007</td>\n",
       "      <td>-0.029843</td>\n",
       "    </tr>\n",
       "    <tr>\n",
       "      <th>581</th>\n",
       "      <td>-0.019185</td>\n",
       "      <td>-0.026825</td>\n",
       "      <td>-0.009607</td>\n",
       "      <td>-0.046604</td>\n",
       "      <td>-0.015036</td>\n",
       "      <td>0.029524</td>\n",
       "      <td>-0.026370</td>\n",
       "      <td>0.069245</td>\n",
       "      <td>0.013626</td>\n",
       "      <td>0.019648</td>\n",
       "      <td>...</td>\n",
       "      <td>0.007363</td>\n",
       "      <td>0.003322</td>\n",
       "      <td>-0.046187</td>\n",
       "      <td>-0.017209</td>\n",
       "      <td>0.041400</td>\n",
       "      <td>0.067242</td>\n",
       "      <td>-0.057662</td>\n",
       "      <td>0.004949</td>\n",
       "      <td>-0.045330</td>\n",
       "      <td>0.011363</td>\n",
       "    </tr>\n",
       "    <tr>\n",
       "      <th>312</th>\n",
       "      <td>0.019794</td>\n",
       "      <td>0.066539</td>\n",
       "      <td>-0.031725</td>\n",
       "      <td>0.032775</td>\n",
       "      <td>0.025790</td>\n",
       "      <td>-0.020590</td>\n",
       "      <td>0.027917</td>\n",
       "      <td>0.053574</td>\n",
       "      <td>0.032409</td>\n",
       "      <td>0.046027</td>\n",
       "      <td>...</td>\n",
       "      <td>0.000957</td>\n",
       "      <td>0.019692</td>\n",
       "      <td>-0.011121</td>\n",
       "      <td>-0.025265</td>\n",
       "      <td>0.030702</td>\n",
       "      <td>0.090652</td>\n",
       "      <td>-0.005194</td>\n",
       "      <td>0.007583</td>\n",
       "      <td>-0.036849</td>\n",
       "      <td>-0.035298</td>\n",
       "    </tr>\n",
       "    <tr>\n",
       "      <th>1545</th>\n",
       "      <td>0.028341</td>\n",
       "      <td>-0.008794</td>\n",
       "      <td>-0.013506</td>\n",
       "      <td>-0.055209</td>\n",
       "      <td>0.020481</td>\n",
       "      <td>-0.015985</td>\n",
       "      <td>0.018199</td>\n",
       "      <td>0.024467</td>\n",
       "      <td>0.060679</td>\n",
       "      <td>0.008650</td>\n",
       "      <td>...</td>\n",
       "      <td>-0.084576</td>\n",
       "      <td>-0.061109</td>\n",
       "      <td>-0.011040</td>\n",
       "      <td>-0.015010</td>\n",
       "      <td>-0.003435</td>\n",
       "      <td>-0.028298</td>\n",
       "      <td>-0.057415</td>\n",
       "      <td>0.010085</td>\n",
       "      <td>-0.083635</td>\n",
       "      <td>0.019782</td>\n",
       "    </tr>\n",
       "    <tr>\n",
       "      <th>835</th>\n",
       "      <td>-0.065831</td>\n",
       "      <td>0.023915</td>\n",
       "      <td>0.029496</td>\n",
       "      <td>0.015606</td>\n",
       "      <td>0.001607</td>\n",
       "      <td>0.040174</td>\n",
       "      <td>-0.064903</td>\n",
       "      <td>0.034215</td>\n",
       "      <td>-0.035647</td>\n",
       "      <td>0.007683</td>\n",
       "      <td>...</td>\n",
       "      <td>0.032564</td>\n",
       "      <td>-0.032570</td>\n",
       "      <td>0.050885</td>\n",
       "      <td>0.020047</td>\n",
       "      <td>0.005974</td>\n",
       "      <td>0.026947</td>\n",
       "      <td>0.021958</td>\n",
       "      <td>0.047958</td>\n",
       "      <td>-0.051980</td>\n",
       "      <td>-0.011545</td>\n",
       "    </tr>\n",
       "    <tr>\n",
       "      <th>...</th>\n",
       "      <td>...</td>\n",
       "      <td>...</td>\n",
       "      <td>...</td>\n",
       "      <td>...</td>\n",
       "      <td>...</td>\n",
       "      <td>...</td>\n",
       "      <td>...</td>\n",
       "      <td>...</td>\n",
       "      <td>...</td>\n",
       "      <td>...</td>\n",
       "      <td>...</td>\n",
       "      <td>...</td>\n",
       "      <td>...</td>\n",
       "      <td>...</td>\n",
       "      <td>...</td>\n",
       "      <td>...</td>\n",
       "      <td>...</td>\n",
       "      <td>...</td>\n",
       "      <td>...</td>\n",
       "      <td>...</td>\n",
       "      <td>...</td>\n",
       "    </tr>\n",
       "    <tr>\n",
       "      <th>639</th>\n",
       "      <td>0.012040</td>\n",
       "      <td>0.023705</td>\n",
       "      <td>0.004066</td>\n",
       "      <td>-0.076454</td>\n",
       "      <td>-0.053322</td>\n",
       "      <td>0.046062</td>\n",
       "      <td>-0.116550</td>\n",
       "      <td>0.031527</td>\n",
       "      <td>0.005704</td>\n",
       "      <td>-0.015665</td>\n",
       "      <td>...</td>\n",
       "      <td>-0.033448</td>\n",
       "      <td>0.015464</td>\n",
       "      <td>0.023391</td>\n",
       "      <td>-0.023200</td>\n",
       "      <td>0.000461</td>\n",
       "      <td>-0.052135</td>\n",
       "      <td>-0.011173</td>\n",
       "      <td>-0.024611</td>\n",
       "      <td>-0.010110</td>\n",
       "      <td>-0.026230</td>\n",
       "    </tr>\n",
       "    <tr>\n",
       "      <th>930</th>\n",
       "      <td>0.018356</td>\n",
       "      <td>-0.002408</td>\n",
       "      <td>-0.011364</td>\n",
       "      <td>0.017889</td>\n",
       "      <td>-0.029666</td>\n",
       "      <td>-0.016511</td>\n",
       "      <td>-0.006851</td>\n",
       "      <td>0.007845</td>\n",
       "      <td>0.089844</td>\n",
       "      <td>0.032677</td>\n",
       "      <td>...</td>\n",
       "      <td>-0.062129</td>\n",
       "      <td>0.007067</td>\n",
       "      <td>-0.012182</td>\n",
       "      <td>0.042050</td>\n",
       "      <td>0.021200</td>\n",
       "      <td>0.122223</td>\n",
       "      <td>0.022720</td>\n",
       "      <td>-0.026468</td>\n",
       "      <td>0.003173</td>\n",
       "      <td>-0.018551</td>\n",
       "    </tr>\n",
       "    <tr>\n",
       "      <th>608</th>\n",
       "      <td>-0.032246</td>\n",
       "      <td>0.103853</td>\n",
       "      <td>0.009586</td>\n",
       "      <td>-0.016369</td>\n",
       "      <td>0.003002</td>\n",
       "      <td>0.037541</td>\n",
       "      <td>-0.000071</td>\n",
       "      <td>0.070682</td>\n",
       "      <td>0.013587</td>\n",
       "      <td>0.035278</td>\n",
       "      <td>...</td>\n",
       "      <td>-0.025664</td>\n",
       "      <td>0.031732</td>\n",
       "      <td>-0.031970</td>\n",
       "      <td>-0.038246</td>\n",
       "      <td>0.041457</td>\n",
       "      <td>0.023622</td>\n",
       "      <td>-0.027435</td>\n",
       "      <td>0.017753</td>\n",
       "      <td>-0.031236</td>\n",
       "      <td>-0.008325</td>\n",
       "    </tr>\n",
       "    <tr>\n",
       "      <th>1918</th>\n",
       "      <td>-0.040788</td>\n",
       "      <td>0.012700</td>\n",
       "      <td>0.015526</td>\n",
       "      <td>0.035787</td>\n",
       "      <td>-0.043600</td>\n",
       "      <td>-0.020637</td>\n",
       "      <td>-0.004241</td>\n",
       "      <td>-0.049742</td>\n",
       "      <td>0.025024</td>\n",
       "      <td>-0.039804</td>\n",
       "      <td>...</td>\n",
       "      <td>-0.002848</td>\n",
       "      <td>0.001312</td>\n",
       "      <td>0.041472</td>\n",
       "      <td>0.024698</td>\n",
       "      <td>0.032169</td>\n",
       "      <td>0.002509</td>\n",
       "      <td>0.047923</td>\n",
       "      <td>0.002101</td>\n",
       "      <td>-0.018907</td>\n",
       "      <td>-0.038484</td>\n",
       "    </tr>\n",
       "    <tr>\n",
       "      <th>1425</th>\n",
       "      <td>-0.016733</td>\n",
       "      <td>-0.088669</td>\n",
       "      <td>-0.018599</td>\n",
       "      <td>-0.018410</td>\n",
       "      <td>-0.019243</td>\n",
       "      <td>0.002515</td>\n",
       "      <td>0.044848</td>\n",
       "      <td>0.106676</td>\n",
       "      <td>0.038735</td>\n",
       "      <td>0.002724</td>\n",
       "      <td>...</td>\n",
       "      <td>-0.015403</td>\n",
       "      <td>-0.030858</td>\n",
       "      <td>0.009982</td>\n",
       "      <td>-0.006512</td>\n",
       "      <td>0.003930</td>\n",
       "      <td>-0.092642</td>\n",
       "      <td>-0.022696</td>\n",
       "      <td>-0.045015</td>\n",
       "      <td>-0.049587</td>\n",
       "      <td>-0.089434</td>\n",
       "    </tr>\n",
       "  </tbody>\n",
       "</table>\n",
       "<p>526 rows × 768 columns</p>\n",
       "</div>"
      ],
      "text/plain": [
       "      embedding_0  embedding_1  embedding_2  embedding_3  embedding_4  \\\n",
       "1490     0.039650    -0.041361    -0.015267    -0.002952    -0.028554   \n",
       "581     -0.019185    -0.026825    -0.009607    -0.046604    -0.015036   \n",
       "312      0.019794     0.066539    -0.031725     0.032775     0.025790   \n",
       "1545     0.028341    -0.008794    -0.013506    -0.055209     0.020481   \n",
       "835     -0.065831     0.023915     0.029496     0.015606     0.001607   \n",
       "...           ...          ...          ...          ...          ...   \n",
       "639      0.012040     0.023705     0.004066    -0.076454    -0.053322   \n",
       "930      0.018356    -0.002408    -0.011364     0.017889    -0.029666   \n",
       "608     -0.032246     0.103853     0.009586    -0.016369     0.003002   \n",
       "1918    -0.040788     0.012700     0.015526     0.035787    -0.043600   \n",
       "1425    -0.016733    -0.088669    -0.018599    -0.018410    -0.019243   \n",
       "\n",
       "      embedding_5  embedding_6  embedding_7  embedding_8  embedding_9  ...  \\\n",
       "1490     0.038195    -0.030651     0.080210    -0.014214    -0.015315  ...   \n",
       "581      0.029524    -0.026370     0.069245     0.013626     0.019648  ...   \n",
       "312     -0.020590     0.027917     0.053574     0.032409     0.046027  ...   \n",
       "1545    -0.015985     0.018199     0.024467     0.060679     0.008650  ...   \n",
       "835      0.040174    -0.064903     0.034215    -0.035647     0.007683  ...   \n",
       "...           ...          ...          ...          ...          ...  ...   \n",
       "639      0.046062    -0.116550     0.031527     0.005704    -0.015665  ...   \n",
       "930     -0.016511    -0.006851     0.007845     0.089844     0.032677  ...   \n",
       "608      0.037541    -0.000071     0.070682     0.013587     0.035278  ...   \n",
       "1918    -0.020637    -0.004241    -0.049742     0.025024    -0.039804  ...   \n",
       "1425     0.002515     0.044848     0.106676     0.038735     0.002724  ...   \n",
       "\n",
       "      embedding_758  embedding_759  embedding_760  embedding_761  \\\n",
       "1490      -0.079268      -0.029991       0.066873       0.023905   \n",
       "581        0.007363       0.003322      -0.046187      -0.017209   \n",
       "312        0.000957       0.019692      -0.011121      -0.025265   \n",
       "1545      -0.084576      -0.061109      -0.011040      -0.015010   \n",
       "835        0.032564      -0.032570       0.050885       0.020047   \n",
       "...             ...            ...            ...            ...   \n",
       "639       -0.033448       0.015464       0.023391      -0.023200   \n",
       "930       -0.062129       0.007067      -0.012182       0.042050   \n",
       "608       -0.025664       0.031732      -0.031970      -0.038246   \n",
       "1918      -0.002848       0.001312       0.041472       0.024698   \n",
       "1425      -0.015403      -0.030858       0.009982      -0.006512   \n",
       "\n",
       "      embedding_762  embedding_763  embedding_764  embedding_765  \\\n",
       "1490       0.024190       0.044641      -0.040476      -0.014075   \n",
       "581        0.041400       0.067242      -0.057662       0.004949   \n",
       "312        0.030702       0.090652      -0.005194       0.007583   \n",
       "1545      -0.003435      -0.028298      -0.057415       0.010085   \n",
       "835        0.005974       0.026947       0.021958       0.047958   \n",
       "...             ...            ...            ...            ...   \n",
       "639        0.000461      -0.052135      -0.011173      -0.024611   \n",
       "930        0.021200       0.122223       0.022720      -0.026468   \n",
       "608        0.041457       0.023622      -0.027435       0.017753   \n",
       "1918       0.032169       0.002509       0.047923       0.002101   \n",
       "1425       0.003930      -0.092642      -0.022696      -0.045015   \n",
       "\n",
       "      embedding_766  embedding_767  \n",
       "1490      -0.057007      -0.029843  \n",
       "581       -0.045330       0.011363  \n",
       "312       -0.036849      -0.035298  \n",
       "1545      -0.083635       0.019782  \n",
       "835       -0.051980      -0.011545  \n",
       "...             ...            ...  \n",
       "639       -0.010110      -0.026230  \n",
       "930        0.003173      -0.018551  \n",
       "608       -0.031236      -0.008325  \n",
       "1918      -0.018907      -0.038484  \n",
       "1425      -0.049587      -0.089434  \n",
       "\n",
       "[526 rows x 768 columns]"
      ]
     },
     "execution_count": 10,
     "metadata": {},
     "output_type": "execute_result"
    }
   ],
   "source": [
    "# X is the embeddings and Y is the categories.\n",
    "\n",
    "y_train = train['categories']\n",
    "x_train = train.loc[:, train.columns != 'categories']\n",
    "\n",
    "y_test = test['categories']\n",
    "x_test = test.loc[:, test.columns != 'categories']\n",
    "\n",
    "x_test"
   ]
  },
  {
   "cell_type": "code",
   "execution_count": 11,
   "id": "a5b306ea",
   "metadata": {},
   "outputs": [
    {
     "name": "stderr",
     "output_type": "stream",
     "text": [
      "huggingface/tokenizers: The current process just got forked, after parallelism has already been used. Disabling parallelism to avoid deadlocks...\n",
      "To disable this warning, you can either:\n",
      "\t- Avoid using `tokenizers` before the fork if possible\n",
      "\t- Explicitly set the environment variable TOKENIZERS_PARALLELISM=(true | false)\n",
      "/Users/charlierobison/opt/anaconda3/envs/temp/lib/python3.9/site-packages/threadpoolctl.py:1010: RuntimeWarning: \n",
      "Found Intel OpenMP ('libiomp') and LLVM OpenMP ('libomp') loaded at\n",
      "the same time. Both libraries are known to be incompatible and this\n",
      "can cause random crashes or deadlocks on Linux when loaded in the\n",
      "same Python program.\n",
      "Using threadpoolctl may cause crashes or deadlocks. For more\n",
      "information and possible workarounds, please see\n",
      "    https://github.com/joblib/threadpoolctl/blob/master/multiple_openmp.md\n",
      "\n",
      "  warnings.warn(msg, RuntimeWarning)\n"
     ]
    },
    {
     "data": {
      "text/plain": [
       "21"
      ]
     },
     "execution_count": 11,
     "metadata": {},
     "output_type": "execute_result"
    }
   ],
   "source": [
    "knn = KNeighborsClassifier()\n",
    "\n",
    "# Create a dictionary of all values we want to test for n_neighbors\n",
    "param_grid = {'n_neighbors': np.arange(1, 25)}\n",
    "\n",
    "# Uses gridsearch to test all values for n_neighbors.\n",
    "knn_grid_search = GridSearchCV(knn, param_grid, cv=5)\n",
    "\n",
    "# Fit model to data.\n",
    "knn_grid_search.fit(x_train, y_train)\n",
    "\n",
    "# Gets the n_neighbors value which warrants the highest accuracy.\n",
    "best_n_neighbors=knn_grid_search.best_params_['n_neighbors']\n",
    "best_n_neighbors"
   ]
  },
  {
   "cell_type": "code",
   "execution_count": 12,
   "id": "1eb702e5",
   "metadata": {},
   "outputs": [
    {
     "data": {
      "text/html": [
       "<style>#sk-container-id-1 {color: black;}#sk-container-id-1 pre{padding: 0;}#sk-container-id-1 div.sk-toggleable {background-color: white;}#sk-container-id-1 label.sk-toggleable__label {cursor: pointer;display: block;width: 100%;margin-bottom: 0;padding: 0.3em;box-sizing: border-box;text-align: center;}#sk-container-id-1 label.sk-toggleable__label-arrow:before {content: \"▸\";float: left;margin-right: 0.25em;color: #696969;}#sk-container-id-1 label.sk-toggleable__label-arrow:hover:before {color: black;}#sk-container-id-1 div.sk-estimator:hover label.sk-toggleable__label-arrow:before {color: black;}#sk-container-id-1 div.sk-toggleable__content {max-height: 0;max-width: 0;overflow: hidden;text-align: left;background-color: #f0f8ff;}#sk-container-id-1 div.sk-toggleable__content pre {margin: 0.2em;color: black;border-radius: 0.25em;background-color: #f0f8ff;}#sk-container-id-1 input.sk-toggleable__control:checked~div.sk-toggleable__content {max-height: 200px;max-width: 100%;overflow: auto;}#sk-container-id-1 input.sk-toggleable__control:checked~label.sk-toggleable__label-arrow:before {content: \"▾\";}#sk-container-id-1 div.sk-estimator input.sk-toggleable__control:checked~label.sk-toggleable__label {background-color: #d4ebff;}#sk-container-id-1 div.sk-label input.sk-toggleable__control:checked~label.sk-toggleable__label {background-color: #d4ebff;}#sk-container-id-1 input.sk-hidden--visually {border: 0;clip: rect(1px 1px 1px 1px);clip: rect(1px, 1px, 1px, 1px);height: 1px;margin: -1px;overflow: hidden;padding: 0;position: absolute;width: 1px;}#sk-container-id-1 div.sk-estimator {font-family: monospace;background-color: #f0f8ff;border: 1px dotted black;border-radius: 0.25em;box-sizing: border-box;margin-bottom: 0.5em;}#sk-container-id-1 div.sk-estimator:hover {background-color: #d4ebff;}#sk-container-id-1 div.sk-parallel-item::after {content: \"\";width: 100%;border-bottom: 1px solid gray;flex-grow: 1;}#sk-container-id-1 div.sk-label:hover label.sk-toggleable__label {background-color: #d4ebff;}#sk-container-id-1 div.sk-serial::before {content: \"\";position: absolute;border-left: 1px solid gray;box-sizing: border-box;top: 0;bottom: 0;left: 50%;z-index: 0;}#sk-container-id-1 div.sk-serial {display: flex;flex-direction: column;align-items: center;background-color: white;padding-right: 0.2em;padding-left: 0.2em;position: relative;}#sk-container-id-1 div.sk-item {position: relative;z-index: 1;}#sk-container-id-1 div.sk-parallel {display: flex;align-items: stretch;justify-content: center;background-color: white;position: relative;}#sk-container-id-1 div.sk-item::before, #sk-container-id-1 div.sk-parallel-item::before {content: \"\";position: absolute;border-left: 1px solid gray;box-sizing: border-box;top: 0;bottom: 0;left: 50%;z-index: -1;}#sk-container-id-1 div.sk-parallel-item {display: flex;flex-direction: column;z-index: 1;position: relative;background-color: white;}#sk-container-id-1 div.sk-parallel-item:first-child::after {align-self: flex-end;width: 50%;}#sk-container-id-1 div.sk-parallel-item:last-child::after {align-self: flex-start;width: 50%;}#sk-container-id-1 div.sk-parallel-item:only-child::after {width: 0;}#sk-container-id-1 div.sk-dashed-wrapped {border: 1px dashed gray;margin: 0 0.4em 0.5em 0.4em;box-sizing: border-box;padding-bottom: 0.4em;background-color: white;}#sk-container-id-1 div.sk-label label {font-family: monospace;font-weight: bold;display: inline-block;line-height: 1.2em;}#sk-container-id-1 div.sk-label-container {text-align: center;}#sk-container-id-1 div.sk-container {/* jupyter's `normalize.less` sets `[hidden] { display: none; }` but bootstrap.min.css set `[hidden] { display: none !important; }` so we also need the `!important` here to be able to override the default hidden behavior on the sphinx rendered scikit-learn.org. See: https://github.com/scikit-learn/scikit-learn/issues/21755 */display: inline-block !important;position: relative;}#sk-container-id-1 div.sk-text-repr-fallback {display: none;}</style><div id=\"sk-container-id-1\" class=\"sk-top-container\"><div class=\"sk-text-repr-fallback\"><pre>KNeighborsClassifier(n_neighbors=21)</pre><b>In a Jupyter environment, please rerun this cell to show the HTML representation or trust the notebook. <br />On GitHub, the HTML representation is unable to render, please try loading this page with nbviewer.org.</b></div><div class=\"sk-container\" hidden><div class=\"sk-item\"><div class=\"sk-estimator sk-toggleable\"><input class=\"sk-toggleable__control sk-hidden--visually\" id=\"sk-estimator-id-1\" type=\"checkbox\" checked><label for=\"sk-estimator-id-1\" class=\"sk-toggleable__label sk-toggleable__label-arrow\">KNeighborsClassifier</label><div class=\"sk-toggleable__content\"><pre>KNeighborsClassifier(n_neighbors=21)</pre></div></div></div></div></div>"
      ],
      "text/plain": [
       "KNeighborsClassifier(n_neighbors=21)"
      ]
     },
     "execution_count": 12,
     "metadata": {},
     "output_type": "execute_result"
    }
   ],
   "source": [
    "# Trains the KNN model with the best n_neighbors value.\n",
    "knn_cls = KNeighborsClassifier(n_neighbors=best_n_neighbors)\n",
    "knn_cls.fit(x_train.values, y_train.values)"
   ]
  },
  {
   "cell_type": "code",
   "execution_count": 13,
   "id": "b3465c8f",
   "metadata": {},
   "outputs": [
    {
     "data": {
      "text/plain": [
       "array([[399,   0,   1,   3,   1,   0,   2],\n",
       "       [  3, 134,   6,   2,   7,   2,   0],\n",
       "       [ 10,  11, 349,   1,   2,   1,   1],\n",
       "       [  1,   2,   1, 227,  28,   1,  28],\n",
       "       [ 11,   6,   8,  22, 166,   1,   1],\n",
       "       [  3,   1,   6,   4,   2, 281,   2],\n",
       "       [  0,   0,   1,  15,   0,   0, 348]])"
      ]
     },
     "execution_count": 13,
     "metadata": {},
     "output_type": "execute_result"
    }
   ],
   "source": [
    "from sklearn.metrics import confusion_matrix\n",
    "\n",
    "# Gets the predications for the test dataset.\n",
    "y_train_pred = knn_cls.predict(x_train.values)\n",
    "\n",
    "# Gets a confusion matrix for error analysis.\n",
    "conf_matrix = confusion_matrix(y_train, y_train_pred)\n",
    "conf_matrix"
   ]
  },
  {
   "cell_type": "code",
   "execution_count": 14,
   "id": "1090088b",
   "metadata": {},
   "outputs": [
    {
     "name": "stdout",
     "output_type": "stream",
     "text": [
      "Accuracy: 0.9062351261304141\n",
      "Precision: 0.9062351261304141. This high ratio assumes most postives were true positives since precision = tp / (tp + fp).\n",
      "Recall: 0.9062351261304141. This high ratio means there were not too many false negatives since recalle = tp / (tp + fn).\n",
      "F1 Score: 0.9062351261304141. This high score means the model is relatively good at classifiying.\n"
     ]
    }
   ],
   "source": [
    "# Gets precision, recall, and f1 score from the trained data.\n",
    "accuracy = accuracy_score(y_train, y_train_pred)\n",
    "precision = precision_score(y_train, y_train_pred, average='micro')\n",
    "recall = recall_score(y_train, y_train_pred, average='micro')\n",
    "f1_score = f1_score(y_train, y_train_pred, average='micro')\n",
    "print(f'Accuracy: {accuracy}')\n",
    "print(f'Precision: {precision}. This high ratio assumes most postives were true positives since precision = tp / (tp + fp).')\n",
    "print(f'Recall: {recall}. This high ratio means there were not too many false negatives since recalle = tp / (tp + fn).')\n",
    "print(f'F1 Score: {f1_score}. This high score means the model is relatively good at classifiying.')"
   ]
  },
  {
   "cell_type": "code",
   "execution_count": 15,
   "id": "fce7eb0e",
   "metadata": {},
   "outputs": [
    {
     "data": {
      "image/png": "[encoded data removed]",
      "text/plain": [
       "<Figure size 640x480 with 2 Axes>"
      ]
     },
     "metadata": {},
     "output_type": "display_data"
    }
   ],
   "source": [
    "# Plots the confusion matrix to better visualize.\n",
    "# Generally, the test data was classified correctly given the lighter colors in the diagonal.\n",
    "fig = plt.figure()\n",
    "ax = fig.add_subplot(111)\n",
    "plot = ax.matshow(conf_matrix, cmap=plt.cm.gray)\n",
    "fig.colorbar(plot)\n",
    "ax.set_xlabel('Predicted Categories')\n",
    "ax.set_ylabel('Actual Categories')\n",
    "ax.set_title('Confusion Matrix of Predicted vs Actual Classifications of Training Data')\n",
    "\n",
    "plt.show()"
   ]
  },
  {
   "cell_type": "code",
   "execution_count": 16,
   "id": "0ec27ab6",
   "metadata": {},
   "outputs": [],
   "source": [
    "## 1. For each receipt we will take the avg(vendor embeddings, item1 embeddings, item2 embeddings, ...).\n",
    "## 2. Pre-process the data to be put into the model.\n",
    "## 3. Predict using the model."
   ]
  },
  {
   "cell_type": "code",
   "execution_count": 17,
   "id": "a50ab9ce",
   "metadata": {},
   "outputs": [],
   "source": [
    "test_arr = [\"\"\"{\n",
    "  \"ReceiptInfo\": {\n",
    "    \"merchant\": \"SAFEWAY\",\n",
    "    \"address\": \"2855 East Manoa Road\",\n",
    "    \"city\": \"Honolulu\",\n",
    "    \"state\": \"HI\",\n",
    "    \"phoneNumber\": \"(808) 988-2058\",\n",
    "    \"tax\": \"1.32\",\n",
    "    \"total\": \"29.29\",\n",
    "    \"receiptDate\": \"08/01/23\",\n",
    "    \"receiptTime\": \"8:15pm\",\n",
    "\n",
    "\n",
    "    \"ITEMS\": [\n",
    "      {\n",
    "        \"description\": \"MARINARA SCE\",\n",
    "        \"quantity\": \"1\",\n",
    "        \"unitPrice\": \"8.49\",\n",
    "        \"totalPrice\": \"6.99\",\n",
    "        \"discountAmount\": \"1.50\"\n",
    "      },\n",
    "      {\n",
    "        \"description\": \"LUC CHES COLBY JAC.\",\n",
    "        \"quantity\": \"1\",\n",
    "        \"unitPrice\": \"13.49\",\n",
    "        \"totalPrice\": \"10.99\",\n",
    "        \"discountAmount\": \"2.50\"\n",
    "      },\n",
    "      {\n",
    "        \"description\": \"MARIE CALLENDER'S\",\n",
    "        \"quantity\": \"1\",\n",
    "        \"unitPrice\": \"6.49\",\n",
    "        \"totalPrice\": \"4.00\",\n",
    "        \"discountAmount\": \"2.49\"\n",
    "      },\n",
    "      {\n",
    "        \"description\": \"AIDELLS MEATBALLS\",\n",
    "        \"quantity\": \"1\",\n",
    "        \"unitPrice\": \"8.99\",\n",
    "        \"totalPrice\": \"5.99\",\n",
    "        \"discountAmount\": \"3.00\"\n",
    "      }\n",
    "    ]\n",
    "  }\n",
    "}\"\"\",    \n",
    "\"\"\"{\n",
    "  \"ReceiptInfo\": {\n",
    "    \"merchant\": \"McDonald's Restaurant\",\n",
    "    \"address\": \"2915 E MANOA RD\",\n",
    "    \"city\": \"Honolulu\",\n",
    "    \"state\": \"HI\",\n",
    "    \"phoneNumber\": \"\",\n",
    "    \"tax\": \"0.28\",\n",
    "    \"total\": \"6.17\",\n",
    "    \"receiptDate\": \"08/19/2023\",\n",
    "    \"receiptTime\": \"03:33 PM\",\n",
    "\n",
    "\n",
    "    \"ITEMS\": [\n",
    "      {\n",
    "        \"description\": \"1 Happy Meal Ch Burger\",\n",
    "        \"quantity\": \"1\",\n",
    "        \"unitPrice\": \"5.89\",\n",
    "        \"totalPrice\": \"5.89\",\n",
    "        \"discountAmount\": \"0.00\"\n",
    "      }\n",
    "    ]\n",
    "  }\n",
    "}\"\"\",\n",
    "\"\"\"{\n",
    "  \"ReceiptInfo\": {\n",
    "    \"merchant\": \"Walmart\",\n",
    "    \"address\": \"3549 RUSSETT GRN\",\n",
    "    \"city\": \"LAUREL\",\n",
    "    \"state\": \"MD\",\n",
    "    \"phoneNumber\": \"301-604-0180\",\n",
    "    \"tax\": \"0.12\",\n",
    "    \"total\": \"22.08\",\n",
    "    \"receiptDate\": \"07/04/23\",\n",
    "    \"receiptTime\": \"4:20pm\",\n",
    "\n",
    "\n",
    "    \"ITEMS\": [\n",
    "      {\n",
    "        \"description\": \"PRK SB\",\n",
    "        \"quantity\": \"1\",\n",
    "        \"unitPrice\": \"1.98\",\n",
    "        \"totalPrice\": \"1.98\",\n",
    "        \"discountAmount\": \"0.00\"\n",
    "      },\n",
    "      {\n",
    "        \"description\": \"BOOSTER\",\n",
    "        \"quantity\": \"1\",\n",
    "        \"unitPrice\": \"19.98\",\n",
    "        \"totalPrice\": \"19.98\",\n",
    "        \"discountAmount\": \"0.00\"\n",
    "      }\n",
    "    ]\n",
    "  }\n",
    "}\"\"\"]"
   ]
  },
  {
   "cell_type": "code",
   "execution_count": 18,
   "id": "d9849e5a",
   "metadata": {},
   "outputs": [],
   "source": [
    "def compute_embeddings(receipt):\n",
    "    \"\"\"Computes the embeddings for the vendor and items in the given receipt.\"\"\"\n",
    "    # Converts the receipt to JSON.\n",
    "    try:\n",
    "        json_object = json.loads(receipt)\n",
    "    except:\n",
    "        return None, None\n",
    "    \n",
    "    # Gets the vendor name from the receipt JSON object.\n",
    "    vendor = json_object['ReceiptInfo']['merchant']\n",
    "    embeddings_model = HuggingFaceEmbeddings()\n",
    "\n",
    "    if vendor != \"\":\n",
    "        # Gets embeddings for the vendor.\n",
    "        vendor_embeddings = embeddings_model.embed_documents(vendor)[0]\n",
    "    else:\n",
    "        vendor_embeddings = None\n",
    "    \n",
    "    # Gets embeddings for items in receipt.\n",
    "    items = [item['description'] for item in json_object['ReceiptInfo']['ITEMS']]\n",
    "    embedded_items = embeddings_model.embed_documents(items)\n",
    "\n",
    "    return vendor_embeddings, embedded_items"
   ]
  },
  {
   "cell_type": "code",
   "execution_count": 19,
   "id": "17df4fe7",
   "metadata": {},
   "outputs": [],
   "source": [
    "def get_avg_embeddings(vendor_embeddings, embedded_items):\n",
    "    \"\"\"Gets the average receipt embeddings\"\"\"\n",
    "    avg_embeddings = []\n",
    "    receipt_embeddings = {}\n",
    "\n",
    "    if embedded_items is None and vendor_embeddings is None:\n",
    "        return None\n",
    "    elif len(embedded_items) == 0 and vendor_embeddings is not None:\n",
    "        avg_embeddings = vendor_embeddings\n",
    "    elif len(embedded_items) == 0 and vendor_embeddings is None:\n",
    "        return None\n",
    "    else:\n",
    "        # For each embedding for the vendor.\n",
    "        for i in range(len(embedded_items[0])):\n",
    "    \n",
    "            if vendor_embeddings is not None:\n",
    "                # Add the embedding to embeddings.\n",
    "                embeddings = [vendor_embeddings[i]]\n",
    "            else:\n",
    "                embeddings = []\n",
    "        \n",
    "            # Add all corresponding item embeddings to embeddings.\n",
    "            for item_embedding in embedded_items:\n",
    "                embeddings.append(item_embedding[i])\n",
    "        \n",
    "            # Add the average of the embedding to average embeddings.\n",
    "            avg_embeddings.append(np.average(embeddings))\n",
    "    \n",
    "    # For each embedding add it to the embeddings object.\n",
    "    for i in range(len(avg_embeddings)):\n",
    "        if f'embedding_{i}' in receipt_embeddings:\n",
    "            receipt_embeddings[f'embedding_{i}'].append(avg_embeddings[i])\n",
    "        else:\n",
    "            receipt_embeddings[f'embedding_{i}'] = []\n",
    "            receipt_embeddings[f'embedding_{i}'].append(avg_embeddings[i])\n",
    "    \n",
    "    return receipt_embeddings"
   ]
  },
  {
   "cell_type": "code",
   "execution_count": 20,
   "id": "72f9f139",
   "metadata": {},
   "outputs": [
    {
     "name": "stderr",
     "output_type": "stream",
     "text": [
      "2023-12-13 11:48:27 sentence_transformers.SentenceTransformer INFO: Load pretrained SentenceTransformer: sentence-transformers/all-mpnet-base-v2\n",
      "2023-12-13 11:48:28 sentence_transformers.SentenceTransformer INFO: Use pytorch device: cpu\n"
     ]
    },
    {
     "data": {
      "application/vnd.jupyter.widget-view+json": {
       "model_id": "0fb3648e19244277b056933549603559",
       "version_major": 2,
       "version_minor": 0
      },
      "text/plain": [
       "Batches:   0%|          | 0/1 [00:00<?, ?it/s]"
      ]
     },
     "metadata": {},
     "output_type": "display_data"
    },
    {
     "data": {
      "application/vnd.jupyter.widget-view+json": {
       "model_id": "410270dc9559406e82b0b20880c94f61",
       "version_major": 2,
       "version_minor": 0
      },
      "text/plain": [
       "Batches:   0%|          | 0/1 [00:00<?, ?it/s]"
      ]
     },
     "metadata": {},
     "output_type": "display_data"
    },
    {
     "name": "stderr",
     "output_type": "stream",
     "text": [
      "2023-12-13 11:48:28 sentence_transformers.SentenceTransformer INFO: Load pretrained SentenceTransformer: sentence-transformers/all-mpnet-base-v2\n",
      "2023-12-13 11:48:29 sentence_transformers.SentenceTransformer INFO: Use pytorch device: cpu\n"
     ]
    },
    {
     "data": {
      "application/vnd.jupyter.widget-view+json": {
       "model_id": "b005d5a695464db68081142fcb0391df",
       "version_major": 2,
       "version_minor": 0
      },
      "text/plain": [
       "Batches:   0%|          | 0/1 [00:00<?, ?it/s]"
      ]
     },
     "metadata": {},
     "output_type": "display_data"
    },
    {
     "data": {
      "application/vnd.jupyter.widget-view+json": {
       "model_id": "b475bc0bd3dd45aeb3efa75623b5598f",
       "version_major": 2,
       "version_minor": 0
      },
      "text/plain": [
       "Batches:   0%|          | 0/1 [00:00<?, ?it/s]"
      ]
     },
     "metadata": {},
     "output_type": "display_data"
    },
    {
     "name": "stderr",
     "output_type": "stream",
     "text": [
      "2023-12-13 11:48:29 sentence_transformers.SentenceTransformer INFO: Load pretrained SentenceTransformer: sentence-transformers/all-mpnet-base-v2\n",
      "2023-12-13 11:48:30 sentence_transformers.SentenceTransformer INFO: Use pytorch device: cpu\n"
     ]
    },
    {
     "data": {
      "application/vnd.jupyter.widget-view+json": {
       "model_id": "7ed8f4fa59fc457aae0966464fb33286",
       "version_major": 2,
       "version_minor": 0
      },
      "text/plain": [
       "Batches:   0%|          | 0/1 [00:00<?, ?it/s]"
      ]
     },
     "metadata": {},
     "output_type": "display_data"
    },
    {
     "data": {
      "application/vnd.jupyter.widget-view+json": {
       "model_id": "b5321a799f60425ca4f88d81e44b8500",
       "version_major": 2,
       "version_minor": 0
      },
      "text/plain": [
       "Batches:   0%|          | 0/1 [00:00<?, ?it/s]"
      ]
     },
     "metadata": {},
     "output_type": "display_data"
    },
    {
     "name": "stderr",
     "output_type": "stream",
     "text": [
      "2023-12-13 11:48:30 sentence_transformers.SentenceTransformer INFO: Load pretrained SentenceTransformer: sentence-transformers/all-mpnet-base-v2\n",
      "2023-12-13 11:48:31 sentence_transformers.SentenceTransformer INFO: Use pytorch device: cpu\n"
     ]
    },
    {
     "data": {
      "application/vnd.jupyter.widget-view+json": {
       "model_id": "14c837eb568d4e9d9f85c7761cd28c1d",
       "version_major": 2,
       "version_minor": 0
      },
      "text/plain": [
       "Batches:   0%|          | 0/1 [00:00<?, ?it/s]"
      ]
     },
     "metadata": {},
     "output_type": "display_data"
    },
    {
     "data": {
      "application/vnd.jupyter.widget-view+json": {
       "model_id": "58d6a9edd3624099a0b8d3e3d5d4e6b1",
       "version_major": 2,
       "version_minor": 0
      },
      "text/plain": [
       "Batches:   0%|          | 0/1 [00:00<?, ?it/s]"
      ]
     },
     "metadata": {},
     "output_type": "display_data"
    },
    {
     "name": "stderr",
     "output_type": "stream",
     "text": [
      "2023-12-13 11:48:31 sentence_transformers.SentenceTransformer INFO: Load pretrained SentenceTransformer: sentence-transformers/all-mpnet-base-v2\n",
      "2023-12-13 11:48:32 sentence_transformers.SentenceTransformer INFO: Use pytorch device: cpu\n"
     ]
    },
    {
     "data": {
      "application/vnd.jupyter.widget-view+json": {
       "model_id": "e59e90f98eb24d79838cacb12e48b787",
       "version_major": 2,
       "version_minor": 0
      },
      "text/plain": [
       "Batches:   0%|          | 0/1 [00:00<?, ?it/s]"
      ]
     },
     "metadata": {},
     "output_type": "display_data"
    },
    {
     "data": {
      "application/vnd.jupyter.widget-view+json": {
       "model_id": "098729d53f5148148f50c96b00269875",
       "version_major": 2,
       "version_minor": 0
      },
      "text/plain": [
       "Batches:   0%|          | 0/1 [00:00<?, ?it/s]"
      ]
     },
     "metadata": {},
     "output_type": "display_data"
    },
    {
     "name": "stderr",
     "output_type": "stream",
     "text": [
      "2023-12-13 11:48:32 sentence_transformers.SentenceTransformer INFO: Load pretrained SentenceTransformer: sentence-transformers/all-mpnet-base-v2\n",
      "2023-12-13 11:48:33 sentence_transformers.SentenceTransformer INFO: Use pytorch device: cpu\n"
     ]
    },
    {
     "data": {
      "application/vnd.jupyter.widget-view+json": {
       "model_id": "76c5ed4bedd040e1b1712ebaba63e32d",
       "version_major": 2,
       "version_minor": 0
      },
      "text/plain": [
       "Batches:   0%|          | 0/1 [00:00<?, ?it/s]"
      ]
     },
     "metadata": {},
     "output_type": "display_data"
    },
    {
     "data": {
      "application/vnd.jupyter.widget-view+json": {
       "model_id": "cea79ce7b4c847b8840d8f301b348e47",
       "version_major": 2,
       "version_minor": 0
      },
      "text/plain": [
       "Batches:   0%|          | 0/1 [00:00<?, ?it/s]"
      ]
     },
     "metadata": {},
     "output_type": "display_data"
    },
    {
     "name": "stderr",
     "output_type": "stream",
     "text": [
      "2023-12-13 11:48:33 sentence_transformers.SentenceTransformer INFO: Load pretrained SentenceTransformer: sentence-transformers/all-mpnet-base-v2\n",
      "2023-12-13 11:48:34 sentence_transformers.SentenceTransformer INFO: Use pytorch device: cpu\n"
     ]
    },
    {
     "data": {
      "application/vnd.jupyter.widget-view+json": {
       "model_id": "091a5cff65ea4304aed058e3d69ee772",
       "version_major": 2,
       "version_minor": 0
      },
      "text/plain": [
       "Batches:   0%|          | 0/1 [00:00<?, ?it/s]"
      ]
     },
     "metadata": {},
     "output_type": "display_data"
    },
    {
     "data": {
      "application/vnd.jupyter.widget-view+json": {
       "model_id": "249c6926a89740a0bb974b408d2792c0",
       "version_major": 2,
       "version_minor": 0
      },
      "text/plain": [
       "Batches:   0%|          | 0/1 [00:00<?, ?it/s]"
      ]
     },
     "metadata": {},
     "output_type": "display_data"
    },
    {
     "name": "stderr",
     "output_type": "stream",
     "text": [
      "2023-12-13 11:48:34 sentence_transformers.SentenceTransformer INFO: Load pretrained SentenceTransformer: sentence-transformers/all-mpnet-base-v2\n",
      "2023-12-13 11:48:35 sentence_transformers.SentenceTransformer INFO: Use pytorch device: cpu\n"
     ]
    },
    {
     "data": {
      "application/vnd.jupyter.widget-view+json": {
       "model_id": "251b0689b577461bb568dc91ee0aeb2b",
       "version_major": 2,
       "version_minor": 0
      },
      "text/plain": [
       "Batches:   0%|          | 0/1 [00:00<?, ?it/s]"
      ]
     },
     "metadata": {},
     "output_type": "display_data"
    },
    {
     "data": {
      "application/vnd.jupyter.widget-view+json": {
       "model_id": "4e1e5cbb02084a5583df00ce153c7de5",
       "version_major": 2,
       "version_minor": 0
      },
      "text/plain": [
       "Batches:   0%|          | 0/1 [00:00<?, ?it/s]"
      ]
     },
     "metadata": {},
     "output_type": "display_data"
    },
    {
     "name": "stderr",
     "output_type": "stream",
     "text": [
      "2023-12-13 11:48:35 sentence_transformers.SentenceTransformer INFO: Load pretrained SentenceTransformer: sentence-transformers/all-mpnet-base-v2\n",
      "2023-12-13 11:48:35 sentence_transformers.SentenceTransformer INFO: Use pytorch device: cpu\n"
     ]
    },
    {
     "data": {
      "application/vnd.jupyter.widget-view+json": {
       "model_id": "5c47abfc8f374c3194e28dd92212a05f",
       "version_major": 2,
       "version_minor": 0
      },
      "text/plain": [
       "Batches:   0%|          | 0/1 [00:00<?, ?it/s]"
      ]
     },
     "metadata": {},
     "output_type": "display_data"
    },
    {
     "data": {
      "application/vnd.jupyter.widget-view+json": {
       "model_id": "98ab38d2d44a41b1b6ef016b14364e30",
       "version_major": 2,
       "version_minor": 0
      },
      "text/plain": [
       "Batches:   0%|          | 0/1 [00:00<?, ?it/s]"
      ]
     },
     "metadata": {},
     "output_type": "display_data"
    },
    {
     "name": "stderr",
     "output_type": "stream",
     "text": [
      "2023-12-13 11:48:36 sentence_transformers.SentenceTransformer INFO: Load pretrained SentenceTransformer: sentence-transformers/all-mpnet-base-v2\n",
      "2023-12-13 11:48:36 sentence_transformers.SentenceTransformer INFO: Use pytorch device: cpu\n"
     ]
    },
    {
     "data": {
      "application/vnd.jupyter.widget-view+json": {
       "model_id": "0d9f4f6a99bf4a3aba933f4257d626b1",
       "version_major": 2,
       "version_minor": 0
      },
      "text/plain": [
       "Batches:   0%|          | 0/1 [00:00<?, ?it/s]"
      ]
     },
     "metadata": {},
     "output_type": "display_data"
    },
    {
     "data": {
      "application/vnd.jupyter.widget-view+json": {
       "model_id": "bdbc81d313fd4155a5a15080c270deab",
       "version_major": 2,
       "version_minor": 0
      },
      "text/plain": [
       "Batches: 0it [00:00, ?it/s]"
      ]
     },
     "metadata": {},
     "output_type": "display_data"
    },
    {
     "name": "stderr",
     "output_type": "stream",
     "text": [
      "2023-12-13 11:48:37 sentence_transformers.SentenceTransformer INFO: Load pretrained SentenceTransformer: sentence-transformers/all-mpnet-base-v2\n",
      "2023-12-13 11:48:37 sentence_transformers.SentenceTransformer INFO: Use pytorch device: cpu\n"
     ]
    },
    {
     "data": {
      "application/vnd.jupyter.widget-view+json": {
       "model_id": "7107c91406454bba805d54f75cf0f731",
       "version_major": 2,
       "version_minor": 0
      },
      "text/plain": [
       "Batches:   0%|          | 0/1 [00:00<?, ?it/s]"
      ]
     },
     "metadata": {},
     "output_type": "display_data"
    },
    {
     "data": {
      "application/vnd.jupyter.widget-view+json": {
       "model_id": "a208439ea27240b6abd5f4709333bf45",
       "version_major": 2,
       "version_minor": 0
      },
      "text/plain": [
       "Batches:   0%|          | 0/1 [00:00<?, ?it/s]"
      ]
     },
     "metadata": {},
     "output_type": "display_data"
    },
    {
     "name": "stderr",
     "output_type": "stream",
     "text": [
      "2023-12-13 11:48:38 sentence_transformers.SentenceTransformer INFO: Load pretrained SentenceTransformer: sentence-transformers/all-mpnet-base-v2\n",
      "2023-12-13 11:48:38 sentence_transformers.SentenceTransformer INFO: Use pytorch device: cpu\n"
     ]
    },
    {
     "data": {
      "application/vnd.jupyter.widget-view+json": {
       "model_id": "3f278bfe64e44c9ca090a35bcf048494",
       "version_major": 2,
       "version_minor": 0
      },
      "text/plain": [
       "Batches:   0%|          | 0/1 [00:00<?, ?it/s]"
      ]
     },
     "metadata": {},
     "output_type": "display_data"
    },
    {
     "data": {
      "application/vnd.jupyter.widget-view+json": {
       "model_id": "0b5ffd5701fd44aca7cd4eb7f3d21c22",
       "version_major": 2,
       "version_minor": 0
      },
      "text/plain": [
       "Batches:   0%|          | 0/1 [00:00<?, ?it/s]"
      ]
     },
     "metadata": {},
     "output_type": "display_data"
    },
    {
     "name": "stderr",
     "output_type": "stream",
     "text": [
      "2023-12-13 11:48:39 sentence_transformers.SentenceTransformer INFO: Load pretrained SentenceTransformer: sentence-transformers/all-mpnet-base-v2\n",
      "2023-12-13 11:48:39 sentence_transformers.SentenceTransformer INFO: Use pytorch device: cpu\n"
     ]
    },
    {
     "data": {
      "application/vnd.jupyter.widget-view+json": {
       "model_id": "dfbb4773fd6749e6b9d518fbde3c1432",
       "version_major": 2,
       "version_minor": 0
      },
      "text/plain": [
       "Batches:   0%|          | 0/1 [00:00<?, ?it/s]"
      ]
     },
     "metadata": {},
     "output_type": "display_data"
    },
    {
     "data": {
      "application/vnd.jupyter.widget-view+json": {
       "model_id": "65f18662a2af4128b426496aefa5d9fc",
       "version_major": 2,
       "version_minor": 0
      },
      "text/plain": [
       "Batches:   0%|          | 0/1 [00:00<?, ?it/s]"
      ]
     },
     "metadata": {},
     "output_type": "display_data"
    },
    {
     "name": "stderr",
     "output_type": "stream",
     "text": [
      "2023-12-13 11:48:40 sentence_transformers.SentenceTransformer INFO: Load pretrained SentenceTransformer: sentence-transformers/all-mpnet-base-v2\n",
      "2023-12-13 11:48:40 sentence_transformers.SentenceTransformer INFO: Use pytorch device: cpu\n"
     ]
    },
    {
     "data": {
      "application/vnd.jupyter.widget-view+json": {
       "model_id": "afcc704de5cb42b989d4d33fafe8603e",
       "version_major": 2,
       "version_minor": 0
      },
      "text/plain": [
       "Batches:   0%|          | 0/1 [00:00<?, ?it/s]"
      ]
     },
     "metadata": {},
     "output_type": "display_data"
    },
    {
     "data": {
      "application/vnd.jupyter.widget-view+json": {
       "model_id": "ef0f37c88f3d4f00a9511bded9fe7cb5",
       "version_major": 2,
       "version_minor": 0
      },
      "text/plain": [
       "Batches:   0%|          | 0/1 [00:00<?, ?it/s]"
      ]
     },
     "metadata": {},
     "output_type": "display_data"
    },
    {
     "name": "stderr",
     "output_type": "stream",
     "text": [
      "2023-12-13 11:48:41 sentence_transformers.SentenceTransformer INFO: Load pretrained SentenceTransformer: sentence-transformers/all-mpnet-base-v2\n",
      "2023-12-13 11:48:41 sentence_transformers.SentenceTransformer INFO: Use pytorch device: cpu\n"
     ]
    },
    {
     "data": {
      "application/vnd.jupyter.widget-view+json": {
       "model_id": "6d4c161bf64f483e992cde0533d378b9",
       "version_major": 2,
       "version_minor": 0
      },
      "text/plain": [
       "Batches:   0%|          | 0/1 [00:00<?, ?it/s]"
      ]
     },
     "metadata": {},
     "output_type": "display_data"
    },
    {
     "data": {
      "application/vnd.jupyter.widget-view+json": {
       "model_id": "1a08afe066604aa799e516f8bbe443ce",
       "version_major": 2,
       "version_minor": 0
      },
      "text/plain": [
       "Batches:   0%|          | 0/1 [00:00<?, ?it/s]"
      ]
     },
     "metadata": {},
     "output_type": "display_data"
    },
    {
     "name": "stderr",
     "output_type": "stream",
     "text": [
      "2023-12-13 11:48:41 sentence_transformers.SentenceTransformer INFO: Load pretrained SentenceTransformer: sentence-transformers/all-mpnet-base-v2\n",
      "2023-12-13 11:48:42 sentence_transformers.SentenceTransformer INFO: Use pytorch device: cpu\n"
     ]
    },
    {
     "data": {
      "application/vnd.jupyter.widget-view+json": {
       "model_id": "dd2e404029514fe6bd25c2242e7814e0",
       "version_major": 2,
       "version_minor": 0
      },
      "text/plain": [
       "Batches:   0%|          | 0/1 [00:00<?, ?it/s]"
      ]
     },
     "metadata": {},
     "output_type": "display_data"
    },
    {
     "data": {
      "application/vnd.jupyter.widget-view+json": {
       "model_id": "6b39a4a66d1641678d9ccb9523e16fb9",
       "version_major": 2,
       "version_minor": 0
      },
      "text/plain": [
       "Batches:   0%|          | 0/1 [00:00<?, ?it/s]"
      ]
     },
     "metadata": {},
     "output_type": "display_data"
    },
    {
     "name": "stderr",
     "output_type": "stream",
     "text": [
      "2023-12-13 11:48:42 sentence_transformers.SentenceTransformer INFO: Load pretrained SentenceTransformer: sentence-transformers/all-mpnet-base-v2\n",
      "2023-12-13 11:48:43 sentence_transformers.SentenceTransformer INFO: Use pytorch device: cpu\n"
     ]
    },
    {
     "data": {
      "application/vnd.jupyter.widget-view+json": {
       "model_id": "2de234ee68f449f7a503da1f124f3256",
       "version_major": 2,
       "version_minor": 0
      },
      "text/plain": [
       "Batches:   0%|          | 0/1 [00:00<?, ?it/s]"
      ]
     },
     "metadata": {},
     "output_type": "display_data"
    },
    {
     "data": {
      "application/vnd.jupyter.widget-view+json": {
       "model_id": "5930a987f8aa480a8dc2702159cccb09",
       "version_major": 2,
       "version_minor": 0
      },
      "text/plain": [
       "Batches: 0it [00:00, ?it/s]"
      ]
     },
     "metadata": {},
     "output_type": "display_data"
    },
    {
     "name": "stderr",
     "output_type": "stream",
     "text": [
      "2023-12-13 11:48:43 sentence_transformers.SentenceTransformer INFO: Load pretrained SentenceTransformer: sentence-transformers/all-mpnet-base-v2\n",
      "2023-12-13 11:48:44 sentence_transformers.SentenceTransformer INFO: Use pytorch device: cpu\n"
     ]
    },
    {
     "data": {
      "application/vnd.jupyter.widget-view+json": {
       "model_id": "f74db05b20284164a7147cf27c73e4dc",
       "version_major": 2,
       "version_minor": 0
      },
      "text/plain": [
       "Batches:   0%|          | 0/1 [00:00<?, ?it/s]"
      ]
     },
     "metadata": {},
     "output_type": "display_data"
    },
    {
     "data": {
      "application/vnd.jupyter.widget-view+json": {
       "model_id": "81a69bddff6748fe83c9b40e324bc1d8",
       "version_major": 2,
       "version_minor": 0
      },
      "text/plain": [
       "Batches:   0%|          | 0/1 [00:00<?, ?it/s]"
      ]
     },
     "metadata": {},
     "output_type": "display_data"
    },
    {
     "name": "stderr",
     "output_type": "stream",
     "text": [
      "2023-12-13 11:48:44 sentence_transformers.SentenceTransformer INFO: Load pretrained SentenceTransformer: sentence-transformers/all-mpnet-base-v2\n",
      "2023-12-13 11:48:45 sentence_transformers.SentenceTransformer INFO: Use pytorch device: cpu\n"
     ]
    },
    {
     "data": {
      "application/vnd.jupyter.widget-view+json": {
       "model_id": "a11edb676db7430bb880aa34c243af82",
       "version_major": 2,
       "version_minor": 0
      },
      "text/plain": [
       "Batches:   0%|          | 0/1 [00:00<?, ?it/s]"
      ]
     },
     "metadata": {},
     "output_type": "display_data"
    },
    {
     "data": {
      "application/vnd.jupyter.widget-view+json": {
       "model_id": "f88bc2c0a03f4f7e93b471e13d026574",
       "version_major": 2,
       "version_minor": 0
      },
      "text/plain": [
       "Batches:   0%|          | 0/1 [00:00<?, ?it/s]"
      ]
     },
     "metadata": {},
     "output_type": "display_data"
    }
   ],
   "source": [
    "predicted_categories = []\n",
    "category_counts = {}\n",
    "\n",
    "# Gets a category prediction for each receipt.\n",
    "for receipt in receipt_outputs:\n",
    "    vendor_embeddings, embedded_items = compute_embeddings(receipt)\n",
    "    avg_embeddings = get_avg_embeddings(vendor_embeddings, embedded_items)\n",
    "\n",
    "    if avg_embeddings is not None:\n",
    "        receipt_embeddings = pd.DataFrame(avg_embeddings)\n",
    "        pred_category = knn_cls.predict(receipt_embeddings.to_numpy())[0]\n",
    "        predicted_categories.append(pred_category)\n",
    "\n",
    "    # Updates counts for categories predicted.\n",
    "    if pred_category in category_counts:\n",
    "        category_counts[pred_category] += 1\n",
    "    else:\n",
    "        category_counts[pred_category] = 1"
   ]
  },
  {
   "cell_type": "code",
   "execution_count": 21,
   "id": "19239c17",
   "metadata": {},
   "outputs": [
    {
     "data": {
      "image/png": "[encoded data removed]",
      "text/plain": [
       "<Figure size 640x480 with 1 Axes>"
      ]
     },
     "metadata": {},
     "output_type": "display_data"
    },
    {
     "data": {
      "image/png": "[encoded data removed]",
      "text/plain": [
       "<Figure size 1000x500 with 1 Axes>"
      ]
     },
     "metadata": {},
     "output_type": "display_data"
    }
   ],
   "source": [
    "import matplotlib.pyplot as plt\n",
    "\n",
    "#pie chart for vendor categories\n",
    "labels = list(category_counts.keys())\n",
    "values = list(category_counts.values())\n",
    "\n",
    "fig, ax = plt.subplots()\n",
    "ax.pie(values, labels=labels, autopct='%1.1f%%')\n",
    "ax.set_title('Vendors by Category')\n",
    "\n",
    "\n",
    "#bar graph for vendor categories\n",
    "fig = plt.figure(figsize = (10, 5))\n",
    " \n",
    "# creating the bar plot\n",
    "plt.barh(labels, values, color ='maroon', \n",
    "        height = 0.4)\n",
    "\n",
    "plt.show()"
   ]
  },
  {
   "cell_type": "code",
   "execution_count": 22,
   "id": "f586c05a",
   "metadata": {},
   "outputs": [
    {
     "name": "stderr",
     "output_type": "stream",
     "text": [
      "2023-12-13 11:48:45 sentence_transformers.SentenceTransformer INFO: Load pretrained SentenceTransformer: sentence-transformers/all-mpnet-base-v2\n",
      "2023-12-13 11:48:46 sentence_transformers.SentenceTransformer INFO: Use pytorch device: cpu\n"
     ]
    },
    {
     "data": {
      "application/vnd.jupyter.widget-view+json": {
       "model_id": "50c690e4915d493890f3e5479ab83618",
       "version_major": 2,
       "version_minor": 0
      },
      "text/plain": [
       "Batches:   0%|          | 0/2 [00:00<?, ?it/s]"
      ]
     },
     "metadata": {},
     "output_type": "display_data"
    },
    {
     "data": {
      "application/vnd.jupyter.widget-view+json": {
       "model_id": "7362640a2ac7434d8c816b9fdab0dfbd",
       "version_major": 2,
       "version_minor": 0
      },
      "text/plain": [
       "Batches:   0%|          | 0/2 [00:00<?, ?it/s]"
      ]
     },
     "metadata": {},
     "output_type": "display_data"
    },
    {
     "data": {
      "application/vnd.jupyter.widget-view+json": {
       "model_id": "433f93a32c3e43ea94bc3faa3342ff89",
       "version_major": 2,
       "version_minor": 0
      },
      "text/plain": [
       "Batches:   0%|          | 0/2 [00:00<?, ?it/s]"
      ]
     },
     "metadata": {},
     "output_type": "display_data"
    },
    {
     "data": {
      "application/vnd.jupyter.widget-view+json": {
       "model_id": "577ec518ca024fe7bda3116e05a25e25",
       "version_major": 2,
       "version_minor": 0
      },
      "text/plain": [
       "Batches:   0%|          | 0/2 [00:00<?, ?it/s]"
      ]
     },
     "metadata": {},
     "output_type": "display_data"
    },
    {
     "data": {
      "application/vnd.jupyter.widget-view+json": {
       "model_id": "ba72b79e224a4ab49fa685206783b07c",
       "version_major": 2,
       "version_minor": 0
      },
      "text/plain": [
       "Batches:   0%|          | 0/2 [00:00<?, ?it/s]"
      ]
     },
     "metadata": {},
     "output_type": "display_data"
    },
    {
     "data": {
      "application/vnd.jupyter.widget-view+json": {
       "model_id": "2b782b067dac4566839d57ac4141e1af",
       "version_major": 2,
       "version_minor": 0
      },
      "text/plain": [
       "Batches:   0%|          | 0/2 [00:00<?, ?it/s]"
      ]
     },
     "metadata": {},
     "output_type": "display_data"
    },
    {
     "data": {
      "application/vnd.jupyter.widget-view+json": {
       "model_id": "0893cafb82504b9cb3b4dd94e58cf3ea",
       "version_major": 2,
       "version_minor": 0
      },
      "text/plain": [
       "Batches:   0%|          | 0/2 [00:00<?, ?it/s]"
      ]
     },
     "metadata": {},
     "output_type": "display_data"
    },
    {
     "data": {
      "application/vnd.jupyter.widget-view+json": {
       "model_id": "00706a95b00a44dbaf703537a0df30b2",
       "version_major": 2,
       "version_minor": 0
      },
      "text/plain": [
       "Batches:   0%|          | 0/2 [00:00<?, ?it/s]"
      ]
     },
     "metadata": {},
     "output_type": "display_data"
    },
    {
     "data": {
      "application/vnd.jupyter.widget-view+json": {
       "model_id": "22e63c57a7c94b3d83073c3499d57af1",
       "version_major": 2,
       "version_minor": 0
      },
      "text/plain": [
       "Batches:   0%|          | 0/2 [00:00<?, ?it/s]"
      ]
     },
     "metadata": {},
     "output_type": "display_data"
    },
    {
     "data": {
      "application/vnd.jupyter.widget-view+json": {
       "model_id": "0ff1f87a18914e1ea3d374ca799c8ce9",
       "version_major": 2,
       "version_minor": 0
      },
      "text/plain": [
       "Batches:   0%|          | 0/2 [00:00<?, ?it/s]"
      ]
     },
     "metadata": {},
     "output_type": "display_data"
    },
    {
     "data": {
      "application/vnd.jupyter.widget-view+json": {
       "model_id": "6b4a6df6c267420b940bd7fb0639215f",
       "version_major": 2,
       "version_minor": 0
      },
      "text/plain": [
       "Batches:   0%|          | 0/2 [00:00<?, ?it/s]"
      ]
     },
     "metadata": {},
     "output_type": "display_data"
    },
    {
     "data": {
      "application/vnd.jupyter.widget-view+json": {
       "model_id": "7c8bc9c422d545b7b4b38be1756dbd77",
       "version_major": 2,
       "version_minor": 0
      },
      "text/plain": [
       "Batches:   0%|          | 0/2 [00:00<?, ?it/s]"
      ]
     },
     "metadata": {},
     "output_type": "display_data"
    },
    {
     "data": {
      "application/vnd.jupyter.widget-view+json": {
       "model_id": "d5d067d3e57349aba89a9cce16e20bb1",
       "version_major": 2,
       "version_minor": 0
      },
      "text/plain": [
       "Batches:   0%|          | 0/2 [00:00<?, ?it/s]"
      ]
     },
     "metadata": {},
     "output_type": "display_data"
    },
    {
     "data": {
      "application/vnd.jupyter.widget-view+json": {
       "model_id": "1f39a6e20e0f4b21a6378348ce2ff909",
       "version_major": 2,
       "version_minor": 0
      },
      "text/plain": [
       "Batches:   0%|          | 0/2 [00:00<?, ?it/s]"
      ]
     },
     "metadata": {},
     "output_type": "display_data"
    },
    {
     "data": {
      "text/plain": [
       "(50, 14)"
      ]
     },
     "execution_count": 22,
     "metadata": {},
     "output_type": "execute_result"
    }
   ],
   "source": [
    "## Product Classification.\n",
    "\n",
    "product_categories = [\"Produce\", \"Dairy\", \"Fast Food\", \"Fine Dining\", \"Accessories\", \"Clothing\", \"Beauty Products\", \"Shower Products\",\n",
    "                      \"Video Games\", \"Phones / Tablets\", \"Appliances\", \"Tools\", \"Furniture\", \"Entertainment and Leisure\"]\n",
    "\n",
    "def get_product_training_data():\n",
    "    folder_path = 'product_training_data/'\n",
    "    category_train_test_data = {}\n",
    "    category_training_items = []\n",
    "    \n",
    "    # List all files in the folder\n",
    "    files = os.listdir(folder_path)\n",
    "    i = 0\n",
    "\n",
    "    # Gets the items for each category.\n",
    "    for category in product_categories:\n",
    "        # Gets the file identifier for the category.\n",
    "        category_id = (category.split(\" \")[0]).lower()\n",
    "        file_name = f'{category_id}.txt'\n",
    "        file_path = os.path.join(folder_path, file_name)\n",
    "    \n",
    "        # Check if it's a text file.\n",
    "        if file_name.endswith('.txt'):\n",
    "            with open(file_path, 'r') as file:\n",
    "                # Read the content and split into list by newline character.\n",
    "                text_content = file.read().split('\\n')\n",
    "                # Adds the items to the category in the dict.\n",
    "                category_train_test_data[product_categories[i]] = text_content\n",
    "                i += 1\n",
    "    return category_train_test_data\n",
    "\n",
    "prod_category_train_test_data = get_product_training_data()\n",
    "prod_category_training_embeddings = {}\n",
    "\n",
    "embeddings_model = HuggingFaceEmbeddings()\n",
    "\n",
    "for category in prod_category_train_test_data:\n",
    "    prod_category_training_embeddings[category] = embeddings_model.embed_documents(prod_category_train_test_data[category])\n",
    "    \n",
    "len(prod_category_training_embeddings[\"Produce\"]), len(prod_category_training_embeddings)"
   ]
  },
  {
   "cell_type": "code",
   "execution_count": 23,
   "id": "8467edd8",
   "metadata": {},
   "outputs": [
    {
     "data": {
      "text/html": [
       "<div>\n",
       "<style scoped>\n",
       "    .dataframe tbody tr th:only-of-type {\n",
       "        vertical-align: middle;\n",
       "    }\n",
       "\n",
       "    .dataframe tbody tr th {\n",
       "        vertical-align: top;\n",
       "    }\n",
       "\n",
       "    .dataframe thead th {\n",
       "        text-align: right;\n",
       "    }\n",
       "</style>\n",
       "<table border=\"1\" class=\"dataframe\">\n",
       "  <thead>\n",
       "    <tr style=\"text-align: right;\">\n",
       "      <th></th>\n",
       "      <th>categories</th>\n",
       "      <th>embedding_0</th>\n",
       "      <th>embedding_1</th>\n",
       "      <th>embedding_2</th>\n",
       "      <th>embedding_3</th>\n",
       "      <th>embedding_4</th>\n",
       "      <th>embedding_5</th>\n",
       "      <th>embedding_6</th>\n",
       "      <th>embedding_7</th>\n",
       "      <th>embedding_8</th>\n",
       "      <th>...</th>\n",
       "      <th>embedding_758</th>\n",
       "      <th>embedding_759</th>\n",
       "      <th>embedding_760</th>\n",
       "      <th>embedding_761</th>\n",
       "      <th>embedding_762</th>\n",
       "      <th>embedding_763</th>\n",
       "      <th>embedding_764</th>\n",
       "      <th>embedding_765</th>\n",
       "      <th>embedding_766</th>\n",
       "      <th>embedding_767</th>\n",
       "    </tr>\n",
       "  </thead>\n",
       "  <tbody>\n",
       "    <tr>\n",
       "      <th>0</th>\n",
       "      <td>Produce</td>\n",
       "      <td>0.000589</td>\n",
       "      <td>0.003567</td>\n",
       "      <td>-0.036941</td>\n",
       "      <td>-0.022206</td>\n",
       "      <td>0.002603</td>\n",
       "      <td>-0.011552</td>\n",
       "      <td>-0.024489</td>\n",
       "      <td>0.017725</td>\n",
       "      <td>0.035810</td>\n",
       "      <td>...</td>\n",
       "      <td>-0.060234</td>\n",
       "      <td>0.005869</td>\n",
       "      <td>0.038782</td>\n",
       "      <td>-0.017440</td>\n",
       "      <td>-0.002367</td>\n",
       "      <td>0.029283</td>\n",
       "      <td>0.004650</td>\n",
       "      <td>0.016896</td>\n",
       "      <td>0.004629</td>\n",
       "      <td>-0.008035</td>\n",
       "    </tr>\n",
       "    <tr>\n",
       "      <th>1</th>\n",
       "      <td>Produce</td>\n",
       "      <td>0.031964</td>\n",
       "      <td>0.005566</td>\n",
       "      <td>-0.023185</td>\n",
       "      <td>-0.053126</td>\n",
       "      <td>0.033858</td>\n",
       "      <td>-0.023757</td>\n",
       "      <td>-0.014453</td>\n",
       "      <td>0.007992</td>\n",
       "      <td>0.017826</td>\n",
       "      <td>...</td>\n",
       "      <td>-0.015866</td>\n",
       "      <td>-0.009298</td>\n",
       "      <td>-0.032220</td>\n",
       "      <td>-0.010490</td>\n",
       "      <td>0.004321</td>\n",
       "      <td>-0.033006</td>\n",
       "      <td>-0.023620</td>\n",
       "      <td>0.016731</td>\n",
       "      <td>-0.022331</td>\n",
       "      <td>-0.015998</td>\n",
       "    </tr>\n",
       "    <tr>\n",
       "      <th>2</th>\n",
       "      <td>Produce</td>\n",
       "      <td>0.064584</td>\n",
       "      <td>0.002496</td>\n",
       "      <td>-0.011188</td>\n",
       "      <td>-0.012615</td>\n",
       "      <td>0.030300</td>\n",
       "      <td>0.005024</td>\n",
       "      <td>-0.016991</td>\n",
       "      <td>0.045369</td>\n",
       "      <td>-0.023226</td>\n",
       "      <td>...</td>\n",
       "      <td>-0.051416</td>\n",
       "      <td>-0.021503</td>\n",
       "      <td>-0.000338</td>\n",
       "      <td>-0.001392</td>\n",
       "      <td>0.015543</td>\n",
       "      <td>0.065568</td>\n",
       "      <td>-0.014487</td>\n",
       "      <td>0.009346</td>\n",
       "      <td>-0.026118</td>\n",
       "      <td>-0.021456</td>\n",
       "    </tr>\n",
       "    <tr>\n",
       "      <th>3</th>\n",
       "      <td>Produce</td>\n",
       "      <td>0.007646</td>\n",
       "      <td>0.017002</td>\n",
       "      <td>-0.032329</td>\n",
       "      <td>-0.008278</td>\n",
       "      <td>-0.005862</td>\n",
       "      <td>0.004103</td>\n",
       "      <td>-0.004070</td>\n",
       "      <td>0.058659</td>\n",
       "      <td>0.059897</td>\n",
       "      <td>...</td>\n",
       "      <td>-0.021869</td>\n",
       "      <td>-0.005231</td>\n",
       "      <td>0.022821</td>\n",
       "      <td>-0.039141</td>\n",
       "      <td>0.001739</td>\n",
       "      <td>0.050639</td>\n",
       "      <td>0.011290</td>\n",
       "      <td>-0.035887</td>\n",
       "      <td>-0.014058</td>\n",
       "      <td>-0.038552</td>\n",
       "    </tr>\n",
       "    <tr>\n",
       "      <th>4</th>\n",
       "      <td>Produce</td>\n",
       "      <td>0.023380</td>\n",
       "      <td>0.070649</td>\n",
       "      <td>-0.030624</td>\n",
       "      <td>-0.020164</td>\n",
       "      <td>0.012016</td>\n",
       "      <td>-0.025285</td>\n",
       "      <td>0.023886</td>\n",
       "      <td>0.039508</td>\n",
       "      <td>0.047931</td>\n",
       "      <td>...</td>\n",
       "      <td>-0.036294</td>\n",
       "      <td>-0.010979</td>\n",
       "      <td>-0.019659</td>\n",
       "      <td>-0.026347</td>\n",
       "      <td>-0.010648</td>\n",
       "      <td>0.019826</td>\n",
       "      <td>-0.008819</td>\n",
       "      <td>0.004444</td>\n",
       "      <td>-0.032169</td>\n",
       "      <td>-0.018519</td>\n",
       "    </tr>\n",
       "  </tbody>\n",
       "</table>\n",
       "<p>5 rows × 769 columns</p>\n",
       "</div>"
      ],
      "text/plain": [
       "  categories  embedding_0  embedding_1  embedding_2  embedding_3  embedding_4  \\\n",
       "0    Produce     0.000589     0.003567    -0.036941    -0.022206     0.002603   \n",
       "1    Produce     0.031964     0.005566    -0.023185    -0.053126     0.033858   \n",
       "2    Produce     0.064584     0.002496    -0.011188    -0.012615     0.030300   \n",
       "3    Produce     0.007646     0.017002    -0.032329    -0.008278    -0.005862   \n",
       "4    Produce     0.023380     0.070649    -0.030624    -0.020164     0.012016   \n",
       "\n",
       "   embedding_5  embedding_6  embedding_7  embedding_8  ...  embedding_758  \\\n",
       "0    -0.011552    -0.024489     0.017725     0.035810  ...      -0.060234   \n",
       "1    -0.023757    -0.014453     0.007992     0.017826  ...      -0.015866   \n",
       "2     0.005024    -0.016991     0.045369    -0.023226  ...      -0.051416   \n",
       "3     0.004103    -0.004070     0.058659     0.059897  ...      -0.021869   \n",
       "4    -0.025285     0.023886     0.039508     0.047931  ...      -0.036294   \n",
       "\n",
       "   embedding_759  embedding_760  embedding_761  embedding_762  embedding_763  \\\n",
       "0       0.005869       0.038782      -0.017440      -0.002367       0.029283   \n",
       "1      -0.009298      -0.032220      -0.010490       0.004321      -0.033006   \n",
       "2      -0.021503      -0.000338      -0.001392       0.015543       0.065568   \n",
       "3      -0.005231       0.022821      -0.039141       0.001739       0.050639   \n",
       "4      -0.010979      -0.019659      -0.026347      -0.010648       0.019826   \n",
       "\n",
       "   embedding_764  embedding_765  embedding_766  embedding_767  \n",
       "0       0.004650       0.016896       0.004629      -0.008035  \n",
       "1      -0.023620       0.016731      -0.022331      -0.015998  \n",
       "2      -0.014487       0.009346      -0.026118      -0.021456  \n",
       "3       0.011290      -0.035887      -0.014058      -0.038552  \n",
       "4      -0.008819       0.004444      -0.032169      -0.018519  \n",
       "\n",
       "[5 rows x 769 columns]"
      ]
     },
     "execution_count": 23,
     "metadata": {},
     "output_type": "execute_result"
    }
   ],
   "source": [
    "df_prod_category_items = []\n",
    "d = {'categories':[]}\n",
    "\n",
    "# Each category.\n",
    "for category in prod_category_training_embeddings:\n",
    "    # Each item in the category.\n",
    "    for item in prod_category_training_embeddings[category]:\n",
    "        df_prod_category_items.append(category)\n",
    "\n",
    "        # Each embedding in an item.\n",
    "        for i in range(len(item)):\n",
    "            embedding = item[i]\n",
    "\n",
    "            if f'embedding_{i}' in d:\n",
    "                d[f'embedding_{i}'].append(embedding)\n",
    "            else:\n",
    "                d[f'embedding_{i}'] = []\n",
    "                d[f'embedding_{i}'].append(embedding)\n",
    "\n",
    "d['categories'] = df_prod_category_items\n",
    "    \n",
    "# Training and Testing data.\n",
    "prod_category_data = pd.DataFrame(d)\n",
    "\n",
    "prod_category_data.head()"
   ]
  },
  {
   "cell_type": "code",
   "execution_count": 24,
   "id": "0d4578a3",
   "metadata": {},
   "outputs": [
    {
     "data": {
      "text/html": [
       "<div>\n",
       "<style scoped>\n",
       "    .dataframe tbody tr th:only-of-type {\n",
       "        vertical-align: middle;\n",
       "    }\n",
       "\n",
       "    .dataframe tbody tr th {\n",
       "        vertical-align: top;\n",
       "    }\n",
       "\n",
       "    .dataframe thead th {\n",
       "        text-align: right;\n",
       "    }\n",
       "</style>\n",
       "<table border=\"1\" class=\"dataframe\">\n",
       "  <thead>\n",
       "    <tr style=\"text-align: right;\">\n",
       "      <th></th>\n",
       "      <th>categories</th>\n",
       "      <th>embedding_0</th>\n",
       "      <th>embedding_1</th>\n",
       "      <th>embedding_2</th>\n",
       "      <th>embedding_3</th>\n",
       "      <th>embedding_4</th>\n",
       "      <th>embedding_5</th>\n",
       "      <th>embedding_6</th>\n",
       "      <th>embedding_7</th>\n",
       "      <th>embedding_8</th>\n",
       "      <th>...</th>\n",
       "      <th>embedding_758</th>\n",
       "      <th>embedding_759</th>\n",
       "      <th>embedding_760</th>\n",
       "      <th>embedding_761</th>\n",
       "      <th>embedding_762</th>\n",
       "      <th>embedding_763</th>\n",
       "      <th>embedding_764</th>\n",
       "      <th>embedding_765</th>\n",
       "      <th>embedding_766</th>\n",
       "      <th>embedding_767</th>\n",
       "    </tr>\n",
       "  </thead>\n",
       "  <tbody>\n",
       "    <tr>\n",
       "      <th>546</th>\n",
       "      <td>Appliances</td>\n",
       "      <td>-0.014820</td>\n",
       "      <td>-0.036915</td>\n",
       "      <td>0.002851</td>\n",
       "      <td>-0.013109</td>\n",
       "      <td>-0.038645</td>\n",
       "      <td>-0.007867</td>\n",
       "      <td>0.018192</td>\n",
       "      <td>-0.001217</td>\n",
       "      <td>-0.018723</td>\n",
       "      <td>...</td>\n",
       "      <td>0.019588</td>\n",
       "      <td>0.003153</td>\n",
       "      <td>0.031060</td>\n",
       "      <td>-0.037162</td>\n",
       "      <td>0.006598</td>\n",
       "      <td>-0.041273</td>\n",
       "      <td>0.003178</td>\n",
       "      <td>-0.026951</td>\n",
       "      <td>-0.026963</td>\n",
       "      <td>-0.031625</td>\n",
       "    </tr>\n",
       "    <tr>\n",
       "      <th>229</th>\n",
       "      <td>Accessories</td>\n",
       "      <td>0.061305</td>\n",
       "      <td>0.035833</td>\n",
       "      <td>-0.004822</td>\n",
       "      <td>-0.013192</td>\n",
       "      <td>-0.055907</td>\n",
       "      <td>-0.004951</td>\n",
       "      <td>0.049831</td>\n",
       "      <td>0.018076</td>\n",
       "      <td>-0.011976</td>\n",
       "      <td>...</td>\n",
       "      <td>-0.072704</td>\n",
       "      <td>-0.022852</td>\n",
       "      <td>0.043539</td>\n",
       "      <td>0.028617</td>\n",
       "      <td>-0.011625</td>\n",
       "      <td>-0.020993</td>\n",
       "      <td>-0.010403</td>\n",
       "      <td>0.061812</td>\n",
       "      <td>0.000774</td>\n",
       "      <td>-0.016397</td>\n",
       "    </tr>\n",
       "    <tr>\n",
       "      <th>407</th>\n",
       "      <td>Shower Products</td>\n",
       "      <td>0.044685</td>\n",
       "      <td>0.048695</td>\n",
       "      <td>-0.036741</td>\n",
       "      <td>0.005946</td>\n",
       "      <td>-0.030826</td>\n",
       "      <td>0.004597</td>\n",
       "      <td>-0.034840</td>\n",
       "      <td>0.044643</td>\n",
       "      <td>-0.045778</td>\n",
       "      <td>...</td>\n",
       "      <td>-0.000634</td>\n",
       "      <td>-0.051535</td>\n",
       "      <td>0.003246</td>\n",
       "      <td>0.022657</td>\n",
       "      <td>-0.023802</td>\n",
       "      <td>0.071483</td>\n",
       "      <td>-0.032548</td>\n",
       "      <td>0.011564</td>\n",
       "      <td>-0.031895</td>\n",
       "      <td>-0.030325</td>\n",
       "    </tr>\n",
       "    <tr>\n",
       "      <th>142</th>\n",
       "      <td>Fast Food</td>\n",
       "      <td>0.016283</td>\n",
       "      <td>-0.059819</td>\n",
       "      <td>-0.012262</td>\n",
       "      <td>-0.096197</td>\n",
       "      <td>-0.001285</td>\n",
       "      <td>0.019693</td>\n",
       "      <td>-0.049744</td>\n",
       "      <td>0.029596</td>\n",
       "      <td>-0.046339</td>\n",
       "      <td>...</td>\n",
       "      <td>-0.026652</td>\n",
       "      <td>-0.012571</td>\n",
       "      <td>-0.041016</td>\n",
       "      <td>-0.043531</td>\n",
       "      <td>-0.001416</td>\n",
       "      <td>0.072546</td>\n",
       "      <td>-0.024734</td>\n",
       "      <td>0.017423</td>\n",
       "      <td>-0.010099</td>\n",
       "      <td>-0.003626</td>\n",
       "    </tr>\n",
       "    <tr>\n",
       "      <th>96</th>\n",
       "      <td>Dairy</td>\n",
       "      <td>0.011011</td>\n",
       "      <td>0.033637</td>\n",
       "      <td>0.013341</td>\n",
       "      <td>0.052959</td>\n",
       "      <td>-0.030887</td>\n",
       "      <td>0.017734</td>\n",
       "      <td>-0.011875</td>\n",
       "      <td>-0.005667</td>\n",
       "      <td>0.046472</td>\n",
       "      <td>...</td>\n",
       "      <td>-0.037827</td>\n",
       "      <td>0.008227</td>\n",
       "      <td>-0.019058</td>\n",
       "      <td>0.002866</td>\n",
       "      <td>-0.015636</td>\n",
       "      <td>-0.003175</td>\n",
       "      <td>-0.025325</td>\n",
       "      <td>-0.024956</td>\n",
       "      <td>-0.007820</td>\n",
       "      <td>-0.058354</td>\n",
       "    </tr>\n",
       "  </tbody>\n",
       "</table>\n",
       "<p>5 rows × 769 columns</p>\n",
       "</div>"
      ],
      "text/plain": [
       "          categories  embedding_0  embedding_1  embedding_2  embedding_3  \\\n",
       "546       Appliances    -0.014820    -0.036915     0.002851    -0.013109   \n",
       "229      Accessories     0.061305     0.035833    -0.004822    -0.013192   \n",
       "407  Shower Products     0.044685     0.048695    -0.036741     0.005946   \n",
       "142        Fast Food     0.016283    -0.059819    -0.012262    -0.096197   \n",
       "96             Dairy     0.011011     0.033637     0.013341     0.052959   \n",
       "\n",
       "     embedding_4  embedding_5  embedding_6  embedding_7  embedding_8  ...  \\\n",
       "546    -0.038645    -0.007867     0.018192    -0.001217    -0.018723  ...   \n",
       "229    -0.055907    -0.004951     0.049831     0.018076    -0.011976  ...   \n",
       "407    -0.030826     0.004597    -0.034840     0.044643    -0.045778  ...   \n",
       "142    -0.001285     0.019693    -0.049744     0.029596    -0.046339  ...   \n",
       "96     -0.030887     0.017734    -0.011875    -0.005667     0.046472  ...   \n",
       "\n",
       "     embedding_758  embedding_759  embedding_760  embedding_761  \\\n",
       "546       0.019588       0.003153       0.031060      -0.037162   \n",
       "229      -0.072704      -0.022852       0.043539       0.028617   \n",
       "407      -0.000634      -0.051535       0.003246       0.022657   \n",
       "142      -0.026652      -0.012571      -0.041016      -0.043531   \n",
       "96       -0.037827       0.008227      -0.019058       0.002866   \n",
       "\n",
       "     embedding_762  embedding_763  embedding_764  embedding_765  \\\n",
       "546       0.006598      -0.041273       0.003178      -0.026951   \n",
       "229      -0.011625      -0.020993      -0.010403       0.061812   \n",
       "407      -0.023802       0.071483      -0.032548       0.011564   \n",
       "142      -0.001416       0.072546      -0.024734       0.017423   \n",
       "96       -0.015636      -0.003175      -0.025325      -0.024956   \n",
       "\n",
       "     embedding_766  embedding_767  \n",
       "546      -0.026963      -0.031625  \n",
       "229       0.000774      -0.016397  \n",
       "407      -0.031895      -0.030325  \n",
       "142      -0.010099      -0.003626  \n",
       "96       -0.007820      -0.058354  \n",
       "\n",
       "[5 rows x 769 columns]"
      ]
     },
     "execution_count": 24,
     "metadata": {},
     "output_type": "execute_result"
    }
   ],
   "source": [
    "# Randomly shuffles the rows.\n",
    "shuffled_data = prod_category_data.sample(frac=1)\n",
    "\n",
    "total_rows = shuffled_data.shape[0]\n",
    "train_size = int(total_rows*0.8)\n",
    " \n",
    "# Split data into test and train\n",
    "train = shuffled_data[0:train_size]\n",
    "test = shuffled_data[train_size:]\n",
    "\n",
    "train.head()"
   ]
  },
  {
   "cell_type": "code",
   "execution_count": 25,
   "id": "ddc78e77",
   "metadata": {},
   "outputs": [],
   "source": [
    "# X is the embeddings and Y is the product categories.\n",
    "\n",
    "y_train = train['categories']\n",
    "x_train = train.loc[:, train.columns != 'categories']\n",
    "\n",
    "y_test = test['categories']\n",
    "x_test = test.loc[:, test.columns != 'categories']"
   ]
  },
  {
   "cell_type": "code",
   "execution_count": 26,
   "id": "47540213",
   "metadata": {},
   "outputs": [
    {
     "data": {
      "text/plain": [
       "7"
      ]
     },
     "execution_count": 26,
     "metadata": {},
     "output_type": "execute_result"
    }
   ],
   "source": [
    "knn = KNeighborsClassifier()\n",
    "\n",
    "# Create a dictionary of all values we want to test for n_neighbors.\n",
    "param_grid = {'n_neighbors': np.arange(1, 25)}\n",
    "\n",
    "# Uses gridsearch to test all values for n_neighbors.\n",
    "knn_grid_search = GridSearchCV(knn, param_grid, cv=5)\n",
    "\n",
    "# Fit model to data.\n",
    "knn_grid_search.fit(x_train, y_train)\n",
    "\n",
    "# Gets the n_neighbors value which warrants the highest accuracy.\n",
    "best_n_neighbors=knn_grid_search.best_params_['n_neighbors']\n",
    "best_n_neighbors"
   ]
  },
  {
   "cell_type": "code",
   "execution_count": 27,
   "id": "5aa249e8",
   "metadata": {},
   "outputs": [
    {
     "data": {
      "text/html": [
       "<style>#sk-container-id-2 {color: black;}#sk-container-id-2 pre{padding: 0;}#sk-container-id-2 div.sk-toggleable {background-color: white;}#sk-container-id-2 label.sk-toggleable__label {cursor: pointer;display: block;width: 100%;margin-bottom: 0;padding: 0.3em;box-sizing: border-box;text-align: center;}#sk-container-id-2 label.sk-toggleable__label-arrow:before {content: \"▸\";float: left;margin-right: 0.25em;color: #696969;}#sk-container-id-2 label.sk-toggleable__label-arrow:hover:before {color: black;}#sk-container-id-2 div.sk-estimator:hover label.sk-toggleable__label-arrow:before {color: black;}#sk-container-id-2 div.sk-toggleable__content {max-height: 0;max-width: 0;overflow: hidden;text-align: left;background-color: #f0f8ff;}#sk-container-id-2 div.sk-toggleable__content pre {margin: 0.2em;color: black;border-radius: 0.25em;background-color: #f0f8ff;}#sk-container-id-2 input.sk-toggleable__control:checked~div.sk-toggleable__content {max-height: 200px;max-width: 100%;overflow: auto;}#sk-container-id-2 input.sk-toggleable__control:checked~label.sk-toggleable__label-arrow:before {content: \"▾\";}#sk-container-id-2 div.sk-estimator input.sk-toggleable__control:checked~label.sk-toggleable__label {background-color: #d4ebff;}#sk-container-id-2 div.sk-label input.sk-toggleable__control:checked~label.sk-toggleable__label {background-color: #d4ebff;}#sk-container-id-2 input.sk-hidden--visually {border: 0;clip: rect(1px 1px 1px 1px);clip: rect(1px, 1px, 1px, 1px);height: 1px;margin: -1px;overflow: hidden;padding: 0;position: absolute;width: 1px;}#sk-container-id-2 div.sk-estimator {font-family: monospace;background-color: #f0f8ff;border: 1px dotted black;border-radius: 0.25em;box-sizing: border-box;margin-bottom: 0.5em;}#sk-container-id-2 div.sk-estimator:hover {background-color: #d4ebff;}#sk-container-id-2 div.sk-parallel-item::after {content: \"\";width: 100%;border-bottom: 1px solid gray;flex-grow: 1;}#sk-container-id-2 div.sk-label:hover label.sk-toggleable__label {background-color: #d4ebff;}#sk-container-id-2 div.sk-serial::before {content: \"\";position: absolute;border-left: 1px solid gray;box-sizing: border-box;top: 0;bottom: 0;left: 50%;z-index: 0;}#sk-container-id-2 div.sk-serial {display: flex;flex-direction: column;align-items: center;background-color: white;padding-right: 0.2em;padding-left: 0.2em;position: relative;}#sk-container-id-2 div.sk-item {position: relative;z-index: 1;}#sk-container-id-2 div.sk-parallel {display: flex;align-items: stretch;justify-content: center;background-color: white;position: relative;}#sk-container-id-2 div.sk-item::before, #sk-container-id-2 div.sk-parallel-item::before {content: \"\";position: absolute;border-left: 1px solid gray;box-sizing: border-box;top: 0;bottom: 0;left: 50%;z-index: -1;}#sk-container-id-2 div.sk-parallel-item {display: flex;flex-direction: column;z-index: 1;position: relative;background-color: white;}#sk-container-id-2 div.sk-parallel-item:first-child::after {align-self: flex-end;width: 50%;}#sk-container-id-2 div.sk-parallel-item:last-child::after {align-self: flex-start;width: 50%;}#sk-container-id-2 div.sk-parallel-item:only-child::after {width: 0;}#sk-container-id-2 div.sk-dashed-wrapped {border: 1px dashed gray;margin: 0 0.4em 0.5em 0.4em;box-sizing: border-box;padding-bottom: 0.4em;background-color: white;}#sk-container-id-2 div.sk-label label {font-family: monospace;font-weight: bold;display: inline-block;line-height: 1.2em;}#sk-container-id-2 div.sk-label-container {text-align: center;}#sk-container-id-2 div.sk-container {/* jupyter's `normalize.less` sets `[hidden] { display: none; }` but bootstrap.min.css set `[hidden] { display: none !important; }` so we also need the `!important` here to be able to override the default hidden behavior on the sphinx rendered scikit-learn.org. See: https://github.com/scikit-learn/scikit-learn/issues/21755 */display: inline-block !important;position: relative;}#sk-container-id-2 div.sk-text-repr-fallback {display: none;}</style><div id=\"sk-container-id-2\" class=\"sk-top-container\"><div class=\"sk-text-repr-fallback\"><pre>KNeighborsClassifier(n_neighbors=7)</pre><b>In a Jupyter environment, please rerun this cell to show the HTML representation or trust the notebook. <br />On GitHub, the HTML representation is unable to render, please try loading this page with nbviewer.org.</b></div><div class=\"sk-container\" hidden><div class=\"sk-item\"><div class=\"sk-estimator sk-toggleable\"><input class=\"sk-toggleable__control sk-hidden--visually\" id=\"sk-estimator-id-2\" type=\"checkbox\" checked><label for=\"sk-estimator-id-2\" class=\"sk-toggleable__label sk-toggleable__label-arrow\">KNeighborsClassifier</label><div class=\"sk-toggleable__content\"><pre>KNeighborsClassifier(n_neighbors=7)</pre></div></div></div></div></div>"
      ],
      "text/plain": [
       "KNeighborsClassifier(n_neighbors=7)"
      ]
     },
     "execution_count": 27,
     "metadata": {},
     "output_type": "execute_result"
    }
   ],
   "source": [
    "# Trains the KNN model with the best n_neighbors value.\n",
    "knn_cls_prod = KNeighborsClassifier(n_neighbors=best_n_neighbors)\n",
    "knn_cls_prod.fit(x_train.values, y_train.values)"
   ]
  },
  {
   "cell_type": "code",
   "execution_count": 28,
   "id": "bd248879",
   "metadata": {},
   "outputs": [
    {
     "data": {
      "text/plain": [
       "array([[ 6,  0,  1,  2,  0,  0,  0,  0,  0,  0,  0,  0,  0,  0],\n",
       "       [ 0,  8,  0,  0,  0,  0,  0,  0,  0,  0,  0,  0,  0,  0],\n",
       "       [ 0,  3,  7,  0,  0,  0,  0,  0,  0,  0,  0,  6,  0,  0],\n",
       "       [ 2,  0,  0, 11,  0,  0,  0,  0,  0,  0,  0,  0,  0,  0],\n",
       "       [ 0,  0,  0,  0,  3,  0,  0,  0,  0,  0,  1,  0,  0,  0],\n",
       "       [ 0,  0,  0,  0,  0,  5,  0,  0,  1,  1,  0,  0,  0,  1],\n",
       "       [ 0,  0,  0,  0,  3,  0,  8,  0,  0,  0,  0,  0,  0,  0],\n",
       "       [ 0,  1,  0,  0,  1,  0,  2, 13,  0,  0,  0,  0,  1,  0],\n",
       "       [ 0,  0,  0,  0,  0,  1,  0,  0,  7,  0,  0,  0,  0,  0],\n",
       "       [ 0,  0,  0,  0,  0,  0,  0,  0,  0,  8,  0,  0,  0,  0],\n",
       "       [ 0,  0,  0,  0,  0,  0,  0,  0,  0,  0,  9,  0,  0,  0],\n",
       "       [ 1,  0,  4,  0,  0,  0,  0,  0,  0,  0,  0,  8,  0,  0],\n",
       "       [ 0,  0,  0,  0,  0,  0,  0,  0,  0,  0,  0,  0,  5,  1],\n",
       "       [ 1,  0,  0,  0,  0,  0,  0,  0,  0,  0,  0,  0,  0,  6]])"
      ]
     },
     "execution_count": 28,
     "metadata": {},
     "output_type": "execute_result"
    }
   ],
   "source": [
    "from sklearn.metrics import confusion_matrix\n",
    "\n",
    "# Gets the predications for the test dataset.\n",
    "y_test_pred = knn_cls_prod.predict(x_test.values)\n",
    "\n",
    "# Gets a confusion matrix for error analysis.\n",
    "conf_matrix = confusion_matrix(y_test, y_test_pred)\n",
    "conf_matrix"
   ]
  },
  {
   "cell_type": "code",
   "execution_count": 29,
   "id": "d188c487",
   "metadata": {},
   "outputs": [
    {
     "name": "stdout",
     "output_type": "stream",
     "text": [
      "Accuracy: 0.7536231884057971\n",
      "Precision: 0.7536231884057971. This high ratio assumes most postives were true positives since precision = tp / (tp + fp).\n",
      "Recall: 0.7536231884057971. This high ratio means there were not too many false negatives since recalle = tp / (tp + fn).\n"
     ]
    }
   ],
   "source": [
    "# Gets precision, recall, and f1 score from the test data.\n",
    "accuracy = accuracy_score(y_test, y_test_pred)\n",
    "precision = precision_score(y_test, y_test_pred, average='micro')\n",
    "recall = recall_score(y_test, y_test_pred, average='micro')\n",
    "# f1 = f1_score(y_test, y_test_pred, average='micro')\n",
    "print(f'Accuracy: {accuracy}')\n",
    "print(f'Precision: {precision}. This high ratio assumes most postives were true positives since precision = tp / (tp + fp).')\n",
    "print(f'Recall: {recall}. This high ratio means there were not too many false negatives since recalle = tp / (tp + fn).')\n",
    "# print(f'F1 Score: {f1}. This high score means the model is relatively good at classifiying.')"
   ]
  },
  {
   "cell_type": "code",
   "execution_count": 30,
   "id": "98f821f8",
   "metadata": {},
   "outputs": [
    {
     "data": {
      "image/png": "[encoded data removed]",
      "text/plain": [
       "<Figure size 640x480 with 2 Axes>"
      ]
     },
     "metadata": {},
     "output_type": "display_data"
    }
   ],
   "source": [
    "# Plots the confusion matrix to better visualize.\n",
    "# Generally, the test data was classified correctly given the lighter colors in the diagonal.\n",
    "# However some misclassifications.\n",
    "fig = plt.figure()\n",
    "ax = fig.add_subplot(111)\n",
    "plot = ax.matshow(conf_matrix, cmap=plt.cm.gray)\n",
    "fig.colorbar(plot)\n",
    "ax.set_xlabel('Predicted Categories')\n",
    "ax.set_ylabel('Actual Categories')\n",
    "ax.set_title('Confusion Matrix of Predicted vs Actual Classifications of Testing Data')\n",
    "\n",
    "plt.show()"
   ]
  },
  {
   "cell_type": "code",
   "execution_count": 31,
   "id": "2121a8b3",
   "metadata": {},
   "outputs": [],
   "source": [
    "test_items = [\"Happy Meal Ch Burger\", \"MARINARA SCE\", \"HT VEGE DUMPLING\"]\n",
    "\n",
    "def compute_item_embeddings(item):\n",
    "    embeddings_model = HuggingFaceEmbeddings()\n",
    "    item_name = item['description']\n",
    "    item_embeddings_obj = {}\n",
    "    \n",
    "    if item_name != \"\":\n",
    "        # Gets embeddings for the item.\n",
    "        item_embeddings = embeddings_model.embed_documents(item_name)[0]\n",
    "\n",
    "        for i in range(len(item_embeddings)):\n",
    "            if f'embeddings_{i}' in item_embeddings_obj:\n",
    "                item_embeddings_obj[f'embeddings_{i}'].append(item_embeddings[i])\n",
    "            else:\n",
    "                item_embeddings_obj[f'embeddings_{i}'] = []\n",
    "                item_embeddings_obj[f'embeddings_{i}'].append(item_embeddings[i])\n",
    "\n",
    "    return item_embeddings_obj"
   ]
  },
  {
   "cell_type": "code",
   "execution_count": 32,
   "id": "409a084c",
   "metadata": {},
   "outputs": [
    {
     "name": "stderr",
     "output_type": "stream",
     "text": [
      "2023-12-13 11:48:55 sentence_transformers.SentenceTransformer INFO: Load pretrained SentenceTransformer: sentence-transformers/all-mpnet-base-v2\n",
      "2023-12-13 11:48:56 sentence_transformers.SentenceTransformer INFO: Use pytorch device: cpu\n"
     ]
    },
    {
     "data": {
      "application/vnd.jupyter.widget-view+json": {
       "model_id": "12f9130d8a3d43b383e024448ce356d6",
       "version_major": 2,
       "version_minor": 0
      },
      "text/plain": [
       "Batches:   0%|          | 0/1 [00:00<?, ?it/s]"
      ]
     },
     "metadata": {},
     "output_type": "display_data"
    },
    {
     "name": "stderr",
     "output_type": "stream",
     "text": [
      "2023-12-13 11:48:56 sentence_transformers.SentenceTransformer INFO: Load pretrained SentenceTransformer: sentence-transformers/all-mpnet-base-v2\n",
      "2023-12-13 11:48:57 sentence_transformers.SentenceTransformer INFO: Use pytorch device: cpu\n"
     ]
    },
    {
     "data": {
      "application/vnd.jupyter.widget-view+json": {
       "model_id": "6284a1f5e03b49718f95635dc06b1b88",
       "version_major": 2,
       "version_minor": 0
      },
      "text/plain": [
       "Batches:   0%|          | 0/2 [00:00<?, ?it/s]"
      ]
     },
     "metadata": {},
     "output_type": "display_data"
    },
    {
     "name": "stderr",
     "output_type": "stream",
     "text": [
      "2023-12-13 11:48:57 sentence_transformers.SentenceTransformer INFO: Load pretrained SentenceTransformer: sentence-transformers/all-mpnet-base-v2\n",
      "2023-12-13 11:48:58 sentence_transformers.SentenceTransformer INFO: Use pytorch device: cpu\n"
     ]
    },
    {
     "data": {
      "application/vnd.jupyter.widget-view+json": {
       "model_id": "38ad69953ec74565b35057d657e6da27",
       "version_major": 2,
       "version_minor": 0
      },
      "text/plain": [
       "Batches:   0%|          | 0/1 [00:00<?, ?it/s]"
      ]
     },
     "metadata": {},
     "output_type": "display_data"
    },
    {
     "name": "stderr",
     "output_type": "stream",
     "text": [
      "2023-12-13 11:48:58 sentence_transformers.SentenceTransformer INFO: Load pretrained SentenceTransformer: sentence-transformers/all-mpnet-base-v2\n",
      "2023-12-13 11:48:59 sentence_transformers.SentenceTransformer INFO: Use pytorch device: cpu\n"
     ]
    },
    {
     "data": {
      "application/vnd.jupyter.widget-view+json": {
       "model_id": "6a72d6378be6436597654bd28071301f",
       "version_major": 2,
       "version_minor": 0
      },
      "text/plain": [
       "Batches:   0%|          | 0/2 [00:00<?, ?it/s]"
      ]
     },
     "metadata": {},
     "output_type": "display_data"
    },
    {
     "name": "stderr",
     "output_type": "stream",
     "text": [
      "2023-12-13 11:48:59 sentence_transformers.SentenceTransformer INFO: Load pretrained SentenceTransformer: sentence-transformers/all-mpnet-base-v2\n",
      "2023-12-13 11:49:00 sentence_transformers.SentenceTransformer INFO: Use pytorch device: cpu\n"
     ]
    },
    {
     "data": {
      "application/vnd.jupyter.widget-view+json": {
       "model_id": "5d9e538db9bc40cab2446d38786f308f",
       "version_major": 2,
       "version_minor": 0
      },
      "text/plain": [
       "Batches:   0%|          | 0/1 [00:00<?, ?it/s]"
      ]
     },
     "metadata": {},
     "output_type": "display_data"
    },
    {
     "name": "stderr",
     "output_type": "stream",
     "text": [
      "2023-12-13 11:49:00 sentence_transformers.SentenceTransformer INFO: Load pretrained SentenceTransformer: sentence-transformers/all-mpnet-base-v2\n",
      "2023-12-13 11:49:01 sentence_transformers.SentenceTransformer INFO: Use pytorch device: cpu\n"
     ]
    },
    {
     "data": {
      "application/vnd.jupyter.widget-view+json": {
       "model_id": "ee5d133b761549518c017f7e2f8193a7",
       "version_major": 2,
       "version_minor": 0
      },
      "text/plain": [
       "Batches:   0%|          | 0/1 [00:00<?, ?it/s]"
      ]
     },
     "metadata": {},
     "output_type": "display_data"
    },
    {
     "name": "stderr",
     "output_type": "stream",
     "text": [
      "2023-12-13 11:49:01 sentence_transformers.SentenceTransformer INFO: Load pretrained SentenceTransformer: sentence-transformers/all-mpnet-base-v2\n",
      "2023-12-13 11:49:01 sentence_transformers.SentenceTransformer INFO: Use pytorch device: cpu\n"
     ]
    },
    {
     "data": {
      "application/vnd.jupyter.widget-view+json": {
       "model_id": "96b6ccfaf1bc43309092d898c0e6e563",
       "version_major": 2,
       "version_minor": 0
      },
      "text/plain": [
       "Batches:   0%|          | 0/1 [00:00<?, ?it/s]"
      ]
     },
     "metadata": {},
     "output_type": "display_data"
    },
    {
     "name": "stderr",
     "output_type": "stream",
     "text": [
      "2023-12-13 11:49:02 sentence_transformers.SentenceTransformer INFO: Load pretrained SentenceTransformer: sentence-transformers/all-mpnet-base-v2\n",
      "2023-12-13 11:49:02 sentence_transformers.SentenceTransformer INFO: Use pytorch device: cpu\n"
     ]
    },
    {
     "data": {
      "application/vnd.jupyter.widget-view+json": {
       "model_id": "9c63658eafa042a9a7645bdb40d58b04",
       "version_major": 2,
       "version_minor": 0
      },
      "text/plain": [
       "Batches:   0%|          | 0/1 [00:00<?, ?it/s]"
      ]
     },
     "metadata": {},
     "output_type": "display_data"
    },
    {
     "name": "stderr",
     "output_type": "stream",
     "text": [
      "2023-12-13 11:49:02 sentence_transformers.SentenceTransformer INFO: Load pretrained SentenceTransformer: sentence-transformers/all-mpnet-base-v2\n",
      "2023-12-13 11:49:03 sentence_transformers.SentenceTransformer INFO: Use pytorch device: cpu\n"
     ]
    },
    {
     "data": {
      "application/vnd.jupyter.widget-view+json": {
       "model_id": "87cdd2dcd98f4100963296f008751835",
       "version_major": 2,
       "version_minor": 0
      },
      "text/plain": [
       "Batches:   0%|          | 0/1 [00:00<?, ?it/s]"
      ]
     },
     "metadata": {},
     "output_type": "display_data"
    },
    {
     "name": "stderr",
     "output_type": "stream",
     "text": [
      "2023-12-13 11:49:03 sentence_transformers.SentenceTransformer INFO: Load pretrained SentenceTransformer: sentence-transformers/all-mpnet-base-v2\n",
      "2023-12-13 11:49:04 sentence_transformers.SentenceTransformer INFO: Use pytorch device: cpu\n"
     ]
    },
    {
     "data": {
      "application/vnd.jupyter.widget-view+json": {
       "model_id": "feaed57adea54d68be3a88f5c8713c81",
       "version_major": 2,
       "version_minor": 0
      },
      "text/plain": [
       "Batches:   0%|          | 0/1 [00:00<?, ?it/s]"
      ]
     },
     "metadata": {},
     "output_type": "display_data"
    },
    {
     "name": "stderr",
     "output_type": "stream",
     "text": [
      "2023-12-13 11:49:04 sentence_transformers.SentenceTransformer INFO: Load pretrained SentenceTransformer: sentence-transformers/all-mpnet-base-v2\n",
      "2023-12-13 11:49:05 sentence_transformers.SentenceTransformer INFO: Use pytorch device: cpu\n"
     ]
    },
    {
     "data": {
      "application/vnd.jupyter.widget-view+json": {
       "model_id": "f91b7932092343c8a3d9637e257b0852",
       "version_major": 2,
       "version_minor": 0
      },
      "text/plain": [
       "Batches:   0%|          | 0/1 [00:00<?, ?it/s]"
      ]
     },
     "metadata": {},
     "output_type": "display_data"
    },
    {
     "name": "stderr",
     "output_type": "stream",
     "text": [
      "2023-12-13 11:49:05 sentence_transformers.SentenceTransformer INFO: Load pretrained SentenceTransformer: sentence-transformers/all-mpnet-base-v2\n",
      "2023-12-13 11:49:06 sentence_transformers.SentenceTransformer INFO: Use pytorch device: cpu\n"
     ]
    },
    {
     "data": {
      "application/vnd.jupyter.widget-view+json": {
       "model_id": "b14493e074ec4d308a4319ecdd5135cd",
       "version_major": 2,
       "version_minor": 0
      },
      "text/plain": [
       "Batches:   0%|          | 0/1 [00:00<?, ?it/s]"
      ]
     },
     "metadata": {},
     "output_type": "display_data"
    },
    {
     "name": "stderr",
     "output_type": "stream",
     "text": [
      "2023-12-13 11:49:06 sentence_transformers.SentenceTransformer INFO: Load pretrained SentenceTransformer: sentence-transformers/all-mpnet-base-v2\n",
      "2023-12-13 11:49:06 sentence_transformers.SentenceTransformer INFO: Use pytorch device: cpu\n"
     ]
    },
    {
     "data": {
      "application/vnd.jupyter.widget-view+json": {
       "model_id": "0148008311604c09ad28c3f2aaff2a7e",
       "version_major": 2,
       "version_minor": 0
      },
      "text/plain": [
       "Batches:   0%|          | 0/1 [00:00<?, ?it/s]"
      ]
     },
     "metadata": {},
     "output_type": "display_data"
    },
    {
     "name": "stderr",
     "output_type": "stream",
     "text": [
      "2023-12-13 11:49:06 sentence_transformers.SentenceTransformer INFO: Load pretrained SentenceTransformer: sentence-transformers/all-mpnet-base-v2\n",
      "2023-12-13 11:49:07 sentence_transformers.SentenceTransformer INFO: Use pytorch device: cpu\n"
     ]
    },
    {
     "data": {
      "application/vnd.jupyter.widget-view+json": {
       "model_id": "30eb707d3d194f3b80c07d8d75a725ef",
       "version_major": 2,
       "version_minor": 0
      },
      "text/plain": [
       "Batches:   0%|          | 0/1 [00:00<?, ?it/s]"
      ]
     },
     "metadata": {},
     "output_type": "display_data"
    },
    {
     "name": "stderr",
     "output_type": "stream",
     "text": [
      "2023-12-13 11:49:07 sentence_transformers.SentenceTransformer INFO: Load pretrained SentenceTransformer: sentence-transformers/all-mpnet-base-v2\n",
      "2023-12-13 11:49:08 sentence_transformers.SentenceTransformer INFO: Use pytorch device: cpu\n"
     ]
    },
    {
     "data": {
      "application/vnd.jupyter.widget-view+json": {
       "model_id": "94cb134116df4a6b852fb43337757ee9",
       "version_major": 2,
       "version_minor": 0
      },
      "text/plain": [
       "Batches:   0%|          | 0/1 [00:00<?, ?it/s]"
      ]
     },
     "metadata": {},
     "output_type": "display_data"
    },
    {
     "name": "stderr",
     "output_type": "stream",
     "text": [
      "2023-12-13 11:49:08 sentence_transformers.SentenceTransformer INFO: Load pretrained SentenceTransformer: sentence-transformers/all-mpnet-base-v2\n",
      "2023-12-13 11:49:09 sentence_transformers.SentenceTransformer INFO: Use pytorch device: cpu\n"
     ]
    },
    {
     "data": {
      "application/vnd.jupyter.widget-view+json": {
       "model_id": "fa458c90b7654e7ba763a914d20d5f07",
       "version_major": 2,
       "version_minor": 0
      },
      "text/plain": [
       "Batches:   0%|          | 0/1 [00:00<?, ?it/s]"
      ]
     },
     "metadata": {},
     "output_type": "display_data"
    },
    {
     "name": "stderr",
     "output_type": "stream",
     "text": [
      "2023-12-13 11:49:09 sentence_transformers.SentenceTransformer INFO: Load pretrained SentenceTransformer: sentence-transformers/all-mpnet-base-v2\n",
      "2023-12-13 11:49:10 sentence_transformers.SentenceTransformer INFO: Use pytorch device: cpu\n"
     ]
    },
    {
     "data": {
      "application/vnd.jupyter.widget-view+json": {
       "model_id": "182ddfcd19d046f5962f861eca3acbcb",
       "version_major": 2,
       "version_minor": 0
      },
      "text/plain": [
       "Batches:   0%|          | 0/1 [00:00<?, ?it/s]"
      ]
     },
     "metadata": {},
     "output_type": "display_data"
    },
    {
     "name": "stderr",
     "output_type": "stream",
     "text": [
      "2023-12-13 11:49:10 sentence_transformers.SentenceTransformer INFO: Load pretrained SentenceTransformer: sentence-transformers/all-mpnet-base-v2\n",
      "2023-12-13 11:49:11 sentence_transformers.SentenceTransformer INFO: Use pytorch device: cpu\n"
     ]
    },
    {
     "data": {
      "application/vnd.jupyter.widget-view+json": {
       "model_id": "99beb10540214ae88a4694c2815ef134",
       "version_major": 2,
       "version_minor": 0
      },
      "text/plain": [
       "Batches:   0%|          | 0/1 [00:00<?, ?it/s]"
      ]
     },
     "metadata": {},
     "output_type": "display_data"
    },
    {
     "name": "stderr",
     "output_type": "stream",
     "text": [
      "2023-12-13 11:49:11 sentence_transformers.SentenceTransformer INFO: Load pretrained SentenceTransformer: sentence-transformers/all-mpnet-base-v2\n",
      "2023-12-13 11:49:11 sentence_transformers.SentenceTransformer INFO: Use pytorch device: cpu\n"
     ]
    },
    {
     "data": {
      "application/vnd.jupyter.widget-view+json": {
       "model_id": "3f225314972f4b6eaac5b5ed5189b9e7",
       "version_major": 2,
       "version_minor": 0
      },
      "text/plain": [
       "Batches:   0%|          | 0/1 [00:00<?, ?it/s]"
      ]
     },
     "metadata": {},
     "output_type": "display_data"
    },
    {
     "name": "stderr",
     "output_type": "stream",
     "text": [
      "2023-12-13 11:49:12 sentence_transformers.SentenceTransformer INFO: Load pretrained SentenceTransformer: sentence-transformers/all-mpnet-base-v2\n",
      "2023-12-13 11:49:12 sentence_transformers.SentenceTransformer INFO: Use pytorch device: cpu\n"
     ]
    },
    {
     "data": {
      "application/vnd.jupyter.widget-view+json": {
       "model_id": "8b603fe027654625ad6b598d67d26dee",
       "version_major": 2,
       "version_minor": 0
      },
      "text/plain": [
       "Batches:   0%|          | 0/1 [00:00<?, ?it/s]"
      ]
     },
     "metadata": {},
     "output_type": "display_data"
    },
    {
     "name": "stderr",
     "output_type": "stream",
     "text": [
      "2023-12-13 11:49:12 sentence_transformers.SentenceTransformer INFO: Load pretrained SentenceTransformer: sentence-transformers/all-mpnet-base-v2\n",
      "2023-12-13 11:49:13 sentence_transformers.SentenceTransformer INFO: Use pytorch device: cpu\n"
     ]
    },
    {
     "data": {
      "application/vnd.jupyter.widget-view+json": {
       "model_id": "f4985cfba5594b7989139db87ed1b436",
       "version_major": 2,
       "version_minor": 0
      },
      "text/plain": [
       "Batches:   0%|          | 0/1 [00:00<?, ?it/s]"
      ]
     },
     "metadata": {},
     "output_type": "display_data"
    },
    {
     "name": "stderr",
     "output_type": "stream",
     "text": [
      "2023-12-13 11:49:13 sentence_transformers.SentenceTransformer INFO: Load pretrained SentenceTransformer: sentence-transformers/all-mpnet-base-v2\n",
      "2023-12-13 11:49:14 sentence_transformers.SentenceTransformer INFO: Use pytorch device: cpu\n"
     ]
    },
    {
     "data": {
      "application/vnd.jupyter.widget-view+json": {
       "model_id": "69e3dba6be144e119e7b74c12cfa06d0",
       "version_major": 2,
       "version_minor": 0
      },
      "text/plain": [
       "Batches:   0%|          | 0/1 [00:00<?, ?it/s]"
      ]
     },
     "metadata": {},
     "output_type": "display_data"
    },
    {
     "name": "stderr",
     "output_type": "stream",
     "text": [
      "2023-12-13 11:49:14 sentence_transformers.SentenceTransformer INFO: Load pretrained SentenceTransformer: sentence-transformers/all-mpnet-base-v2\n",
      "2023-12-13 11:49:15 sentence_transformers.SentenceTransformer INFO: Use pytorch device: cpu\n"
     ]
    },
    {
     "data": {
      "application/vnd.jupyter.widget-view+json": {
       "model_id": "63ee32e5a98c4818b7555d7c78816726",
       "version_major": 2,
       "version_minor": 0
      },
      "text/plain": [
       "Batches:   0%|          | 0/1 [00:00<?, ?it/s]"
      ]
     },
     "metadata": {},
     "output_type": "display_data"
    },
    {
     "name": "stderr",
     "output_type": "stream",
     "text": [
      "2023-12-13 11:49:15 sentence_transformers.SentenceTransformer INFO: Load pretrained SentenceTransformer: sentence-transformers/all-mpnet-base-v2\n",
      "2023-12-13 11:49:16 sentence_transformers.SentenceTransformer INFO: Use pytorch device: cpu\n"
     ]
    },
    {
     "data": {
      "application/vnd.jupyter.widget-view+json": {
       "model_id": "aaaa36339b9f4b9bb49b54265f27ba17",
       "version_major": 2,
       "version_minor": 0
      },
      "text/plain": [
       "Batches:   0%|          | 0/1 [00:00<?, ?it/s]"
      ]
     },
     "metadata": {},
     "output_type": "display_data"
    },
    {
     "name": "stderr",
     "output_type": "stream",
     "text": [
      "2023-12-13 11:49:16 sentence_transformers.SentenceTransformer INFO: Load pretrained SentenceTransformer: sentence-transformers/all-mpnet-base-v2\n",
      "2023-12-13 11:49:16 sentence_transformers.SentenceTransformer INFO: Use pytorch device: cpu\n"
     ]
    },
    {
     "data": {
      "application/vnd.jupyter.widget-view+json": {
       "model_id": "3b18ad7a423d475ab938a5a07d013e94",
       "version_major": 2,
       "version_minor": 0
      },
      "text/plain": [
       "Batches:   0%|          | 0/1 [00:00<?, ?it/s]"
      ]
     },
     "metadata": {},
     "output_type": "display_data"
    },
    {
     "name": "stderr",
     "output_type": "stream",
     "text": [
      "2023-12-13 11:49:17 sentence_transformers.SentenceTransformer INFO: Load pretrained SentenceTransformer: sentence-transformers/all-mpnet-base-v2\n",
      "2023-12-13 11:49:17 sentence_transformers.SentenceTransformer INFO: Use pytorch device: cpu\n"
     ]
    },
    {
     "data": {
      "application/vnd.jupyter.widget-view+json": {
       "model_id": "e6bf749273394b06b1981d6339ee98b3",
       "version_major": 2,
       "version_minor": 0
      },
      "text/plain": [
       "Batches:   0%|          | 0/1 [00:00<?, ?it/s]"
      ]
     },
     "metadata": {},
     "output_type": "display_data"
    },
    {
     "name": "stderr",
     "output_type": "stream",
     "text": [
      "2023-12-13 11:49:17 sentence_transformers.SentenceTransformer INFO: Load pretrained SentenceTransformer: sentence-transformers/all-mpnet-base-v2\n",
      "2023-12-13 11:49:18 sentence_transformers.SentenceTransformer INFO: Use pytorch device: cpu\n"
     ]
    },
    {
     "data": {
      "application/vnd.jupyter.widget-view+json": {
       "model_id": "c98b1aa9b0784053b2db2798cc44396c",
       "version_major": 2,
       "version_minor": 0
      },
      "text/plain": [
       "Batches:   0%|          | 0/1 [00:00<?, ?it/s]"
      ]
     },
     "metadata": {},
     "output_type": "display_data"
    },
    {
     "name": "stderr",
     "output_type": "stream",
     "text": [
      "2023-12-13 11:49:18 sentence_transformers.SentenceTransformer INFO: Load pretrained SentenceTransformer: sentence-transformers/all-mpnet-base-v2\n",
      "2023-12-13 11:49:19 sentence_transformers.SentenceTransformer INFO: Use pytorch device: cpu\n"
     ]
    },
    {
     "data": {
      "application/vnd.jupyter.widget-view+json": {
       "model_id": "21062b5775624c38a54c47b2d94da36a",
       "version_major": 2,
       "version_minor": 0
      },
      "text/plain": [
       "Batches:   0%|          | 0/1 [00:00<?, ?it/s]"
      ]
     },
     "metadata": {},
     "output_type": "display_data"
    },
    {
     "name": "stderr",
     "output_type": "stream",
     "text": [
      "2023-12-13 11:49:19 sentence_transformers.SentenceTransformer INFO: Load pretrained SentenceTransformer: sentence-transformers/all-mpnet-base-v2\n",
      "2023-12-13 11:49:20 sentence_transformers.SentenceTransformer INFO: Use pytorch device: cpu\n"
     ]
    },
    {
     "data": {
      "application/vnd.jupyter.widget-view+json": {
       "model_id": "d0e967524d804f849f77286ffc88766c",
       "version_major": 2,
       "version_minor": 0
      },
      "text/plain": [
       "Batches:   0%|          | 0/1 [00:00<?, ?it/s]"
      ]
     },
     "metadata": {},
     "output_type": "display_data"
    },
    {
     "name": "stderr",
     "output_type": "stream",
     "text": [
      "2023-12-13 11:49:20 sentence_transformers.SentenceTransformer INFO: Load pretrained SentenceTransformer: sentence-transformers/all-mpnet-base-v2\n",
      "2023-12-13 11:49:21 sentence_transformers.SentenceTransformer INFO: Use pytorch device: cpu\n"
     ]
    },
    {
     "data": {
      "application/vnd.jupyter.widget-view+json": {
       "model_id": "04a48333884a4d708fe772ff810ce533",
       "version_major": 2,
       "version_minor": 0
      },
      "text/plain": [
       "Batches:   0%|          | 0/1 [00:00<?, ?it/s]"
      ]
     },
     "metadata": {},
     "output_type": "display_data"
    },
    {
     "name": "stderr",
     "output_type": "stream",
     "text": [
      "2023-12-13 11:49:21 sentence_transformers.SentenceTransformer INFO: Load pretrained SentenceTransformer: sentence-transformers/all-mpnet-base-v2\n",
      "2023-12-13 11:49:21 sentence_transformers.SentenceTransformer INFO: Use pytorch device: cpu\n"
     ]
    },
    {
     "data": {
      "application/vnd.jupyter.widget-view+json": {
       "model_id": "99a2bcd8a86544438fcf7b3ed3a2dcff",
       "version_major": 2,
       "version_minor": 0
      },
      "text/plain": [
       "Batches:   0%|          | 0/1 [00:00<?, ?it/s]"
      ]
     },
     "metadata": {},
     "output_type": "display_data"
    },
    {
     "name": "stderr",
     "output_type": "stream",
     "text": [
      "2023-12-13 11:49:22 sentence_transformers.SentenceTransformer INFO: Load pretrained SentenceTransformer: sentence-transformers/all-mpnet-base-v2\n",
      "2023-12-13 11:49:22 sentence_transformers.SentenceTransformer INFO: Use pytorch device: cpu\n"
     ]
    },
    {
     "data": {
      "application/vnd.jupyter.widget-view+json": {
       "model_id": "b2f86ce8e5d94a468c7341f71d94d9f2",
       "version_major": 2,
       "version_minor": 0
      },
      "text/plain": [
       "Batches:   0%|          | 0/1 [00:00<?, ?it/s]"
      ]
     },
     "metadata": {},
     "output_type": "display_data"
    },
    {
     "name": "stderr",
     "output_type": "stream",
     "text": [
      "2023-12-13 11:49:22 sentence_transformers.SentenceTransformer INFO: Load pretrained SentenceTransformer: sentence-transformers/all-mpnet-base-v2\n",
      "2023-12-13 11:49:23 sentence_transformers.SentenceTransformer INFO: Use pytorch device: cpu\n"
     ]
    },
    {
     "data": {
      "application/vnd.jupyter.widget-view+json": {
       "model_id": "baa0269750ca4dd6b304c7f7b3efab3d",
       "version_major": 2,
       "version_minor": 0
      },
      "text/plain": [
       "Batches:   0%|          | 0/1 [00:00<?, ?it/s]"
      ]
     },
     "metadata": {},
     "output_type": "display_data"
    },
    {
     "name": "stderr",
     "output_type": "stream",
     "text": [
      "2023-12-13 11:49:23 sentence_transformers.SentenceTransformer INFO: Load pretrained SentenceTransformer: sentence-transformers/all-mpnet-base-v2\n",
      "2023-12-13 11:49:24 sentence_transformers.SentenceTransformer INFO: Use pytorch device: cpu\n"
     ]
    },
    {
     "data": {
      "application/vnd.jupyter.widget-view+json": {
       "model_id": "c76754a542bf4b76aae4d41a291ff171",
       "version_major": 2,
       "version_minor": 0
      },
      "text/plain": [
       "Batches:   0%|          | 0/1 [00:00<?, ?it/s]"
      ]
     },
     "metadata": {},
     "output_type": "display_data"
    },
    {
     "name": "stderr",
     "output_type": "stream",
     "text": [
      "2023-12-13 11:49:24 sentence_transformers.SentenceTransformer INFO: Load pretrained SentenceTransformer: sentence-transformers/all-mpnet-base-v2\n",
      "2023-12-13 11:49:25 sentence_transformers.SentenceTransformer INFO: Use pytorch device: cpu\n"
     ]
    },
    {
     "data": {
      "application/vnd.jupyter.widget-view+json": {
       "model_id": "ff20f48f1c92488f853219a29146c60f",
       "version_major": 2,
       "version_minor": 0
      },
      "text/plain": [
       "Batches:   0%|          | 0/1 [00:00<?, ?it/s]"
      ]
     },
     "metadata": {},
     "output_type": "display_data"
    },
    {
     "name": "stderr",
     "output_type": "stream",
     "text": [
      "2023-12-13 11:49:25 sentence_transformers.SentenceTransformer INFO: Load pretrained SentenceTransformer: sentence-transformers/all-mpnet-base-v2\n",
      "2023-12-13 11:49:26 sentence_transformers.SentenceTransformer INFO: Use pytorch device: cpu\n"
     ]
    },
    {
     "data": {
      "application/vnd.jupyter.widget-view+json": {
       "model_id": "4d84a656321642fdbe5a807269515b77",
       "version_major": 2,
       "version_minor": 0
      },
      "text/plain": [
       "Batches:   0%|          | 0/1 [00:00<?, ?it/s]"
      ]
     },
     "metadata": {},
     "output_type": "display_data"
    },
    {
     "name": "stderr",
     "output_type": "stream",
     "text": [
      "2023-12-13 11:49:26 sentence_transformers.SentenceTransformer INFO: Load pretrained SentenceTransformer: sentence-transformers/all-mpnet-base-v2\n",
      "2023-12-13 11:49:27 sentence_transformers.SentenceTransformer INFO: Use pytorch device: cpu\n"
     ]
    },
    {
     "data": {
      "application/vnd.jupyter.widget-view+json": {
       "model_id": "4a8f3f9d899b4f56b0fe8f52d060f2cd",
       "version_major": 2,
       "version_minor": 0
      },
      "text/plain": [
       "Batches:   0%|          | 0/1 [00:00<?, ?it/s]"
      ]
     },
     "metadata": {},
     "output_type": "display_data"
    },
    {
     "name": "stderr",
     "output_type": "stream",
     "text": [
      "2023-12-13 11:49:27 sentence_transformers.SentenceTransformer INFO: Load pretrained SentenceTransformer: sentence-transformers/all-mpnet-base-v2\n",
      "2023-12-13 11:49:27 sentence_transformers.SentenceTransformer INFO: Use pytorch device: cpu\n"
     ]
    },
    {
     "data": {
      "application/vnd.jupyter.widget-view+json": {
       "model_id": "0c3f1353df0c4b09b5d9e1ea23a1fcae",
       "version_major": 2,
       "version_minor": 0
      },
      "text/plain": [
       "Batches:   0%|          | 0/1 [00:00<?, ?it/s]"
      ]
     },
     "metadata": {},
     "output_type": "display_data"
    },
    {
     "name": "stderr",
     "output_type": "stream",
     "text": [
      "2023-12-13 11:49:28 sentence_transformers.SentenceTransformer INFO: Load pretrained SentenceTransformer: sentence-transformers/all-mpnet-base-v2\n",
      "2023-12-13 11:49:28 sentence_transformers.SentenceTransformer INFO: Use pytorch device: cpu\n"
     ]
    },
    {
     "data": {
      "application/vnd.jupyter.widget-view+json": {
       "model_id": "e9660d4c9c6c447ba97cf6af4489cce7",
       "version_major": 2,
       "version_minor": 0
      },
      "text/plain": [
       "Batches:   0%|          | 0/1 [00:00<?, ?it/s]"
      ]
     },
     "metadata": {},
     "output_type": "display_data"
    },
    {
     "name": "stderr",
     "output_type": "stream",
     "text": [
      "2023-12-13 11:49:28 sentence_transformers.SentenceTransformer INFO: Load pretrained SentenceTransformer: sentence-transformers/all-mpnet-base-v2\n",
      "2023-12-13 11:49:29 sentence_transformers.SentenceTransformer INFO: Use pytorch device: cpu\n"
     ]
    },
    {
     "data": {
      "application/vnd.jupyter.widget-view+json": {
       "model_id": "db7f5c7680c64f99b790396dface01ce",
       "version_major": 2,
       "version_minor": 0
      },
      "text/plain": [
       "Batches:   0%|          | 0/1 [00:00<?, ?it/s]"
      ]
     },
     "metadata": {},
     "output_type": "display_data"
    },
    {
     "name": "stderr",
     "output_type": "stream",
     "text": [
      "2023-12-13 11:49:29 sentence_transformers.SentenceTransformer INFO: Load pretrained SentenceTransformer: sentence-transformers/all-mpnet-base-v2\n",
      "2023-12-13 11:49:30 sentence_transformers.SentenceTransformer INFO: Use pytorch device: cpu\n"
     ]
    },
    {
     "data": {
      "application/vnd.jupyter.widget-view+json": {
       "model_id": "599cc0510b91462d90b7fb4d0552d92c",
       "version_major": 2,
       "version_minor": 0
      },
      "text/plain": [
       "Batches:   0%|          | 0/1 [00:00<?, ?it/s]"
      ]
     },
     "metadata": {},
     "output_type": "display_data"
    },
    {
     "name": "stderr",
     "output_type": "stream",
     "text": [
      "2023-12-13 11:49:30 sentence_transformers.SentenceTransformer INFO: Load pretrained SentenceTransformer: sentence-transformers/all-mpnet-base-v2\n",
      "2023-12-13 11:49:31 sentence_transformers.SentenceTransformer INFO: Use pytorch device: cpu\n"
     ]
    },
    {
     "data": {
      "application/vnd.jupyter.widget-view+json": {
       "model_id": "3d5a415a23fc41159092b9382bb62f5d",
       "version_major": 2,
       "version_minor": 0
      },
      "text/plain": [
       "Batches:   0%|          | 0/1 [00:00<?, ?it/s]"
      ]
     },
     "metadata": {},
     "output_type": "display_data"
    },
    {
     "name": "stderr",
     "output_type": "stream",
     "text": [
      "2023-12-13 11:49:31 sentence_transformers.SentenceTransformer INFO: Load pretrained SentenceTransformer: sentence-transformers/all-mpnet-base-v2\n",
      "2023-12-13 11:49:32 sentence_transformers.SentenceTransformer INFO: Use pytorch device: cpu\n"
     ]
    },
    {
     "data": {
      "application/vnd.jupyter.widget-view+json": {
       "model_id": "dfd06b7c576d447099747adca89e0785",
       "version_major": 2,
       "version_minor": 0
      },
      "text/plain": [
       "Batches:   0%|          | 0/1 [00:00<?, ?it/s]"
      ]
     },
     "metadata": {},
     "output_type": "display_data"
    },
    {
     "name": "stderr",
     "output_type": "stream",
     "text": [
      "2023-12-13 11:49:32 sentence_transformers.SentenceTransformer INFO: Load pretrained SentenceTransformer: sentence-transformers/all-mpnet-base-v2\n",
      "2023-12-13 11:49:33 sentence_transformers.SentenceTransformer INFO: Use pytorch device: cpu\n"
     ]
    },
    {
     "data": {
      "application/vnd.jupyter.widget-view+json": {
       "model_id": "f1d113b48dde4857abadc00a76556af2",
       "version_major": 2,
       "version_minor": 0
      },
      "text/plain": [
       "Batches:   0%|          | 0/1 [00:00<?, ?it/s]"
      ]
     },
     "metadata": {},
     "output_type": "display_data"
    },
    {
     "name": "stderr",
     "output_type": "stream",
     "text": [
      "2023-12-13 11:49:33 sentence_transformers.SentenceTransformer INFO: Load pretrained SentenceTransformer: sentence-transformers/all-mpnet-base-v2\n",
      "2023-12-13 11:49:33 sentence_transformers.SentenceTransformer INFO: Use pytorch device: cpu\n"
     ]
    },
    {
     "data": {
      "application/vnd.jupyter.widget-view+json": {
       "model_id": "0b2bec167c824deca3adacb796f1c5ca",
       "version_major": 2,
       "version_minor": 0
      },
      "text/plain": [
       "Batches:   0%|          | 0/1 [00:00<?, ?it/s]"
      ]
     },
     "metadata": {},
     "output_type": "display_data"
    },
    {
     "name": "stderr",
     "output_type": "stream",
     "text": [
      "2023-12-13 11:49:34 sentence_transformers.SentenceTransformer INFO: Load pretrained SentenceTransformer: sentence-transformers/all-mpnet-base-v2\n",
      "2023-12-13 11:49:34 sentence_transformers.SentenceTransformer INFO: Use pytorch device: cpu\n"
     ]
    },
    {
     "data": {
      "application/vnd.jupyter.widget-view+json": {
       "model_id": "019211d33fbc441e9d965275d7db4e62",
       "version_major": 2,
       "version_minor": 0
      },
      "text/plain": [
       "Batches:   0%|          | 0/1 [00:00<?, ?it/s]"
      ]
     },
     "metadata": {},
     "output_type": "display_data"
    },
    {
     "name": "stderr",
     "output_type": "stream",
     "text": [
      "2023-12-13 11:49:34 sentence_transformers.SentenceTransformer INFO: Load pretrained SentenceTransformer: sentence-transformers/all-mpnet-base-v2\n",
      "2023-12-13 11:49:35 sentence_transformers.SentenceTransformer INFO: Use pytorch device: cpu\n"
     ]
    },
    {
     "data": {
      "application/vnd.jupyter.widget-view+json": {
       "model_id": "7c22d2f7c42745eabee9885887791c68",
       "version_major": 2,
       "version_minor": 0
      },
      "text/plain": [
       "Batches:   0%|          | 0/1 [00:00<?, ?it/s]"
      ]
     },
     "metadata": {},
     "output_type": "display_data"
    },
    {
     "name": "stderr",
     "output_type": "stream",
     "text": [
      "2023-12-13 11:49:35 sentence_transformers.SentenceTransformer INFO: Load pretrained SentenceTransformer: sentence-transformers/all-mpnet-base-v2\n",
      "2023-12-13 11:49:36 sentence_transformers.SentenceTransformer INFO: Use pytorch device: cpu\n"
     ]
    },
    {
     "data": {
      "application/vnd.jupyter.widget-view+json": {
       "model_id": "04f614c35ffd4edeaed2b04613986527",
       "version_major": 2,
       "version_minor": 0
      },
      "text/plain": [
       "Batches:   0%|          | 0/1 [00:00<?, ?it/s]"
      ]
     },
     "metadata": {},
     "output_type": "display_data"
    },
    {
     "name": "stderr",
     "output_type": "stream",
     "text": [
      "2023-12-13 11:49:36 sentence_transformers.SentenceTransformer INFO: Load pretrained SentenceTransformer: sentence-transformers/all-mpnet-base-v2\n",
      "2023-12-13 11:49:37 sentence_transformers.SentenceTransformer INFO: Use pytorch device: cpu\n"
     ]
    },
    {
     "data": {
      "application/vnd.jupyter.widget-view+json": {
       "model_id": "fa5c7772172a4e2b9d226711725f66d8",
       "version_major": 2,
       "version_minor": 0
      },
      "text/plain": [
       "Batches:   0%|          | 0/1 [00:00<?, ?it/s]"
      ]
     },
     "metadata": {},
     "output_type": "display_data"
    },
    {
     "name": "stderr",
     "output_type": "stream",
     "text": [
      "2023-12-13 11:49:37 sentence_transformers.SentenceTransformer INFO: Load pretrained SentenceTransformer: sentence-transformers/all-mpnet-base-v2\n",
      "2023-12-13 11:49:38 sentence_transformers.SentenceTransformer INFO: Use pytorch device: cpu\n"
     ]
    },
    {
     "data": {
      "application/vnd.jupyter.widget-view+json": {
       "model_id": "6fd139c52548408aa794f7d8bd38209a",
       "version_major": 2,
       "version_minor": 0
      },
      "text/plain": [
       "Batches:   0%|          | 0/1 [00:00<?, ?it/s]"
      ]
     },
     "metadata": {},
     "output_type": "display_data"
    },
    {
     "name": "stderr",
     "output_type": "stream",
     "text": [
      "2023-12-13 11:49:38 sentence_transformers.SentenceTransformer INFO: Load pretrained SentenceTransformer: sentence-transformers/all-mpnet-base-v2\n",
      "2023-12-13 11:49:39 sentence_transformers.SentenceTransformer INFO: Use pytorch device: cpu\n"
     ]
    },
    {
     "data": {
      "application/vnd.jupyter.widget-view+json": {
       "model_id": "f4ba91e892ab4bfeb43b3b280267c108",
       "version_major": 2,
       "version_minor": 0
      },
      "text/plain": [
       "Batches:   0%|          | 0/1 [00:00<?, ?it/s]"
      ]
     },
     "metadata": {},
     "output_type": "display_data"
    },
    {
     "name": "stderr",
     "output_type": "stream",
     "text": [
      "2023-12-13 11:49:39 sentence_transformers.SentenceTransformer INFO: Load pretrained SentenceTransformer: sentence-transformers/all-mpnet-base-v2\n",
      "2023-12-13 11:49:40 sentence_transformers.SentenceTransformer INFO: Use pytorch device: cpu\n"
     ]
    },
    {
     "data": {
      "application/vnd.jupyter.widget-view+json": {
       "model_id": "0516136c6eb943d9b8dfe1e47c21adfe",
       "version_major": 2,
       "version_minor": 0
      },
      "text/plain": [
       "Batches:   0%|          | 0/1 [00:00<?, ?it/s]"
      ]
     },
     "metadata": {},
     "output_type": "display_data"
    },
    {
     "name": "stderr",
     "output_type": "stream",
     "text": [
      "2023-12-13 11:49:40 sentence_transformers.SentenceTransformer INFO: Load pretrained SentenceTransformer: sentence-transformers/all-mpnet-base-v2\n",
      "2023-12-13 11:49:40 sentence_transformers.SentenceTransformer INFO: Use pytorch device: cpu\n"
     ]
    },
    {
     "data": {
      "application/vnd.jupyter.widget-view+json": {
       "model_id": "705a8458bc814ec78d9d4f3c65d39036",
       "version_major": 2,
       "version_minor": 0
      },
      "text/plain": [
       "Batches:   0%|          | 0/1 [00:00<?, ?it/s]"
      ]
     },
     "metadata": {},
     "output_type": "display_data"
    },
    {
     "name": "stderr",
     "output_type": "stream",
     "text": [
      "2023-12-13 11:49:41 sentence_transformers.SentenceTransformer INFO: Load pretrained SentenceTransformer: sentence-transformers/all-mpnet-base-v2\n",
      "2023-12-13 11:49:41 sentence_transformers.SentenceTransformer INFO: Use pytorch device: cpu\n"
     ]
    },
    {
     "data": {
      "application/vnd.jupyter.widget-view+json": {
       "model_id": "db4f6d274f754677b203e243942549b1",
       "version_major": 2,
       "version_minor": 0
      },
      "text/plain": [
       "Batches:   0%|          | 0/1 [00:00<?, ?it/s]"
      ]
     },
     "metadata": {},
     "output_type": "display_data"
    },
    {
     "name": "stderr",
     "output_type": "stream",
     "text": [
      "2023-12-13 11:49:41 sentence_transformers.SentenceTransformer INFO: Load pretrained SentenceTransformer: sentence-transformers/all-mpnet-base-v2\n",
      "2023-12-13 11:49:42 sentence_transformers.SentenceTransformer INFO: Use pytorch device: cpu\n"
     ]
    },
    {
     "data": {
      "application/vnd.jupyter.widget-view+json": {
       "model_id": "b66a3fb3d56e4cfbac8f007cf4c993b9",
       "version_major": 2,
       "version_minor": 0
      },
      "text/plain": [
       "Batches:   0%|          | 0/1 [00:00<?, ?it/s]"
      ]
     },
     "metadata": {},
     "output_type": "display_data"
    },
    {
     "name": "stderr",
     "output_type": "stream",
     "text": [
      "2023-12-13 11:49:42 sentence_transformers.SentenceTransformer INFO: Load pretrained SentenceTransformer: sentence-transformers/all-mpnet-base-v2\n",
      "2023-12-13 11:49:43 sentence_transformers.SentenceTransformer INFO: Use pytorch device: cpu\n"
     ]
    },
    {
     "data": {
      "application/vnd.jupyter.widget-view+json": {
       "model_id": "4cdec9c9b79a4932adcfce8e5bbc8fc2",
       "version_major": 2,
       "version_minor": 0
      },
      "text/plain": [
       "Batches:   0%|          | 0/1 [00:00<?, ?it/s]"
      ]
     },
     "metadata": {},
     "output_type": "display_data"
    },
    {
     "ename": "JSONDecodeError",
     "evalue": "Expecting property name enclosed in double quotes: line 124 column 8 (char 3066)",
     "output_type": "error",
     "traceback": [
      "\u001b[0;31m---------------------------------------------------------------------------\u001b[0m",
      "\u001b[0;31mJSONDecodeError\u001b[0m                           Traceback (most recent call last)",
      "Cell \u001b[0;32mIn[32], line 6\u001b[0m\n\u001b[1;32m      4\u001b[0m \u001b[38;5;66;03m# Classifies category for each item in each receipt.\u001b[39;00m\n\u001b[1;32m      5\u001b[0m \u001b[38;5;28;01mfor\u001b[39;00m receipt \u001b[38;5;129;01min\u001b[39;00m receipt_outputs:\n\u001b[0;32m----> 6\u001b[0m     json_obj \u001b[38;5;241m=\u001b[39m \u001b[43mjson\u001b[49m\u001b[38;5;241;43m.\u001b[39;49m\u001b[43mloads\u001b[49m\u001b[43m(\u001b[49m\u001b[43mreceipt\u001b[49m\u001b[43m)\u001b[49m\n\u001b[1;32m      7\u001b[0m     \u001b[38;5;28;01mif\u001b[39;00m \u001b[38;5;124m'\u001b[39m\u001b[38;5;124mITEMS\u001b[39m\u001b[38;5;124m'\u001b[39m \u001b[38;5;129;01min\u001b[39;00m json_obj[\u001b[38;5;124m'\u001b[39m\u001b[38;5;124mReceiptInfo\u001b[39m\u001b[38;5;124m'\u001b[39m]:\n\u001b[1;32m      8\u001b[0m         \u001b[38;5;28;01mfor\u001b[39;00m item \u001b[38;5;129;01min\u001b[39;00m json_obj[\u001b[38;5;124m'\u001b[39m\u001b[38;5;124mReceiptInfo\u001b[39m\u001b[38;5;124m'\u001b[39m][\u001b[38;5;124m'\u001b[39m\u001b[38;5;124mITEMS\u001b[39m\u001b[38;5;124m'\u001b[39m]:\n",
      "File \u001b[0;32m~/opt/anaconda3/envs/temp/lib/python3.9/json/__init__.py:346\u001b[0m, in \u001b[0;36mloads\u001b[0;34m(s, cls, object_hook, parse_float, parse_int, parse_constant, object_pairs_hook, **kw)\u001b[0m\n\u001b[1;32m    341\u001b[0m     s \u001b[38;5;241m=\u001b[39m s\u001b[38;5;241m.\u001b[39mdecode(detect_encoding(s), \u001b[38;5;124m'\u001b[39m\u001b[38;5;124msurrogatepass\u001b[39m\u001b[38;5;124m'\u001b[39m)\n\u001b[1;32m    343\u001b[0m \u001b[38;5;28;01mif\u001b[39;00m (\u001b[38;5;28mcls\u001b[39m \u001b[38;5;129;01mis\u001b[39;00m \u001b[38;5;28;01mNone\u001b[39;00m \u001b[38;5;129;01mand\u001b[39;00m object_hook \u001b[38;5;129;01mis\u001b[39;00m \u001b[38;5;28;01mNone\u001b[39;00m \u001b[38;5;129;01mand\u001b[39;00m\n\u001b[1;32m    344\u001b[0m         parse_int \u001b[38;5;129;01mis\u001b[39;00m \u001b[38;5;28;01mNone\u001b[39;00m \u001b[38;5;129;01mand\u001b[39;00m parse_float \u001b[38;5;129;01mis\u001b[39;00m \u001b[38;5;28;01mNone\u001b[39;00m \u001b[38;5;129;01mand\u001b[39;00m\n\u001b[1;32m    345\u001b[0m         parse_constant \u001b[38;5;129;01mis\u001b[39;00m \u001b[38;5;28;01mNone\u001b[39;00m \u001b[38;5;129;01mand\u001b[39;00m object_pairs_hook \u001b[38;5;129;01mis\u001b[39;00m \u001b[38;5;28;01mNone\u001b[39;00m \u001b[38;5;129;01mand\u001b[39;00m \u001b[38;5;129;01mnot\u001b[39;00m kw):\n\u001b[0;32m--> 346\u001b[0m     \u001b[38;5;28;01mreturn\u001b[39;00m \u001b[43m_default_decoder\u001b[49m\u001b[38;5;241;43m.\u001b[39;49m\u001b[43mdecode\u001b[49m\u001b[43m(\u001b[49m\u001b[43ms\u001b[49m\u001b[43m)\u001b[49m\n\u001b[1;32m    347\u001b[0m \u001b[38;5;28;01mif\u001b[39;00m \u001b[38;5;28mcls\u001b[39m \u001b[38;5;129;01mis\u001b[39;00m \u001b[38;5;28;01mNone\u001b[39;00m:\n\u001b[1;32m    348\u001b[0m     \u001b[38;5;28mcls\u001b[39m \u001b[38;5;241m=\u001b[39m JSONDecoder\n",
      "File \u001b[0;32m~/opt/anaconda3/envs/temp/lib/python3.9/json/decoder.py:337\u001b[0m, in \u001b[0;36mJSONDecoder.decode\u001b[0;34m(self, s, _w)\u001b[0m\n\u001b[1;32m    332\u001b[0m \u001b[38;5;28;01mdef\u001b[39;00m \u001b[38;5;21mdecode\u001b[39m(\u001b[38;5;28mself\u001b[39m, s, _w\u001b[38;5;241m=\u001b[39mWHITESPACE\u001b[38;5;241m.\u001b[39mmatch):\n\u001b[1;32m    333\u001b[0m \u001b[38;5;250m    \u001b[39m\u001b[38;5;124;03m\"\"\"Return the Python representation of ``s`` (a ``str`` instance\u001b[39;00m\n\u001b[1;32m    334\u001b[0m \u001b[38;5;124;03m    containing a JSON document).\u001b[39;00m\n\u001b[1;32m    335\u001b[0m \n\u001b[1;32m    336\u001b[0m \u001b[38;5;124;03m    \"\"\"\u001b[39;00m\n\u001b[0;32m--> 337\u001b[0m     obj, end \u001b[38;5;241m=\u001b[39m \u001b[38;5;28;43mself\u001b[39;49m\u001b[38;5;241;43m.\u001b[39;49m\u001b[43mraw_decode\u001b[49m\u001b[43m(\u001b[49m\u001b[43ms\u001b[49m\u001b[43m,\u001b[49m\u001b[43m \u001b[49m\u001b[43midx\u001b[49m\u001b[38;5;241;43m=\u001b[39;49m\u001b[43m_w\u001b[49m\u001b[43m(\u001b[49m\u001b[43ms\u001b[49m\u001b[43m,\u001b[49m\u001b[43m \u001b[49m\u001b[38;5;241;43m0\u001b[39;49m\u001b[43m)\u001b[49m\u001b[38;5;241;43m.\u001b[39;49m\u001b[43mend\u001b[49m\u001b[43m(\u001b[49m\u001b[43m)\u001b[49m\u001b[43m)\u001b[49m\n\u001b[1;32m    338\u001b[0m     end \u001b[38;5;241m=\u001b[39m _w(s, end)\u001b[38;5;241m.\u001b[39mend()\n\u001b[1;32m    339\u001b[0m     \u001b[38;5;28;01mif\u001b[39;00m end \u001b[38;5;241m!=\u001b[39m \u001b[38;5;28mlen\u001b[39m(s):\n",
      "File \u001b[0;32m~/opt/anaconda3/envs/temp/lib/python3.9/json/decoder.py:353\u001b[0m, in \u001b[0;36mJSONDecoder.raw_decode\u001b[0;34m(self, s, idx)\u001b[0m\n\u001b[1;32m    344\u001b[0m \u001b[38;5;250m\u001b[39m\u001b[38;5;124;03m\"\"\"Decode a JSON document from ``s`` (a ``str`` beginning with\u001b[39;00m\n\u001b[1;32m    345\u001b[0m \u001b[38;5;124;03ma JSON document) and return a 2-tuple of the Python\u001b[39;00m\n\u001b[1;32m    346\u001b[0m \u001b[38;5;124;03mrepresentation and the index in ``s`` where the document ended.\u001b[39;00m\n\u001b[0;32m   (...)\u001b[0m\n\u001b[1;32m    350\u001b[0m \n\u001b[1;32m    351\u001b[0m \u001b[38;5;124;03m\"\"\"\u001b[39;00m\n\u001b[1;32m    352\u001b[0m \u001b[38;5;28;01mtry\u001b[39;00m:\n\u001b[0;32m--> 353\u001b[0m     obj, end \u001b[38;5;241m=\u001b[39m \u001b[38;5;28;43mself\u001b[39;49m\u001b[38;5;241;43m.\u001b[39;49m\u001b[43mscan_once\u001b[49m\u001b[43m(\u001b[49m\u001b[43ms\u001b[49m\u001b[43m,\u001b[49m\u001b[43m \u001b[49m\u001b[43midx\u001b[49m\u001b[43m)\u001b[49m\n\u001b[1;32m    354\u001b[0m \u001b[38;5;28;01mexcept\u001b[39;00m \u001b[38;5;167;01mStopIteration\u001b[39;00m \u001b[38;5;28;01mas\u001b[39;00m err:\n\u001b[1;32m    355\u001b[0m     \u001b[38;5;28;01mraise\u001b[39;00m JSONDecodeError(\u001b[38;5;124m\"\u001b[39m\u001b[38;5;124mExpecting value\u001b[39m\u001b[38;5;124m\"\u001b[39m, s, err\u001b[38;5;241m.\u001b[39mvalue) \u001b[38;5;28;01mfrom\u001b[39;00m \u001b[38;5;28;01mNone\u001b[39;00m\n",
      "\u001b[0;31mJSONDecodeError\u001b[0m: Expecting property name enclosed in double quotes: line 124 column 8 (char 3066)"
     ]
    }
   ],
   "source": [
    "product_predicted_categories = []\n",
    "product_category_counts = {}\n",
    "\n",
    "# Classifies category for each item in each receipt.\n",
    "for receipt in receipt_outputs:\n",
    "    json_obj = json.loads(receipt)\n",
    "    if 'ITEMS' in json_obj['ReceiptInfo']:\n",
    "        for item in json_obj['ReceiptInfo']['ITEMS']:\n",
    "            item_df = pd.DataFrame(compute_item_embeddings(item))\n",
    "            pred_prod_category = knn_cls_prod.predict(item_df.values)[0]\n",
    "            product_predicted_categories.append(pred_prod_category)\n",
    "\n",
    "            # Keeps count of each category.\n",
    "            if pred_prod_category in product_category_counts:\n",
    "                product_category_counts[pred_prod_category] += 1\n",
    "            else:\n",
    "                product_category_counts[pred_prod_category] = 1\n",
    "product_predicted_categories"
   ]
  },
  {
   "cell_type": "code",
   "execution_count": 33,
   "id": "2e946ba8",
   "metadata": {},
   "outputs": [
    {
     "data": {
      "image/png": "[encoded data removed]",
      "text/plain": [
       "<Figure size 640x480 with 1 Axes>"
      ]
     },
     "metadata": {},
     "output_type": "display_data"
    },
    {
     "data": {
      "image/png": "[encoded data removed]",
      "text/plain": [
       "<Figure size 1000x500 with 1 Axes>"
      ]
     },
     "metadata": {},
     "output_type": "display_data"
    }
   ],
   "source": [
    "import matplotlib.pyplot as plt\n",
    "\n",
    "#pie chart for vendor categories\n",
    "labels = list(product_category_counts.keys())\n",
    "values = list(product_category_counts.values())\n",
    "\n",
    "fig, ax = plt.subplots()\n",
    "ax.pie(values, labels=labels, autopct='%1.1f%%')\n",
    "ax.set_title('Products by Category')\n",
    "\n",
    "\n",
    "#bar graph for vendor categories\n",
    "fig = plt.figure(figsize = (10, 5))\n",
    " \n",
    "# creating the bar plot\n",
    "plt.barh(labels, values, color ='maroon', \n",
    "        height = 0.4)\n",
    "\n",
    "plt.show()"
   ]
  },
  {
   "cell_type": "code",
   "execution_count": null,
   "id": "cf7d9db2",
   "metadata": {},
   "outputs": [],
   "source": [
    "## Named Entity Recognition:\n",
    "def find_span(text, entity_text):\n",
    "    \"\"\"Finds the start and end positions for a given entity_text\"\"\"\n",
    "    start = text.find(entity_text)\n",
    "    if start == -1:\n",
    "        return None\n",
    "    end = start + len(entity_text)\n",
    "    return (start, end), entity_text\n",
    "\n",
    "def convert_to_prodigy_spans(receipt_text, entities):\n",
    "    \"\"\"Structures the receipt data by finding the position spans of each field indicated in the Structured JSON Object.\"\"\"\n",
    "    text_vals = []\n",
    "    entities = json.loads(entities)\n",
    "    prodigy_data = []\n",
    "    receipt_info = entities[\"ReceiptInfo\"]\n",
    "\n",
    "    # Gets the label and entity_text for each corresponding label and entity listed.\n",
    "    for label, entity_text in [\n",
    "        (\"MERCHANT\", str(receipt_info.get(\"merchant\", \"\"))), \n",
    "        (\"ADDRESS\", str(receipt_info.get(\"address\", \"\"))), \n",
    "        (\"CITY\", str(receipt_info.get(\"city\", \"\"))), \n",
    "        (\"STATE\", str(receipt_info.get(\"state\", \"\"))), \n",
    "        (\"PHONE\", str(receipt_info.get(\"phoneNumber\", \"\"))), \n",
    "        (\"TAX\", str(receipt_info.get(\"tax\", \"\"))), \n",
    "        (\"TOTAL\", str(receipt_info.get(\"total\", \"\"))), \n",
    "        (\"DATE\", str(receipt_info.get(\"receiptDate\", \"\"))) \n",
    "    ]:\n",
    "\n",
    "        # Tries to add positions of enties for corresponding labels.\n",
    "        #try:\n",
    "        if entity_text:\n",
    "            span = find_span(receipt_text, entity_text)\n",
    "            if span:\n",
    "                stend, text = span\n",
    "                text_vals.append(text)\n",
    "                start, end = stend\n",
    "                prodigy_data.append([{\"start\": start, \"end\": end, \"label\": label}])\n",
    "            else:\n",
    "                # if span is not found, assume the value is not in the raw text\n",
    "                prodigy_data.append([{\"start\": 0, \"end\": 0, \"label\": label}])\n",
    "        #except:\n",
    "         #   continue\n",
    "\n",
    "    # Process item-level entities\n",
    "    item_num = 1\n",
    "    for item in receipt_info[\"ITEMS\"]:\n",
    "        for label, entity_text in [  \n",
    "            (\"ITEM_DESC\", item.get(\"description\", \"\")),\n",
    "            (\"QTY\", str(item.get(\"quantity\", \"\"))),\n",
    "            (\"UNIT_PRICE\", str(item.get(\"unitPrice\", \"\"))),\n",
    "            (\"TOTAL_PRICE\", str(item.get(\"totalPrice\", \"\"))),\n",
    "            (\"DISCOUNT\", str(item.get(\"discountAmount\", \"\")))  # Discount might not always be present\n",
    "        ]:\n",
    "            if entity_text:  # Check if the entity text is not empty\n",
    "                span = find_span(receipt_text, entity_text)\n",
    "                if span:\n",
    "                    stend, text = span\n",
    "                    text_vals.append(text)\n",
    "                    start, end = stend\n",
    "                    prodigy_data.append([{\"start\": start, \"end\": end, \"label\": label + str(item_num)}])\n",
    "                else:\n",
    "                    # if span is not found, assume the value is not in the raw text\n",
    "                    prodigy_data.append([{\"start\": 0, \"end\": 0, \"label\": label + str(item_num)}])\n",
    "        item_num += 1\n",
    "\n",
    "    return prodigy_data, text_vals\n",
    "\n",
    "# Example usage\n",
    "\n",
    "#prodigy_spans_true, text_vals = convert_to_prodigy_spans(test_receipts[0], receipt_outputs[0])\n",
    "#print(json.dumps(prodigy_spans_true, indent=2))"
   ]
  },
  {
   "cell_type": "code",
   "execution_count": null,
   "id": "8ec10528",
   "metadata": {},
   "outputs": [],
   "source": [
    "import json\n",
    "from nervaluate import Evaluator"
   ]
  },
  {
   "cell_type": "code",
   "execution_count": null,
   "id": "3e3c19b2",
   "metadata": {},
   "outputs": [],
   "source": [
    "def get_prodigy_spans(text, true_ents, pred_ents):\n",
    "    # Get the Prodigy spans for the manually parsed entities\n",
    "    prodigy_spans_true, text_vals = convert_to_prodigy_spans(text, true_ents)\n",
    "    labels_true = list(span[0][\"label\"] for span in prodigy_spans_true)\n",
    "    # Get the Prodigy spans for the LangChain generated entities\n",
    "    prodigy_spans_predicted, text_vals_predicted = convert_to_prodigy_spans(text, pred_ents)\n",
    "    labels_predicted = list(span[0][\"label\"] for span in prodigy_spans_predicted)\n",
    "    \n",
    "    evaluator = Evaluator(prodigy_spans_true, prodigy_spans_predicted, tags=labels_true)\n",
    "\n",
    "    # Returns overall metrics and metrics for each tag\n",
    "\n",
    "    results, results_per_tag = evaluator.evaluate()\n",
    "\n",
    "    print(results)"
   ]
  },
  {
   "cell_type": "code",
   "execution_count": null,
   "id": "21065549",
   "metadata": {},
   "outputs": [],
   "source": [
    "# Raw text data from zip file\n",
    "test_text_1 = '''\n",
    "SAFEWAY O\n",
    "<UNKNOWN>\n",
    "Store 205 Dir Betsy Esposito\n",
    "Main : (808) 266-5200\n",
    "1060 Keolu Drive\n",
    "KAILUA HI 96734\n",
    "GROCERY\n",
    "BODY ARMOR\n",
    "9.99 B\n",
    "DEP SFTDK 8 PK FS\n",
    "0.40 S\n",
    "FEE SFTDK 8 PK FS\n",
    "0.08 S\n",
    "Regular Price 11.49\n",
    "Member Savings\n",
    "1.50-\n",
    "TAX\n",
    "0.47\n",
    "**** BALANCE\n",
    "10.94\n",
    "'''\n",
    "\n",
    "# True values that were manually parsed\n",
    "test_true_1 = '''\n",
    "{\n",
    "  \"ReceiptInfo\": {\n",
    "    \"merchant\": \"SAFEWAY\",\n",
    "    \"address\": \"1060 Keolu Drive\",\n",
    "    \"city\": \"KAILUA\",\n",
    "    \"state\": \"HI\",\n",
    "    \"phoneNumber\": \"(808) 266-5200\",\n",
    "    \"tax\": \"0.47\",\n",
    "    \"total\": \"10.94\",\n",
    "    \"receiptDate\": \"\",\n",
    "    \"receiptTime\": \"\",\n",
    "\n",
    "\n",
    "    \"ITEMS\": [\n",
    "      {\n",
    "        \"description\": \"BODY ARMOR\",\n",
    "        \"quantity\": \"1\",\n",
    "        \"unitPrice\": \"9.99\",\n",
    "        \"totalPrice\": \"9.99\",\n",
    "        \"discountAmount\": \"0.00\"\n",
    "      },\n",
    "      {\n",
    "        \"description\": \"DEP SFTDK 8 PK FS\",\n",
    "        \"quantity\": \"1\",\n",
    "        \"unitPrice\": \"0.40\",\n",
    "        \"totalPrice\": \"0.40\",\n",
    "        \"discountAmount\": \"0.00\"\n",
    "      },\n",
    "      {\n",
    "        \"description\": \"FEE SFTDK 8 PK FS\",\n",
    "        \"quantity\": \"1\",\n",
    "        \"unitPrice\": \"0.08\",\n",
    "        \"totalPrice\": \"0.08\",\n",
    "        \"discountAmount\": \"0.00\"\n",
    "      }\n",
    "    ]\n",
    "  }\n",
    "}\n",
    "'''\n",
    "\n",
    "# Output returned by ChatGPT/LangChain\n",
    "test_pred_1 = '''\n",
    "{\n",
    "\"ReceiptInfo\": {\n",
    "\"merchant\": \"SAFEWAY\",\n",
    "\"address\": \"1060 Keolu Drive\",\n",
    "\"city\": \"KAILUA\",\n",
    "\"state\": \"HI\",\n",
    "\"phoneNumber\": \"(808) 266-5200\",\n",
    "\"tax\": \"0.47\",\n",
    "\"total\": \"10.94\",\n",
    "\"receiptDate\": \"\",\n",
    "\"receiptTime\": \"\",\n",
    "\"ITEMS\": [\n",
    "{\n",
    "\"description\": \"BODY ARMOR\",\n",
    "\"quantity\": \"1\",\n",
    "\"unitPrice\": \"9.99\",\n",
    "\"totalPrice\": \"9.99\",\n",
    "\"discountAmount\": \"0.00\"\n",
    "},\n",
    "{\n",
    "\"description\": \"DEP SFTDK 8 PK FS\",\n",
    "\"quantity\": \"1\",\n",
    "\"unitPrice\": \"0.40\",\n",
    "\"totalPrice\": \"0.40\",\n",
    "\"discountAmount\": \"0.00\"\n",
    "},\n",
    "{\n",
    "\"description\": \"FEE SFTDK 8 PK FS\",\n",
    "\"quantity\": \"1\",\n",
    "\"unitPrice\": \"0.08\",\n",
    "\"totalPrice\": \"0.08\",\n",
    "\"discountAmount\": \"0.00\"\n",
    "}\n",
    "]\n",
    "}\n",
    "}\n",
    "'''\n",
    "\n",
    "get_prodigy_spans(test_text_1, test_true_1, test_pred_1)"
   ]
  },
  {
   "cell_type": "code",
   "execution_count": null,
   "id": "01c4ce06",
   "metadata": {},
   "outputs": [],
   "source": [
    "test_text_2 = '''\n",
    "Sam's Club #6410\n",
    "1000 KAMEHAMEHA HWY STE\n",
    "PEARL CITY, HI 96782\n",
    "Pump# 24 UNLEAD (11)\n",
    "Gallons\n",
    "15.326\n",
    "Price/Gal\n",
    "$4.189\n",
    "Fuel Sale\n",
    "$64.20\n",
    "Discover Credit $64.20\n",
    "DS\n",
    "<UNKNOWN> I\n",
    "01\n",
    "Auth:\n",
    "<UNKNOWN>\n",
    "Apprvl :\n",
    "01796R\n",
    "AID #A0000001523010\n",
    "07/17/23 12:01 PM\n",
    "TC#\n",
    "<UNKNOWN>'''\n",
    "\n",
    "test_true_2 = '''\n",
    "{\n",
    "  \"ReceiptInfo\": {\n",
    "    \"merchant\": \"Sam's Club\",\n",
    "    \"address\": \"1000 KAMEHAMEHA HWY\",\n",
    "    \"city\": \"PEARL CITY\",\n",
    "    \"state\": \"HI\",\n",
    "    \"phoneNumber\": \"\",\n",
    "    \"tax\": \"0.00\",\n",
    "    \"total\": \"64.20\",\n",
    "    \"receiptDate\": \"07/17/23\",\n",
    "    \"receiptTime\": \"12:01 PM\",\n",
    "\n",
    "\n",
    "    \"ITEMS\": [\n",
    "      {\n",
    "        \"description\": \"UNLEAD\",\n",
    "        \"quantity\": \"15.326\",\n",
    "        \"unitPrice\": \"4.189\",\n",
    "        \"totalPrice\": \"64.20\",\n",
    "        \"discountAmount\": \"0.00\"\n",
    "      }\n",
    "    ]\n",
    "  }\n",
    "}\n",
    "'''\n",
    "\n",
    "test_pred_2 = '''\n",
    "{\n",
    "\"ReceiptInfo\": {\n",
    "\"merchant\": \"Sam's Club #6410\",\n",
    "\"address\": \"1000 KAMEHAMEHA HWY STE\",\n",
    "\"city\": \"PEARL CITY\",\n",
    "\"state\": \"HI\",\n",
    "\"phoneNumber\": \"\",\n",
    "\"tax\": \"0.00\",\n",
    "\"total\": \"64.20\",\n",
    "\"receiptDate\": \"07/17/23\",\n",
    "\"receiptTime\": \"12:01 PM\",\n",
    "\"ITEMS\": [\n",
    "{\n",
    "\"description\": \"UNLEAD\",\n",
    "\"quantity\": \"15.326\",\n",
    "\"unitPrice\": \"4.189\",\n",
    "\"totalPrice\": \"64.20\",\n",
    "\"discountAmount\": \"0.00\"\n",
    "}\n",
    "]\n",
    "}\n",
    "}'''\n",
    "\n",
    "get_prodigy_spans(test_text_2, test_true_2, test_pred_2)"
   ]
  },
  {
   "cell_type": "code",
   "execution_count": null,
   "id": "d26ac865",
   "metadata": {},
   "outputs": [],
   "source": [
    "test_text_3 = '''\n",
    "LILIHA BAKERY <UNKNOWN> PEARL CITY\n",
    "Pearl Highlands Center\n",
    "Pearl City, HI 96782\n",
    "(808)455-1188\n",
    "Check 375997/1 Cashier: POS1 AM\n",
    "10/21/2023 5:46:41 PM\n",
    "Bakery\n",
    "10\n",
    "Poi Donut\n",
    "20.90\n",
    "1\n",
    "Coco Puff 6\n",
    "12.50\n",
    "6\n",
    "Green Tea Puff\n",
    "13.74\n",
    "SUB TOTAL\n",
    "47.14\n",
    "Sales Tax\n",
    "2.22\n",
    "TOTAL\n",
    "49.36\n",
    "'''\n",
    "\n",
    "test_true_3 = '''\n",
    "{\n",
    "  \"ReceiptInfo\": {\n",
    "    \"merchant\": \"LILIHA BAKERY\",\n",
    "    \"address\": \"Pearl Highlands Center\",\n",
    "    \"city\": \"Pearl City\",\n",
    "    \"state\": \"HI\",\n",
    "    \"phoneNumber\": \"(808)455-1188\",\n",
    "    \"tax\": \"2.22\",\n",
    "    \"total\": \"49.36\",\n",
    "    \"receiptDate\": \"10/21/2023\",\n",
    "    \"receiptTime\": \"5:46:41 PM\",\n",
    "\n",
    "\n",
    "    \"ITEMS\": [\n",
    "      {\n",
    "        \"description\": \"Poi Donut\",\n",
    "        \"quantity\": \"10\",\n",
    "        \"unitPrice\": \"2.09\",\n",
    "        \"totalPrice\": \"20.90\",\n",
    "        \"discountAmount\": \"0.00\"\n",
    "      },\n",
    "      {\n",
    "        \"description\": \"Coco Puff\",\n",
    "        \"quantity\": \"6\",\n",
    "        \"unitPrice\": \"2.08\",\n",
    "        \"totalPrice\": \"12.50\",\n",
    "        \"discountAmount\": \"0.00\"\n",
    "      },\n",
    "      {\n",
    "        \"description\": \"Green Tea Puff\",\n",
    "        \"quantity\": \"6\",\n",
    "        \"unitPrice\": \"2.29\",\n",
    "        \"totalPrice\": \"13.74\",\n",
    "        \"discountAmount\": \"0.00\"\n",
    "      }\n",
    "    ]\n",
    "  }\n",
    "}'''\n",
    "\n",
    "test_pred_3 = '''\n",
    "{\n",
    "\"ReceiptInfo\": {\n",
    "\"merchant\": \"LILIHA BAKERY\",\n",
    "\"address\": \"Pearl Highlands Center, Pearl City, HI 96782\",\n",
    "\"city\": \"Pearl City\",\n",
    "\"state\": \"HI\",\n",
    "\"phoneNumber\": \"(808)455-1188\",\n",
    "\"tax\": \"2.22\",\n",
    "\"total\": \"49.36\",\n",
    "\"receiptDate\": \"10/21/2023\",\n",
    "\"receiptTime\": \"5:46:41 PM\",\n",
    "\"ITEMS\": [\n",
    "{\n",
    "\"description\": \"Poi Donut\",\n",
    "\"quantity\": \"10\",\n",
    "\"unitPrice\": \"20.90\",\n",
    "\"totalPrice\": \"20.90\",\n",
    "\"discountAmount\": \"0.00\"\n",
    "},\n",
    "{\n",
    "\"description\": \"Coco Puff\",\n",
    "\"quantity\": \"1\",\n",
    "\"unitPrice\": \"12.50\",\n",
    "\"totalPrice\": \"12.50\",\n",
    "\"discountAmount\": \"0.00\"\n",
    "},\n",
    "{\n",
    "\"description\": \"Green Tea Puff\",\n",
    "\"quantity\": \"6\",\n",
    "\"unitPrice\": \"13.74\",\n",
    "\"totalPrice\": \"13.74\",\n",
    "\"discountAmount\": \"0.00\"\n",
    "}\n",
    "]\n",
    "}\n",
    "}'''\n",
    "\n",
    "get_prodigy_spans(test_text_3, test_true_3, test_pred_3)"
   ]
  },
  {
   "cell_type": "code",
   "execution_count": null,
   "id": "f828e76b",
   "metadata": {},
   "outputs": [],
   "source": [
    "test_text_4 = '''\n",
    "KOZO SUSHI\n",
    "Kozo Sushi - Moilili\n",
    "2334 South King Street\n",
    "Honolulu, HI 96826\n",
    "Take Out\n",
    "Server: Manager P\n",
    "Check #101\n",
    "Ordered :\n",
    "4/7/23 3:36 PM\n",
    "2 Cucumber Maki\n",
    "$3.98\n",
    "1 Shrimp Tempura Hr\n",
    "$3.30\n",
    "Subtotal\n",
    "$7.28\n",
    "Tax\n",
    "$0.33\n",
    "Total\n",
    "$7.61\n",
    "Cash Tendered\n",
    "$20.00\n",
    "Change\n",
    "$12.39\n",
    "Powered by Toast'''\n",
    "\n",
    "test_true_4 = '''\n",
    "{\n",
    "  \"ReceiptInfo\": {\n",
    "    \"merchant\": \"KOZO SUSHI\",\n",
    "    \"address\": \"2334 South King Street\",\n",
    "    \"city\": \"Honolulu\",\n",
    "    \"state\": \"HI\",\n",
    "    \"phoneNumber\": \"\",\n",
    "    \"tax\": \"0.33\",\n",
    "    \"total\": \"7.61\",\n",
    "    \"receiptDate\": \"4/7/23\",\n",
    "    \"receiptTime\": \"3:36 PM\",\n",
    "\n",
    "\n",
    "    \"ITEMS\": [\n",
    "      {\n",
    "        \"description\": \"Cucumber Maki\",\n",
    "        \"quantity\": \"2\",\n",
    "        \"unitPrice\": \"1.99\",\n",
    "        \"totalPrice\": \"3.98\",\n",
    "        \"discountAmount\": \"0.00\"\n",
    "      },\n",
    "      {\n",
    "        \"description\": \"Shrimp Tempura Hr\",\n",
    "        \"quantity\": \"1\",\n",
    "        \"unitPrice\": \"3.30\",\n",
    "        \"totalPrice\": \"3.30\",\n",
    "        \"discountAmount\": \"0.00\"\n",
    "      }\n",
    "    ]\n",
    "  }\n",
    "}\n",
    "'''\n",
    "\n",
    "test_pred_4 = '''\n",
    "{\n",
    "\"ReceiptInfo\": {\n",
    "\"merchant\": \"KOZO SUSHI\",\n",
    "\"address\": \"2334 South King Street\",\n",
    "\"city\": \"Honolulu\",\n",
    "\"state\": \"HI\",\n",
    "\"phoneNumber\": \"\",\n",
    "\"tax\": \"0.33\",\n",
    "\"total\": \"7.61\",\n",
    "\"receiptDate\": \"4/7/23\",\n",
    "\"receiptTime\": \"3:36 PM\",\n",
    "\"ITEMS\": [\n",
    "{\n",
    "\"description\": \"Cucumber Maki\",\n",
    "\"quantity\": \"2\",\n",
    "\"unitPrice\": \"3.98\",\n",
    "\"totalPrice\": \"3.98\",\n",
    "\"discountAmount\": \"0.00\"\n",
    "},\n",
    "{\n",
    "\"description\": \"Shrimp Tempura Hr\",\n",
    "\"quantity\": \"1\",\n",
    "\"unitPrice\": \"3.30\",\n",
    "\"totalPrice\": \"3.30\",\n",
    "\"discountAmount\": \"0.00\"\n",
    "}\n",
    "]\n",
    "}\n",
    "}'''\n",
    "\n",
    "get_prodigy_spans(test_text_4, test_true_4, test_pred_4)"
   ]
  },
  {
   "cell_type": "code",
   "execution_count": null,
   "id": "7e518076",
   "metadata": {},
   "outputs": [],
   "source": [
    "test_text_5 = '''\n",
    "Hardware\n",
    "Hawaii\n",
    "CONTRACTOR'S\n",
    "CHOICE\n",
    "THANK YOU FOR SHOPPING AT\n",
    "<UNKNOWN> Hawaii Kailua\n",
    "30 Kihapai Street\n",
    "Kailua, Hawaii 96734\n",
    "www.hardwarehawaii.com\n",
    "(808) 266-1133\n",
    "Kailua\n",
    "10/07/23 10:30AM 1013\n",
    "106\n",
    "SALE\n",
    "QC\n",
    "1 BG\n",
    "$10.25 BG\n",
    "CONCRETE MIX 60lb QUIKRETE\n",
    "$10.25\n",
    "SUB-TOTAL:$\n",
    "10.25 TAX:\n",
    "$\n",
    ".48\n",
    "TOTAL: $\n",
    "10.73\n",
    "BC <UNKNOWN>\n",
    "$\n",
    "10.73'''\n",
    "\n",
    "test_true_5 = '''\n",
    "{\n",
    "  \"ReceiptInfo\": {\n",
    "    \"merchant\": \"Hardware Hawaii\",\n",
    "    \"address\": \"30 Kihapai Street\",\n",
    "    \"city\": \"Kailua\",\n",
    "    \"state\": \"Hawaii\",\n",
    "    \"phoneNumber\": \"(808) 266-1133\",\n",
    "    \"tax\": \"0.48\",\n",
    "    \"total\": \"10.73\",\n",
    "    \"receiptDate\": \"10/07/23\",\n",
    "    \"receiptTime\": \"10:30AM\",\n",
    "\n",
    "\n",
    "    \"ITEMS\": [\n",
    "      {\n",
    "        \"description\": \"CONCRETE MIX 60lb QUIKRETE\",\n",
    "        \"quantity\": \"1\",\n",
    "        \"unitPrice\": \"10.25\",\n",
    "        \"totalPrice\": \"10.25\",\n",
    "        \"discountAmount\": \"0.00\"\n",
    "      }\n",
    "    ]\n",
    "  }\n",
    "}\n",
    "'''\n",
    "\n",
    "test_pred_5 = '''\n",
    "{\n",
    "\"ReceiptInfo\": {\n",
    "\"merchant\": \"Hardware Hawaii\",\n",
    "\"address\": \"30 Kihapai Street\",\n",
    "\"city\": \"Kailua\",\n",
    "\"state\": \"Hawaii\",\n",
    "\"phoneNumber\": \"(808) 266-1133\",\n",
    "\"tax\": \"0.48\",\n",
    "\"total\": \"10.73\",\n",
    "\"receiptDate\": \"10/07/23\",\n",
    "\"receiptTime\": \"10:30AM\",\n",
    "\"ITEMS\": [\n",
    "{\n",
    "\"description\": \"CONCRETE MIX 60lb QUIKRETE\",\n",
    "\"quantity\": \"1\",\n",
    "\"unitPrice\": \"10.25\",\n",
    "\"totalPrice\": \"10.25\",\n",
    "\"discountAmount\": \"0.00\"\n",
    "}\n",
    "]\n",
    "}\n",
    "}'''\n",
    "\n",
    "get_prodigy_spans(test_text_5, test_true_5, test_pred_5)"
   ]
  },
  {
   "cell_type": "code",
   "execution_count": null,
   "id": "6d8e40eb",
   "metadata": {},
   "outputs": [],
   "source": []
  }
 ],
 "metadata": {
  "kernelspec": {
   "display_name": "Python 3 (ipykernel)",
   "language": "python",
   "name": "python3"
  },
  "language_info": {
   "codemirror_mode": {
    "name": "ipython",
    "version": 3
   },
   "file_extension": ".py",
   "mimetype": "text/x-python",
   "name": "python",
   "nbconvert_exporter": "python",
   "pygments_lexer": "ipython3",
   "version": "3.9.18"
  }
 },
 "nbformat": 4,
 "nbformat_minor": 5
}
