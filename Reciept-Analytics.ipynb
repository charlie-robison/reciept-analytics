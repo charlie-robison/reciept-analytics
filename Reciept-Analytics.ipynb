{
 "cells": [
  {
   "cell_type": "code",
   "execution_count": 1,
   "id": "c2714468",
   "metadata": {},
   "outputs": [],
   "source": [
    "# !pip install langchain\n",
    "# !pip install openai -U\n",
    "# !pip install nervaluate\n",
    "# !pip install faiss\n",
    "# !pip install tiktoken\n",
    "# !pip install pandas\n",
    "# !pip install sentence-transformers\n",
    "# !pip install matplotlib"
   ]
  },
  {
   "cell_type": "code",
   "execution_count": 2,
   "id": "8b4abedc",
   "metadata": {},
   "outputs": [],
   "source": [
    "### THE OVERVIEW: \n",
    "# 1. Prompt in LLM.\n",
    "# 2. Convert the receipt text structured data\n",
    "# 3. Use labels and K-nearest neighbors (embeddings) to classify the vendor into vendor categories.\n",
    "# 4. Classify the items into categories; propose your own .\n",
    "# 5. Plot these analytics of vendors and items."
   ]
  },
  {
   "cell_type": "code",
   "execution_count": 3,
   "id": "14a3bf88",
   "metadata": {},
   "outputs": [],
   "source": [
    "from langchain.prompts import PromptTemplate\n",
    "from langchain.chains import LLMChain\n",
    "from langchain.chat_models import ChatOpenAI\n",
    "from langchain.embeddings.openai import OpenAIEmbeddings\n",
    "from langchain.embeddings import HuggingFaceEmbeddings\n",
    "from sklearn.model_selection import GridSearchCV\n",
    "from sklearn.neighbors import KNeighborsClassifier\n",
    "from sklearn.metrics import precision_score, recall_score, f1_score, accuracy_score\n",
    "from nervaluate import Evaluator\n",
    "import matplotlib.pyplot as plt\n",
    "import pandas as pd\n",
    "import numpy as np\n",
    "import json\n",
    "import os"
   ]
  },
  {
   "cell_type": "markdown",
   "id": "cf814cb9-075c-4cb8-a8c5-7502000e42f3",
   "metadata": {},
   "source": [
    "# Language Model Integration with Langchain"
   ]
  },
  {
   "cell_type": "code",
   "execution_count": 4,
   "id": "0bfdaacd",
   "metadata": {},
   "outputs": [],
   "source": [
    "prompt = \"\"\"\n",
    "Can you please convert this unstructured receipt text data into a structured JSON object which includes ReceiptInfo and ITEMS.\n",
    "Note that sometimes the quantity for an item may be located next to the item name.\n",
    "Text in the structured JSON should appear in the same format as the unstructured receipt.\n",
    "Please just give the structured JSON object and nothing else.\n",
    "\n",
    "Here is the schema for the JSON object:\n",
    "{{\n",
    "  \"ReceiptInfo\": {{\n",
    "    \"merchant\": \"(string value)\",\n",
    "    \"address\": \"(string value)\",\n",
    "    \"city\": \"(string value)\",\n",
    "    \"state\": \"(string value)\",\n",
    "    \"phoneNumber\": \"(string value)\",\n",
    "    \"tax\": \"(float value)\",\n",
    "    \"total\": \"(float value)\",\n",
    "    \"receiptDate\": \"(string value)\",\n",
    "    \"receiptTime\": \"(string value)\",\n",
    "\n",
    "\n",
    "    \"ITEMS\": [\n",
    "      {{\n",
    "        \"description\": \"(string value)\",\n",
    "        \"quantity\": \"(integer value)\",\n",
    "        \"unitPrice\": \"(float value)\",\n",
    "        \"totalPrice\": \"(float value)\",\n",
    "        \"discountAmount\": \"(float value)\"\n",
    "      }}\n",
    "    ]\n",
    "  }}\n",
    "}}\n",
    "\n",
    "\n",
    "Examples:\n",
    "\n",
    "Receipt:\n",
    "Give us feedback @ <UNKNOWN>\n",
    "Thank you! ID <UNKNOWN> <UNKNOWN>\n",
    "Walmart\n",
    "301-604-0180 Mgr:DEBRA\n",
    "3549 RUSSETT GRN\n",
    "LAUREL MD 20724\n",
    "ST# 01985 OP# 009049 TE# 49 TR# 04345\n",
    "<UNKNOWN> PRK SB 008265754333 F\n",
    "1.98 X\n",
    "BOOSTER\n",
    "088439295372\n",
    "19.98 N\n",
    "VOIDED BANKCARD TRANSACTION\n",
    "TERMINAL <UNKNOWN> SC010112\n",
    "TRANSACTION NOT COMPLETE\n",
    "07/04/23\n",
    "16:19:53\n",
    "<UNKNOWN> BANKCARD TRANSACTION\n",
    "TERMINAL # SC010112\n",
    "TRANSACTION <UNKNOWN> COMPLETE\n",
    "07/04/23\n",
    "16:20:01\n",
    "SUBTOTAL\n",
    "21.96\n",
    "TAX 1\n",
    "6.000 %\n",
    "0.12\n",
    "TOTAL\n",
    "22.08\n",
    "VISA TEND\n",
    "22.08\n",
    "ACCOUNT #\n",
    "**** **** <UNKNOWN> 2130 F\n",
    "APPROVAL # 00592D\n",
    "REF # 318500762875\n",
    "TRANS ID - 583185732192035\n",
    "VALIDATION - B339\n",
    "PAYMENT SERVICE - E\n",
    "TERMINAL # SC010112\n",
    "07/04/23\n",
    "16:20:21\n",
    "CHANGE DUE\n",
    "0.00\n",
    "# ITEMS SOLD 2\n",
    "<UNKNOWN> 0069 6254 8220 4557 9869\n",
    "Walmart\n",
    "Become a member\n",
    "Scan for free 30-day trial\n",
    "Low Prices You Can <UNKNOWN> Every <UNKNOWN>\n",
    "07/04/23\n",
    "16:20:22\n",
    "***CUSTOMER <UNKNOWN>\n",
    "\n",
    "JSON:\n",
    "{{\n",
    "  \"ReceiptInfo\": {{\n",
    "    \"merchant\": \"Walmart\",\n",
    "    \"address\": \"3549 RUSSETT GRN\",\n",
    "    \"city\": \"LAUREL\",\n",
    "    \"state\": \"MD\",\n",
    "    \"phoneNumber\": \"301-604-0180\",\n",
    "    \"tax\": \"0.12\",\n",
    "    \"total\": \"22.08\",\n",
    "    \"receiptDate\": \"07/04/23\",\n",
    "    \"receiptTime\": \"4:20pm\",\n",
    "\n",
    "\n",
    "    \"ITEMS\": [\n",
    "      {{\n",
    "        \"description\": \"PRK SB\",\n",
    "        \"quantity\": \"1\",\n",
    "        \"unitPrice\": \"1.98\",\n",
    "        \"totalPrice\": \"1.98\",\n",
    "        \"discountAmount\": \"0.00\"\n",
    "      }},\n",
    "      {{\n",
    "        \"description\": \"BOOSTER\",\n",
    "        \"quantity\": \"1\",\n",
    "        \"unitPrice\": \"19.98\",\n",
    "        \"totalPrice\": \"19.98\",\n",
    "        \"discountAmount\": \"0.00\"\n",
    "      }}\n",
    "    ]\n",
    "  }}\n",
    "}}\n",
    "\n",
    "Receipt:\n",
    "Unstructured Receipt Text Data:\n",
    "203\n",
    "BUY ONE GET ONE FREE QUARTER POUNDER\n",
    "W/CHEESE OR EGG MCMUFFIN\n",
    "Go to www.mcdvoice.com within 7 days\n",
    "and tell <UNKNOWN> about your visit.\n",
    "Validation Code:\n",
    "Expires 30 days after receipt date.\n",
    "Valid at participating US\n",
    "Survey Code:\n",
    "<UNKNOWN>\n",
    "McDonald's Restaurant <UNKNOWN>\n",
    "2915 E MANCA RD\n",
    "<UNKNOWN> 96822\n",
    "TEL# <UNKNOWN>\n",
    "Thank You Valued Customer\n",
    "KS# 2\n",
    "08/19/2023 03:33 PM\n",
    "<UNKNOWN>\n",
    "Order 03\n",
    "1 Happy Meal Ch Burger\n",
    "5.89\n",
    "1 Cheeseburger\n",
    "ONLY Onions\n",
    "ONLY Ketchup\n",
    "1 Extra Kids Fry\n",
    "1 Apple Juice\n",
    "1 NERF\n",
    "Subtotal\n",
    "5.89\n",
    "Tax\n",
    "0.28\n",
    "Take-Out Total\n",
    "6.17\n",
    "Cashless\n",
    "6.17\n",
    "Change\n",
    "0.00\n",
    "MER# 467782\n",
    "CARD ISSUER\n",
    "ACCOUNT\n",
    "Visa SALE\n",
    "<UNKNOWN> <UNKNOWN> 130\n",
    "TRANSACTION AMOUNT\n",
    "6.17\n",
    "CONTACTLESS\n",
    "AUTHORIZATION CODE - <UNKNOWN>\n",
    "SEQ# 107204\n",
    "AID: A0000000031010\n",
    "McDonald's Restaurant\n",
    "Sign up for MyMcDonald's rewards\n",
    "to earn points on future visit\n",
    "\n",
    "JSON:\n",
    "{{\n",
    "  \"ReceiptInfo\": {{\n",
    "    \"merchant\": \"McDonald's Restaurant\",\n",
    "    \"address\": \"2915 E MANOA RD\",\n",
    "    \"city\": \"Honolulu\",\n",
    "    \"state\": \"HI\",\n",
    "    \"phoneNumber\": \"\",\n",
    "    \"tax\": \"0.28\",\n",
    "    \"total\": \"6.17\",\n",
    "    \"receiptDate\": \"08/19/2023\",\n",
    "    \"receiptTime\": \"03:33 PM\",\n",
    "\n",
    "\n",
    "    \"ITEMS\": [\n",
    "      {{\n",
    "        \"description\": \"Happy Meal Ch Burger\",\n",
    "        \"quantity\": \"1\",\n",
    "        \"unitPrice\": \"5.89\",\n",
    "        \"totalPrice\": \"5.89\",\n",
    "        \"discountAmount\": \"0.00\"\n",
    "      }}\n",
    "    ]\n",
    "  }}\n",
    "}}\n",
    "\n",
    "Receipt:\n",
    "Unstructured Receipt Text Data:\n",
    "H\n",
    "<UNKNOWN>\n",
    "MART\n",
    "http://www.hmart.com\n",
    "458 Keawe st\n",
    "Honolulu, <UNKNOWN> 96813\n",
    "TEL (808) 219-0924\n",
    "Your Cashier was TIM\n",
    "WANG DANGMYUN\n",
    "4.99 B\n",
    "K-T TOPPOKI\n",
    "PC\n",
    "6.99 B\n",
    "OTG SOUP RICECAKE\n",
    "7.99 B\n",
    "HT VEGE DUMPLING\n",
    "14.99 B\n",
    "TAX\n",
    "1.65\n",
    "****\n",
    "BALANCE\n",
    "36.61\n",
    "Discover Credit - C\n",
    "ACCOUNT <UNKNOWN> ************ 1153\n",
    "APPROVAL CODE: 01263R\n",
    "SEQUENCE NUMBER: 22907\n",
    "No CVM\n",
    "Amount USD $36.61\n",
    "CARD:Discover CREDIT XXXX1153 EMV\n",
    "APPROVAL CODE : 01263R\n",
    "AID A0000001523010\n",
    "TVR : 0000008000\n",
    "IAD <UNKNOWN>\n",
    "TSI : E800\n",
    "APPLICATION CRYPTOGRAM CB8F25799B68A2B\n",
    "APPLICATION PREFERRED NAME Discover Cr\n",
    "APPLICATION LABEL : Discover\n",
    "TC CB8F25799B68A2B3\n",
    "<UNKNOWN> 00\n",
    "RespDate : 06112023\n",
    "Resp Time 211509\n",
    "<UNKNOWN>\n",
    "TOTAL AMOUNT: $36.61\n",
    "RESPONSE CODE: APPROVED\n",
    "06/11/23 09:15pm 113 20\n",
    "Discover\n",
    "<UNKNOWN> 61\n",
    "CHANGE\n",
    "0.00\n",
    "TOTAL NUMBER OF ITEMS SOLD =\n",
    "4\n",
    "06/11/23 09:15pm 81 20 363 113\n",
    "\n",
    "JSON:\n",
    "{{\n",
    "  \"ReceiptInfo\": {{\n",
    "    \"merchant\": \"H MART\",\n",
    "    \"address\": \"458 Keawe st\",\n",
    "    \"city\": \"Honolulu\",\n",
    "    \"state\": \"HI\",\n",
    "    \"phoneNumber\": \"(808) 219-0924\",\n",
    "    \"tax\": \"1.65\",\n",
    "    \"total\": \"36.61\",\n",
    "    \"receiptDate\": \"06/11/23\",\n",
    "    \"receiptTime\": \"09:15pm\",\n",
    "\n",
    "\n",
    "    \"ITEMS\": [\n",
    "      {{\n",
    "        \"description\": \"WANG DANGMYUN\",\n",
    "        \"quantity\": \"1\",\n",
    "        \"unitPrice\": \"4.99\",\n",
    "        \"totalPrice\": \"4.99\",\n",
    "        \"discountAmount\": \"0.00\"\n",
    "      }},\n",
    "      {{\n",
    "        \"description\": \"K-T TOPPOKI PC\",\n",
    "        \"quantity\": \"1\",\n",
    "        \"unitPrice\": \"6.99\",\n",
    "        \"totalPrice\": \"6.99\",\n",
    "        \"discountAmount\": \"0.00\"\n",
    "      }},\n",
    "      {{\n",
    "        \"description\": \"OTG SOUP RICECAKE\",\n",
    "        \"quantity\": \"1\",\n",
    "        \"unitPrice\": \"7.99\",\n",
    "        \"totalPrice\": \"7.99\",\n",
    "        \"discountAmount\": \"0.00\"\n",
    "      }},\n",
    "      {{\n",
    "        \"description\": \"HT VEGE DUMPLING\",\n",
    "        \"quantity\": \"1\",\n",
    "        \"unitPrice\": \"14.99\",\n",
    "        \"totalPrice\": \"14.99\",\n",
    "        \"discountAmount\": \"0.00\"\n",
    "      }}\n",
    "    ]\n",
    "  }}\n",
    "}}\n",
    "\n",
    "Receipt:\n",
    "SAFEWAY\n",
    "O\n",
    "<UNKNOWN>\n",
    "Store 204 Dir Kaipo Ah Mook Sang\n",
    "Main (808) 988-2058\n",
    "2855 East Manoa Road\n",
    "HONOLULU HI 96822\n",
    "GROCERY\n",
    "6.99 B\n",
    "MARINARA SCE\n",
    "Regular Price\n",
    "8.49\n",
    "Member Savings\n",
    "1.50-\n",
    "REFRIG/FROZEN\n",
    "LUC CHES COLBY JAC.\n",
    "10.99 B\n",
    "Regular Price\n",
    "13.49\n",
    "Member Savings\n",
    "2.50-\n",
    "MARIE CALLENDER'S\n",
    "4.00 B\n",
    "Regular Price\n",
    "6.49\n",
    "Member Savings\n",
    "2.49-\n",
    "MEAT\n",
    "AIDELLS MEATBALLS\n",
    "5.99 B\n",
    "Regular Price\n",
    "8.99\n",
    "Member Savings\n",
    "3.00-\n",
    "TAX\n",
    "1.32\n",
    "**** BALANCE\n",
    "29.29\n",
    "Credit Purchase 08/01/23 20:15\n",
    "CARD # <UNKNOWN>\n",
    "<UNKNOWN> 861544421300 AUTH: 0006375D\n",
    "PAYMENT AMOUNT\n",
    "29.29\n",
    "AL VISA CREDIT\n",
    "AID A0000000031010\n",
    "TVR 0000000000\n",
    "TSI 0000\n",
    "Visa\n",
    "29.29\n",
    "CHANGE\n",
    "0.00\n",
    "TOTAL NUMBER OF ITEMS SOLD =\n",
    "4\n",
    "08/01/23 20:15 204 51 151\n",
    "8851\n",
    "Gameplays Earned 2\n",
    "Sweepstakes Entries Earned 2\n",
    "*Subject to limit of 10 <UNKNOWN> day\n",
    "Earn gameplays and sweepstakes entries\n",
    "by shopping, then play\n",
    "Flavor Adventure for a chance to win!\n",
    "Scan the QR code to Play. Win. Save.\n",
    "REWARDS AVAILABLE\n",
    "2\n",
    "POINTS EARNED TODAY\n",
    "Base Points 27\n",
    "Total 27\n",
    "Points Towards Next Reward 57 of 100\n",
    "YOUR CASHIER TODAY WAS SELF\n",
    "YOUR SAVINGS\n",
    "Member Savings\n",
    "Total\n",
    "9.49\n",
    "Total Savings Value\n",
    "9.49\n",
    "25%\n",
    "Thank <UNKNOWN> you for shopping <UNKNOWN>\n",
    "For SAFEWAY FOR U questions\n",
    "877-276-9637 or Safeway.com/foru call\n",
    "\n",
    "JSON:\n",
    "{{\n",
    "  \"ReceiptInfo\": {{\n",
    "    \"merchant\": \"SAFEWAY\",\n",
    "    \"address\": \"2855 East Manoa Road\",\n",
    "    \"city\": \"Honolulu\",\n",
    "    \"state\": \"HI\",\n",
    "    \"phoneNumber\": \"(808) 988-2058\",\n",
    "    \"tax\": \"1.32\",\n",
    "    \"total\": \"29.29\",\n",
    "    \"receiptDate\": \"08/01/23\",\n",
    "    \"receiptTime\": \"8:15pm\",\n",
    "\n",
    "\n",
    "    \"ITEMS\": [\n",
    "      {{\n",
    "        \"description\": \"MARINARA SCE\",\n",
    "        \"quantity\": \"1\",\n",
    "        \"unitPrice\": \"8.49\",\n",
    "        \"totalPrice\": \"6.99\",\n",
    "        \"discountAmount\": \"1.50\"\n",
    "      }},\n",
    "      {{\n",
    "        \"description\": \"LUC CHES COLBY JAC.\",\n",
    "        \"quantity\": \"1\",\n",
    "        \"unitPrice\": \"13.49\",\n",
    "        \"totalPrice\": \"10.99\",\n",
    "        \"discountAmount\": \"2.50\"\n",
    "      }},\n",
    "      {{\n",
    "        \"description\": \"MARIE CALLENDER'S\",\n",
    "        \"quantity\": \"1\",\n",
    "        \"unitPrice\": \"6.49\",\n",
    "        \"totalPrice\": \"4.00\",\n",
    "        \"discountAmount\": \"2.49\"\n",
    "      }},\n",
    "      {{\n",
    "        \"description\": \"AIDELLS MEATBALLS\",\n",
    "        \"quantity\": \"1\",\n",
    "        \"unitPrice\": \"8.99\",\n",
    "        \"totalPrice\": \"5.99\",\n",
    "        \"discountAmount\": \"3.00\"\n",
    "      }}\n",
    "    ]\n",
    "  }}\n",
    "}}\n",
    "\n",
    "Here is the Unstructured Receipt Text Data (Turn this into structured JSON):\n",
    "\n",
    "Receipt: {receipt}\n",
    "\"\"\""
   ]
  },
  {
   "cell_type": "markdown",
   "id": "6760093b-3067-4594-8036-72de42fb4d9c",
   "metadata": {},
   "source": [
    "### NOTE: We ran this with 20 receipts as it takes a very long time to run the prompt for all of the receipts but please remove the [0:20] in the last line of the cell below to run on all receipts."
   ]
  },
  {
   "cell_type": "code",
   "execution_count": 5,
   "id": "40077233",
   "metadata": {},
   "outputs": [],
   "source": [
    "def get_receipts():\n",
    "    \"\"\"Gets unstructured receipt text from each receipt text file in the receipts directory.\"\"\"\n",
    "    folder_path = 'receipts/text'\n",
    "    receipts = []\n",
    "    \n",
    "    # List all files in the folder\n",
    "    files = os.listdir(folder_path)\n",
    "    \n",
    "    # Iterate through each file\n",
    "    for file_name in files:\n",
    "        file_path = os.path.join(folder_path, file_name)\n",
    "    \n",
    "        # Check if it's a text file\n",
    "        if file_name.endswith('.txt'):\n",
    "            with open(file_path, 'r') as file:\n",
    "                # Read the content and append to the array\n",
    "                text_content = file.read()\n",
    "                receipts.append(text_content)\n",
    "    \n",
    "    return receipts\n",
    "\n",
    "test_receipts = get_receipts()[0:20]"
   ]
  },
  {
   "cell_type": "code",
   "execution_count": 6,
   "id": "4960a0a0",
   "metadata": {},
   "outputs": [
    {
     "name": "stderr",
     "output_type": "stream",
     "text": [
      "2023-12-13 21:00:19 httpx INFO: HTTP Request: POST https://api.openai.com/v1/chat/completions \"HTTP/1.1 200 OK\"\n",
      "2023-12-13 21:00:44 httpx INFO: HTTP Request: POST https://api.openai.com/v1/chat/completions \"HTTP/1.1 200 OK\"\n",
      "2023-12-13 21:01:00 httpx INFO: HTTP Request: POST https://api.openai.com/v1/chat/completions \"HTTP/1.1 200 OK\"\n",
      "2023-12-13 21:01:11 httpx INFO: HTTP Request: POST https://api.openai.com/v1/chat/completions \"HTTP/1.1 200 OK\"\n",
      "2023-12-13 21:01:28 httpx INFO: HTTP Request: POST https://api.openai.com/v1/chat/completions \"HTTP/1.1 200 OK\"\n",
      "2023-12-13 21:01:47 httpx INFO: HTTP Request: POST https://api.openai.com/v1/chat/completions \"HTTP/1.1 200 OK\"\n",
      "2023-12-13 21:02:02 httpx INFO: HTTP Request: POST https://api.openai.com/v1/chat/completions \"HTTP/1.1 200 OK\"\n",
      "2023-12-13 21:02:16 httpx INFO: HTTP Request: POST https://api.openai.com/v1/chat/completions \"HTTP/1.1 200 OK\"\n",
      "2023-12-13 21:03:03 httpx INFO: HTTP Request: POST https://api.openai.com/v1/chat/completions \"HTTP/1.1 200 OK\"\n",
      "2023-12-13 21:03:12 httpx INFO: HTTP Request: POST https://api.openai.com/v1/chat/completions \"HTTP/1.1 200 OK\"\n",
      "2023-12-13 21:03:37 httpx INFO: HTTP Request: POST https://api.openai.com/v1/chat/completions \"HTTP/1.1 200 OK\"\n",
      "2023-12-13 21:03:57 httpx INFO: HTTP Request: POST https://api.openai.com/v1/chat/completions \"HTTP/1.1 200 OK\"\n",
      "2023-12-13 21:04:28 httpx INFO: HTTP Request: POST https://api.openai.com/v1/chat/completions \"HTTP/1.1 200 OK\"\n",
      "2023-12-13 21:04:55 httpx INFO: HTTP Request: POST https://api.openai.com/v1/chat/completions \"HTTP/1.1 200 OK\"\n",
      "2023-12-13 21:05:24 httpx INFO: HTTP Request: POST https://api.openai.com/v1/chat/completions \"HTTP/1.1 200 OK\"\n",
      "2023-12-13 21:05:53 httpx INFO: HTTP Request: POST https://api.openai.com/v1/chat/completions \"HTTP/1.1 200 OK\"\n",
      "2023-12-13 21:06:01 httpx INFO: HTTP Request: POST https://api.openai.com/v1/chat/completions \"HTTP/1.1 200 OK\"\n",
      "2023-12-13 21:07:01 httpx INFO: HTTP Request: POST https://api.openai.com/v1/chat/completions \"HTTP/1.1 200 OK\"\n",
      "2023-12-13 21:07:17 httpx INFO: HTTP Request: POST https://api.openai.com/v1/chat/completions \"HTTP/1.1 200 OK\"\n",
      "2023-12-13 21:07:32 httpx INFO: HTTP Request: POST https://api.openai.com/v1/chat/completions \"HTTP/1.1 200 OK\"\n"
     ]
    }
   ],
   "source": [
    "## Getting output from LLM.\n",
    "# Uses OpenAI model.\n",
    "model = ChatOpenAI()\n",
    "\n",
    "# Creates a template for the prompt.\n",
    "prompt_template = PromptTemplate.from_template(prompt)\n",
    "\n",
    "# Inserts the prompt into model and gets output.\n",
    "chain = LLMChain(llm=model, prompt=prompt_template)\n",
    "\n",
    "receipt_outputs = [chain.run(receipt=test_receipt) for test_receipt in test_receipts]"
   ]
  },
  {
   "cell_type": "markdown",
   "id": "94e564e1-5d3c-4c56-b24d-794710dab2bf",
   "metadata": {},
   "source": [
    "# Vendor Classification"
   ]
  },
  {
   "cell_type": "code",
   "execution_count": 7,
   "id": "e9c55ef8",
   "metadata": {},
   "outputs": [
    {
     "name": "stderr",
     "output_type": "stream",
     "text": [
      "2023-12-13 21:07:34 sentence_transformers.SentenceTransformer INFO: Load pretrained SentenceTransformer: sentence-transformers/all-mpnet-base-v2\n",
      "2023-12-13 21:07:36 sentence_transformers.SentenceTransformer INFO: Use pytorch device: cpu\n"
     ]
    },
    {
     "data": {
      "application/vnd.jupyter.widget-view+json": {
       "model_id": "67a50c73561f4cce969947f4a8817966",
       "version_major": 2,
       "version_minor": 0
      },
      "text/plain": [
       "Batches:   0%|          | 0/12 [00:00<?, ?it/s]"
      ]
     },
     "metadata": {},
     "output_type": "display_data"
    },
    {
     "data": {
      "application/vnd.jupyter.widget-view+json": {
       "model_id": "4e273556333e4394a439462594b271b1",
       "version_major": 2,
       "version_minor": 0
      },
      "text/plain": [
       "Batches:   0%|          | 0/15 [00:00<?, ?it/s]"
      ]
     },
     "metadata": {},
     "output_type": "display_data"
    },
    {
     "data": {
      "application/vnd.jupyter.widget-view+json": {
       "model_id": "2c65cc7e5aa14e6fb6e4a0747101990a",
       "version_major": 2,
       "version_minor": 0
      },
      "text/plain": [
       "Batches:   0%|          | 0/16 [00:00<?, ?it/s]"
      ]
     },
     "metadata": {},
     "output_type": "display_data"
    },
    {
     "data": {
      "application/vnd.jupyter.widget-view+json": {
       "model_id": "e2701c66f3c84bb8a042913b186b9290",
       "version_major": 2,
       "version_minor": 0
      },
      "text/plain": [
       "Batches:   0%|          | 0/9 [00:00<?, ?it/s]"
      ]
     },
     "metadata": {},
     "output_type": "display_data"
    },
    {
     "data": {
      "application/vnd.jupyter.widget-view+json": {
       "model_id": "7e99c7c14f624f09aaf6ba8375aee3d9",
       "version_major": 2,
       "version_minor": 0
      },
      "text/plain": [
       "Batches:   0%|          | 0/6 [00:00<?, ?it/s]"
      ]
     },
     "metadata": {},
     "output_type": "display_data"
    },
    {
     "data": {
      "application/vnd.jupyter.widget-view+json": {
       "model_id": "7cb0f3e46e6347e9ab12e9df101909df",
       "version_major": 2,
       "version_minor": 0
      },
      "text/plain": [
       "Batches:   0%|          | 0/12 [00:00<?, ?it/s]"
      ]
     },
     "metadata": {},
     "output_type": "display_data"
    },
    {
     "data": {
      "application/vnd.jupyter.widget-view+json": {
       "model_id": "102347616076423ba89324a7d038a5ca",
       "version_major": 2,
       "version_minor": 0
      },
      "text/plain": [
       "Batches:   0%|          | 0/15 [00:00<?, ?it/s]"
      ]
     },
     "metadata": {},
     "output_type": "display_data"
    },
    {
     "data": {
      "text/plain": [
       "362"
      ]
     },
     "execution_count": 7,
     "metadata": {},
     "output_type": "execute_result"
    }
   ],
   "source": [
    "categories = [\"Grocery and Supermarkets\", \"Restaurants and Food Services\", \"Clothing and Apparel\", \n",
    "              \"Health and Beauty\", \"Electronics and Appliances\", \"Home and Garden\", \"Entertainment and Leisure\"]\n",
    "\n",
    "def get_training_data():\n",
    "    folder_path = 'training_data/'\n",
    "    category_train_test_data = {}\n",
    "    category_training_items = []\n",
    "    \n",
    "    # List all files in the folder\n",
    "    files = os.listdir(folder_path)\n",
    "    i = 0\n",
    "\n",
    "    # Gets the items for each category.\n",
    "    for category in categories:\n",
    "        # Gets the file identifier for the category.\n",
    "        category_id = (category.split(\" \")[0]).lower()\n",
    "        file_name = f'{category_id}_items.txt'\n",
    "        file_path = os.path.join(folder_path, file_name)\n",
    "    \n",
    "        # Check if it's a text file.\n",
    "        if file_name.endswith('.txt'):\n",
    "            with open(file_path, 'r') as file:\n",
    "                # Read the content and split into list by newline character.\n",
    "                text_content = file.read().split('\\n')\n",
    "                # Adds the items to the category in the dict.\n",
    "                category_train_test_data[categories[i]] = text_content\n",
    "                i += 1\n",
    "    return category_train_test_data\n",
    "\n",
    "category_train_test_data = get_training_data()\n",
    "category_training_embeddings = {}\n",
    "\n",
    "embeddings_model = HuggingFaceEmbeddings()\n",
    "\n",
    "for category in category_train_test_data:\n",
    "    category_training_embeddings[category] = embeddings_model.embed_documents(category_train_test_data[category])\n",
    "\n",
    "len(category_training_embeddings[\"Grocery and Supermarkets\"])"
   ]
  },
  {
   "cell_type": "code",
   "execution_count": 8,
   "id": "668615dd",
   "metadata": {},
   "outputs": [
    {
     "data": {
      "text/plain": [
       "(2627, 769)"
      ]
     },
     "execution_count": 8,
     "metadata": {},
     "output_type": "execute_result"
    }
   ],
   "source": [
    "\"\"\"\n",
    "\"Categories\"                        \"Embedding 1\"     \"Embedding 2\" ....\n",
    "-------------------------------------------------------------------------\n",
    "\"Grocery and Supermarkets\"\n",
    "\"Grocery and Supermarkets\"  \n",
    "\"Grocery and Supermarkets\"  \n",
    "\"Grocery and Supermarkets\"  \n",
    "\"Restaurants and Food Services\"\n",
    "\"Restaurants and Food Services\"\n",
    "\"Restaurants and Food Services\"\n",
    "\"Clothing and Apparel\" \n",
    "\"Health and Beauty\"\n",
    "\"Electronics and Appliances\"\n",
    "\"Home and Garden\"\n",
    "\"Entertainment and Leisure\"\n",
    "\"\"\"\n",
    "\n",
    "df_category_items = []\n",
    "d = {'categories':[]}\n",
    "\n",
    "# Each category.\n",
    "for category in category_training_embeddings:\n",
    "    # Each item in the category.\n",
    "    for item in category_training_embeddings[category]:\n",
    "        df_category_items.append(category)\n",
    "\n",
    "        # Each embedding in an item.\n",
    "        for i in range(len(item)):\n",
    "            embedding = item[i]\n",
    "\n",
    "            if f'embedding_{i}' in d:\n",
    "                d[f'embedding_{i}'].append(embedding)\n",
    "            else:\n",
    "                d[f'embedding_{i}'] = []\n",
    "                d[f'embedding_{i}'].append(embedding)\n",
    "\n",
    "d['categories'] = df_category_items\n",
    "    \n",
    "# Training and Testing data.\n",
    "category_data = pd.DataFrame(d)\n",
    "\n",
    "# 637 Items (Training (80%): 509, Testing (20%): 128)\n",
    "category_data.shape"
   ]
  },
  {
   "cell_type": "code",
   "execution_count": 9,
   "id": "f6c171e9",
   "metadata": {},
   "outputs": [
    {
     "data": {
      "text/html": [
       "<div>\n",
       "<style scoped>\n",
       "    .dataframe tbody tr th:only-of-type {\n",
       "        vertical-align: middle;\n",
       "    }\n",
       "\n",
       "    .dataframe tbody tr th {\n",
       "        vertical-align: top;\n",
       "    }\n",
       "\n",
       "    .dataframe thead th {\n",
       "        text-align: right;\n",
       "    }\n",
       "</style>\n",
       "<table border=\"1\" class=\"dataframe\">\n",
       "  <thead>\n",
       "    <tr style=\"text-align: right;\">\n",
       "      <th></th>\n",
       "      <th>categories</th>\n",
       "      <th>embedding_0</th>\n",
       "      <th>embedding_1</th>\n",
       "      <th>embedding_2</th>\n",
       "      <th>embedding_3</th>\n",
       "      <th>embedding_4</th>\n",
       "      <th>embedding_5</th>\n",
       "      <th>embedding_6</th>\n",
       "      <th>embedding_7</th>\n",
       "      <th>embedding_8</th>\n",
       "      <th>...</th>\n",
       "      <th>embedding_758</th>\n",
       "      <th>embedding_759</th>\n",
       "      <th>embedding_760</th>\n",
       "      <th>embedding_761</th>\n",
       "      <th>embedding_762</th>\n",
       "      <th>embedding_763</th>\n",
       "      <th>embedding_764</th>\n",
       "      <th>embedding_765</th>\n",
       "      <th>embedding_766</th>\n",
       "      <th>embedding_767</th>\n",
       "    </tr>\n",
       "  </thead>\n",
       "  <tbody>\n",
       "    <tr>\n",
       "      <th>1207</th>\n",
       "      <td>Clothing and Apparel</td>\n",
       "      <td>0.004615</td>\n",
       "      <td>-0.021960</td>\n",
       "      <td>0.019385</td>\n",
       "      <td>-0.008244</td>\n",
       "      <td>-0.008641</td>\n",
       "      <td>-0.016496</td>\n",
       "      <td>-0.017545</td>\n",
       "      <td>0.039551</td>\n",
       "      <td>-0.015762</td>\n",
       "      <td>...</td>\n",
       "      <td>-0.074300</td>\n",
       "      <td>-0.041394</td>\n",
       "      <td>0.008547</td>\n",
       "      <td>-0.028454</td>\n",
       "      <td>-0.035751</td>\n",
       "      <td>-0.041185</td>\n",
       "      <td>-0.011890</td>\n",
       "      <td>0.027684</td>\n",
       "      <td>-0.018400</td>\n",
       "      <td>0.022852</td>\n",
       "    </tr>\n",
       "    <tr>\n",
       "      <th>666</th>\n",
       "      <td>Restaurants and Food Services</td>\n",
       "      <td>0.010653</td>\n",
       "      <td>-0.008771</td>\n",
       "      <td>-0.020748</td>\n",
       "      <td>-0.020573</td>\n",
       "      <td>0.012951</td>\n",
       "      <td>0.012413</td>\n",
       "      <td>-0.075527</td>\n",
       "      <td>0.018052</td>\n",
       "      <td>-0.070826</td>\n",
       "      <td>...</td>\n",
       "      <td>-0.051336</td>\n",
       "      <td>0.031783</td>\n",
       "      <td>-0.115913</td>\n",
       "      <td>-0.029416</td>\n",
       "      <td>0.051972</td>\n",
       "      <td>0.028701</td>\n",
       "      <td>-0.032234</td>\n",
       "      <td>0.008620</td>\n",
       "      <td>-0.050748</td>\n",
       "      <td>-0.027074</td>\n",
       "    </tr>\n",
       "    <tr>\n",
       "      <th>473</th>\n",
       "      <td>Restaurants and Food Services</td>\n",
       "      <td>0.009863</td>\n",
       "      <td>0.023361</td>\n",
       "      <td>0.007846</td>\n",
       "      <td>-0.029546</td>\n",
       "      <td>0.010275</td>\n",
       "      <td>0.034770</td>\n",
       "      <td>-0.075350</td>\n",
       "      <td>0.030008</td>\n",
       "      <td>-0.037577</td>\n",
       "      <td>...</td>\n",
       "      <td>-0.040057</td>\n",
       "      <td>-0.023020</td>\n",
       "      <td>-0.026501</td>\n",
       "      <td>-0.037534</td>\n",
       "      <td>0.004404</td>\n",
       "      <td>0.043687</td>\n",
       "      <td>-0.053357</td>\n",
       "      <td>0.004788</td>\n",
       "      <td>-0.007682</td>\n",
       "      <td>-0.011968</td>\n",
       "    </tr>\n",
       "    <tr>\n",
       "      <th>857</th>\n",
       "      <td>Clothing and Apparel</td>\n",
       "      <td>0.059472</td>\n",
       "      <td>-0.059486</td>\n",
       "      <td>-0.005867</td>\n",
       "      <td>-0.017769</td>\n",
       "      <td>-0.059400</td>\n",
       "      <td>0.034024</td>\n",
       "      <td>-0.007131</td>\n",
       "      <td>-0.006698</td>\n",
       "      <td>0.047094</td>\n",
       "      <td>...</td>\n",
       "      <td>-0.029096</td>\n",
       "      <td>-0.006952</td>\n",
       "      <td>0.058783</td>\n",
       "      <td>0.016553</td>\n",
       "      <td>-0.028954</td>\n",
       "      <td>0.065115</td>\n",
       "      <td>-0.025683</td>\n",
       "      <td>0.036423</td>\n",
       "      <td>-0.023619</td>\n",
       "      <td>-0.047884</td>\n",
       "    </tr>\n",
       "    <tr>\n",
       "      <th>731</th>\n",
       "      <td>Restaurants and Food Services</td>\n",
       "      <td>-0.016475</td>\n",
       "      <td>0.024444</td>\n",
       "      <td>-0.021017</td>\n",
       "      <td>0.012644</td>\n",
       "      <td>0.004664</td>\n",
       "      <td>0.032096</td>\n",
       "      <td>-0.036332</td>\n",
       "      <td>0.066787</td>\n",
       "      <td>0.004202</td>\n",
       "      <td>...</td>\n",
       "      <td>-0.075205</td>\n",
       "      <td>0.024029</td>\n",
       "      <td>-0.024160</td>\n",
       "      <td>-0.010370</td>\n",
       "      <td>0.011907</td>\n",
       "      <td>-0.061907</td>\n",
       "      <td>-0.007688</td>\n",
       "      <td>0.012175</td>\n",
       "      <td>-0.026984</td>\n",
       "      <td>-0.005396</td>\n",
       "    </tr>\n",
       "    <tr>\n",
       "      <th>...</th>\n",
       "      <td>...</td>\n",
       "      <td>...</td>\n",
       "      <td>...</td>\n",
       "      <td>...</td>\n",
       "      <td>...</td>\n",
       "      <td>...</td>\n",
       "      <td>...</td>\n",
       "      <td>...</td>\n",
       "      <td>...</td>\n",
       "      <td>...</td>\n",
       "      <td>...</td>\n",
       "      <td>...</td>\n",
       "      <td>...</td>\n",
       "      <td>...</td>\n",
       "      <td>...</td>\n",
       "      <td>...</td>\n",
       "      <td>...</td>\n",
       "      <td>...</td>\n",
       "      <td>...</td>\n",
       "      <td>...</td>\n",
       "      <td>...</td>\n",
       "    </tr>\n",
       "    <tr>\n",
       "      <th>853</th>\n",
       "      <td>Clothing and Apparel</td>\n",
       "      <td>-0.048684</td>\n",
       "      <td>0.093903</td>\n",
       "      <td>0.016694</td>\n",
       "      <td>-0.035110</td>\n",
       "      <td>0.011880</td>\n",
       "      <td>-0.026728</td>\n",
       "      <td>-0.053086</td>\n",
       "      <td>0.063304</td>\n",
       "      <td>-0.078399</td>\n",
       "      <td>...</td>\n",
       "      <td>-0.078304</td>\n",
       "      <td>-0.061066</td>\n",
       "      <td>0.046168</td>\n",
       "      <td>-0.015279</td>\n",
       "      <td>-0.031982</td>\n",
       "      <td>0.042300</td>\n",
       "      <td>0.052310</td>\n",
       "      <td>0.035019</td>\n",
       "      <td>-0.038023</td>\n",
       "      <td>0.004539</td>\n",
       "    </tr>\n",
       "    <tr>\n",
       "      <th>253</th>\n",
       "      <td>Grocery and Supermarkets</td>\n",
       "      <td>0.033852</td>\n",
       "      <td>0.080054</td>\n",
       "      <td>-0.012055</td>\n",
       "      <td>-0.031243</td>\n",
       "      <td>-0.065597</td>\n",
       "      <td>-0.006627</td>\n",
       "      <td>-0.017393</td>\n",
       "      <td>0.056766</td>\n",
       "      <td>0.056457</td>\n",
       "      <td>...</td>\n",
       "      <td>-0.077908</td>\n",
       "      <td>-0.037485</td>\n",
       "      <td>0.025313</td>\n",
       "      <td>-0.016268</td>\n",
       "      <td>-0.001406</td>\n",
       "      <td>-0.006913</td>\n",
       "      <td>0.005527</td>\n",
       "      <td>-0.032167</td>\n",
       "      <td>-0.036808</td>\n",
       "      <td>-0.047461</td>\n",
       "    </tr>\n",
       "    <tr>\n",
       "      <th>2006</th>\n",
       "      <td>Home and Garden</td>\n",
       "      <td>-0.049273</td>\n",
       "      <td>-0.008684</td>\n",
       "      <td>0.014277</td>\n",
       "      <td>-0.002749</td>\n",
       "      <td>0.013799</td>\n",
       "      <td>-0.018705</td>\n",
       "      <td>-0.002092</td>\n",
       "      <td>-0.024190</td>\n",
       "      <td>0.038165</td>\n",
       "      <td>...</td>\n",
       "      <td>-0.031414</td>\n",
       "      <td>0.021798</td>\n",
       "      <td>0.008581</td>\n",
       "      <td>0.051536</td>\n",
       "      <td>0.020068</td>\n",
       "      <td>0.056726</td>\n",
       "      <td>0.063608</td>\n",
       "      <td>0.006536</td>\n",
       "      <td>-0.044605</td>\n",
       "      <td>-0.029751</td>\n",
       "    </tr>\n",
       "    <tr>\n",
       "      <th>1923</th>\n",
       "      <td>Home and Garden</td>\n",
       "      <td>-0.010213</td>\n",
       "      <td>-0.031066</td>\n",
       "      <td>0.027973</td>\n",
       "      <td>-0.002446</td>\n",
       "      <td>0.010096</td>\n",
       "      <td>-0.003021</td>\n",
       "      <td>0.037132</td>\n",
       "      <td>-0.038054</td>\n",
       "      <td>0.029050</td>\n",
       "      <td>...</td>\n",
       "      <td>-0.033348</td>\n",
       "      <td>0.000244</td>\n",
       "      <td>0.051316</td>\n",
       "      <td>0.044372</td>\n",
       "      <td>0.035971</td>\n",
       "      <td>0.024956</td>\n",
       "      <td>0.038357</td>\n",
       "      <td>0.002221</td>\n",
       "      <td>-0.025657</td>\n",
       "      <td>-0.011359</td>\n",
       "    </tr>\n",
       "    <tr>\n",
       "      <th>775</th>\n",
       "      <td>Restaurants and Food Services</td>\n",
       "      <td>0.051382</td>\n",
       "      <td>-0.025145</td>\n",
       "      <td>0.000569</td>\n",
       "      <td>-0.004084</td>\n",
       "      <td>-0.105717</td>\n",
       "      <td>0.007646</td>\n",
       "      <td>-0.052807</td>\n",
       "      <td>0.046865</td>\n",
       "      <td>-0.076916</td>\n",
       "      <td>...</td>\n",
       "      <td>-0.036433</td>\n",
       "      <td>0.026375</td>\n",
       "      <td>0.049042</td>\n",
       "      <td>0.015675</td>\n",
       "      <td>0.050221</td>\n",
       "      <td>-0.019466</td>\n",
       "      <td>-0.022725</td>\n",
       "      <td>-0.011973</td>\n",
       "      <td>-0.026546</td>\n",
       "      <td>0.007885</td>\n",
       "    </tr>\n",
       "  </tbody>\n",
       "</table>\n",
       "<p>2101 rows × 769 columns</p>\n",
       "</div>"
      ],
      "text/plain": [
       "                         categories  embedding_0  embedding_1  embedding_2  \\\n",
       "1207           Clothing and Apparel     0.004615    -0.021960     0.019385   \n",
       "666   Restaurants and Food Services     0.010653    -0.008771    -0.020748   \n",
       "473   Restaurants and Food Services     0.009863     0.023361     0.007846   \n",
       "857            Clothing and Apparel     0.059472    -0.059486    -0.005867   \n",
       "731   Restaurants and Food Services    -0.016475     0.024444    -0.021017   \n",
       "...                             ...          ...          ...          ...   \n",
       "853            Clothing and Apparel    -0.048684     0.093903     0.016694   \n",
       "253        Grocery and Supermarkets     0.033852     0.080054    -0.012055   \n",
       "2006                Home and Garden    -0.049273    -0.008684     0.014277   \n",
       "1923                Home and Garden    -0.010213    -0.031066     0.027973   \n",
       "775   Restaurants and Food Services     0.051382    -0.025145     0.000569   \n",
       "\n",
       "      embedding_3  embedding_4  embedding_5  embedding_6  embedding_7  \\\n",
       "1207    -0.008244    -0.008641    -0.016496    -0.017545     0.039551   \n",
       "666     -0.020573     0.012951     0.012413    -0.075527     0.018052   \n",
       "473     -0.029546     0.010275     0.034770    -0.075350     0.030008   \n",
       "857     -0.017769    -0.059400     0.034024    -0.007131    -0.006698   \n",
       "731      0.012644     0.004664     0.032096    -0.036332     0.066787   \n",
       "...           ...          ...          ...          ...          ...   \n",
       "853     -0.035110     0.011880    -0.026728    -0.053086     0.063304   \n",
       "253     -0.031243    -0.065597    -0.006627    -0.017393     0.056766   \n",
       "2006    -0.002749     0.013799    -0.018705    -0.002092    -0.024190   \n",
       "1923    -0.002446     0.010096    -0.003021     0.037132    -0.038054   \n",
       "775     -0.004084    -0.105717     0.007646    -0.052807     0.046865   \n",
       "\n",
       "      embedding_8  ...  embedding_758  embedding_759  embedding_760  \\\n",
       "1207    -0.015762  ...      -0.074300      -0.041394       0.008547   \n",
       "666     -0.070826  ...      -0.051336       0.031783      -0.115913   \n",
       "473     -0.037577  ...      -0.040057      -0.023020      -0.026501   \n",
       "857      0.047094  ...      -0.029096      -0.006952       0.058783   \n",
       "731      0.004202  ...      -0.075205       0.024029      -0.024160   \n",
       "...           ...  ...            ...            ...            ...   \n",
       "853     -0.078399  ...      -0.078304      -0.061066       0.046168   \n",
       "253      0.056457  ...      -0.077908      -0.037485       0.025313   \n",
       "2006     0.038165  ...      -0.031414       0.021798       0.008581   \n",
       "1923     0.029050  ...      -0.033348       0.000244       0.051316   \n",
       "775     -0.076916  ...      -0.036433       0.026375       0.049042   \n",
       "\n",
       "      embedding_761  embedding_762  embedding_763  embedding_764  \\\n",
       "1207      -0.028454      -0.035751      -0.041185      -0.011890   \n",
       "666       -0.029416       0.051972       0.028701      -0.032234   \n",
       "473       -0.037534       0.004404       0.043687      -0.053357   \n",
       "857        0.016553      -0.028954       0.065115      -0.025683   \n",
       "731       -0.010370       0.011907      -0.061907      -0.007688   \n",
       "...             ...            ...            ...            ...   \n",
       "853       -0.015279      -0.031982       0.042300       0.052310   \n",
       "253       -0.016268      -0.001406      -0.006913       0.005527   \n",
       "2006       0.051536       0.020068       0.056726       0.063608   \n",
       "1923       0.044372       0.035971       0.024956       0.038357   \n",
       "775        0.015675       0.050221      -0.019466      -0.022725   \n",
       "\n",
       "      embedding_765  embedding_766  embedding_767  \n",
       "1207       0.027684      -0.018400       0.022852  \n",
       "666        0.008620      -0.050748      -0.027074  \n",
       "473        0.004788      -0.007682      -0.011968  \n",
       "857        0.036423      -0.023619      -0.047884  \n",
       "731        0.012175      -0.026984      -0.005396  \n",
       "...             ...            ...            ...  \n",
       "853        0.035019      -0.038023       0.004539  \n",
       "253       -0.032167      -0.036808      -0.047461  \n",
       "2006       0.006536      -0.044605      -0.029751  \n",
       "1923       0.002221      -0.025657      -0.011359  \n",
       "775       -0.011973      -0.026546       0.007885  \n",
       "\n",
       "[2101 rows x 769 columns]"
      ]
     },
     "execution_count": 9,
     "metadata": {},
     "output_type": "execute_result"
    }
   ],
   "source": [
    "# Randomly shuffles the rows.\n",
    "shuffled_data = category_data.sample(frac=1)\n",
    "\n",
    "total_rows = shuffled_data.shape[0]\n",
    "train_size = int(total_rows*0.8)\n",
    " \n",
    "# Split data into test and train\n",
    "train = shuffled_data[0:train_size]\n",
    "test = shuffled_data[train_size:]\n",
    "\n",
    "train"
   ]
  },
  {
   "cell_type": "code",
   "execution_count": 10,
   "id": "a07060e5",
   "metadata": {},
   "outputs": [
    {
     "data": {
      "text/html": [
       "<div>\n",
       "<style scoped>\n",
       "    .dataframe tbody tr th:only-of-type {\n",
       "        vertical-align: middle;\n",
       "    }\n",
       "\n",
       "    .dataframe tbody tr th {\n",
       "        vertical-align: top;\n",
       "    }\n",
       "\n",
       "    .dataframe thead th {\n",
       "        text-align: right;\n",
       "    }\n",
       "</style>\n",
       "<table border=\"1\" class=\"dataframe\">\n",
       "  <thead>\n",
       "    <tr style=\"text-align: right;\">\n",
       "      <th></th>\n",
       "      <th>embedding_0</th>\n",
       "      <th>embedding_1</th>\n",
       "      <th>embedding_2</th>\n",
       "      <th>embedding_3</th>\n",
       "      <th>embedding_4</th>\n",
       "      <th>embedding_5</th>\n",
       "      <th>embedding_6</th>\n",
       "      <th>embedding_7</th>\n",
       "      <th>embedding_8</th>\n",
       "      <th>embedding_9</th>\n",
       "      <th>...</th>\n",
       "      <th>embedding_758</th>\n",
       "      <th>embedding_759</th>\n",
       "      <th>embedding_760</th>\n",
       "      <th>embedding_761</th>\n",
       "      <th>embedding_762</th>\n",
       "      <th>embedding_763</th>\n",
       "      <th>embedding_764</th>\n",
       "      <th>embedding_765</th>\n",
       "      <th>embedding_766</th>\n",
       "      <th>embedding_767</th>\n",
       "    </tr>\n",
       "  </thead>\n",
       "  <tbody>\n",
       "    <tr>\n",
       "      <th>708</th>\n",
       "      <td>0.061974</td>\n",
       "      <td>0.015481</td>\n",
       "      <td>-0.008744</td>\n",
       "      <td>0.011849</td>\n",
       "      <td>-0.038804</td>\n",
       "      <td>-0.017734</td>\n",
       "      <td>-0.082454</td>\n",
       "      <td>0.034851</td>\n",
       "      <td>-0.145253</td>\n",
       "      <td>0.042127</td>\n",
       "      <td>...</td>\n",
       "      <td>-0.017561</td>\n",
       "      <td>0.018634</td>\n",
       "      <td>0.021264</td>\n",
       "      <td>0.021207</td>\n",
       "      <td>0.047339</td>\n",
       "      <td>0.041918</td>\n",
       "      <td>-0.032891</td>\n",
       "      <td>-0.008557</td>\n",
       "      <td>-0.039237</td>\n",
       "      <td>0.013357</td>\n",
       "    </tr>\n",
       "    <tr>\n",
       "      <th>665</th>\n",
       "      <td>0.059348</td>\n",
       "      <td>-0.001224</td>\n",
       "      <td>-0.001690</td>\n",
       "      <td>-0.013083</td>\n",
       "      <td>0.014986</td>\n",
       "      <td>-0.010160</td>\n",
       "      <td>-0.062618</td>\n",
       "      <td>-0.001725</td>\n",
       "      <td>-0.049830</td>\n",
       "      <td>0.058461</td>\n",
       "      <td>...</td>\n",
       "      <td>-0.049348</td>\n",
       "      <td>0.006734</td>\n",
       "      <td>-0.005368</td>\n",
       "      <td>-0.019347</td>\n",
       "      <td>0.013827</td>\n",
       "      <td>0.001044</td>\n",
       "      <td>-0.009232</td>\n",
       "      <td>-0.041765</td>\n",
       "      <td>0.009742</td>\n",
       "      <td>-0.007167</td>\n",
       "    </tr>\n",
       "    <tr>\n",
       "      <th>1621</th>\n",
       "      <td>-0.003084</td>\n",
       "      <td>-0.051931</td>\n",
       "      <td>-0.003808</td>\n",
       "      <td>0.010947</td>\n",
       "      <td>-0.001847</td>\n",
       "      <td>0.043235</td>\n",
       "      <td>0.029271</td>\n",
       "      <td>0.031880</td>\n",
       "      <td>-0.041837</td>\n",
       "      <td>0.031144</td>\n",
       "      <td>...</td>\n",
       "      <td>0.004270</td>\n",
       "      <td>-0.009598</td>\n",
       "      <td>0.010529</td>\n",
       "      <td>-0.011715</td>\n",
       "      <td>0.003826</td>\n",
       "      <td>-0.013134</td>\n",
       "      <td>-0.008772</td>\n",
       "      <td>0.000876</td>\n",
       "      <td>-0.023039</td>\n",
       "      <td>0.010109</td>\n",
       "    </tr>\n",
       "    <tr>\n",
       "      <th>939</th>\n",
       "      <td>-0.014560</td>\n",
       "      <td>-0.039045</td>\n",
       "      <td>-0.015033</td>\n",
       "      <td>-0.041820</td>\n",
       "      <td>-0.057532</td>\n",
       "      <td>-0.002488</td>\n",
       "      <td>0.031922</td>\n",
       "      <td>0.044514</td>\n",
       "      <td>-0.049088</td>\n",
       "      <td>0.041876</td>\n",
       "      <td>...</td>\n",
       "      <td>-0.077938</td>\n",
       "      <td>0.001298</td>\n",
       "      <td>-0.043847</td>\n",
       "      <td>-0.052557</td>\n",
       "      <td>-0.016347</td>\n",
       "      <td>0.077977</td>\n",
       "      <td>-0.034964</td>\n",
       "      <td>0.044461</td>\n",
       "      <td>-0.002219</td>\n",
       "      <td>0.001243</td>\n",
       "    </tr>\n",
       "    <tr>\n",
       "      <th>1389</th>\n",
       "      <td>-0.000962</td>\n",
       "      <td>0.014681</td>\n",
       "      <td>-0.011459</td>\n",
       "      <td>-0.019921</td>\n",
       "      <td>-0.037623</td>\n",
       "      <td>0.021229</td>\n",
       "      <td>-0.022126</td>\n",
       "      <td>0.038808</td>\n",
       "      <td>0.048578</td>\n",
       "      <td>0.047308</td>\n",
       "      <td>...</td>\n",
       "      <td>-0.057934</td>\n",
       "      <td>0.015929</td>\n",
       "      <td>0.024215</td>\n",
       "      <td>-0.047810</td>\n",
       "      <td>0.003398</td>\n",
       "      <td>-0.015637</td>\n",
       "      <td>-0.027054</td>\n",
       "      <td>-0.004908</td>\n",
       "      <td>-0.017137</td>\n",
       "      <td>-0.037521</td>\n",
       "    </tr>\n",
       "    <tr>\n",
       "      <th>...</th>\n",
       "      <td>...</td>\n",
       "      <td>...</td>\n",
       "      <td>...</td>\n",
       "      <td>...</td>\n",
       "      <td>...</td>\n",
       "      <td>...</td>\n",
       "      <td>...</td>\n",
       "      <td>...</td>\n",
       "      <td>...</td>\n",
       "      <td>...</td>\n",
       "      <td>...</td>\n",
       "      <td>...</td>\n",
       "      <td>...</td>\n",
       "      <td>...</td>\n",
       "      <td>...</td>\n",
       "      <td>...</td>\n",
       "      <td>...</td>\n",
       "      <td>...</td>\n",
       "      <td>...</td>\n",
       "      <td>...</td>\n",
       "      <td>...</td>\n",
       "    </tr>\n",
       "    <tr>\n",
       "      <th>631</th>\n",
       "      <td>-0.003240</td>\n",
       "      <td>-0.037032</td>\n",
       "      <td>0.011686</td>\n",
       "      <td>-0.002609</td>\n",
       "      <td>-0.054228</td>\n",
       "      <td>-0.025749</td>\n",
       "      <td>-0.111358</td>\n",
       "      <td>-0.010403</td>\n",
       "      <td>-0.082120</td>\n",
       "      <td>0.034012</td>\n",
       "      <td>...</td>\n",
       "      <td>0.003333</td>\n",
       "      <td>-0.042004</td>\n",
       "      <td>0.016374</td>\n",
       "      <td>-0.020562</td>\n",
       "      <td>0.017616</td>\n",
       "      <td>-0.004335</td>\n",
       "      <td>0.003141</td>\n",
       "      <td>-0.018268</td>\n",
       "      <td>0.013533</td>\n",
       "      <td>-0.003823</td>\n",
       "    </tr>\n",
       "    <tr>\n",
       "      <th>572</th>\n",
       "      <td>0.008867</td>\n",
       "      <td>0.001673</td>\n",
       "      <td>0.003833</td>\n",
       "      <td>-0.030166</td>\n",
       "      <td>-0.003838</td>\n",
       "      <td>0.050514</td>\n",
       "      <td>-0.061470</td>\n",
       "      <td>0.027139</td>\n",
       "      <td>0.041913</td>\n",
       "      <td>0.000958</td>\n",
       "      <td>...</td>\n",
       "      <td>-0.021495</td>\n",
       "      <td>-0.019914</td>\n",
       "      <td>-0.059188</td>\n",
       "      <td>-0.039511</td>\n",
       "      <td>0.030829</td>\n",
       "      <td>0.019422</td>\n",
       "      <td>-0.048782</td>\n",
       "      <td>0.044065</td>\n",
       "      <td>0.008324</td>\n",
       "      <td>-0.003626</td>\n",
       "    </tr>\n",
       "    <tr>\n",
       "      <th>758</th>\n",
       "      <td>0.019607</td>\n",
       "      <td>-0.042935</td>\n",
       "      <td>0.009417</td>\n",
       "      <td>-0.020935</td>\n",
       "      <td>-0.054089</td>\n",
       "      <td>-0.032781</td>\n",
       "      <td>-0.073897</td>\n",
       "      <td>0.021741</td>\n",
       "      <td>-0.062537</td>\n",
       "      <td>0.030067</td>\n",
       "      <td>...</td>\n",
       "      <td>-0.038993</td>\n",
       "      <td>-0.015815</td>\n",
       "      <td>0.025481</td>\n",
       "      <td>-0.035509</td>\n",
       "      <td>0.034162</td>\n",
       "      <td>0.020475</td>\n",
       "      <td>0.002805</td>\n",
       "      <td>-0.017639</td>\n",
       "      <td>0.011068</td>\n",
       "      <td>0.015995</td>\n",
       "    </tr>\n",
       "    <tr>\n",
       "      <th>2430</th>\n",
       "      <td>0.026941</td>\n",
       "      <td>-0.007824</td>\n",
       "      <td>-0.008704</td>\n",
       "      <td>-0.040120</td>\n",
       "      <td>0.028418</td>\n",
       "      <td>0.008371</td>\n",
       "      <td>0.074828</td>\n",
       "      <td>-0.012489</td>\n",
       "      <td>-0.043600</td>\n",
       "      <td>-0.037044</td>\n",
       "      <td>...</td>\n",
       "      <td>0.019101</td>\n",
       "      <td>0.003487</td>\n",
       "      <td>0.023944</td>\n",
       "      <td>0.018698</td>\n",
       "      <td>-0.032615</td>\n",
       "      <td>0.027184</td>\n",
       "      <td>-0.007649</td>\n",
       "      <td>-0.016846</td>\n",
       "      <td>-0.010572</td>\n",
       "      <td>-0.043369</td>\n",
       "    </tr>\n",
       "    <tr>\n",
       "      <th>849</th>\n",
       "      <td>-0.030979</td>\n",
       "      <td>0.027860</td>\n",
       "      <td>-0.000452</td>\n",
       "      <td>-0.015980</td>\n",
       "      <td>-0.013217</td>\n",
       "      <td>0.001585</td>\n",
       "      <td>-0.007906</td>\n",
       "      <td>0.019935</td>\n",
       "      <td>-0.056268</td>\n",
       "      <td>0.009119</td>\n",
       "      <td>...</td>\n",
       "      <td>-0.088890</td>\n",
       "      <td>0.008792</td>\n",
       "      <td>0.085124</td>\n",
       "      <td>-0.025553</td>\n",
       "      <td>0.010953</td>\n",
       "      <td>-0.020031</td>\n",
       "      <td>-0.001579</td>\n",
       "      <td>0.045930</td>\n",
       "      <td>-0.036408</td>\n",
       "      <td>0.003576</td>\n",
       "    </tr>\n",
       "  </tbody>\n",
       "</table>\n",
       "<p>526 rows × 768 columns</p>\n",
       "</div>"
      ],
      "text/plain": [
       "      embedding_0  embedding_1  embedding_2  embedding_3  embedding_4  \\\n",
       "708      0.061974     0.015481    -0.008744     0.011849    -0.038804   \n",
       "665      0.059348    -0.001224    -0.001690    -0.013083     0.014986   \n",
       "1621    -0.003084    -0.051931    -0.003808     0.010947    -0.001847   \n",
       "939     -0.014560    -0.039045    -0.015033    -0.041820    -0.057532   \n",
       "1389    -0.000962     0.014681    -0.011459    -0.019921    -0.037623   \n",
       "...           ...          ...          ...          ...          ...   \n",
       "631     -0.003240    -0.037032     0.011686    -0.002609    -0.054228   \n",
       "572      0.008867     0.001673     0.003833    -0.030166    -0.003838   \n",
       "758      0.019607    -0.042935     0.009417    -0.020935    -0.054089   \n",
       "2430     0.026941    -0.007824    -0.008704    -0.040120     0.028418   \n",
       "849     -0.030979     0.027860    -0.000452    -0.015980    -0.013217   \n",
       "\n",
       "      embedding_5  embedding_6  embedding_7  embedding_8  embedding_9  ...  \\\n",
       "708     -0.017734    -0.082454     0.034851    -0.145253     0.042127  ...   \n",
       "665     -0.010160    -0.062618    -0.001725    -0.049830     0.058461  ...   \n",
       "1621     0.043235     0.029271     0.031880    -0.041837     0.031144  ...   \n",
       "939     -0.002488     0.031922     0.044514    -0.049088     0.041876  ...   \n",
       "1389     0.021229    -0.022126     0.038808     0.048578     0.047308  ...   \n",
       "...           ...          ...          ...          ...          ...  ...   \n",
       "631     -0.025749    -0.111358    -0.010403    -0.082120     0.034012  ...   \n",
       "572      0.050514    -0.061470     0.027139     0.041913     0.000958  ...   \n",
       "758     -0.032781    -0.073897     0.021741    -0.062537     0.030067  ...   \n",
       "2430     0.008371     0.074828    -0.012489    -0.043600    -0.037044  ...   \n",
       "849      0.001585    -0.007906     0.019935    -0.056268     0.009119  ...   \n",
       "\n",
       "      embedding_758  embedding_759  embedding_760  embedding_761  \\\n",
       "708       -0.017561       0.018634       0.021264       0.021207   \n",
       "665       -0.049348       0.006734      -0.005368      -0.019347   \n",
       "1621       0.004270      -0.009598       0.010529      -0.011715   \n",
       "939       -0.077938       0.001298      -0.043847      -0.052557   \n",
       "1389      -0.057934       0.015929       0.024215      -0.047810   \n",
       "...             ...            ...            ...            ...   \n",
       "631        0.003333      -0.042004       0.016374      -0.020562   \n",
       "572       -0.021495      -0.019914      -0.059188      -0.039511   \n",
       "758       -0.038993      -0.015815       0.025481      -0.035509   \n",
       "2430       0.019101       0.003487       0.023944       0.018698   \n",
       "849       -0.088890       0.008792       0.085124      -0.025553   \n",
       "\n",
       "      embedding_762  embedding_763  embedding_764  embedding_765  \\\n",
       "708        0.047339       0.041918      -0.032891      -0.008557   \n",
       "665        0.013827       0.001044      -0.009232      -0.041765   \n",
       "1621       0.003826      -0.013134      -0.008772       0.000876   \n",
       "939       -0.016347       0.077977      -0.034964       0.044461   \n",
       "1389       0.003398      -0.015637      -0.027054      -0.004908   \n",
       "...             ...            ...            ...            ...   \n",
       "631        0.017616      -0.004335       0.003141      -0.018268   \n",
       "572        0.030829       0.019422      -0.048782       0.044065   \n",
       "758        0.034162       0.020475       0.002805      -0.017639   \n",
       "2430      -0.032615       0.027184      -0.007649      -0.016846   \n",
       "849        0.010953      -0.020031      -0.001579       0.045930   \n",
       "\n",
       "      embedding_766  embedding_767  \n",
       "708       -0.039237       0.013357  \n",
       "665        0.009742      -0.007167  \n",
       "1621      -0.023039       0.010109  \n",
       "939       -0.002219       0.001243  \n",
       "1389      -0.017137      -0.037521  \n",
       "...             ...            ...  \n",
       "631        0.013533      -0.003823  \n",
       "572        0.008324      -0.003626  \n",
       "758        0.011068       0.015995  \n",
       "2430      -0.010572      -0.043369  \n",
       "849       -0.036408       0.003576  \n",
       "\n",
       "[526 rows x 768 columns]"
      ]
     },
     "execution_count": 10,
     "metadata": {},
     "output_type": "execute_result"
    }
   ],
   "source": [
    "# X is the embeddings and Y is the categories.\n",
    "\n",
    "y_train = train['categories']\n",
    "x_train = train.loc[:, train.columns != 'categories']\n",
    "\n",
    "y_test = test['categories']\n",
    "x_test = test.loc[:, test.columns != 'categories']\n",
    "\n",
    "x_test"
   ]
  },
  {
   "cell_type": "code",
   "execution_count": 11,
   "id": "a5b306ea",
   "metadata": {},
   "outputs": [
    {
     "name": "stderr",
     "output_type": "stream",
     "text": [
      "huggingface/tokenizers: The current process just got forked, after parallelism has already been used. Disabling parallelism to avoid deadlocks...\n",
      "To disable this warning, you can either:\n",
      "\t- Avoid using `tokenizers` before the fork if possible\n",
      "\t- Explicitly set the environment variable TOKENIZERS_PARALLELISM=(true | false)\n",
      "/Users/charlierobison/opt/anaconda3/envs/temp/lib/python3.9/site-packages/threadpoolctl.py:1010: RuntimeWarning: \n",
      "Found Intel OpenMP ('libiomp') and LLVM OpenMP ('libomp') loaded at\n",
      "the same time. Both libraries are known to be incompatible and this\n",
      "can cause random crashes or deadlocks on Linux when loaded in the\n",
      "same Python program.\n",
      "Using threadpoolctl may cause crashes or deadlocks. For more\n",
      "information and possible workarounds, please see\n",
      "    https://github.com/joblib/threadpoolctl/blob/master/multiple_openmp.md\n",
      "\n",
      "  warnings.warn(msg, RuntimeWarning)\n"
     ]
    },
    {
     "data": {
      "text/plain": [
       "7"
      ]
     },
     "execution_count": 11,
     "metadata": {},
     "output_type": "execute_result"
    }
   ],
   "source": [
    "knn = KNeighborsClassifier()\n",
    "\n",
    "# Create a dictionary of all values we want to test for n_neighbors\n",
    "param_grid = {'n_neighbors': np.arange(1, 25)}\n",
    "\n",
    "# Uses gridsearch to test all values for n_neighbors.\n",
    "knn_grid_search = GridSearchCV(knn, param_grid, cv=5)\n",
    "\n",
    "# Fit model to data.\n",
    "knn_grid_search.fit(x_train, y_train)\n",
    "\n",
    "# Gets the n_neighbors value which warrants the highest accuracy.\n",
    "best_n_neighbors=knn_grid_search.best_params_['n_neighbors']\n",
    "best_n_neighbors"
   ]
  },
  {
   "cell_type": "code",
   "execution_count": 12,
   "id": "1eb702e5",
   "metadata": {},
   "outputs": [
    {
     "data": {
      "text/html": [
       "<style>#sk-container-id-1 {color: black;}#sk-container-id-1 pre{padding: 0;}#sk-container-id-1 div.sk-toggleable {background-color: white;}#sk-container-id-1 label.sk-toggleable__label {cursor: pointer;display: block;width: 100%;margin-bottom: 0;padding: 0.3em;box-sizing: border-box;text-align: center;}#sk-container-id-1 label.sk-toggleable__label-arrow:before {content: \"▸\";float: left;margin-right: 0.25em;color: #696969;}#sk-container-id-1 label.sk-toggleable__label-arrow:hover:before {color: black;}#sk-container-id-1 div.sk-estimator:hover label.sk-toggleable__label-arrow:before {color: black;}#sk-container-id-1 div.sk-toggleable__content {max-height: 0;max-width: 0;overflow: hidden;text-align: left;background-color: #f0f8ff;}#sk-container-id-1 div.sk-toggleable__content pre {margin: 0.2em;color: black;border-radius: 0.25em;background-color: #f0f8ff;}#sk-container-id-1 input.sk-toggleable__control:checked~div.sk-toggleable__content {max-height: 200px;max-width: 100%;overflow: auto;}#sk-container-id-1 input.sk-toggleable__control:checked~label.sk-toggleable__label-arrow:before {content: \"▾\";}#sk-container-id-1 div.sk-estimator input.sk-toggleable__control:checked~label.sk-toggleable__label {background-color: #d4ebff;}#sk-container-id-1 div.sk-label input.sk-toggleable__control:checked~label.sk-toggleable__label {background-color: #d4ebff;}#sk-container-id-1 input.sk-hidden--visually {border: 0;clip: rect(1px 1px 1px 1px);clip: rect(1px, 1px, 1px, 1px);height: 1px;margin: -1px;overflow: hidden;padding: 0;position: absolute;width: 1px;}#sk-container-id-1 div.sk-estimator {font-family: monospace;background-color: #f0f8ff;border: 1px dotted black;border-radius: 0.25em;box-sizing: border-box;margin-bottom: 0.5em;}#sk-container-id-1 div.sk-estimator:hover {background-color: #d4ebff;}#sk-container-id-1 div.sk-parallel-item::after {content: \"\";width: 100%;border-bottom: 1px solid gray;flex-grow: 1;}#sk-container-id-1 div.sk-label:hover label.sk-toggleable__label {background-color: #d4ebff;}#sk-container-id-1 div.sk-serial::before {content: \"\";position: absolute;border-left: 1px solid gray;box-sizing: border-box;top: 0;bottom: 0;left: 50%;z-index: 0;}#sk-container-id-1 div.sk-serial {display: flex;flex-direction: column;align-items: center;background-color: white;padding-right: 0.2em;padding-left: 0.2em;position: relative;}#sk-container-id-1 div.sk-item {position: relative;z-index: 1;}#sk-container-id-1 div.sk-parallel {display: flex;align-items: stretch;justify-content: center;background-color: white;position: relative;}#sk-container-id-1 div.sk-item::before, #sk-container-id-1 div.sk-parallel-item::before {content: \"\";position: absolute;border-left: 1px solid gray;box-sizing: border-box;top: 0;bottom: 0;left: 50%;z-index: -1;}#sk-container-id-1 div.sk-parallel-item {display: flex;flex-direction: column;z-index: 1;position: relative;background-color: white;}#sk-container-id-1 div.sk-parallel-item:first-child::after {align-self: flex-end;width: 50%;}#sk-container-id-1 div.sk-parallel-item:last-child::after {align-self: flex-start;width: 50%;}#sk-container-id-1 div.sk-parallel-item:only-child::after {width: 0;}#sk-container-id-1 div.sk-dashed-wrapped {border: 1px dashed gray;margin: 0 0.4em 0.5em 0.4em;box-sizing: border-box;padding-bottom: 0.4em;background-color: white;}#sk-container-id-1 div.sk-label label {font-family: monospace;font-weight: bold;display: inline-block;line-height: 1.2em;}#sk-container-id-1 div.sk-label-container {text-align: center;}#sk-container-id-1 div.sk-container {/* jupyter's `normalize.less` sets `[hidden] { display: none; }` but bootstrap.min.css set `[hidden] { display: none !important; }` so we also need the `!important` here to be able to override the default hidden behavior on the sphinx rendered scikit-learn.org. See: https://github.com/scikit-learn/scikit-learn/issues/21755 */display: inline-block !important;position: relative;}#sk-container-id-1 div.sk-text-repr-fallback {display: none;}</style><div id=\"sk-container-id-1\" class=\"sk-top-container\"><div class=\"sk-text-repr-fallback\"><pre>KNeighborsClassifier(n_neighbors=7)</pre><b>In a Jupyter environment, please rerun this cell to show the HTML representation or trust the notebook. <br />On GitHub, the HTML representation is unable to render, please try loading this page with nbviewer.org.</b></div><div class=\"sk-container\" hidden><div class=\"sk-item\"><div class=\"sk-estimator sk-toggleable\"><input class=\"sk-toggleable__control sk-hidden--visually\" id=\"sk-estimator-id-1\" type=\"checkbox\" checked><label for=\"sk-estimator-id-1\" class=\"sk-toggleable__label sk-toggleable__label-arrow\">KNeighborsClassifier</label><div class=\"sk-toggleable__content\"><pre>KNeighborsClassifier(n_neighbors=7)</pre></div></div></div></div></div>"
      ],
      "text/plain": [
       "KNeighborsClassifier(n_neighbors=7)"
      ]
     },
     "execution_count": 12,
     "metadata": {},
     "output_type": "execute_result"
    }
   ],
   "source": [
    "# Trains the KNN model with the best n_neighbors value.\n",
    "knn_cls = KNeighborsClassifier(n_neighbors=best_n_neighbors)\n",
    "knn_cls.fit(x_train.values, y_train.values)"
   ]
  },
  {
   "cell_type": "code",
   "execution_count": 13,
   "id": "b3465c8f",
   "metadata": {},
   "outputs": [
    {
     "data": {
      "text/plain": [
       "array([[398,   0,   2,   1,   0,   0,   2],\n",
       "       [  1, 133,   9,   0,   7,   0,   1],\n",
       "       [  6,   8, 343,   1,   2,   2,   1],\n",
       "       [  2,   2,   2, 224,  27,   0,  24],\n",
       "       [  7,   5,   4,  18, 184,   1,   0],\n",
       "       [  3,   5,   3,   1,   4, 298,   1],\n",
       "       [  0,   0,   1,  10,   0,   0, 358]])"
      ]
     },
     "execution_count": 13,
     "metadata": {},
     "output_type": "execute_result"
    }
   ],
   "source": [
    "from sklearn.metrics import confusion_matrix\n",
    "\n",
    "# Gets the predications for the test dataset.\n",
    "y_train_pred = knn_cls.predict(x_train.values)\n",
    "\n",
    "# Gets a confusion matrix for error analysis.\n",
    "conf_matrix = confusion_matrix(y_train, y_train_pred)\n",
    "conf_matrix"
   ]
  },
  {
   "cell_type": "code",
   "execution_count": 14,
   "id": "1090088b",
   "metadata": {},
   "outputs": [
    {
     "name": "stdout",
     "output_type": "stream",
     "text": [
      "Accuracy: 0.9224178962398858\n",
      "Precision: 0.9224178962398858. This high ratio assumes most postives were true positives since precision = tp / (tp + fp).\n",
      "Recall: 0.9224178962398858. This high ratio means there were not too many false negatives since recalle = tp / (tp + fn).\n",
      "F1 Score: 0.9224178962398858. This high score means the model is relatively good at classifiying.\n"
     ]
    }
   ],
   "source": [
    "# Gets precision, recall, and f1 score from the trained data.\n",
    "accuracy = accuracy_score(y_train, y_train_pred)\n",
    "precision = precision_score(y_train, y_train_pred, average='micro')\n",
    "recall = recall_score(y_train, y_train_pred, average='micro')\n",
    "f1_score = f1_score(y_train, y_train_pred, average='micro')\n",
    "print(f'Accuracy: {accuracy}')\n",
    "print(f'Precision: {precision}. This high ratio assumes most postives were true positives since precision = tp / (tp + fp).')\n",
    "print(f'Recall: {recall}. This high ratio means there were not too many false negatives since recalle = tp / (tp + fn).')\n",
    "print(f'F1 Score: {f1_score}. This high score means the model is relatively good at classifiying.')"
   ]
  },
  {
   "cell_type": "code",
   "execution_count": 15,
   "id": "fce7eb0e",
   "metadata": {},
   "outputs": [
    {
     "data": {
      "image/png": "[encoded data removed]",
      "text/plain": [
       "<Figure size 640x480 with 2 Axes>"
      ]
     },
     "metadata": {},
     "output_type": "display_data"
    }
   ],
   "source": [
    "# Plots the confusion matrix to better visualize.\n",
    "# Generally, the test data was classified correctly given the lighter colors in the diagonal.\n",
    "fig = plt.figure()\n",
    "ax = fig.add_subplot(111)\n",
    "plot = ax.matshow(conf_matrix, cmap=plt.cm.gray)\n",
    "fig.colorbar(plot)\n",
    "ax.set_xlabel('Predicted Categories')\n",
    "ax.set_ylabel('Actual Categories')\n",
    "ax.set_title('Confusion Matrix of Predicted vs Actual Classifications of Training Data')\n",
    "\n",
    "plt.show()"
   ]
  },
  {
   "cell_type": "code",
   "execution_count": 16,
   "id": "0ec27ab6",
   "metadata": {},
   "outputs": [],
   "source": [
    "## 1. For each receipt we will take the avg(vendor embeddings, item1 embeddings, item2 embeddings, ...).\n",
    "## 2. Pre-process the data to be put into the model.\n",
    "## 3. Predict using the model."
   ]
  },
  {
   "cell_type": "code",
   "execution_count": 17,
   "id": "d9849e5a",
   "metadata": {},
   "outputs": [],
   "source": [
    "def compute_embeddings(receipt):\n",
    "    \"\"\"Computes the embeddings for the vendor and items in the given receipt.\"\"\"\n",
    "    # Converts the receipt to JSON.\n",
    "    try:\n",
    "        json_object = json.loads(receipt)\n",
    "    except:\n",
    "        return None, None\n",
    "    \n",
    "    # Gets the vendor name from the receipt JSON object.\n",
    "    vendor = json_object['ReceiptInfo']['merchant']\n",
    "    embeddings_model = HuggingFaceEmbeddings()\n",
    "\n",
    "    if vendor != \"\":\n",
    "        # Gets embeddings for the vendor.\n",
    "        vendor_embeddings = embeddings_model.embed_documents(vendor)[0]\n",
    "    else:\n",
    "        vendor_embeddings = None\n",
    "    \n",
    "    # Gets embeddings for items in receipt.\n",
    "    items = [item['description'] for item in json_object['ReceiptInfo']['ITEMS']]\n",
    "    embedded_items = embeddings_model.embed_documents(items)\n",
    "\n",
    "    return vendor_embeddings, embedded_items"
   ]
  },
  {
   "cell_type": "code",
   "execution_count": 18,
   "id": "17df4fe7",
   "metadata": {},
   "outputs": [],
   "source": [
    "def get_avg_embeddings(vendor_embeddings, embedded_items):\n",
    "    \"\"\"Gets the average receipt embeddings\"\"\"\n",
    "    avg_embeddings = []\n",
    "    receipt_embeddings = {}\n",
    "\n",
    "    if embedded_items is None and vendor_embeddings is None:\n",
    "        return None\n",
    "    elif len(embedded_items) == 0 and vendor_embeddings is not None:\n",
    "        avg_embeddings = vendor_embeddings\n",
    "    elif len(embedded_items) == 0 and vendor_embeddings is None:\n",
    "        return None\n",
    "    else:\n",
    "        # For each embedding for the vendor.\n",
    "        for i in range(len(embedded_items[0])):\n",
    "    \n",
    "            if vendor_embeddings is not None:\n",
    "                # Add the embedding to embeddings.\n",
    "                embeddings = [vendor_embeddings[i]]\n",
    "            else:\n",
    "                embeddings = []\n",
    "        \n",
    "            # Add all corresponding item embeddings to embeddings.\n",
    "            for item_embedding in embedded_items:\n",
    "                embeddings.append(item_embedding[i])\n",
    "        \n",
    "            # Add the average of the embedding to average embeddings.\n",
    "            avg_embeddings.append(np.average(embeddings))\n",
    "    \n",
    "    # For each embedding add it to the embeddings object.\n",
    "    for i in range(len(avg_embeddings)):\n",
    "        if f'embedding_{i}' in receipt_embeddings:\n",
    "            receipt_embeddings[f'embedding_{i}'].append(avg_embeddings[i])\n",
    "        else:\n",
    "            receipt_embeddings[f'embedding_{i}'] = []\n",
    "            receipt_embeddings[f'embedding_{i}'].append(avg_embeddings[i])\n",
    "    \n",
    "    return receipt_embeddings"
   ]
  },
  {
   "cell_type": "code",
   "execution_count": 19,
   "id": "72f9f139",
   "metadata": {},
   "outputs": [
    {
     "name": "stderr",
     "output_type": "stream",
     "text": [
      "2023-12-13 21:08:08 sentence_transformers.SentenceTransformer INFO: Load pretrained SentenceTransformer: sentence-transformers/all-mpnet-base-v2\n",
      "2023-12-13 21:08:09 sentence_transformers.SentenceTransformer INFO: Use pytorch device: cpu\n"
     ]
    },
    {
     "data": {
      "application/vnd.jupyter.widget-view+json": {
       "model_id": "76d3ed7c929549d48e5cd3ee4df9dbbe",
       "version_major": 2,
       "version_minor": 0
      },
      "text/plain": [
       "Batches:   0%|          | 0/1 [00:00<?, ?it/s]"
      ]
     },
     "metadata": {},
     "output_type": "display_data"
    },
    {
     "data": {
      "application/vnd.jupyter.widget-view+json": {
       "model_id": "4b119a2d47c348c69ede24d743ab1f91",
       "version_major": 2,
       "version_minor": 0
      },
      "text/plain": [
       "Batches:   0%|          | 0/1 [00:00<?, ?it/s]"
      ]
     },
     "metadata": {},
     "output_type": "display_data"
    },
    {
     "name": "stderr",
     "output_type": "stream",
     "text": [
      "2023-12-13 21:08:09 sentence_transformers.SentenceTransformer INFO: Load pretrained SentenceTransformer: sentence-transformers/all-mpnet-base-v2\n",
      "2023-12-13 21:08:10 sentence_transformers.SentenceTransformer INFO: Use pytorch device: cpu\n"
     ]
    },
    {
     "data": {
      "application/vnd.jupyter.widget-view+json": {
       "model_id": "0cbd28cd3fd34471a5ff6f9fe59ecd19",
       "version_major": 2,
       "version_minor": 0
      },
      "text/plain": [
       "Batches:   0%|          | 0/1 [00:00<?, ?it/s]"
      ]
     },
     "metadata": {},
     "output_type": "display_data"
    },
    {
     "data": {
      "application/vnd.jupyter.widget-view+json": {
       "model_id": "4ba3aaf9f6bb49fd8f2e472d12cb4399",
       "version_major": 2,
       "version_minor": 0
      },
      "text/plain": [
       "Batches:   0%|          | 0/1 [00:00<?, ?it/s]"
      ]
     },
     "metadata": {},
     "output_type": "display_data"
    },
    {
     "name": "stderr",
     "output_type": "stream",
     "text": [
      "2023-12-13 21:08:10 sentence_transformers.SentenceTransformer INFO: Load pretrained SentenceTransformer: sentence-transformers/all-mpnet-base-v2\n",
      "2023-12-13 21:08:11 sentence_transformers.SentenceTransformer INFO: Use pytorch device: cpu\n"
     ]
    },
    {
     "data": {
      "application/vnd.jupyter.widget-view+json": {
       "model_id": "befa3048fd6f408bb413e780e4eaa770",
       "version_major": 2,
       "version_minor": 0
      },
      "text/plain": [
       "Batches:   0%|          | 0/1 [00:00<?, ?it/s]"
      ]
     },
     "metadata": {},
     "output_type": "display_data"
    },
    {
     "data": {
      "application/vnd.jupyter.widget-view+json": {
       "model_id": "86aface4d7844673817aec558bae030f",
       "version_major": 2,
       "version_minor": 0
      },
      "text/plain": [
       "Batches:   0%|          | 0/1 [00:00<?, ?it/s]"
      ]
     },
     "metadata": {},
     "output_type": "display_data"
    },
    {
     "name": "stderr",
     "output_type": "stream",
     "text": [
      "2023-12-13 21:08:11 sentence_transformers.SentenceTransformer INFO: Load pretrained SentenceTransformer: sentence-transformers/all-mpnet-base-v2\n",
      "2023-12-13 21:08:12 sentence_transformers.SentenceTransformer INFO: Use pytorch device: cpu\n"
     ]
    },
    {
     "data": {
      "application/vnd.jupyter.widget-view+json": {
       "model_id": "77ea592603334af48b34242cf773b531",
       "version_major": 2,
       "version_minor": 0
      },
      "text/plain": [
       "Batches:   0%|          | 0/1 [00:00<?, ?it/s]"
      ]
     },
     "metadata": {},
     "output_type": "display_data"
    },
    {
     "data": {
      "application/vnd.jupyter.widget-view+json": {
       "model_id": "dacec5d96a7b4c9d99a2b9823cd10493",
       "version_major": 2,
       "version_minor": 0
      },
      "text/plain": [
       "Batches:   0%|          | 0/1 [00:00<?, ?it/s]"
      ]
     },
     "metadata": {},
     "output_type": "display_data"
    },
    {
     "name": "stderr",
     "output_type": "stream",
     "text": [
      "2023-12-13 21:08:12 sentence_transformers.SentenceTransformer INFO: Load pretrained SentenceTransformer: sentence-transformers/all-mpnet-base-v2\n",
      "2023-12-13 21:08:12 sentence_transformers.SentenceTransformer INFO: Use pytorch device: cpu\n"
     ]
    },
    {
     "data": {
      "application/vnd.jupyter.widget-view+json": {
       "model_id": "e5f67a078edb4a449133a6169a3adb61",
       "version_major": 2,
       "version_minor": 0
      },
      "text/plain": [
       "Batches:   0%|          | 0/1 [00:00<?, ?it/s]"
      ]
     },
     "metadata": {},
     "output_type": "display_data"
    },
    {
     "data": {
      "application/vnd.jupyter.widget-view+json": {
       "model_id": "1e08d45cd08745c098a8a3017e7a926b",
       "version_major": 2,
       "version_minor": 0
      },
      "text/plain": [
       "Batches:   0%|          | 0/1 [00:00<?, ?it/s]"
      ]
     },
     "metadata": {},
     "output_type": "display_data"
    },
    {
     "name": "stderr",
     "output_type": "stream",
     "text": [
      "2023-12-13 21:08:13 sentence_transformers.SentenceTransformer INFO: Load pretrained SentenceTransformer: sentence-transformers/all-mpnet-base-v2\n",
      "2023-12-13 21:08:13 sentence_transformers.SentenceTransformer INFO: Use pytorch device: cpu\n"
     ]
    },
    {
     "data": {
      "application/vnd.jupyter.widget-view+json": {
       "model_id": "cfee459f21ac4b9abdbb240dc2aa4516",
       "version_major": 2,
       "version_minor": 0
      },
      "text/plain": [
       "Batches:   0%|          | 0/1 [00:00<?, ?it/s]"
      ]
     },
     "metadata": {},
     "output_type": "display_data"
    },
    {
     "data": {
      "application/vnd.jupyter.widget-view+json": {
       "model_id": "57d9e18a6f12422a84d93b78f9dc54ea",
       "version_major": 2,
       "version_minor": 0
      },
      "text/plain": [
       "Batches:   0%|          | 0/1 [00:00<?, ?it/s]"
      ]
     },
     "metadata": {},
     "output_type": "display_data"
    },
    {
     "name": "stderr",
     "output_type": "stream",
     "text": [
      "2023-12-13 21:08:14 sentence_transformers.SentenceTransformer INFO: Load pretrained SentenceTransformer: sentence-transformers/all-mpnet-base-v2\n",
      "2023-12-13 21:08:14 sentence_transformers.SentenceTransformer INFO: Use pytorch device: cpu\n"
     ]
    },
    {
     "data": {
      "application/vnd.jupyter.widget-view+json": {
       "model_id": "717469a073794bd386dd886f194c5468",
       "version_major": 2,
       "version_minor": 0
      },
      "text/plain": [
       "Batches:   0%|          | 0/1 [00:00<?, ?it/s]"
      ]
     },
     "metadata": {},
     "output_type": "display_data"
    },
    {
     "data": {
      "application/vnd.jupyter.widget-view+json": {
       "model_id": "d0361267705440df85ceb71258e3a325",
       "version_major": 2,
       "version_minor": 0
      },
      "text/plain": [
       "Batches:   0%|          | 0/1 [00:00<?, ?it/s]"
      ]
     },
     "metadata": {},
     "output_type": "display_data"
    },
    {
     "name": "stderr",
     "output_type": "stream",
     "text": [
      "2023-12-13 21:08:14 sentence_transformers.SentenceTransformer INFO: Load pretrained SentenceTransformer: sentence-transformers/all-mpnet-base-v2\n",
      "2023-12-13 21:08:15 sentence_transformers.SentenceTransformer INFO: Use pytorch device: cpu\n"
     ]
    },
    {
     "data": {
      "application/vnd.jupyter.widget-view+json": {
       "model_id": "7b008042cd754418b3f9f1f3d527b5b6",
       "version_major": 2,
       "version_minor": 0
      },
      "text/plain": [
       "Batches:   0%|          | 0/1 [00:00<?, ?it/s]"
      ]
     },
     "metadata": {},
     "output_type": "display_data"
    },
    {
     "data": {
      "application/vnd.jupyter.widget-view+json": {
       "model_id": "8fcff332f0a940af8e8e4cc29abf4676",
       "version_major": 2,
       "version_minor": 0
      },
      "text/plain": [
       "Batches:   0%|          | 0/1 [00:00<?, ?it/s]"
      ]
     },
     "metadata": {},
     "output_type": "display_data"
    },
    {
     "name": "stderr",
     "output_type": "stream",
     "text": [
      "2023-12-13 21:08:15 sentence_transformers.SentenceTransformer INFO: Load pretrained SentenceTransformer: sentence-transformers/all-mpnet-base-v2\n",
      "2023-12-13 21:08:16 sentence_transformers.SentenceTransformer INFO: Use pytorch device: cpu\n"
     ]
    },
    {
     "data": {
      "application/vnd.jupyter.widget-view+json": {
       "model_id": "1e51815349e54be080cdd1cde56f61fa",
       "version_major": 2,
       "version_minor": 0
      },
      "text/plain": [
       "Batches:   0%|          | 0/1 [00:00<?, ?it/s]"
      ]
     },
     "metadata": {},
     "output_type": "display_data"
    },
    {
     "data": {
      "application/vnd.jupyter.widget-view+json": {
       "model_id": "5dc90ee210d9413697e0c932b35411d6",
       "version_major": 2,
       "version_minor": 0
      },
      "text/plain": [
       "Batches:   0%|          | 0/1 [00:00<?, ?it/s]"
      ]
     },
     "metadata": {},
     "output_type": "display_data"
    },
    {
     "name": "stderr",
     "output_type": "stream",
     "text": [
      "2023-12-13 21:08:16 sentence_transformers.SentenceTransformer INFO: Load pretrained SentenceTransformer: sentence-transformers/all-mpnet-base-v2\n",
      "2023-12-13 21:08:17 sentence_transformers.SentenceTransformer INFO: Use pytorch device: cpu\n"
     ]
    },
    {
     "data": {
      "application/vnd.jupyter.widget-view+json": {
       "model_id": "bbcd905c62da4a5c9cbd6d580c5f6f94",
       "version_major": 2,
       "version_minor": 0
      },
      "text/plain": [
       "Batches:   0%|          | 0/1 [00:00<?, ?it/s]"
      ]
     },
     "metadata": {},
     "output_type": "display_data"
    },
    {
     "data": {
      "application/vnd.jupyter.widget-view+json": {
       "model_id": "7ca3af0e05a24c258c04bb7f16b98a8a",
       "version_major": 2,
       "version_minor": 0
      },
      "text/plain": [
       "Batches: 0it [00:00, ?it/s]"
      ]
     },
     "metadata": {},
     "output_type": "display_data"
    },
    {
     "name": "stderr",
     "output_type": "stream",
     "text": [
      "2023-12-13 21:08:17 sentence_transformers.SentenceTransformer INFO: Load pretrained SentenceTransformer: sentence-transformers/all-mpnet-base-v2\n",
      "2023-12-13 21:08:18 sentence_transformers.SentenceTransformer INFO: Use pytorch device: cpu\n"
     ]
    },
    {
     "data": {
      "application/vnd.jupyter.widget-view+json": {
       "model_id": "aad33b1433d84868837deb2e8c591b4c",
       "version_major": 2,
       "version_minor": 0
      },
      "text/plain": [
       "Batches:   0%|          | 0/1 [00:00<?, ?it/s]"
      ]
     },
     "metadata": {},
     "output_type": "display_data"
    },
    {
     "data": {
      "application/vnd.jupyter.widget-view+json": {
       "model_id": "f22dbfb489504370848b42e65d34d87a",
       "version_major": 2,
       "version_minor": 0
      },
      "text/plain": [
       "Batches:   0%|          | 0/1 [00:00<?, ?it/s]"
      ]
     },
     "metadata": {},
     "output_type": "display_data"
    },
    {
     "name": "stderr",
     "output_type": "stream",
     "text": [
      "2023-12-13 21:08:18 sentence_transformers.SentenceTransformer INFO: Load pretrained SentenceTransformer: sentence-transformers/all-mpnet-base-v2\n",
      "2023-12-13 21:08:19 sentence_transformers.SentenceTransformer INFO: Use pytorch device: cpu\n"
     ]
    },
    {
     "data": {
      "application/vnd.jupyter.widget-view+json": {
       "model_id": "5a5334c6dfb14bd18098a5778eef41e2",
       "version_major": 2,
       "version_minor": 0
      },
      "text/plain": [
       "Batches:   0%|          | 0/1 [00:00<?, ?it/s]"
      ]
     },
     "metadata": {},
     "output_type": "display_data"
    },
    {
     "data": {
      "application/vnd.jupyter.widget-view+json": {
       "model_id": "5b8fd284c6e7469c9929ec265f987e53",
       "version_major": 2,
       "version_minor": 0
      },
      "text/plain": [
       "Batches:   0%|          | 0/1 [00:00<?, ?it/s]"
      ]
     },
     "metadata": {},
     "output_type": "display_data"
    },
    {
     "name": "stderr",
     "output_type": "stream",
     "text": [
      "2023-12-13 21:08:19 sentence_transformers.SentenceTransformer INFO: Load pretrained SentenceTransformer: sentence-transformers/all-mpnet-base-v2\n",
      "2023-12-13 21:08:20 sentence_transformers.SentenceTransformer INFO: Use pytorch device: cpu\n"
     ]
    },
    {
     "data": {
      "application/vnd.jupyter.widget-view+json": {
       "model_id": "1aa26c71428843af84dd043e27115291",
       "version_major": 2,
       "version_minor": 0
      },
      "text/plain": [
       "Batches:   0%|          | 0/1 [00:00<?, ?it/s]"
      ]
     },
     "metadata": {},
     "output_type": "display_data"
    },
    {
     "data": {
      "application/vnd.jupyter.widget-view+json": {
       "model_id": "4fe8c52b13c945429872b7e7daccd083",
       "version_major": 2,
       "version_minor": 0
      },
      "text/plain": [
       "Batches:   0%|          | 0/1 [00:00<?, ?it/s]"
      ]
     },
     "metadata": {},
     "output_type": "display_data"
    },
    {
     "name": "stderr",
     "output_type": "stream",
     "text": [
      "2023-12-13 21:08:20 sentence_transformers.SentenceTransformer INFO: Load pretrained SentenceTransformer: sentence-transformers/all-mpnet-base-v2\n",
      "2023-12-13 21:08:21 sentence_transformers.SentenceTransformer INFO: Use pytorch device: cpu\n"
     ]
    },
    {
     "data": {
      "application/vnd.jupyter.widget-view+json": {
       "model_id": "62db2d46ce374f72a04249bd3e122ba8",
       "version_major": 2,
       "version_minor": 0
      },
      "text/plain": [
       "Batches:   0%|          | 0/1 [00:00<?, ?it/s]"
      ]
     },
     "metadata": {},
     "output_type": "display_data"
    },
    {
     "data": {
      "application/vnd.jupyter.widget-view+json": {
       "model_id": "f7057bc98a38429ea39ba6bb06af3a2f",
       "version_major": 2,
       "version_minor": 0
      },
      "text/plain": [
       "Batches:   0%|          | 0/1 [00:00<?, ?it/s]"
      ]
     },
     "metadata": {},
     "output_type": "display_data"
    },
    {
     "name": "stderr",
     "output_type": "stream",
     "text": [
      "2023-12-13 21:08:21 sentence_transformers.SentenceTransformer INFO: Load pretrained SentenceTransformer: sentence-transformers/all-mpnet-base-v2\n",
      "2023-12-13 21:08:22 sentence_transformers.SentenceTransformer INFO: Use pytorch device: cpu\n"
     ]
    },
    {
     "data": {
      "application/vnd.jupyter.widget-view+json": {
       "model_id": "da1c8121a8a34a9dbe5cc720fd76d9ac",
       "version_major": 2,
       "version_minor": 0
      },
      "text/plain": [
       "Batches:   0%|          | 0/1 [00:00<?, ?it/s]"
      ]
     },
     "metadata": {},
     "output_type": "display_data"
    },
    {
     "data": {
      "application/vnd.jupyter.widget-view+json": {
       "model_id": "384512f7c4584921b9999e8d5cc145c5",
       "version_major": 2,
       "version_minor": 0
      },
      "text/plain": [
       "Batches:   0%|          | 0/1 [00:00<?, ?it/s]"
      ]
     },
     "metadata": {},
     "output_type": "display_data"
    },
    {
     "name": "stderr",
     "output_type": "stream",
     "text": [
      "2023-12-13 21:08:22 sentence_transformers.SentenceTransformer INFO: Load pretrained SentenceTransformer: sentence-transformers/all-mpnet-base-v2\n",
      "2023-12-13 21:08:23 sentence_transformers.SentenceTransformer INFO: Use pytorch device: cpu\n"
     ]
    },
    {
     "data": {
      "application/vnd.jupyter.widget-view+json": {
       "model_id": "19f2bbfc75344a509cedf168e053731a",
       "version_major": 2,
       "version_minor": 0
      },
      "text/plain": [
       "Batches:   0%|          | 0/1 [00:00<?, ?it/s]"
      ]
     },
     "metadata": {},
     "output_type": "display_data"
    },
    {
     "data": {
      "application/vnd.jupyter.widget-view+json": {
       "model_id": "8e8c8116e29b4714bd730bff44c1f19f",
       "version_major": 2,
       "version_minor": 0
      },
      "text/plain": [
       "Batches:   0%|          | 0/1 [00:00<?, ?it/s]"
      ]
     },
     "metadata": {},
     "output_type": "display_data"
    },
    {
     "name": "stderr",
     "output_type": "stream",
     "text": [
      "2023-12-13 21:08:23 sentence_transformers.SentenceTransformer INFO: Load pretrained SentenceTransformer: sentence-transformers/all-mpnet-base-v2\n",
      "2023-12-13 21:08:24 sentence_transformers.SentenceTransformer INFO: Use pytorch device: cpu\n"
     ]
    },
    {
     "data": {
      "application/vnd.jupyter.widget-view+json": {
       "model_id": "b1a9fa20e9c34af2a0239a19d55f5999",
       "version_major": 2,
       "version_minor": 0
      },
      "text/plain": [
       "Batches:   0%|          | 0/1 [00:00<?, ?it/s]"
      ]
     },
     "metadata": {},
     "output_type": "display_data"
    },
    {
     "data": {
      "application/vnd.jupyter.widget-view+json": {
       "model_id": "87f9b94456404442be5f4e84ad17e243",
       "version_major": 2,
       "version_minor": 0
      },
      "text/plain": [
       "Batches: 0it [00:00, ?it/s]"
      ]
     },
     "metadata": {},
     "output_type": "display_data"
    },
    {
     "name": "stderr",
     "output_type": "stream",
     "text": [
      "2023-12-13 21:08:24 sentence_transformers.SentenceTransformer INFO: Load pretrained SentenceTransformer: sentence-transformers/all-mpnet-base-v2\n",
      "2023-12-13 21:08:24 sentence_transformers.SentenceTransformer INFO: Use pytorch device: cpu\n"
     ]
    },
    {
     "data": {
      "application/vnd.jupyter.widget-view+json": {
       "model_id": "b9384928e16c46b289318f7bb9173e1e",
       "version_major": 2,
       "version_minor": 0
      },
      "text/plain": [
       "Batches:   0%|          | 0/1 [00:00<?, ?it/s]"
      ]
     },
     "metadata": {},
     "output_type": "display_data"
    },
    {
     "data": {
      "application/vnd.jupyter.widget-view+json": {
       "model_id": "9c0f4f4ff73948859503a9ee1d28cc01",
       "version_major": 2,
       "version_minor": 0
      },
      "text/plain": [
       "Batches:   0%|          | 0/1 [00:00<?, ?it/s]"
      ]
     },
     "metadata": {},
     "output_type": "display_data"
    },
    {
     "name": "stderr",
     "output_type": "stream",
     "text": [
      "2023-12-13 21:08:25 sentence_transformers.SentenceTransformer INFO: Load pretrained SentenceTransformer: sentence-transformers/all-mpnet-base-v2\n",
      "2023-12-13 21:08:25 sentence_transformers.SentenceTransformer INFO: Use pytorch device: cpu\n"
     ]
    },
    {
     "data": {
      "application/vnd.jupyter.widget-view+json": {
       "model_id": "007b2b6d04d840669d92ada3635bf38b",
       "version_major": 2,
       "version_minor": 0
      },
      "text/plain": [
       "Batches:   0%|          | 0/1 [00:00<?, ?it/s]"
      ]
     },
     "metadata": {},
     "output_type": "display_data"
    },
    {
     "data": {
      "application/vnd.jupyter.widget-view+json": {
       "model_id": "8ee26c533f704ddfb96727c7a809f3d3",
       "version_major": 2,
       "version_minor": 0
      },
      "text/plain": [
       "Batches:   0%|          | 0/1 [00:00<?, ?it/s]"
      ]
     },
     "metadata": {},
     "output_type": "display_data"
    }
   ],
   "source": [
    "predicted_categories = []\n",
    "category_counts = {}\n",
    "\n",
    "# Gets a category prediction for each receipt.\n",
    "for receipt in receipt_outputs:\n",
    "    vendor_embeddings, embedded_items = compute_embeddings(receipt)\n",
    "    avg_embeddings = get_avg_embeddings(vendor_embeddings, embedded_items)\n",
    "\n",
    "    if avg_embeddings is not None:\n",
    "        receipt_embeddings = pd.DataFrame(avg_embeddings)\n",
    "        pred_category = knn_cls.predict(receipt_embeddings.to_numpy())[0]\n",
    "        predicted_categories.append(pred_category)\n",
    "\n",
    "    # Updates counts for categories predicted.\n",
    "    if pred_category in category_counts:\n",
    "        category_counts[pred_category] += 1\n",
    "    else:\n",
    "        category_counts[pred_category] = 1"
   ]
  },
  {
   "cell_type": "markdown",
   "id": "32801da5-9044-4a31-8558-1adddc67ad41",
   "metadata": {},
   "source": [
    "# Visualization of Vendors"
   ]
  },
  {
   "cell_type": "code",
   "execution_count": 20,
   "id": "19239c17",
   "metadata": {},
   "outputs": [
    {
     "data": {
      "image/png": "[encoded data removed]",
      "text/plain": [
       "<Figure size 640x480 with 1 Axes>"
      ]
     },
     "metadata": {},
     "output_type": "display_data"
    },
    {
     "data": {
      "image/png": "[encoded data removed]",
      "text/plain": [
       "<Figure size 1000x500 with 1 Axes>"
      ]
     },
     "metadata": {},
     "output_type": "display_data"
    }
   ],
   "source": [
    "import matplotlib.pyplot as plt\n",
    "\n",
    "#pie chart for vendor categories\n",
    "labels = list(category_counts.keys())\n",
    "values = list(category_counts.values())\n",
    "\n",
    "fig, ax = plt.subplots()\n",
    "ax.pie(values, labels=labels, autopct='%1.1f%%')\n",
    "ax.set_title('Vendors by Category')\n",
    "\n",
    "\n",
    "#bar graph for vendor categories\n",
    "fig = plt.figure(figsize = (10, 5))\n",
    " \n",
    "# creating the bar plot\n",
    "plt.barh(labels, values, color ='maroon', \n",
    "        height = 0.4)\n",
    "\n",
    "plt.show()"
   ]
  },
  {
   "cell_type": "markdown",
   "id": "68d1b92b-a6cf-43b2-b8f1-d767c066f014",
   "metadata": {},
   "source": [
    "# Product Classification"
   ]
  },
  {
   "cell_type": "code",
   "execution_count": 21,
   "id": "f586c05a",
   "metadata": {},
   "outputs": [
    {
     "name": "stderr",
     "output_type": "stream",
     "text": [
      "2023-12-13 21:08:26 sentence_transformers.SentenceTransformer INFO: Load pretrained SentenceTransformer: sentence-transformers/all-mpnet-base-v2\n",
      "2023-12-13 21:08:27 sentence_transformers.SentenceTransformer INFO: Use pytorch device: cpu\n"
     ]
    },
    {
     "data": {
      "application/vnd.jupyter.widget-view+json": {
       "model_id": "f141ffcd3dea43c5999acef5b07d407d",
       "version_major": 2,
       "version_minor": 0
      },
      "text/plain": [
       "Batches:   0%|          | 0/2 [00:00<?, ?it/s]"
      ]
     },
     "metadata": {},
     "output_type": "display_data"
    },
    {
     "data": {
      "application/vnd.jupyter.widget-view+json": {
       "model_id": "0a24f51064cf4ef78cc9344702b85511",
       "version_major": 2,
       "version_minor": 0
      },
      "text/plain": [
       "Batches:   0%|          | 0/2 [00:00<?, ?it/s]"
      ]
     },
     "metadata": {},
     "output_type": "display_data"
    },
    {
     "data": {
      "application/vnd.jupyter.widget-view+json": {
       "model_id": "2edea27143e242f986f46949dc20c97f",
       "version_major": 2,
       "version_minor": 0
      },
      "text/plain": [
       "Batches:   0%|          | 0/2 [00:00<?, ?it/s]"
      ]
     },
     "metadata": {},
     "output_type": "display_data"
    },
    {
     "data": {
      "application/vnd.jupyter.widget-view+json": {
       "model_id": "35f8414e8f7d474d8c674a3793bead45",
       "version_major": 2,
       "version_minor": 0
      },
      "text/plain": [
       "Batches:   0%|          | 0/2 [00:00<?, ?it/s]"
      ]
     },
     "metadata": {},
     "output_type": "display_data"
    },
    {
     "data": {
      "application/vnd.jupyter.widget-view+json": {
       "model_id": "12ea92703ad34349b936b969790b0afc",
       "version_major": 2,
       "version_minor": 0
      },
      "text/plain": [
       "Batches:   0%|          | 0/2 [00:00<?, ?it/s]"
      ]
     },
     "metadata": {},
     "output_type": "display_data"
    },
    {
     "data": {
      "application/vnd.jupyter.widget-view+json": {
       "model_id": "bcad46898d804d519b81367c49dd0f70",
       "version_major": 2,
       "version_minor": 0
      },
      "text/plain": [
       "Batches:   0%|          | 0/2 [00:00<?, ?it/s]"
      ]
     },
     "metadata": {},
     "output_type": "display_data"
    },
    {
     "data": {
      "application/vnd.jupyter.widget-view+json": {
       "model_id": "12d49521613b4c38a11d477c45b8365b",
       "version_major": 2,
       "version_minor": 0
      },
      "text/plain": [
       "Batches:   0%|          | 0/2 [00:00<?, ?it/s]"
      ]
     },
     "metadata": {},
     "output_type": "display_data"
    },
    {
     "data": {
      "application/vnd.jupyter.widget-view+json": {
       "model_id": "575a0d1d5acb4b9f991dbb9582bb24f2",
       "version_major": 2,
       "version_minor": 0
      },
      "text/plain": [
       "Batches:   0%|          | 0/2 [00:00<?, ?it/s]"
      ]
     },
     "metadata": {},
     "output_type": "display_data"
    },
    {
     "data": {
      "application/vnd.jupyter.widget-view+json": {
       "model_id": "646e8ab40b77478b85813bd2b4d4df6a",
       "version_major": 2,
       "version_minor": 0
      },
      "text/plain": [
       "Batches:   0%|          | 0/2 [00:00<?, ?it/s]"
      ]
     },
     "metadata": {},
     "output_type": "display_data"
    },
    {
     "data": {
      "application/vnd.jupyter.widget-view+json": {
       "model_id": "2030e67e4feb41a1b80499b625e61e0c",
       "version_major": 2,
       "version_minor": 0
      },
      "text/plain": [
       "Batches:   0%|          | 0/2 [00:00<?, ?it/s]"
      ]
     },
     "metadata": {},
     "output_type": "display_data"
    },
    {
     "data": {
      "application/vnd.jupyter.widget-view+json": {
       "model_id": "210fdac91fb146ff836a986bd488e450",
       "version_major": 2,
       "version_minor": 0
      },
      "text/plain": [
       "Batches:   0%|          | 0/2 [00:00<?, ?it/s]"
      ]
     },
     "metadata": {},
     "output_type": "display_data"
    },
    {
     "data": {
      "application/vnd.jupyter.widget-view+json": {
       "model_id": "974ea64dcf5a482da1a269cc5b8d8961",
       "version_major": 2,
       "version_minor": 0
      },
      "text/plain": [
       "Batches:   0%|          | 0/2 [00:00<?, ?it/s]"
      ]
     },
     "metadata": {},
     "output_type": "display_data"
    },
    {
     "data": {
      "application/vnd.jupyter.widget-view+json": {
       "model_id": "51301213e0f64579bdd05c08969448bd",
       "version_major": 2,
       "version_minor": 0
      },
      "text/plain": [
       "Batches:   0%|          | 0/2 [00:00<?, ?it/s]"
      ]
     },
     "metadata": {},
     "output_type": "display_data"
    },
    {
     "data": {
      "application/vnd.jupyter.widget-view+json": {
       "model_id": "ebdddc5e98e844648f3874f5a21d853d",
       "version_major": 2,
       "version_minor": 0
      },
      "text/plain": [
       "Batches:   0%|          | 0/2 [00:00<?, ?it/s]"
      ]
     },
     "metadata": {},
     "output_type": "display_data"
    },
    {
     "data": {
      "text/plain": [
       "(50, 14)"
      ]
     },
     "execution_count": 21,
     "metadata": {},
     "output_type": "execute_result"
    }
   ],
   "source": [
    "## Product Classification.\n",
    "\n",
    "product_categories = [\"Produce\", \"Dairy\", \"Fast Food\", \"Fine Dining\", \"Accessories\", \"Clothing\", \"Beauty Products\", \"Shower Products\",\n",
    "                      \"Video Games\", \"Phones / Tablets\", \"Appliances\", \"Tools\", \"Furniture\", \"Entertainment and Leisure\"]\n",
    "\n",
    "def get_product_training_data():\n",
    "    folder_path = 'product_training_data/'\n",
    "    category_train_test_data = {}\n",
    "    category_training_items = []\n",
    "    \n",
    "    # List all files in the folder\n",
    "    files = os.listdir(folder_path)\n",
    "    i = 0\n",
    "\n",
    "    # Gets the items for each category.\n",
    "    for category in product_categories:\n",
    "        # Gets the file identifier for the category.\n",
    "        category_id = (category.split(\" \")[0]).lower()\n",
    "        file_name = f'{category_id}.txt'\n",
    "        file_path = os.path.join(folder_path, file_name)\n",
    "    \n",
    "        # Check if it's a text file.\n",
    "        if file_name.endswith('.txt'):\n",
    "            with open(file_path, 'r') as file:\n",
    "                # Read the content and split into list by newline character.\n",
    "                text_content = file.read().split('\\n')\n",
    "                # Adds the items to the category in the dict.\n",
    "                category_train_test_data[product_categories[i]] = text_content\n",
    "                i += 1\n",
    "    return category_train_test_data\n",
    "\n",
    "prod_category_train_test_data = get_product_training_data()\n",
    "prod_category_training_embeddings = {}\n",
    "\n",
    "embeddings_model = HuggingFaceEmbeddings()\n",
    "\n",
    "for category in prod_category_train_test_data:\n",
    "    prod_category_training_embeddings[category] = embeddings_model.embed_documents(prod_category_train_test_data[category])\n",
    "    \n",
    "len(prod_category_training_embeddings[\"Produce\"]), len(prod_category_training_embeddings)"
   ]
  },
  {
   "cell_type": "code",
   "execution_count": 22,
   "id": "8467edd8",
   "metadata": {},
   "outputs": [
    {
     "data": {
      "text/html": [
       "<div>\n",
       "<style scoped>\n",
       "    .dataframe tbody tr th:only-of-type {\n",
       "        vertical-align: middle;\n",
       "    }\n",
       "\n",
       "    .dataframe tbody tr th {\n",
       "        vertical-align: top;\n",
       "    }\n",
       "\n",
       "    .dataframe thead th {\n",
       "        text-align: right;\n",
       "    }\n",
       "</style>\n",
       "<table border=\"1\" class=\"dataframe\">\n",
       "  <thead>\n",
       "    <tr style=\"text-align: right;\">\n",
       "      <th></th>\n",
       "      <th>categories</th>\n",
       "      <th>embedding_0</th>\n",
       "      <th>embedding_1</th>\n",
       "      <th>embedding_2</th>\n",
       "      <th>embedding_3</th>\n",
       "      <th>embedding_4</th>\n",
       "      <th>embedding_5</th>\n",
       "      <th>embedding_6</th>\n",
       "      <th>embedding_7</th>\n",
       "      <th>embedding_8</th>\n",
       "      <th>...</th>\n",
       "      <th>embedding_758</th>\n",
       "      <th>embedding_759</th>\n",
       "      <th>embedding_760</th>\n",
       "      <th>embedding_761</th>\n",
       "      <th>embedding_762</th>\n",
       "      <th>embedding_763</th>\n",
       "      <th>embedding_764</th>\n",
       "      <th>embedding_765</th>\n",
       "      <th>embedding_766</th>\n",
       "      <th>embedding_767</th>\n",
       "    </tr>\n",
       "  </thead>\n",
       "  <tbody>\n",
       "    <tr>\n",
       "      <th>0</th>\n",
       "      <td>Produce</td>\n",
       "      <td>0.000589</td>\n",
       "      <td>0.003567</td>\n",
       "      <td>-0.036941</td>\n",
       "      <td>-0.022206</td>\n",
       "      <td>0.002603</td>\n",
       "      <td>-0.011552</td>\n",
       "      <td>-0.024489</td>\n",
       "      <td>0.017725</td>\n",
       "      <td>0.035810</td>\n",
       "      <td>...</td>\n",
       "      <td>-0.060234</td>\n",
       "      <td>0.005869</td>\n",
       "      <td>0.038782</td>\n",
       "      <td>-0.017440</td>\n",
       "      <td>-0.002367</td>\n",
       "      <td>0.029283</td>\n",
       "      <td>0.004650</td>\n",
       "      <td>0.016896</td>\n",
       "      <td>0.004629</td>\n",
       "      <td>-0.008035</td>\n",
       "    </tr>\n",
       "    <tr>\n",
       "      <th>1</th>\n",
       "      <td>Produce</td>\n",
       "      <td>0.031964</td>\n",
       "      <td>0.005566</td>\n",
       "      <td>-0.023185</td>\n",
       "      <td>-0.053126</td>\n",
       "      <td>0.033858</td>\n",
       "      <td>-0.023757</td>\n",
       "      <td>-0.014453</td>\n",
       "      <td>0.007992</td>\n",
       "      <td>0.017826</td>\n",
       "      <td>...</td>\n",
       "      <td>-0.015866</td>\n",
       "      <td>-0.009298</td>\n",
       "      <td>-0.032220</td>\n",
       "      <td>-0.010490</td>\n",
       "      <td>0.004321</td>\n",
       "      <td>-0.033006</td>\n",
       "      <td>-0.023620</td>\n",
       "      <td>0.016731</td>\n",
       "      <td>-0.022331</td>\n",
       "      <td>-0.015998</td>\n",
       "    </tr>\n",
       "    <tr>\n",
       "      <th>2</th>\n",
       "      <td>Produce</td>\n",
       "      <td>0.064584</td>\n",
       "      <td>0.002496</td>\n",
       "      <td>-0.011188</td>\n",
       "      <td>-0.012615</td>\n",
       "      <td>0.030300</td>\n",
       "      <td>0.005024</td>\n",
       "      <td>-0.016991</td>\n",
       "      <td>0.045369</td>\n",
       "      <td>-0.023226</td>\n",
       "      <td>...</td>\n",
       "      <td>-0.051416</td>\n",
       "      <td>-0.021503</td>\n",
       "      <td>-0.000338</td>\n",
       "      <td>-0.001392</td>\n",
       "      <td>0.015543</td>\n",
       "      <td>0.065568</td>\n",
       "      <td>-0.014487</td>\n",
       "      <td>0.009346</td>\n",
       "      <td>-0.026118</td>\n",
       "      <td>-0.021456</td>\n",
       "    </tr>\n",
       "    <tr>\n",
       "      <th>3</th>\n",
       "      <td>Produce</td>\n",
       "      <td>0.007646</td>\n",
       "      <td>0.017002</td>\n",
       "      <td>-0.032329</td>\n",
       "      <td>-0.008278</td>\n",
       "      <td>-0.005862</td>\n",
       "      <td>0.004103</td>\n",
       "      <td>-0.004070</td>\n",
       "      <td>0.058659</td>\n",
       "      <td>0.059897</td>\n",
       "      <td>...</td>\n",
       "      <td>-0.021869</td>\n",
       "      <td>-0.005231</td>\n",
       "      <td>0.022821</td>\n",
       "      <td>-0.039141</td>\n",
       "      <td>0.001739</td>\n",
       "      <td>0.050639</td>\n",
       "      <td>0.011290</td>\n",
       "      <td>-0.035887</td>\n",
       "      <td>-0.014058</td>\n",
       "      <td>-0.038552</td>\n",
       "    </tr>\n",
       "    <tr>\n",
       "      <th>4</th>\n",
       "      <td>Produce</td>\n",
       "      <td>0.023380</td>\n",
       "      <td>0.070649</td>\n",
       "      <td>-0.030624</td>\n",
       "      <td>-0.020164</td>\n",
       "      <td>0.012016</td>\n",
       "      <td>-0.025285</td>\n",
       "      <td>0.023886</td>\n",
       "      <td>0.039508</td>\n",
       "      <td>0.047931</td>\n",
       "      <td>...</td>\n",
       "      <td>-0.036294</td>\n",
       "      <td>-0.010979</td>\n",
       "      <td>-0.019659</td>\n",
       "      <td>-0.026347</td>\n",
       "      <td>-0.010648</td>\n",
       "      <td>0.019826</td>\n",
       "      <td>-0.008819</td>\n",
       "      <td>0.004444</td>\n",
       "      <td>-0.032169</td>\n",
       "      <td>-0.018519</td>\n",
       "    </tr>\n",
       "  </tbody>\n",
       "</table>\n",
       "<p>5 rows × 769 columns</p>\n",
       "</div>"
      ],
      "text/plain": [
       "  categories  embedding_0  embedding_1  embedding_2  embedding_3  embedding_4  \\\n",
       "0    Produce     0.000589     0.003567    -0.036941    -0.022206     0.002603   \n",
       "1    Produce     0.031964     0.005566    -0.023185    -0.053126     0.033858   \n",
       "2    Produce     0.064584     0.002496    -0.011188    -0.012615     0.030300   \n",
       "3    Produce     0.007646     0.017002    -0.032329    -0.008278    -0.005862   \n",
       "4    Produce     0.023380     0.070649    -0.030624    -0.020164     0.012016   \n",
       "\n",
       "   embedding_5  embedding_6  embedding_7  embedding_8  ...  embedding_758  \\\n",
       "0    -0.011552    -0.024489     0.017725     0.035810  ...      -0.060234   \n",
       "1    -0.023757    -0.014453     0.007992     0.017826  ...      -0.015866   \n",
       "2     0.005024    -0.016991     0.045369    -0.023226  ...      -0.051416   \n",
       "3     0.004103    -0.004070     0.058659     0.059897  ...      -0.021869   \n",
       "4    -0.025285     0.023886     0.039508     0.047931  ...      -0.036294   \n",
       "\n",
       "   embedding_759  embedding_760  embedding_761  embedding_762  embedding_763  \\\n",
       "0       0.005869       0.038782      -0.017440      -0.002367       0.029283   \n",
       "1      -0.009298      -0.032220      -0.010490       0.004321      -0.033006   \n",
       "2      -0.021503      -0.000338      -0.001392       0.015543       0.065568   \n",
       "3      -0.005231       0.022821      -0.039141       0.001739       0.050639   \n",
       "4      -0.010979      -0.019659      -0.026347      -0.010648       0.019826   \n",
       "\n",
       "   embedding_764  embedding_765  embedding_766  embedding_767  \n",
       "0       0.004650       0.016896       0.004629      -0.008035  \n",
       "1      -0.023620       0.016731      -0.022331      -0.015998  \n",
       "2      -0.014487       0.009346      -0.026118      -0.021456  \n",
       "3       0.011290      -0.035887      -0.014058      -0.038552  \n",
       "4      -0.008819       0.004444      -0.032169      -0.018519  \n",
       "\n",
       "[5 rows x 769 columns]"
      ]
     },
     "execution_count": 22,
     "metadata": {},
     "output_type": "execute_result"
    }
   ],
   "source": [
    "df_prod_category_items = []\n",
    "d = {'categories':[]}\n",
    "\n",
    "# Each category.\n",
    "for category in prod_category_training_embeddings:\n",
    "    # Each item in the category.\n",
    "    for item in prod_category_training_embeddings[category]:\n",
    "        df_prod_category_items.append(category)\n",
    "\n",
    "        # Each embedding in an item.\n",
    "        for i in range(len(item)):\n",
    "            embedding = item[i]\n",
    "\n",
    "            if f'embedding_{i}' in d:\n",
    "                d[f'embedding_{i}'].append(embedding)\n",
    "            else:\n",
    "                d[f'embedding_{i}'] = []\n",
    "                d[f'embedding_{i}'].append(embedding)\n",
    "\n",
    "d['categories'] = df_prod_category_items\n",
    "    \n",
    "# Training and Testing data.\n",
    "prod_category_data = pd.DataFrame(d)\n",
    "\n",
    "prod_category_data.head()"
   ]
  },
  {
   "cell_type": "code",
   "execution_count": 23,
   "id": "0d4578a3",
   "metadata": {},
   "outputs": [
    {
     "data": {
      "text/html": [
       "<div>\n",
       "<style scoped>\n",
       "    .dataframe tbody tr th:only-of-type {\n",
       "        vertical-align: middle;\n",
       "    }\n",
       "\n",
       "    .dataframe tbody tr th {\n",
       "        vertical-align: top;\n",
       "    }\n",
       "\n",
       "    .dataframe thead th {\n",
       "        text-align: right;\n",
       "    }\n",
       "</style>\n",
       "<table border=\"1\" class=\"dataframe\">\n",
       "  <thead>\n",
       "    <tr style=\"text-align: right;\">\n",
       "      <th></th>\n",
       "      <th>categories</th>\n",
       "      <th>embedding_0</th>\n",
       "      <th>embedding_1</th>\n",
       "      <th>embedding_2</th>\n",
       "      <th>embedding_3</th>\n",
       "      <th>embedding_4</th>\n",
       "      <th>embedding_5</th>\n",
       "      <th>embedding_6</th>\n",
       "      <th>embedding_7</th>\n",
       "      <th>embedding_8</th>\n",
       "      <th>...</th>\n",
       "      <th>embedding_758</th>\n",
       "      <th>embedding_759</th>\n",
       "      <th>embedding_760</th>\n",
       "      <th>embedding_761</th>\n",
       "      <th>embedding_762</th>\n",
       "      <th>embedding_763</th>\n",
       "      <th>embedding_764</th>\n",
       "      <th>embedding_765</th>\n",
       "      <th>embedding_766</th>\n",
       "      <th>embedding_767</th>\n",
       "    </tr>\n",
       "  </thead>\n",
       "  <tbody>\n",
       "    <tr>\n",
       "      <th>284</th>\n",
       "      <td>Clothing</td>\n",
       "      <td>-0.003771</td>\n",
       "      <td>0.040027</td>\n",
       "      <td>-0.012827</td>\n",
       "      <td>-0.066668</td>\n",
       "      <td>-0.048151</td>\n",
       "      <td>-0.016963</td>\n",
       "      <td>-0.003350</td>\n",
       "      <td>0.004367</td>\n",
       "      <td>-0.050957</td>\n",
       "      <td>...</td>\n",
       "      <td>-0.074854</td>\n",
       "      <td>-0.010125</td>\n",
       "      <td>0.029604</td>\n",
       "      <td>-0.016726</td>\n",
       "      <td>-0.002423</td>\n",
       "      <td>0.010775</td>\n",
       "      <td>0.026868</td>\n",
       "      <td>0.004774</td>\n",
       "      <td>-0.003620</td>\n",
       "      <td>-0.018482</td>\n",
       "    </tr>\n",
       "    <tr>\n",
       "      <th>339</th>\n",
       "      <td>Beauty Products</td>\n",
       "      <td>-0.025901</td>\n",
       "      <td>-0.164656</td>\n",
       "      <td>0.016607</td>\n",
       "      <td>-0.019543</td>\n",
       "      <td>-0.030505</td>\n",
       "      <td>-0.029449</td>\n",
       "      <td>-0.014532</td>\n",
       "      <td>-0.011301</td>\n",
       "      <td>0.025669</td>\n",
       "      <td>...</td>\n",
       "      <td>-0.013054</td>\n",
       "      <td>-0.016385</td>\n",
       "      <td>-0.053330</td>\n",
       "      <td>-0.016849</td>\n",
       "      <td>0.005187</td>\n",
       "      <td>0.016689</td>\n",
       "      <td>0.042287</td>\n",
       "      <td>0.022827</td>\n",
       "      <td>-0.100304</td>\n",
       "      <td>0.023654</td>\n",
       "    </tr>\n",
       "    <tr>\n",
       "      <th>314</th>\n",
       "      <td>Beauty Products</td>\n",
       "      <td>0.043754</td>\n",
       "      <td>-0.006187</td>\n",
       "      <td>0.011134</td>\n",
       "      <td>-0.041920</td>\n",
       "      <td>-0.026595</td>\n",
       "      <td>0.001054</td>\n",
       "      <td>-0.014206</td>\n",
       "      <td>0.036285</td>\n",
       "      <td>0.016780</td>\n",
       "      <td>...</td>\n",
       "      <td>-0.051375</td>\n",
       "      <td>-0.018626</td>\n",
       "      <td>0.012770</td>\n",
       "      <td>0.005182</td>\n",
       "      <td>0.005965</td>\n",
       "      <td>-0.107572</td>\n",
       "      <td>-0.031738</td>\n",
       "      <td>-0.005800</td>\n",
       "      <td>-0.088764</td>\n",
       "      <td>-0.033939</td>\n",
       "    </tr>\n",
       "    <tr>\n",
       "      <th>538</th>\n",
       "      <td>Appliances</td>\n",
       "      <td>-0.009275</td>\n",
       "      <td>-0.038251</td>\n",
       "      <td>-0.017262</td>\n",
       "      <td>-0.020477</td>\n",
       "      <td>-0.044943</td>\n",
       "      <td>0.022553</td>\n",
       "      <td>0.021590</td>\n",
       "      <td>0.033648</td>\n",
       "      <td>0.059369</td>\n",
       "      <td>...</td>\n",
       "      <td>0.024097</td>\n",
       "      <td>-0.055298</td>\n",
       "      <td>0.115589</td>\n",
       "      <td>-0.003068</td>\n",
       "      <td>0.010510</td>\n",
       "      <td>0.014839</td>\n",
       "      <td>0.025836</td>\n",
       "      <td>-0.022722</td>\n",
       "      <td>-0.094302</td>\n",
       "      <td>-0.023298</td>\n",
       "    </tr>\n",
       "    <tr>\n",
       "      <th>480</th>\n",
       "      <td>Phones / Tablets</td>\n",
       "      <td>-0.017700</td>\n",
       "      <td>-0.091788</td>\n",
       "      <td>0.012540</td>\n",
       "      <td>0.045479</td>\n",
       "      <td>0.023606</td>\n",
       "      <td>-0.006602</td>\n",
       "      <td>0.005575</td>\n",
       "      <td>-0.030289</td>\n",
       "      <td>0.014377</td>\n",
       "      <td>...</td>\n",
       "      <td>0.001157</td>\n",
       "      <td>0.021384</td>\n",
       "      <td>0.061063</td>\n",
       "      <td>-0.031992</td>\n",
       "      <td>0.008729</td>\n",
       "      <td>0.015117</td>\n",
       "      <td>0.016179</td>\n",
       "      <td>0.018254</td>\n",
       "      <td>0.004192</td>\n",
       "      <td>0.018996</td>\n",
       "    </tr>\n",
       "  </tbody>\n",
       "</table>\n",
       "<p>5 rows × 769 columns</p>\n",
       "</div>"
      ],
      "text/plain": [
       "           categories  embedding_0  embedding_1  embedding_2  embedding_3  \\\n",
       "284          Clothing    -0.003771     0.040027    -0.012827    -0.066668   \n",
       "339   Beauty Products    -0.025901    -0.164656     0.016607    -0.019543   \n",
       "314   Beauty Products     0.043754    -0.006187     0.011134    -0.041920   \n",
       "538        Appliances    -0.009275    -0.038251    -0.017262    -0.020477   \n",
       "480  Phones / Tablets    -0.017700    -0.091788     0.012540     0.045479   \n",
       "\n",
       "     embedding_4  embedding_5  embedding_6  embedding_7  embedding_8  ...  \\\n",
       "284    -0.048151    -0.016963    -0.003350     0.004367    -0.050957  ...   \n",
       "339    -0.030505    -0.029449    -0.014532    -0.011301     0.025669  ...   \n",
       "314    -0.026595     0.001054    -0.014206     0.036285     0.016780  ...   \n",
       "538    -0.044943     0.022553     0.021590     0.033648     0.059369  ...   \n",
       "480     0.023606    -0.006602     0.005575    -0.030289     0.014377  ...   \n",
       "\n",
       "     embedding_758  embedding_759  embedding_760  embedding_761  \\\n",
       "284      -0.074854      -0.010125       0.029604      -0.016726   \n",
       "339      -0.013054      -0.016385      -0.053330      -0.016849   \n",
       "314      -0.051375      -0.018626       0.012770       0.005182   \n",
       "538       0.024097      -0.055298       0.115589      -0.003068   \n",
       "480       0.001157       0.021384       0.061063      -0.031992   \n",
       "\n",
       "     embedding_762  embedding_763  embedding_764  embedding_765  \\\n",
       "284      -0.002423       0.010775       0.026868       0.004774   \n",
       "339       0.005187       0.016689       0.042287       0.022827   \n",
       "314       0.005965      -0.107572      -0.031738      -0.005800   \n",
       "538       0.010510       0.014839       0.025836      -0.022722   \n",
       "480       0.008729       0.015117       0.016179       0.018254   \n",
       "\n",
       "     embedding_766  embedding_767  \n",
       "284      -0.003620      -0.018482  \n",
       "339      -0.100304       0.023654  \n",
       "314      -0.088764      -0.033939  \n",
       "538      -0.094302      -0.023298  \n",
       "480       0.004192       0.018996  \n",
       "\n",
       "[5 rows x 769 columns]"
      ]
     },
     "execution_count": 23,
     "metadata": {},
     "output_type": "execute_result"
    }
   ],
   "source": [
    "# Randomly shuffles the rows.\n",
    "shuffled_data = prod_category_data.sample(frac=1)\n",
    "\n",
    "total_rows = shuffled_data.shape[0]\n",
    "train_size = int(total_rows*0.8)\n",
    " \n",
    "# Split data into test and train\n",
    "train = shuffled_data[0:train_size]\n",
    "test = shuffled_data[train_size:]\n",
    "\n",
    "train.head()"
   ]
  },
  {
   "cell_type": "code",
   "execution_count": 24,
   "id": "ddc78e77",
   "metadata": {},
   "outputs": [],
   "source": [
    "# X is the embeddings and Y is the product categories.\n",
    "\n",
    "y_train = train['categories']\n",
    "x_train = train.loc[:, train.columns != 'categories']\n",
    "\n",
    "y_test = test['categories']\n",
    "x_test = test.loc[:, test.columns != 'categories']"
   ]
  },
  {
   "cell_type": "code",
   "execution_count": 25,
   "id": "47540213",
   "metadata": {},
   "outputs": [
    {
     "data": {
      "text/plain": [
       "10"
      ]
     },
     "execution_count": 25,
     "metadata": {},
     "output_type": "execute_result"
    }
   ],
   "source": [
    "knn = KNeighborsClassifier()\n",
    "\n",
    "# Create a dictionary of all values we want to test for n_neighbors.\n",
    "param_grid = {'n_neighbors': np.arange(1, 25)}\n",
    "\n",
    "# Uses gridsearch to test all values for n_neighbors.\n",
    "knn_grid_search = GridSearchCV(knn, param_grid, cv=5)\n",
    "\n",
    "# Fit model to data.\n",
    "knn_grid_search.fit(x_train, y_train)\n",
    "\n",
    "# Gets the n_neighbors value which warrants the highest accuracy.\n",
    "best_n_neighbors=knn_grid_search.best_params_['n_neighbors']\n",
    "best_n_neighbors"
   ]
  },
  {
   "cell_type": "code",
   "execution_count": 26,
   "id": "5aa249e8",
   "metadata": {},
   "outputs": [
    {
     "data": {
      "text/html": [
       "<style>#sk-container-id-2 {color: black;}#sk-container-id-2 pre{padding: 0;}#sk-container-id-2 div.sk-toggleable {background-color: white;}#sk-container-id-2 label.sk-toggleable__label {cursor: pointer;display: block;width: 100%;margin-bottom: 0;padding: 0.3em;box-sizing: border-box;text-align: center;}#sk-container-id-2 label.sk-toggleable__label-arrow:before {content: \"▸\";float: left;margin-right: 0.25em;color: #696969;}#sk-container-id-2 label.sk-toggleable__label-arrow:hover:before {color: black;}#sk-container-id-2 div.sk-estimator:hover label.sk-toggleable__label-arrow:before {color: black;}#sk-container-id-2 div.sk-toggleable__content {max-height: 0;max-width: 0;overflow: hidden;text-align: left;background-color: #f0f8ff;}#sk-container-id-2 div.sk-toggleable__content pre {margin: 0.2em;color: black;border-radius: 0.25em;background-color: #f0f8ff;}#sk-container-id-2 input.sk-toggleable__control:checked~div.sk-toggleable__content {max-height: 200px;max-width: 100%;overflow: auto;}#sk-container-id-2 input.sk-toggleable__control:checked~label.sk-toggleable__label-arrow:before {content: \"▾\";}#sk-container-id-2 div.sk-estimator input.sk-toggleable__control:checked~label.sk-toggleable__label {background-color: #d4ebff;}#sk-container-id-2 div.sk-label input.sk-toggleable__control:checked~label.sk-toggleable__label {background-color: #d4ebff;}#sk-container-id-2 input.sk-hidden--visually {border: 0;clip: rect(1px 1px 1px 1px);clip: rect(1px, 1px, 1px, 1px);height: 1px;margin: -1px;overflow: hidden;padding: 0;position: absolute;width: 1px;}#sk-container-id-2 div.sk-estimator {font-family: monospace;background-color: #f0f8ff;border: 1px dotted black;border-radius: 0.25em;box-sizing: border-box;margin-bottom: 0.5em;}#sk-container-id-2 div.sk-estimator:hover {background-color: #d4ebff;}#sk-container-id-2 div.sk-parallel-item::after {content: \"\";width: 100%;border-bottom: 1px solid gray;flex-grow: 1;}#sk-container-id-2 div.sk-label:hover label.sk-toggleable__label {background-color: #d4ebff;}#sk-container-id-2 div.sk-serial::before {content: \"\";position: absolute;border-left: 1px solid gray;box-sizing: border-box;top: 0;bottom: 0;left: 50%;z-index: 0;}#sk-container-id-2 div.sk-serial {display: flex;flex-direction: column;align-items: center;background-color: white;padding-right: 0.2em;padding-left: 0.2em;position: relative;}#sk-container-id-2 div.sk-item {position: relative;z-index: 1;}#sk-container-id-2 div.sk-parallel {display: flex;align-items: stretch;justify-content: center;background-color: white;position: relative;}#sk-container-id-2 div.sk-item::before, #sk-container-id-2 div.sk-parallel-item::before {content: \"\";position: absolute;border-left: 1px solid gray;box-sizing: border-box;top: 0;bottom: 0;left: 50%;z-index: -1;}#sk-container-id-2 div.sk-parallel-item {display: flex;flex-direction: column;z-index: 1;position: relative;background-color: white;}#sk-container-id-2 div.sk-parallel-item:first-child::after {align-self: flex-end;width: 50%;}#sk-container-id-2 div.sk-parallel-item:last-child::after {align-self: flex-start;width: 50%;}#sk-container-id-2 div.sk-parallel-item:only-child::after {width: 0;}#sk-container-id-2 div.sk-dashed-wrapped {border: 1px dashed gray;margin: 0 0.4em 0.5em 0.4em;box-sizing: border-box;padding-bottom: 0.4em;background-color: white;}#sk-container-id-2 div.sk-label label {font-family: monospace;font-weight: bold;display: inline-block;line-height: 1.2em;}#sk-container-id-2 div.sk-label-container {text-align: center;}#sk-container-id-2 div.sk-container {/* jupyter's `normalize.less` sets `[hidden] { display: none; }` but bootstrap.min.css set `[hidden] { display: none !important; }` so we also need the `!important` here to be able to override the default hidden behavior on the sphinx rendered scikit-learn.org. See: https://github.com/scikit-learn/scikit-learn/issues/21755 */display: inline-block !important;position: relative;}#sk-container-id-2 div.sk-text-repr-fallback {display: none;}</style><div id=\"sk-container-id-2\" class=\"sk-top-container\"><div class=\"sk-text-repr-fallback\"><pre>KNeighborsClassifier(n_neighbors=10)</pre><b>In a Jupyter environment, please rerun this cell to show the HTML representation or trust the notebook. <br />On GitHub, the HTML representation is unable to render, please try loading this page with nbviewer.org.</b></div><div class=\"sk-container\" hidden><div class=\"sk-item\"><div class=\"sk-estimator sk-toggleable\"><input class=\"sk-toggleable__control sk-hidden--visually\" id=\"sk-estimator-id-2\" type=\"checkbox\" checked><label for=\"sk-estimator-id-2\" class=\"sk-toggleable__label sk-toggleable__label-arrow\">KNeighborsClassifier</label><div class=\"sk-toggleable__content\"><pre>KNeighborsClassifier(n_neighbors=10)</pre></div></div></div></div></div>"
      ],
      "text/plain": [
       "KNeighborsClassifier(n_neighbors=10)"
      ]
     },
     "execution_count": 26,
     "metadata": {},
     "output_type": "execute_result"
    }
   ],
   "source": [
    "# Trains the KNN model with the best n_neighbors value.\n",
    "knn_cls_prod = KNeighborsClassifier(n_neighbors=best_n_neighbors)\n",
    "knn_cls_prod.fit(x_train.values, y_train.values)"
   ]
  },
  {
   "cell_type": "code",
   "execution_count": 27,
   "id": "bd248879",
   "metadata": {},
   "outputs": [
    {
     "data": {
      "text/plain": [
       "array([[ 7,  0,  0,  1,  0,  0,  0,  0,  0,  0,  0,  0,  0,  0],\n",
       "       [ 0,  6,  0,  0,  0,  0,  0,  0,  0,  0,  0,  1,  0,  0],\n",
       "       [ 0,  0,  9,  0,  0,  0,  0,  0,  0,  0,  0,  2,  0,  0],\n",
       "       [ 2,  0,  0,  4,  0,  0,  0,  0,  0,  0,  0,  0,  0,  0],\n",
       "       [ 0,  0,  0,  0, 11,  0,  1,  1,  0,  0,  2,  0,  0,  0],\n",
       "       [ 0,  0,  0,  1,  0,  3,  1,  0,  0,  0,  0,  0,  0,  0],\n",
       "       [ 0,  1,  0,  0,  2,  0,  8,  0,  0,  0,  1,  0,  0,  0],\n",
       "       [ 0,  0,  0,  0,  3,  0,  3, 10,  0,  0,  1,  0,  0,  0],\n",
       "       [ 1,  0,  0,  0,  0,  1,  0,  1,  6,  0,  0,  0,  0,  0],\n",
       "       [ 0,  0,  0,  0,  0,  0,  0,  0,  0, 10,  0,  0,  0,  0],\n",
       "       [ 0,  0,  0,  0,  0,  0,  0,  0,  0,  0, 11,  0,  0,  0],\n",
       "       [ 0,  0,  5,  0,  0,  0,  0,  0,  0,  0,  0,  2,  0,  0],\n",
       "       [ 2,  0,  1,  0,  0,  0,  0,  0,  1,  0,  0,  0,  9,  0],\n",
       "       [ 1,  0,  0,  0,  0,  0,  0,  0,  0,  0,  0,  0,  0,  6]])"
      ]
     },
     "execution_count": 27,
     "metadata": {},
     "output_type": "execute_result"
    }
   ],
   "source": [
    "from sklearn.metrics import confusion_matrix\n",
    "\n",
    "# Gets the predications for the test dataset.\n",
    "y_test_pred = knn_cls_prod.predict(x_test.values)\n",
    "\n",
    "# Gets a confusion matrix for error analysis.\n",
    "conf_matrix = confusion_matrix(y_test, y_test_pred)\n",
    "conf_matrix"
   ]
  },
  {
   "cell_type": "code",
   "execution_count": 28,
   "id": "d188c487",
   "metadata": {},
   "outputs": [
    {
     "name": "stdout",
     "output_type": "stream",
     "text": [
      "Accuracy: 0.7391304347826086\n",
      "Precision: 0.7391304347826086. This high ratio assumes most postives were true positives since precision = tp / (tp + fp).\n",
      "Recall: 0.7391304347826086. This high ratio means there were not too many false negatives since recalle = tp / (tp + fn).\n"
     ]
    }
   ],
   "source": [
    "# Gets precision, recall, and f1 score from the test data.\n",
    "accuracy = accuracy_score(y_test, y_test_pred)\n",
    "precision = precision_score(y_test, y_test_pred, average='micro')\n",
    "recall = recall_score(y_test, y_test_pred, average='micro')\n",
    "# f1 = f1_score(y_test, y_test_pred, average='micro')\n",
    "print(f'Accuracy: {accuracy}')\n",
    "print(f'Precision: {precision}. This high ratio assumes most postives were true positives since precision = tp / (tp + fp).')\n",
    "print(f'Recall: {recall}. This high ratio means there were not too many false negatives since recalle = tp / (tp + fn).')\n",
    "# print(f'F1 Score: {f1}. This high score means the model is relatively good at classifiying.')"
   ]
  },
  {
   "cell_type": "code",
   "execution_count": 29,
   "id": "98f821f8",
   "metadata": {},
   "outputs": [
    {
     "data": {
      "image/png": "[encoded data removed]",
      "text/plain": [
       "<Figure size 640x480 with 2 Axes>"
      ]
     },
     "metadata": {},
     "output_type": "display_data"
    }
   ],
   "source": [
    "# Plots the confusion matrix to better visualize.\n",
    "# Generally, the test data was classified correctly given the lighter colors in the diagonal.\n",
    "# However some misclassifications.\n",
    "fig = plt.figure()\n",
    "ax = fig.add_subplot(111)\n",
    "plot = ax.matshow(conf_matrix, cmap=plt.cm.gray)\n",
    "fig.colorbar(plot)\n",
    "ax.set_xlabel('Predicted Categories')\n",
    "ax.set_ylabel('Actual Categories')\n",
    "ax.set_title('Confusion Matrix of Predicted vs Actual Classifications of Testing Data')\n",
    "\n",
    "plt.show()"
   ]
  },
  {
   "cell_type": "code",
   "execution_count": 30,
   "id": "2121a8b3",
   "metadata": {},
   "outputs": [],
   "source": [
    "test_items = [\"Happy Meal Ch Burger\", \"MARINARA SCE\", \"HT VEGE DUMPLING\"]\n",
    "\n",
    "def compute_item_embeddings(item):\n",
    "    embeddings_model = HuggingFaceEmbeddings()\n",
    "    item_name = item['description']\n",
    "    item_embeddings_obj = {}\n",
    "    \n",
    "    if item_name != \"\":\n",
    "        # Gets embeddings for the item.\n",
    "        item_embeddings = embeddings_model.embed_documents(item_name)[0]\n",
    "\n",
    "        for i in range(len(item_embeddings)):\n",
    "            if f'embeddings_{i}' in item_embeddings_obj:\n",
    "                item_embeddings_obj[f'embeddings_{i}'].append(item_embeddings[i])\n",
    "            else:\n",
    "                item_embeddings_obj[f'embeddings_{i}'] = []\n",
    "                item_embeddings_obj[f'embeddings_{i}'].append(item_embeddings[i])\n",
    "\n",
    "    return item_embeddings_obj"
   ]
  },
  {
   "cell_type": "code",
   "execution_count": 33,
   "id": "409a084c",
   "metadata": {},
   "outputs": [
    {
     "name": "stderr",
     "output_type": "stream",
     "text": [
      "2023-12-13 21:10:58 sentence_transformers.SentenceTransformer INFO: Load pretrained SentenceTransformer: sentence-transformers/all-mpnet-base-v2\n",
      "2023-12-13 21:10:59 sentence_transformers.SentenceTransformer INFO: Use pytorch device: cpu\n"
     ]
    },
    {
     "data": {
      "application/vnd.jupyter.widget-view+json": {
       "model_id": "43050f2a16ad4c608e56dbdfa2813919",
       "version_major": 2,
       "version_minor": 0
      },
      "text/plain": [
       "Batches:   0%|          | 0/1 [00:00<?, ?it/s]"
      ]
     },
     "metadata": {},
     "output_type": "display_data"
    },
    {
     "name": "stderr",
     "output_type": "stream",
     "text": [
      "2023-12-13 21:10:59 sentence_transformers.SentenceTransformer INFO: Load pretrained SentenceTransformer: sentence-transformers/all-mpnet-base-v2\n",
      "2023-12-13 21:11:00 sentence_transformers.SentenceTransformer INFO: Use pytorch device: cpu\n"
     ]
    },
    {
     "data": {
      "application/vnd.jupyter.widget-view+json": {
       "model_id": "934c8eeed9504592999ce2dd15ffb989",
       "version_major": 2,
       "version_minor": 0
      },
      "text/plain": [
       "Batches:   0%|          | 0/2 [00:00<?, ?it/s]"
      ]
     },
     "metadata": {},
     "output_type": "display_data"
    },
    {
     "name": "stderr",
     "output_type": "stream",
     "text": [
      "2023-12-13 21:11:00 sentence_transformers.SentenceTransformer INFO: Load pretrained SentenceTransformer: sentence-transformers/all-mpnet-base-v2\n",
      "2023-12-13 21:11:01 sentence_transformers.SentenceTransformer INFO: Use pytorch device: cpu\n"
     ]
    },
    {
     "data": {
      "application/vnd.jupyter.widget-view+json": {
       "model_id": "b0eabb360dc4418e8f640ad6e9f24210",
       "version_major": 2,
       "version_minor": 0
      },
      "text/plain": [
       "Batches:   0%|          | 0/1 [00:00<?, ?it/s]"
      ]
     },
     "metadata": {},
     "output_type": "display_data"
    },
    {
     "name": "stderr",
     "output_type": "stream",
     "text": [
      "2023-12-13 21:11:01 sentence_transformers.SentenceTransformer INFO: Load pretrained SentenceTransformer: sentence-transformers/all-mpnet-base-v2\n",
      "2023-12-13 21:11:02 sentence_transformers.SentenceTransformer INFO: Use pytorch device: cpu\n"
     ]
    },
    {
     "data": {
      "application/vnd.jupyter.widget-view+json": {
       "model_id": "db394a6ae77c4b82a788c0f3edaa0a83",
       "version_major": 2,
       "version_minor": 0
      },
      "text/plain": [
       "Batches:   0%|          | 0/2 [00:00<?, ?it/s]"
      ]
     },
     "metadata": {},
     "output_type": "display_data"
    },
    {
     "name": "stderr",
     "output_type": "stream",
     "text": [
      "2023-12-13 21:11:02 sentence_transformers.SentenceTransformer INFO: Load pretrained SentenceTransformer: sentence-transformers/all-mpnet-base-v2\n",
      "2023-12-13 21:11:03 sentence_transformers.SentenceTransformer INFO: Use pytorch device: cpu\n"
     ]
    },
    {
     "data": {
      "application/vnd.jupyter.widget-view+json": {
       "model_id": "2cee192397aa4ff898aefd99a21abccf",
       "version_major": 2,
       "version_minor": 0
      },
      "text/plain": [
       "Batches:   0%|          | 0/1 [00:00<?, ?it/s]"
      ]
     },
     "metadata": {},
     "output_type": "display_data"
    },
    {
     "name": "stderr",
     "output_type": "stream",
     "text": [
      "2023-12-13 21:11:03 sentence_transformers.SentenceTransformer INFO: Load pretrained SentenceTransformer: sentence-transformers/all-mpnet-base-v2\n",
      "2023-12-13 21:11:03 sentence_transformers.SentenceTransformer INFO: Use pytorch device: cpu\n"
     ]
    },
    {
     "data": {
      "application/vnd.jupyter.widget-view+json": {
       "model_id": "b33dfa19bc514133b4fcf156642c60be",
       "version_major": 2,
       "version_minor": 0
      },
      "text/plain": [
       "Batches:   0%|          | 0/1 [00:00<?, ?it/s]"
      ]
     },
     "metadata": {},
     "output_type": "display_data"
    },
    {
     "name": "stderr",
     "output_type": "stream",
     "text": [
      "2023-12-13 21:11:04 sentence_transformers.SentenceTransformer INFO: Load pretrained SentenceTransformer: sentence-transformers/all-mpnet-base-v2\n",
      "2023-12-13 21:11:04 sentence_transformers.SentenceTransformer INFO: Use pytorch device: cpu\n"
     ]
    },
    {
     "data": {
      "application/vnd.jupyter.widget-view+json": {
       "model_id": "f9941a506daf4882a8aa6fabde449aee",
       "version_major": 2,
       "version_minor": 0
      },
      "text/plain": [
       "Batches:   0%|          | 0/1 [00:00<?, ?it/s]"
      ]
     },
     "metadata": {},
     "output_type": "display_data"
    },
    {
     "name": "stderr",
     "output_type": "stream",
     "text": [
      "2023-12-13 21:11:04 sentence_transformers.SentenceTransformer INFO: Load pretrained SentenceTransformer: sentence-transformers/all-mpnet-base-v2\n",
      "2023-12-13 21:11:05 sentence_transformers.SentenceTransformer INFO: Use pytorch device: cpu\n"
     ]
    },
    {
     "data": {
      "application/vnd.jupyter.widget-view+json": {
       "model_id": "a1193128ea9047ac95ebf7c61b3b012b",
       "version_major": 2,
       "version_minor": 0
      },
      "text/plain": [
       "Batches:   0%|          | 0/1 [00:00<?, ?it/s]"
      ]
     },
     "metadata": {},
     "output_type": "display_data"
    },
    {
     "name": "stderr",
     "output_type": "stream",
     "text": [
      "2023-12-13 21:11:05 sentence_transformers.SentenceTransformer INFO: Load pretrained SentenceTransformer: sentence-transformers/all-mpnet-base-v2\n",
      "2023-12-13 21:11:06 sentence_transformers.SentenceTransformer INFO: Use pytorch device: cpu\n"
     ]
    },
    {
     "data": {
      "application/vnd.jupyter.widget-view+json": {
       "model_id": "5545d557f90047f3b4c40fbd549d29e3",
       "version_major": 2,
       "version_minor": 0
      },
      "text/plain": [
       "Batches:   0%|          | 0/1 [00:00<?, ?it/s]"
      ]
     },
     "metadata": {},
     "output_type": "display_data"
    },
    {
     "name": "stderr",
     "output_type": "stream",
     "text": [
      "2023-12-13 21:11:06 sentence_transformers.SentenceTransformer INFO: Load pretrained SentenceTransformer: sentence-transformers/all-mpnet-base-v2\n",
      "2023-12-13 21:11:07 sentence_transformers.SentenceTransformer INFO: Use pytorch device: cpu\n"
     ]
    },
    {
     "data": {
      "application/vnd.jupyter.widget-view+json": {
       "model_id": "ec4678bbb7e6473bbb07a4ecaa7dae39",
       "version_major": 2,
       "version_minor": 0
      },
      "text/plain": [
       "Batches:   0%|          | 0/1 [00:00<?, ?it/s]"
      ]
     },
     "metadata": {},
     "output_type": "display_data"
    },
    {
     "name": "stderr",
     "output_type": "stream",
     "text": [
      "2023-12-13 21:11:07 sentence_transformers.SentenceTransformer INFO: Load pretrained SentenceTransformer: sentence-transformers/all-mpnet-base-v2\n",
      "2023-12-13 21:11:08 sentence_transformers.SentenceTransformer INFO: Use pytorch device: cpu\n"
     ]
    },
    {
     "data": {
      "application/vnd.jupyter.widget-view+json": {
       "model_id": "90a277ff4ec140129c2b38bbecddc76c",
       "version_major": 2,
       "version_minor": 0
      },
      "text/plain": [
       "Batches:   0%|          | 0/1 [00:00<?, ?it/s]"
      ]
     },
     "metadata": {},
     "output_type": "display_data"
    },
    {
     "name": "stderr",
     "output_type": "stream",
     "text": [
      "2023-12-13 21:11:08 sentence_transformers.SentenceTransformer INFO: Load pretrained SentenceTransformer: sentence-transformers/all-mpnet-base-v2\n",
      "2023-12-13 21:11:09 sentence_transformers.SentenceTransformer INFO: Use pytorch device: cpu\n"
     ]
    },
    {
     "data": {
      "application/vnd.jupyter.widget-view+json": {
       "model_id": "5e62c0a27a174b5eb560206f6b3de32d",
       "version_major": 2,
       "version_minor": 0
      },
      "text/plain": [
       "Batches:   0%|          | 0/1 [00:00<?, ?it/s]"
      ]
     },
     "metadata": {},
     "output_type": "display_data"
    },
    {
     "name": "stderr",
     "output_type": "stream",
     "text": [
      "2023-12-13 21:11:09 sentence_transformers.SentenceTransformer INFO: Load pretrained SentenceTransformer: sentence-transformers/all-mpnet-base-v2\n",
      "2023-12-13 21:11:09 sentence_transformers.SentenceTransformer INFO: Use pytorch device: cpu\n"
     ]
    },
    {
     "data": {
      "application/vnd.jupyter.widget-view+json": {
       "model_id": "ed1d1219dd3842cbb4b32226466f1437",
       "version_major": 2,
       "version_minor": 0
      },
      "text/plain": [
       "Batches:   0%|          | 0/1 [00:00<?, ?it/s]"
      ]
     },
     "metadata": {},
     "output_type": "display_data"
    },
    {
     "name": "stderr",
     "output_type": "stream",
     "text": [
      "2023-12-13 21:11:10 sentence_transformers.SentenceTransformer INFO: Load pretrained SentenceTransformer: sentence-transformers/all-mpnet-base-v2\n",
      "2023-12-13 21:11:10 sentence_transformers.SentenceTransformer INFO: Use pytorch device: cpu\n"
     ]
    },
    {
     "data": {
      "application/vnd.jupyter.widget-view+json": {
       "model_id": "b0b095af2bdd4535b964e13cad29bd45",
       "version_major": 2,
       "version_minor": 0
      },
      "text/plain": [
       "Batches:   0%|          | 0/1 [00:00<?, ?it/s]"
      ]
     },
     "metadata": {},
     "output_type": "display_data"
    },
    {
     "name": "stderr",
     "output_type": "stream",
     "text": [
      "2023-12-13 21:11:10 sentence_transformers.SentenceTransformer INFO: Load pretrained SentenceTransformer: sentence-transformers/all-mpnet-base-v2\n",
      "2023-12-13 21:11:11 sentence_transformers.SentenceTransformer INFO: Use pytorch device: cpu\n"
     ]
    },
    {
     "data": {
      "application/vnd.jupyter.widget-view+json": {
       "model_id": "846433c196f547debb07ac1fbb4f8425",
       "version_major": 2,
       "version_minor": 0
      },
      "text/plain": [
       "Batches:   0%|          | 0/1 [00:00<?, ?it/s]"
      ]
     },
     "metadata": {},
     "output_type": "display_data"
    },
    {
     "name": "stderr",
     "output_type": "stream",
     "text": [
      "2023-12-13 21:11:11 sentence_transformers.SentenceTransformer INFO: Load pretrained SentenceTransformer: sentence-transformers/all-mpnet-base-v2\n",
      "2023-12-13 21:11:12 sentence_transformers.SentenceTransformer INFO: Use pytorch device: cpu\n"
     ]
    },
    {
     "data": {
      "application/vnd.jupyter.widget-view+json": {
       "model_id": "15e02cf3c76a4b518678fe1a3164d82d",
       "version_major": 2,
       "version_minor": 0
      },
      "text/plain": [
       "Batches:   0%|          | 0/1 [00:00<?, ?it/s]"
      ]
     },
     "metadata": {},
     "output_type": "display_data"
    },
    {
     "name": "stderr",
     "output_type": "stream",
     "text": [
      "2023-12-13 21:11:12 sentence_transformers.SentenceTransformer INFO: Load pretrained SentenceTransformer: sentence-transformers/all-mpnet-base-v2\n",
      "2023-12-13 21:11:13 sentence_transformers.SentenceTransformer INFO: Use pytorch device: cpu\n"
     ]
    },
    {
     "data": {
      "application/vnd.jupyter.widget-view+json": {
       "model_id": "6e8c2ebca66f48d7958658c4dd3d3b3b",
       "version_major": 2,
       "version_minor": 0
      },
      "text/plain": [
       "Batches:   0%|          | 0/1 [00:00<?, ?it/s]"
      ]
     },
     "metadata": {},
     "output_type": "display_data"
    },
    {
     "name": "stderr",
     "output_type": "stream",
     "text": [
      "2023-12-13 21:11:13 sentence_transformers.SentenceTransformer INFO: Load pretrained SentenceTransformer: sentence-transformers/all-mpnet-base-v2\n",
      "2023-12-13 21:11:14 sentence_transformers.SentenceTransformer INFO: Use pytorch device: cpu\n"
     ]
    },
    {
     "data": {
      "application/vnd.jupyter.widget-view+json": {
       "model_id": "baac7e0778304601976b23111bba5333",
       "version_major": 2,
       "version_minor": 0
      },
      "text/plain": [
       "Batches:   0%|          | 0/1 [00:00<?, ?it/s]"
      ]
     },
     "metadata": {},
     "output_type": "display_data"
    },
    {
     "name": "stderr",
     "output_type": "stream",
     "text": [
      "2023-12-13 21:11:14 sentence_transformers.SentenceTransformer INFO: Load pretrained SentenceTransformer: sentence-transformers/all-mpnet-base-v2\n",
      "2023-12-13 21:11:15 sentence_transformers.SentenceTransformer INFO: Use pytorch device: cpu\n"
     ]
    },
    {
     "data": {
      "application/vnd.jupyter.widget-view+json": {
       "model_id": "8d464d0c2db34d0aa854316c601356f9",
       "version_major": 2,
       "version_minor": 0
      },
      "text/plain": [
       "Batches:   0%|          | 0/1 [00:00<?, ?it/s]"
      ]
     },
     "metadata": {},
     "output_type": "display_data"
    },
    {
     "name": "stderr",
     "output_type": "stream",
     "text": [
      "2023-12-13 21:11:15 sentence_transformers.SentenceTransformer INFO: Load pretrained SentenceTransformer: sentence-transformers/all-mpnet-base-v2\n",
      "2023-12-13 21:11:15 sentence_transformers.SentenceTransformer INFO: Use pytorch device: cpu\n"
     ]
    },
    {
     "data": {
      "application/vnd.jupyter.widget-view+json": {
       "model_id": "c23e72ecb2f04ed3aa96c76a71a86204",
       "version_major": 2,
       "version_minor": 0
      },
      "text/plain": [
       "Batches:   0%|          | 0/1 [00:00<?, ?it/s]"
      ]
     },
     "metadata": {},
     "output_type": "display_data"
    },
    {
     "name": "stderr",
     "output_type": "stream",
     "text": [
      "2023-12-13 21:11:16 sentence_transformers.SentenceTransformer INFO: Load pretrained SentenceTransformer: sentence-transformers/all-mpnet-base-v2\n",
      "2023-12-13 21:11:16 sentence_transformers.SentenceTransformer INFO: Use pytorch device: cpu\n"
     ]
    },
    {
     "data": {
      "application/vnd.jupyter.widget-view+json": {
       "model_id": "1884afd63fae494b81c8d0a97344d495",
       "version_major": 2,
       "version_minor": 0
      },
      "text/plain": [
       "Batches:   0%|          | 0/1 [00:00<?, ?it/s]"
      ]
     },
     "metadata": {},
     "output_type": "display_data"
    },
    {
     "name": "stderr",
     "output_type": "stream",
     "text": [
      "2023-12-13 21:11:16 sentence_transformers.SentenceTransformer INFO: Load pretrained SentenceTransformer: sentence-transformers/all-mpnet-base-v2\n",
      "2023-12-13 21:11:17 sentence_transformers.SentenceTransformer INFO: Use pytorch device: cpu\n"
     ]
    },
    {
     "data": {
      "application/vnd.jupyter.widget-view+json": {
       "model_id": "945fc5a00ec145fbb10cff34f10a85ec",
       "version_major": 2,
       "version_minor": 0
      },
      "text/plain": [
       "Batches:   0%|          | 0/1 [00:00<?, ?it/s]"
      ]
     },
     "metadata": {},
     "output_type": "display_data"
    },
    {
     "name": "stderr",
     "output_type": "stream",
     "text": [
      "2023-12-13 21:11:17 sentence_transformers.SentenceTransformer INFO: Load pretrained SentenceTransformer: sentence-transformers/all-mpnet-base-v2\n",
      "2023-12-13 21:11:18 sentence_transformers.SentenceTransformer INFO: Use pytorch device: cpu\n"
     ]
    },
    {
     "data": {
      "application/vnd.jupyter.widget-view+json": {
       "model_id": "c00ac35f3fcc46c293f5b2bb29be4676",
       "version_major": 2,
       "version_minor": 0
      },
      "text/plain": [
       "Batches:   0%|          | 0/1 [00:00<?, ?it/s]"
      ]
     },
     "metadata": {},
     "output_type": "display_data"
    },
    {
     "name": "stderr",
     "output_type": "stream",
     "text": [
      "2023-12-13 21:11:18 sentence_transformers.SentenceTransformer INFO: Load pretrained SentenceTransformer: sentence-transformers/all-mpnet-base-v2\n",
      "2023-12-13 21:11:19 sentence_transformers.SentenceTransformer INFO: Use pytorch device: cpu\n"
     ]
    },
    {
     "data": {
      "application/vnd.jupyter.widget-view+json": {
       "model_id": "0a7d3979c1714cc9935bba5ce729af1a",
       "version_major": 2,
       "version_minor": 0
      },
      "text/plain": [
       "Batches:   0%|          | 0/1 [00:00<?, ?it/s]"
      ]
     },
     "metadata": {},
     "output_type": "display_data"
    },
    {
     "name": "stderr",
     "output_type": "stream",
     "text": [
      "2023-12-13 21:11:19 sentence_transformers.SentenceTransformer INFO: Load pretrained SentenceTransformer: sentence-transformers/all-mpnet-base-v2\n",
      "2023-12-13 21:11:20 sentence_transformers.SentenceTransformer INFO: Use pytorch device: cpu\n"
     ]
    },
    {
     "data": {
      "application/vnd.jupyter.widget-view+json": {
       "model_id": "7a943d40a7cf4a30978aa702434d828d",
       "version_major": 2,
       "version_minor": 0
      },
      "text/plain": [
       "Batches:   0%|          | 0/1 [00:00<?, ?it/s]"
      ]
     },
     "metadata": {},
     "output_type": "display_data"
    },
    {
     "name": "stderr",
     "output_type": "stream",
     "text": [
      "2023-12-13 21:11:20 sentence_transformers.SentenceTransformer INFO: Load pretrained SentenceTransformer: sentence-transformers/all-mpnet-base-v2\n",
      "2023-12-13 21:11:21 sentence_transformers.SentenceTransformer INFO: Use pytorch device: cpu\n"
     ]
    },
    {
     "data": {
      "application/vnd.jupyter.widget-view+json": {
       "model_id": "b53460d712714b6da7831bf1f63d5f21",
       "version_major": 2,
       "version_minor": 0
      },
      "text/plain": [
       "Batches:   0%|          | 0/1 [00:00<?, ?it/s]"
      ]
     },
     "metadata": {},
     "output_type": "display_data"
    },
    {
     "name": "stderr",
     "output_type": "stream",
     "text": [
      "2023-12-13 21:11:21 sentence_transformers.SentenceTransformer INFO: Load pretrained SentenceTransformer: sentence-transformers/all-mpnet-base-v2\n",
      "2023-12-13 21:11:21 sentence_transformers.SentenceTransformer INFO: Use pytorch device: cpu\n"
     ]
    },
    {
     "data": {
      "application/vnd.jupyter.widget-view+json": {
       "model_id": "43cbbf3e284d429686a13247e83bc325",
       "version_major": 2,
       "version_minor": 0
      },
      "text/plain": [
       "Batches:   0%|          | 0/1 [00:00<?, ?it/s]"
      ]
     },
     "metadata": {},
     "output_type": "display_data"
    },
    {
     "name": "stderr",
     "output_type": "stream",
     "text": [
      "2023-12-13 21:11:21 sentence_transformers.SentenceTransformer INFO: Load pretrained SentenceTransformer: sentence-transformers/all-mpnet-base-v2\n",
      "2023-12-13 21:11:22 sentence_transformers.SentenceTransformer INFO: Use pytorch device: cpu\n"
     ]
    },
    {
     "data": {
      "application/vnd.jupyter.widget-view+json": {
       "model_id": "d9f0c1ccf5394e44b0306e31c389d647",
       "version_major": 2,
       "version_minor": 0
      },
      "text/plain": [
       "Batches:   0%|          | 0/1 [00:00<?, ?it/s]"
      ]
     },
     "metadata": {},
     "output_type": "display_data"
    },
    {
     "name": "stderr",
     "output_type": "stream",
     "text": [
      "2023-12-13 21:11:22 sentence_transformers.SentenceTransformer INFO: Load pretrained SentenceTransformer: sentence-transformers/all-mpnet-base-v2\n",
      "2023-12-13 21:11:23 sentence_transformers.SentenceTransformer INFO: Use pytorch device: cpu\n"
     ]
    },
    {
     "data": {
      "application/vnd.jupyter.widget-view+json": {
       "model_id": "3996e12be3de4bd0bda8cef830b8cabb",
       "version_major": 2,
       "version_minor": 0
      },
      "text/plain": [
       "Batches:   0%|          | 0/1 [00:00<?, ?it/s]"
      ]
     },
     "metadata": {},
     "output_type": "display_data"
    },
    {
     "name": "stderr",
     "output_type": "stream",
     "text": [
      "2023-12-13 21:11:23 sentence_transformers.SentenceTransformer INFO: Load pretrained SentenceTransformer: sentence-transformers/all-mpnet-base-v2\n",
      "2023-12-13 21:11:24 sentence_transformers.SentenceTransformer INFO: Use pytorch device: cpu\n"
     ]
    },
    {
     "data": {
      "application/vnd.jupyter.widget-view+json": {
       "model_id": "922fcb263daf4699a2231b1970d3fdfa",
       "version_major": 2,
       "version_minor": 0
      },
      "text/plain": [
       "Batches:   0%|          | 0/1 [00:00<?, ?it/s]"
      ]
     },
     "metadata": {},
     "output_type": "display_data"
    },
    {
     "name": "stderr",
     "output_type": "stream",
     "text": [
      "2023-12-13 21:11:24 sentence_transformers.SentenceTransformer INFO: Load pretrained SentenceTransformer: sentence-transformers/all-mpnet-base-v2\n",
      "2023-12-13 21:11:25 sentence_transformers.SentenceTransformer INFO: Use pytorch device: cpu\n"
     ]
    },
    {
     "data": {
      "application/vnd.jupyter.widget-view+json": {
       "model_id": "fa4aa831925e49f6a7bb42238ef9505d",
       "version_major": 2,
       "version_minor": 0
      },
      "text/plain": [
       "Batches:   0%|          | 0/1 [00:00<?, ?it/s]"
      ]
     },
     "metadata": {},
     "output_type": "display_data"
    },
    {
     "name": "stderr",
     "output_type": "stream",
     "text": [
      "2023-12-13 21:11:25 sentence_transformers.SentenceTransformer INFO: Load pretrained SentenceTransformer: sentence-transformers/all-mpnet-base-v2\n",
      "2023-12-13 21:11:26 sentence_transformers.SentenceTransformer INFO: Use pytorch device: cpu\n"
     ]
    },
    {
     "data": {
      "application/vnd.jupyter.widget-view+json": {
       "model_id": "15894172e91f4a168a4e086073f1ce0c",
       "version_major": 2,
       "version_minor": 0
      },
      "text/plain": [
       "Batches:   0%|          | 0/1 [00:00<?, ?it/s]"
      ]
     },
     "metadata": {},
     "output_type": "display_data"
    },
    {
     "name": "stderr",
     "output_type": "stream",
     "text": [
      "2023-12-13 21:11:26 sentence_transformers.SentenceTransformer INFO: Load pretrained SentenceTransformer: sentence-transformers/all-mpnet-base-v2\n",
      "2023-12-13 21:11:27 sentence_transformers.SentenceTransformer INFO: Use pytorch device: cpu\n"
     ]
    },
    {
     "data": {
      "application/vnd.jupyter.widget-view+json": {
       "model_id": "46ef0e5c23f040e28371fca167e16ec1",
       "version_major": 2,
       "version_minor": 0
      },
      "text/plain": [
       "Batches:   0%|          | 0/1 [00:00<?, ?it/s]"
      ]
     },
     "metadata": {},
     "output_type": "display_data"
    },
    {
     "name": "stderr",
     "output_type": "stream",
     "text": [
      "2023-12-13 21:11:27 sentence_transformers.SentenceTransformer INFO: Load pretrained SentenceTransformer: sentence-transformers/all-mpnet-base-v2\n",
      "2023-12-13 21:11:27 sentence_transformers.SentenceTransformer INFO: Use pytorch device: cpu\n"
     ]
    },
    {
     "data": {
      "application/vnd.jupyter.widget-view+json": {
       "model_id": "2915a71c29ae44a8b13f2b9cfffb18ab",
       "version_major": 2,
       "version_minor": 0
      },
      "text/plain": [
       "Batches:   0%|          | 0/1 [00:00<?, ?it/s]"
      ]
     },
     "metadata": {},
     "output_type": "display_data"
    },
    {
     "name": "stderr",
     "output_type": "stream",
     "text": [
      "2023-12-13 21:11:27 sentence_transformers.SentenceTransformer INFO: Load pretrained SentenceTransformer: sentence-transformers/all-mpnet-base-v2\n",
      "2023-12-13 21:11:28 sentence_transformers.SentenceTransformer INFO: Use pytorch device: cpu\n"
     ]
    },
    {
     "data": {
      "application/vnd.jupyter.widget-view+json": {
       "model_id": "9ffb2a56b0c94ff7835a098816b391d3",
       "version_major": 2,
       "version_minor": 0
      },
      "text/plain": [
       "Batches:   0%|          | 0/1 [00:00<?, ?it/s]"
      ]
     },
     "metadata": {},
     "output_type": "display_data"
    },
    {
     "name": "stderr",
     "output_type": "stream",
     "text": [
      "2023-12-13 21:11:28 sentence_transformers.SentenceTransformer INFO: Load pretrained SentenceTransformer: sentence-transformers/all-mpnet-base-v2\n",
      "2023-12-13 21:11:29 sentence_transformers.SentenceTransformer INFO: Use pytorch device: cpu\n"
     ]
    },
    {
     "data": {
      "application/vnd.jupyter.widget-view+json": {
       "model_id": "44fa705360314be2840ae3221867f4a9",
       "version_major": 2,
       "version_minor": 0
      },
      "text/plain": [
       "Batches:   0%|          | 0/1 [00:00<?, ?it/s]"
      ]
     },
     "metadata": {},
     "output_type": "display_data"
    },
    {
     "name": "stderr",
     "output_type": "stream",
     "text": [
      "2023-12-13 21:11:29 sentence_transformers.SentenceTransformer INFO: Load pretrained SentenceTransformer: sentence-transformers/all-mpnet-base-v2\n",
      "2023-12-13 21:11:30 sentence_transformers.SentenceTransformer INFO: Use pytorch device: cpu\n"
     ]
    },
    {
     "data": {
      "application/vnd.jupyter.widget-view+json": {
       "model_id": "337c20b33e2f4fda8957b7d90a8ff15d",
       "version_major": 2,
       "version_minor": 0
      },
      "text/plain": [
       "Batches:   0%|          | 0/1 [00:00<?, ?it/s]"
      ]
     },
     "metadata": {},
     "output_type": "display_data"
    },
    {
     "name": "stderr",
     "output_type": "stream",
     "text": [
      "2023-12-13 21:11:30 sentence_transformers.SentenceTransformer INFO: Load pretrained SentenceTransformer: sentence-transformers/all-mpnet-base-v2\n",
      "2023-12-13 21:11:31 sentence_transformers.SentenceTransformer INFO: Use pytorch device: cpu\n"
     ]
    },
    {
     "data": {
      "application/vnd.jupyter.widget-view+json": {
       "model_id": "267da67afdfa45ec86fa8abb05985de7",
       "version_major": 2,
       "version_minor": 0
      },
      "text/plain": [
       "Batches:   0%|          | 0/1 [00:00<?, ?it/s]"
      ]
     },
     "metadata": {},
     "output_type": "display_data"
    },
    {
     "name": "stderr",
     "output_type": "stream",
     "text": [
      "2023-12-13 21:11:31 sentence_transformers.SentenceTransformer INFO: Load pretrained SentenceTransformer: sentence-transformers/all-mpnet-base-v2\n",
      "2023-12-13 21:11:32 sentence_transformers.SentenceTransformer INFO: Use pytorch device: cpu\n"
     ]
    },
    {
     "data": {
      "application/vnd.jupyter.widget-view+json": {
       "model_id": "883d377954f848b5a1c22d01d3058341",
       "version_major": 2,
       "version_minor": 0
      },
      "text/plain": [
       "Batches:   0%|          | 0/1 [00:00<?, ?it/s]"
      ]
     },
     "metadata": {},
     "output_type": "display_data"
    },
    {
     "name": "stderr",
     "output_type": "stream",
     "text": [
      "2023-12-13 21:11:32 sentence_transformers.SentenceTransformer INFO: Load pretrained SentenceTransformer: sentence-transformers/all-mpnet-base-v2\n",
      "2023-12-13 21:11:33 sentence_transformers.SentenceTransformer INFO: Use pytorch device: cpu\n"
     ]
    },
    {
     "data": {
      "application/vnd.jupyter.widget-view+json": {
       "model_id": "79576dde44a7464c913d6ad0c9cc8488",
       "version_major": 2,
       "version_minor": 0
      },
      "text/plain": [
       "Batches:   0%|          | 0/1 [00:00<?, ?it/s]"
      ]
     },
     "metadata": {},
     "output_type": "display_data"
    },
    {
     "name": "stderr",
     "output_type": "stream",
     "text": [
      "2023-12-13 21:11:33 sentence_transformers.SentenceTransformer INFO: Load pretrained SentenceTransformer: sentence-transformers/all-mpnet-base-v2\n",
      "2023-12-13 21:11:34 sentence_transformers.SentenceTransformer INFO: Use pytorch device: cpu\n"
     ]
    },
    {
     "data": {
      "application/vnd.jupyter.widget-view+json": {
       "model_id": "7fa90af9a2a742588f0eecd0fa06176e",
       "version_major": 2,
       "version_minor": 0
      },
      "text/plain": [
       "Batches:   0%|          | 0/1 [00:00<?, ?it/s]"
      ]
     },
     "metadata": {},
     "output_type": "display_data"
    },
    {
     "name": "stderr",
     "output_type": "stream",
     "text": [
      "2023-12-13 21:11:34 sentence_transformers.SentenceTransformer INFO: Load pretrained SentenceTransformer: sentence-transformers/all-mpnet-base-v2\n",
      "2023-12-13 21:11:34 sentence_transformers.SentenceTransformer INFO: Use pytorch device: cpu\n"
     ]
    },
    {
     "data": {
      "application/vnd.jupyter.widget-view+json": {
       "model_id": "1a3c3ca501574c75a3608fae08b6e06a",
       "version_major": 2,
       "version_minor": 0
      },
      "text/plain": [
       "Batches:   0%|          | 0/1 [00:00<?, ?it/s]"
      ]
     },
     "metadata": {},
     "output_type": "display_data"
    },
    {
     "name": "stderr",
     "output_type": "stream",
     "text": [
      "2023-12-13 21:11:35 sentence_transformers.SentenceTransformer INFO: Load pretrained SentenceTransformer: sentence-transformers/all-mpnet-base-v2\n",
      "2023-12-13 21:11:35 sentence_transformers.SentenceTransformer INFO: Use pytorch device: cpu\n"
     ]
    },
    {
     "data": {
      "application/vnd.jupyter.widget-view+json": {
       "model_id": "12cbf7fb4b374d2fa6eedecad8be694b",
       "version_major": 2,
       "version_minor": 0
      },
      "text/plain": [
       "Batches:   0%|          | 0/1 [00:00<?, ?it/s]"
      ]
     },
     "metadata": {},
     "output_type": "display_data"
    },
    {
     "name": "stderr",
     "output_type": "stream",
     "text": [
      "2023-12-13 21:11:35 sentence_transformers.SentenceTransformer INFO: Load pretrained SentenceTransformer: sentence-transformers/all-mpnet-base-v2\n",
      "2023-12-13 21:11:36 sentence_transformers.SentenceTransformer INFO: Use pytorch device: cpu\n"
     ]
    },
    {
     "data": {
      "application/vnd.jupyter.widget-view+json": {
       "model_id": "7519cbcd3c314744a9b9dc3c1b3b6718",
       "version_major": 2,
       "version_minor": 0
      },
      "text/plain": [
       "Batches:   0%|          | 0/1 [00:00<?, ?it/s]"
      ]
     },
     "metadata": {},
     "output_type": "display_data"
    },
    {
     "name": "stderr",
     "output_type": "stream",
     "text": [
      "2023-12-13 21:11:36 sentence_transformers.SentenceTransformer INFO: Load pretrained SentenceTransformer: sentence-transformers/all-mpnet-base-v2\n",
      "2023-12-13 21:11:37 sentence_transformers.SentenceTransformer INFO: Use pytorch device: cpu\n"
     ]
    },
    {
     "data": {
      "application/vnd.jupyter.widget-view+json": {
       "model_id": "de7a2d51494f45b996b8642970c33be6",
       "version_major": 2,
       "version_minor": 0
      },
      "text/plain": [
       "Batches:   0%|          | 0/1 [00:00<?, ?it/s]"
      ]
     },
     "metadata": {},
     "output_type": "display_data"
    },
    {
     "name": "stderr",
     "output_type": "stream",
     "text": [
      "2023-12-13 21:11:37 sentence_transformers.SentenceTransformer INFO: Load pretrained SentenceTransformer: sentence-transformers/all-mpnet-base-v2\n",
      "2023-12-13 21:11:38 sentence_transformers.SentenceTransformer INFO: Use pytorch device: cpu\n"
     ]
    },
    {
     "data": {
      "application/vnd.jupyter.widget-view+json": {
       "model_id": "69c46e4d3dcb4c6cb93a360cd38e297a",
       "version_major": 2,
       "version_minor": 0
      },
      "text/plain": [
       "Batches:   0%|          | 0/1 [00:00<?, ?it/s]"
      ]
     },
     "metadata": {},
     "output_type": "display_data"
    },
    {
     "name": "stderr",
     "output_type": "stream",
     "text": [
      "2023-12-13 21:11:38 sentence_transformers.SentenceTransformer INFO: Load pretrained SentenceTransformer: sentence-transformers/all-mpnet-base-v2\n",
      "2023-12-13 21:11:39 sentence_transformers.SentenceTransformer INFO: Use pytorch device: cpu\n"
     ]
    },
    {
     "data": {
      "application/vnd.jupyter.widget-view+json": {
       "model_id": "7d341c2736144d71bce7c7dbf78b4148",
       "version_major": 2,
       "version_minor": 0
      },
      "text/plain": [
       "Batches:   0%|          | 0/1 [00:00<?, ?it/s]"
      ]
     },
     "metadata": {},
     "output_type": "display_data"
    },
    {
     "name": "stderr",
     "output_type": "stream",
     "text": [
      "2023-12-13 21:11:39 sentence_transformers.SentenceTransformer INFO: Load pretrained SentenceTransformer: sentence-transformers/all-mpnet-base-v2\n",
      "2023-12-13 21:11:40 sentence_transformers.SentenceTransformer INFO: Use pytorch device: cpu\n"
     ]
    },
    {
     "data": {
      "application/vnd.jupyter.widget-view+json": {
       "model_id": "e09cfb9db2104ba1aa827a8c048cf2df",
       "version_major": 2,
       "version_minor": 0
      },
      "text/plain": [
       "Batches:   0%|          | 0/1 [00:00<?, ?it/s]"
      ]
     },
     "metadata": {},
     "output_type": "display_data"
    },
    {
     "name": "stderr",
     "output_type": "stream",
     "text": [
      "2023-12-13 21:11:40 sentence_transformers.SentenceTransformer INFO: Load pretrained SentenceTransformer: sentence-transformers/all-mpnet-base-v2\n",
      "2023-12-13 21:11:41 sentence_transformers.SentenceTransformer INFO: Use pytorch device: cpu\n"
     ]
    },
    {
     "data": {
      "application/vnd.jupyter.widget-view+json": {
       "model_id": "f8ea13612c52438085a13cef01fa34b0",
       "version_major": 2,
       "version_minor": 0
      },
      "text/plain": [
       "Batches:   0%|          | 0/1 [00:00<?, ?it/s]"
      ]
     },
     "metadata": {},
     "output_type": "display_data"
    },
    {
     "name": "stderr",
     "output_type": "stream",
     "text": [
      "2023-12-13 21:11:41 sentence_transformers.SentenceTransformer INFO: Load pretrained SentenceTransformer: sentence-transformers/all-mpnet-base-v2\n",
      "2023-12-13 21:11:42 sentence_transformers.SentenceTransformer INFO: Use pytorch device: cpu\n"
     ]
    },
    {
     "data": {
      "application/vnd.jupyter.widget-view+json": {
       "model_id": "d56156eb8a264f4a85276856488d545a",
       "version_major": 2,
       "version_minor": 0
      },
      "text/plain": [
       "Batches:   0%|          | 0/1 [00:00<?, ?it/s]"
      ]
     },
     "metadata": {},
     "output_type": "display_data"
    },
    {
     "name": "stderr",
     "output_type": "stream",
     "text": [
      "2023-12-13 21:11:42 sentence_transformers.SentenceTransformer INFO: Load pretrained SentenceTransformer: sentence-transformers/all-mpnet-base-v2\n",
      "2023-12-13 21:11:43 sentence_transformers.SentenceTransformer INFO: Use pytorch device: cpu\n"
     ]
    },
    {
     "data": {
      "application/vnd.jupyter.widget-view+json": {
       "model_id": "e3e8e1c03e444814916755c2273142d2",
       "version_major": 2,
       "version_minor": 0
      },
      "text/plain": [
       "Batches:   0%|          | 0/1 [00:00<?, ?it/s]"
      ]
     },
     "metadata": {},
     "output_type": "display_data"
    },
    {
     "name": "stderr",
     "output_type": "stream",
     "text": [
      "2023-12-13 21:11:43 sentence_transformers.SentenceTransformer INFO: Load pretrained SentenceTransformer: sentence-transformers/all-mpnet-base-v2\n",
      "2023-12-13 21:11:43 sentence_transformers.SentenceTransformer INFO: Use pytorch device: cpu\n"
     ]
    },
    {
     "data": {
      "application/vnd.jupyter.widget-view+json": {
       "model_id": "ea120e13702e43bebccc0e8e99a847e6",
       "version_major": 2,
       "version_minor": 0
      },
      "text/plain": [
       "Batches:   0%|          | 0/1 [00:00<?, ?it/s]"
      ]
     },
     "metadata": {},
     "output_type": "display_data"
    },
    {
     "name": "stderr",
     "output_type": "stream",
     "text": [
      "2023-12-13 21:11:44 sentence_transformers.SentenceTransformer INFO: Load pretrained SentenceTransformer: sentence-transformers/all-mpnet-base-v2\n",
      "2023-12-13 21:11:44 sentence_transformers.SentenceTransformer INFO: Use pytorch device: cpu\n"
     ]
    },
    {
     "data": {
      "application/vnd.jupyter.widget-view+json": {
       "model_id": "e8a77c4bcbce4779b5f9605a4e5e00dd",
       "version_major": 2,
       "version_minor": 0
      },
      "text/plain": [
       "Batches:   0%|          | 0/1 [00:00<?, ?it/s]"
      ]
     },
     "metadata": {},
     "output_type": "display_data"
    },
    {
     "name": "stderr",
     "output_type": "stream",
     "text": [
      "2023-12-13 21:11:44 sentence_transformers.SentenceTransformer INFO: Load pretrained SentenceTransformer: sentence-transformers/all-mpnet-base-v2\n",
      "2023-12-13 21:11:45 sentence_transformers.SentenceTransformer INFO: Use pytorch device: cpu\n"
     ]
    },
    {
     "data": {
      "application/vnd.jupyter.widget-view+json": {
       "model_id": "c65c7d2870384a7c862867d28bd89393",
       "version_major": 2,
       "version_minor": 0
      },
      "text/plain": [
       "Batches:   0%|          | 0/1 [00:00<?, ?it/s]"
      ]
     },
     "metadata": {},
     "output_type": "display_data"
    },
    {
     "name": "stderr",
     "output_type": "stream",
     "text": [
      "2023-12-13 21:11:45 sentence_transformers.SentenceTransformer INFO: Load pretrained SentenceTransformer: sentence-transformers/all-mpnet-base-v2\n",
      "2023-12-13 21:11:46 sentence_transformers.SentenceTransformer INFO: Use pytorch device: cpu\n"
     ]
    },
    {
     "data": {
      "application/vnd.jupyter.widget-view+json": {
       "model_id": "ec927a9d251b4760813837ee12e6b1cb",
       "version_major": 2,
       "version_minor": 0
      },
      "text/plain": [
       "Batches:   0%|          | 0/1 [00:00<?, ?it/s]"
      ]
     },
     "metadata": {},
     "output_type": "display_data"
    },
    {
     "name": "stderr",
     "output_type": "stream",
     "text": [
      "2023-12-13 21:11:46 sentence_transformers.SentenceTransformer INFO: Load pretrained SentenceTransformer: sentence-transformers/all-mpnet-base-v2\n",
      "2023-12-13 21:11:47 sentence_transformers.SentenceTransformer INFO: Use pytorch device: cpu\n"
     ]
    },
    {
     "data": {
      "application/vnd.jupyter.widget-view+json": {
       "model_id": "aff04c3dacdd481ea7b2541efce9194e",
       "version_major": 2,
       "version_minor": 0
      },
      "text/plain": [
       "Batches:   0%|          | 0/1 [00:00<?, ?it/s]"
      ]
     },
     "metadata": {},
     "output_type": "display_data"
    },
    {
     "name": "stderr",
     "output_type": "stream",
     "text": [
      "2023-12-13 21:11:47 sentence_transformers.SentenceTransformer INFO: Load pretrained SentenceTransformer: sentence-transformers/all-mpnet-base-v2\n",
      "2023-12-13 21:11:48 sentence_transformers.SentenceTransformer INFO: Use pytorch device: cpu\n"
     ]
    },
    {
     "data": {
      "application/vnd.jupyter.widget-view+json": {
       "model_id": "4f7dac8d513148e987e4086ea67f039c",
       "version_major": 2,
       "version_minor": 0
      },
      "text/plain": [
       "Batches:   0%|          | 0/1 [00:00<?, ?it/s]"
      ]
     },
     "metadata": {},
     "output_type": "display_data"
    },
    {
     "name": "stderr",
     "output_type": "stream",
     "text": [
      "2023-12-13 21:11:48 sentence_transformers.SentenceTransformer INFO: Load pretrained SentenceTransformer: sentence-transformers/all-mpnet-base-v2\n",
      "2023-12-13 21:11:49 sentence_transformers.SentenceTransformer INFO: Use pytorch device: cpu\n"
     ]
    },
    {
     "data": {
      "application/vnd.jupyter.widget-view+json": {
       "model_id": "89bc52678ea74a1b95e539ece3aa77d9",
       "version_major": 2,
       "version_minor": 0
      },
      "text/plain": [
       "Batches:   0%|          | 0/1 [00:00<?, ?it/s]"
      ]
     },
     "metadata": {},
     "output_type": "display_data"
    }
   ],
   "source": [
    "product_predicted_categories = []\n",
    "product_category_counts = {}\n",
    "\n",
    "# Classifies category for each item in each receipt.\n",
    "for receipt in receipt_outputs:\n",
    "    try:\n",
    "        json_obj = json.loads(receipt)\n",
    "        if 'ITEMS' in json_obj['ReceiptInfo']:\n",
    "            for item in json_obj['ReceiptInfo']['ITEMS']:\n",
    "                item_df = pd.DataFrame(compute_item_embeddings(item))\n",
    "                pred_prod_category = knn_cls_prod.predict(item_df.values)[0]\n",
    "                product_predicted_categories.append(pred_prod_category)\n",
    "    \n",
    "                # Keeps count of each category.\n",
    "                if pred_prod_category in product_category_counts:\n",
    "                    product_category_counts[pred_prod_category] += 1\n",
    "                else:\n",
    "                    product_category_counts[pred_prod_category] = 1\n",
    "    except:\n",
    "        pass"
   ]
  },
  {
   "cell_type": "markdown",
   "id": "45076ecd-df0e-4eb1-ad4a-767086de7682",
   "metadata": {},
   "source": [
    "# Product Visualization"
   ]
  },
  {
   "cell_type": "code",
   "execution_count": 34,
   "id": "2e946ba8",
   "metadata": {},
   "outputs": [
    {
     "data": {
      "image/png": "[encoded data removed]",
      "text/plain": [
       "<Figure size 640x480 with 1 Axes>"
      ]
     },
     "metadata": {},
     "output_type": "display_data"
    },
    {
     "data": {
      "image/png": "[encoded data removed]",
      "text/plain": [
       "<Figure size 1000x500 with 1 Axes>"
      ]
     },
     "metadata": {},
     "output_type": "display_data"
    }
   ],
   "source": [
    "import matplotlib.pyplot as plt\n",
    "\n",
    "#pie chart for vendor categories\n",
    "labels = list(product_category_counts.keys())\n",
    "values = list(product_category_counts.values())\n",
    "\n",
    "fig, ax = plt.subplots()\n",
    "ax.pie(values, labels=labels, autopct='%1.1f%%')\n",
    "ax.set_title('Products by Category')\n",
    "\n",
    "\n",
    "#bar graph for vendor categories\n",
    "fig = plt.figure(figsize = (10, 5))\n",
    " \n",
    "# creating the bar plot\n",
    "plt.barh(labels, values, color ='maroon', \n",
    "        height = 0.4)\n",
    "\n",
    "plt.show()"
   ]
  },
  {
   "cell_type": "markdown",
   "id": "f354828a-40e6-436c-a027-9b84f33ddb35",
   "metadata": {},
   "source": [
    "# Named Entity Recognition (Nervaluate)"
   ]
  },
  {
   "cell_type": "code",
   "execution_count": 35,
   "id": "cf7d9db2",
   "metadata": {},
   "outputs": [],
   "source": [
    "## Named Entity Recognition:\n",
    "def find_span(text, entity_text):\n",
    "    \"\"\"Finds the start and end positions for a given entity_text\"\"\"\n",
    "    start = text.find(entity_text)\n",
    "    if start == -1:\n",
    "        return None\n",
    "    end = start + len(entity_text)\n",
    "    return (start, end), entity_text\n",
    "\n",
    "def convert_to_prodigy_spans(receipt_text, entities):\n",
    "    \"\"\"Structures the receipt data by finding the position spans of each field indicated in the Structured JSON Object.\"\"\"\n",
    "    text_vals = []\n",
    "    entities = json.loads(entities)\n",
    "    prodigy_data = []\n",
    "    receipt_info = entities[\"ReceiptInfo\"]\n",
    "\n",
    "    # Gets the label and entity_text for each corresponding label and entity listed.\n",
    "    for label, entity_text in [\n",
    "        (\"MERCHANT\", str(receipt_info.get(\"merchant\", \"\"))), \n",
    "        (\"ADDRESS\", str(receipt_info.get(\"address\", \"\"))), \n",
    "        (\"CITY\", str(receipt_info.get(\"city\", \"\"))), \n",
    "        (\"STATE\", str(receipt_info.get(\"state\", \"\"))), \n",
    "        (\"PHONE\", str(receipt_info.get(\"phoneNumber\", \"\"))), \n",
    "        (\"TAX\", str(receipt_info.get(\"tax\", \"\"))), \n",
    "        (\"TOTAL\", str(receipt_info.get(\"total\", \"\"))), \n",
    "        (\"DATE\", str(receipt_info.get(\"receiptDate\", \"\"))) \n",
    "    ]:\n",
    "\n",
    "        # Tries to add positions of enties for corresponding labels.\n",
    "        #try:\n",
    "        if entity_text:\n",
    "            span = find_span(receipt_text, entity_text)\n",
    "            if span:\n",
    "                stend, text = span\n",
    "                text_vals.append(text)\n",
    "                start, end = stend\n",
    "                prodigy_data.append([{\"start\": start, \"end\": end, \"label\": label}])\n",
    "            else:\n",
    "                # if span is not found, assume the value is not in the raw text\n",
    "                prodigy_data.append([{\"start\": 0, \"end\": 0, \"label\": label}])\n",
    "        #except:\n",
    "         #   continue\n",
    "\n",
    "    # Process item-level entities\n",
    "    item_num = 1\n",
    "    for item in receipt_info[\"ITEMS\"]:\n",
    "        for label, entity_text in [  \n",
    "            (\"ITEM_DESC\", item.get(\"description\", \"\")),\n",
    "            (\"QTY\", str(item.get(\"quantity\", \"\"))),\n",
    "            (\"UNIT_PRICE\", str(item.get(\"unitPrice\", \"\"))),\n",
    "            (\"TOTAL_PRICE\", str(item.get(\"totalPrice\", \"\"))),\n",
    "            (\"DISCOUNT\", str(item.get(\"discountAmount\", \"\")))  # Discount might not always be present\n",
    "        ]:\n",
    "            if entity_text:  # Check if the entity text is not empty\n",
    "                span = find_span(receipt_text, entity_text)\n",
    "                if span:\n",
    "                    stend, text = span\n",
    "                    text_vals.append(text)\n",
    "                    start, end = stend\n",
    "                    prodigy_data.append([{\"start\": start, \"end\": end, \"label\": label + str(item_num)}])\n",
    "                else:\n",
    "                    # if span is not found, assume the value is not in the raw text\n",
    "                    prodigy_data.append([{\"start\": 0, \"end\": 0, \"label\": label + str(item_num)}])\n",
    "        item_num += 1\n",
    "\n",
    "    return prodigy_data, text_vals\n",
    "\n",
    "# Example usage\n",
    "\n",
    "#prodigy_spans_true, text_vals = convert_to_prodigy_spans(test_receipts[0], receipt_outputs[0])\n",
    "#print(json.dumps(prodigy_spans_true, indent=2))"
   ]
  },
  {
   "cell_type": "code",
   "execution_count": 36,
   "id": "3e3c19b2",
   "metadata": {},
   "outputs": [],
   "source": [
    "def get_prodigy_spans(text, true_ents, pred_ents):\n",
    "    # Get the Prodigy spans for the manually parsed entities\n",
    "    prodigy_spans_true, text_vals = convert_to_prodigy_spans(text, true_ents)\n",
    "    labels_true = list(span[0][\"label\"] for span in prodigy_spans_true)\n",
    "    # Get the Prodigy spans for the LangChain generated entities\n",
    "    prodigy_spans_predicted, text_vals_predicted = convert_to_prodigy_spans(text, pred_ents)\n",
    "    labels_predicted = list(span[0][\"label\"] for span in prodigy_spans_predicted)\n",
    "    \n",
    "    evaluator = Evaluator(prodigy_spans_true, prodigy_spans_predicted, tags=labels_true)\n",
    "\n",
    "    # Returns overall metrics and metrics for each tag\n",
    "\n",
    "    results, results_per_tag = evaluator.evaluate()\n",
    "\n",
    "    print(results)"
   ]
  },
  {
   "cell_type": "code",
   "execution_count": 37,
   "id": "21065549",
   "metadata": {},
   "outputs": [
    {
     "name": "stdout",
     "output_type": "stream",
     "text": [
      "{'ent_type': {'correct': 22, 'incorrect': 0, 'partial': 0, 'missed': 0, 'spurious': 0, 'possible': 22, 'actual': 22, 'precision': 1.0, 'recall': 1.0, 'f1': 1.0}, 'partial': {'correct': 22, 'incorrect': 0, 'partial': 0, 'missed': 0, 'spurious': 0, 'possible': 22, 'actual': 22, 'precision': 1.0, 'recall': 1.0, 'f1': 1.0}, 'strict': {'correct': 22, 'incorrect': 0, 'partial': 0, 'missed': 0, 'spurious': 0, 'possible': 22, 'actual': 22, 'precision': 1.0, 'recall': 1.0, 'f1': 1.0}, 'exact': {'correct': 22, 'incorrect': 0, 'partial': 0, 'missed': 0, 'spurious': 0, 'possible': 22, 'actual': 22, 'precision': 1.0, 'recall': 1.0, 'f1': 1.0}}\n"
     ]
    }
   ],
   "source": [
    "# Raw text data from zip file\n",
    "test_text_1 = '''\n",
    "SAFEWAY O\n",
    "<UNKNOWN>\n",
    "Store 205 Dir Betsy Esposito\n",
    "Main : (808) 266-5200\n",
    "1060 Keolu Drive\n",
    "KAILUA HI 96734\n",
    "GROCERY\n",
    "BODY ARMOR\n",
    "9.99 B\n",
    "DEP SFTDK 8 PK FS\n",
    "0.40 S\n",
    "FEE SFTDK 8 PK FS\n",
    "0.08 S\n",
    "Regular Price 11.49\n",
    "Member Savings\n",
    "1.50-\n",
    "TAX\n",
    "0.47\n",
    "**** BALANCE\n",
    "10.94\n",
    "'''\n",
    "\n",
    "# True values that were manually parsed\n",
    "test_true_1 = '''\n",
    "{\n",
    "  \"ReceiptInfo\": {\n",
    "    \"merchant\": \"SAFEWAY\",\n",
    "    \"address\": \"1060 Keolu Drive\",\n",
    "    \"city\": \"KAILUA\",\n",
    "    \"state\": \"HI\",\n",
    "    \"phoneNumber\": \"(808) 266-5200\",\n",
    "    \"tax\": \"0.47\",\n",
    "    \"total\": \"10.94\",\n",
    "    \"receiptDate\": \"\",\n",
    "    \"receiptTime\": \"\",\n",
    "\n",
    "\n",
    "    \"ITEMS\": [\n",
    "      {\n",
    "        \"description\": \"BODY ARMOR\",\n",
    "        \"quantity\": \"1\",\n",
    "        \"unitPrice\": \"9.99\",\n",
    "        \"totalPrice\": \"9.99\",\n",
    "        \"discountAmount\": \"0.00\"\n",
    "      },\n",
    "      {\n",
    "        \"description\": \"DEP SFTDK 8 PK FS\",\n",
    "        \"quantity\": \"1\",\n",
    "        \"unitPrice\": \"0.40\",\n",
    "        \"totalPrice\": \"0.40\",\n",
    "        \"discountAmount\": \"0.00\"\n",
    "      },\n",
    "      {\n",
    "        \"description\": \"FEE SFTDK 8 PK FS\",\n",
    "        \"quantity\": \"1\",\n",
    "        \"unitPrice\": \"0.08\",\n",
    "        \"totalPrice\": \"0.08\",\n",
    "        \"discountAmount\": \"0.00\"\n",
    "      }\n",
    "    ]\n",
    "  }\n",
    "}\n",
    "'''\n",
    "\n",
    "# Output returned by ChatGPT/LangChain\n",
    "test_pred_1 = '''\n",
    "{\n",
    "\"ReceiptInfo\": {\n",
    "\"merchant\": \"SAFEWAY\",\n",
    "\"address\": \"1060 Keolu Drive\",\n",
    "\"city\": \"KAILUA\",\n",
    "\"state\": \"HI\",\n",
    "\"phoneNumber\": \"(808) 266-5200\",\n",
    "\"tax\": \"0.47\",\n",
    "\"total\": \"10.94\",\n",
    "\"receiptDate\": \"\",\n",
    "\"receiptTime\": \"\",\n",
    "\"ITEMS\": [\n",
    "{\n",
    "\"description\": \"BODY ARMOR\",\n",
    "\"quantity\": \"1\",\n",
    "\"unitPrice\": \"9.99\",\n",
    "\"totalPrice\": \"9.99\",\n",
    "\"discountAmount\": \"0.00\"\n",
    "},\n",
    "{\n",
    "\"description\": \"DEP SFTDK 8 PK FS\",\n",
    "\"quantity\": \"1\",\n",
    "\"unitPrice\": \"0.40\",\n",
    "\"totalPrice\": \"0.40\",\n",
    "\"discountAmount\": \"0.00\"\n",
    "},\n",
    "{\n",
    "\"description\": \"FEE SFTDK 8 PK FS\",\n",
    "\"quantity\": \"1\",\n",
    "\"unitPrice\": \"0.08\",\n",
    "\"totalPrice\": \"0.08\",\n",
    "\"discountAmount\": \"0.00\"\n",
    "}\n",
    "]\n",
    "}\n",
    "}\n",
    "'''\n",
    "\n",
    "get_prodigy_spans(test_text_1, test_true_1, test_pred_1)"
   ]
  },
  {
   "cell_type": "code",
   "execution_count": 38,
   "id": "01c4ce06",
   "metadata": {},
   "outputs": [
    {
     "name": "stdout",
     "output_type": "stream",
     "text": [
      "{'ent_type': {'correct': 12, 'incorrect': 0, 'partial': 0, 'missed': 0, 'spurious': 0, 'possible': 12, 'actual': 12, 'precision': 1.0, 'recall': 1.0, 'f1': 1.0}, 'partial': {'correct': 10, 'incorrect': 0, 'partial': 2, 'missed': 0, 'spurious': 0, 'possible': 12, 'actual': 12, 'precision': 0.9166666666666666, 'recall': 0.9166666666666666, 'f1': 0.9166666666666666}, 'strict': {'correct': 10, 'incorrect': 2, 'partial': 0, 'missed': 0, 'spurious': 0, 'possible': 12, 'actual': 12, 'precision': 0.8333333333333334, 'recall': 0.8333333333333334, 'f1': 0.8333333333333334}, 'exact': {'correct': 10, 'incorrect': 2, 'partial': 0, 'missed': 0, 'spurious': 0, 'possible': 12, 'actual': 12, 'precision': 0.8333333333333334, 'recall': 0.8333333333333334, 'f1': 0.8333333333333334}}\n"
     ]
    }
   ],
   "source": [
    "test_text_2 = '''\n",
    "Sam's Club #6410\n",
    "1000 KAMEHAMEHA HWY STE\n",
    "PEARL CITY, HI 96782\n",
    "Pump# 24 UNLEAD (11)\n",
    "Gallons\n",
    "15.326\n",
    "Price/Gal\n",
    "$4.189\n",
    "Fuel Sale\n",
    "$64.20\n",
    "Discover Credit $64.20\n",
    "DS\n",
    "<UNKNOWN> I\n",
    "01\n",
    "Auth:\n",
    "<UNKNOWN>\n",
    "Apprvl :\n",
    "01796R\n",
    "AID #A0000001523010\n",
    "07/17/23 12:01 PM\n",
    "TC#\n",
    "<UNKNOWN>'''\n",
    "\n",
    "test_true_2 = '''\n",
    "{\n",
    "  \"ReceiptInfo\": {\n",
    "    \"merchant\": \"Sam's Club\",\n",
    "    \"address\": \"1000 KAMEHAMEHA HWY\",\n",
    "    \"city\": \"PEARL CITY\",\n",
    "    \"state\": \"HI\",\n",
    "    \"phoneNumber\": \"\",\n",
    "    \"tax\": \"0.00\",\n",
    "    \"total\": \"64.20\",\n",
    "    \"receiptDate\": \"07/17/23\",\n",
    "    \"receiptTime\": \"12:01 PM\",\n",
    "\n",
    "\n",
    "    \"ITEMS\": [\n",
    "      {\n",
    "        \"description\": \"UNLEAD\",\n",
    "        \"quantity\": \"15.326\",\n",
    "        \"unitPrice\": \"4.189\",\n",
    "        \"totalPrice\": \"64.20\",\n",
    "        \"discountAmount\": \"0.00\"\n",
    "      }\n",
    "    ]\n",
    "  }\n",
    "}\n",
    "'''\n",
    "\n",
    "test_pred_2 = '''\n",
    "{\n",
    "\"ReceiptInfo\": {\n",
    "\"merchant\": \"Sam's Club #6410\",\n",
    "\"address\": \"1000 KAMEHAMEHA HWY STE\",\n",
    "\"city\": \"PEARL CITY\",\n",
    "\"state\": \"HI\",\n",
    "\"phoneNumber\": \"\",\n",
    "\"tax\": \"0.00\",\n",
    "\"total\": \"64.20\",\n",
    "\"receiptDate\": \"07/17/23\",\n",
    "\"receiptTime\": \"12:01 PM\",\n",
    "\"ITEMS\": [\n",
    "{\n",
    "\"description\": \"UNLEAD\",\n",
    "\"quantity\": \"15.326\",\n",
    "\"unitPrice\": \"4.189\",\n",
    "\"totalPrice\": \"64.20\",\n",
    "\"discountAmount\": \"0.00\"\n",
    "}\n",
    "]\n",
    "}\n",
    "}'''\n",
    "\n",
    "get_prodigy_spans(test_text_2, test_true_2, test_pred_2)"
   ]
  },
  {
   "cell_type": "code",
   "execution_count": 39,
   "id": "d26ac865",
   "metadata": {},
   "outputs": [
    {
     "name": "stdout",
     "output_type": "stream",
     "text": [
      "{'ent_type': {'correct': 18, 'incorrect': 0, 'partial': 0, 'missed': 5, 'spurious': 5, 'possible': 23, 'actual': 23, 'precision': 0.782608695652174, 'recall': 0.782608695652174, 'f1': 0.782608695652174}, 'partial': {'correct': 18, 'incorrect': 0, 'partial': 0, 'missed': 5, 'spurious': 5, 'possible': 23, 'actual': 23, 'precision': 0.782608695652174, 'recall': 0.782608695652174, 'f1': 0.782608695652174}, 'strict': {'correct': 18, 'incorrect': 0, 'partial': 0, 'missed': 5, 'spurious': 5, 'possible': 23, 'actual': 23, 'precision': 0.782608695652174, 'recall': 0.782608695652174, 'f1': 0.782608695652174}, 'exact': {'correct': 18, 'incorrect': 0, 'partial': 0, 'missed': 5, 'spurious': 5, 'possible': 23, 'actual': 23, 'precision': 0.782608695652174, 'recall': 0.782608695652174, 'f1': 0.782608695652174}}\n"
     ]
    }
   ],
   "source": [
    "test_text_3 = '''\n",
    "LILIHA BAKERY <UNKNOWN> PEARL CITY\n",
    "Pearl Highlands Center\n",
    "Pearl City, HI 96782\n",
    "(808)455-1188\n",
    "Check 375997/1 Cashier: POS1 AM\n",
    "10/21/2023 5:46:41 PM\n",
    "Bakery\n",
    "10\n",
    "Poi Donut\n",
    "20.90\n",
    "1\n",
    "Coco Puff 6\n",
    "12.50\n",
    "6\n",
    "Green Tea Puff\n",
    "13.74\n",
    "SUB TOTAL\n",
    "47.14\n",
    "Sales Tax\n",
    "2.22\n",
    "TOTAL\n",
    "49.36\n",
    "'''\n",
    "\n",
    "test_true_3 = '''\n",
    "{\n",
    "  \"ReceiptInfo\": {\n",
    "    \"merchant\": \"LILIHA BAKERY\",\n",
    "    \"address\": \"Pearl Highlands Center\",\n",
    "    \"city\": \"Pearl City\",\n",
    "    \"state\": \"HI\",\n",
    "    \"phoneNumber\": \"(808)455-1188\",\n",
    "    \"tax\": \"2.22\",\n",
    "    \"total\": \"49.36\",\n",
    "    \"receiptDate\": \"10/21/2023\",\n",
    "    \"receiptTime\": \"5:46:41 PM\",\n",
    "\n",
    "\n",
    "    \"ITEMS\": [\n",
    "      {\n",
    "        \"description\": \"Poi Donut\",\n",
    "        \"quantity\": \"10\",\n",
    "        \"unitPrice\": \"2.09\",\n",
    "        \"totalPrice\": \"20.90\",\n",
    "        \"discountAmount\": \"0.00\"\n",
    "      },\n",
    "      {\n",
    "        \"description\": \"Coco Puff\",\n",
    "        \"quantity\": \"6\",\n",
    "        \"unitPrice\": \"2.08\",\n",
    "        \"totalPrice\": \"12.50\",\n",
    "        \"discountAmount\": \"0.00\"\n",
    "      },\n",
    "      {\n",
    "        \"description\": \"Green Tea Puff\",\n",
    "        \"quantity\": \"6\",\n",
    "        \"unitPrice\": \"2.29\",\n",
    "        \"totalPrice\": \"13.74\",\n",
    "        \"discountAmount\": \"0.00\"\n",
    "      }\n",
    "    ]\n",
    "  }\n",
    "}'''\n",
    "\n",
    "test_pred_3 = '''\n",
    "{\n",
    "\"ReceiptInfo\": {\n",
    "\"merchant\": \"LILIHA BAKERY\",\n",
    "\"address\": \"Pearl Highlands Center, Pearl City, HI 96782\",\n",
    "\"city\": \"Pearl City\",\n",
    "\"state\": \"HI\",\n",
    "\"phoneNumber\": \"(808)455-1188\",\n",
    "\"tax\": \"2.22\",\n",
    "\"total\": \"49.36\",\n",
    "\"receiptDate\": \"10/21/2023\",\n",
    "\"receiptTime\": \"5:46:41 PM\",\n",
    "\"ITEMS\": [\n",
    "{\n",
    "\"description\": \"Poi Donut\",\n",
    "\"quantity\": \"10\",\n",
    "\"unitPrice\": \"20.90\",\n",
    "\"totalPrice\": \"20.90\",\n",
    "\"discountAmount\": \"0.00\"\n",
    "},\n",
    "{\n",
    "\"description\": \"Coco Puff\",\n",
    "\"quantity\": \"1\",\n",
    "\"unitPrice\": \"12.50\",\n",
    "\"totalPrice\": \"12.50\",\n",
    "\"discountAmount\": \"0.00\"\n",
    "},\n",
    "{\n",
    "\"description\": \"Green Tea Puff\",\n",
    "\"quantity\": \"6\",\n",
    "\"unitPrice\": \"13.74\",\n",
    "\"totalPrice\": \"13.74\",\n",
    "\"discountAmount\": \"0.00\"\n",
    "}\n",
    "]\n",
    "}\n",
    "}'''\n",
    "\n",
    "get_prodigy_spans(test_text_3, test_true_3, test_pred_3)"
   ]
  },
  {
   "cell_type": "code",
   "execution_count": 40,
   "id": "f828e76b",
   "metadata": {},
   "outputs": [
    {
     "name": "stdout",
     "output_type": "stream",
     "text": [
      "{'ent_type': {'correct': 16, 'incorrect': 0, 'partial': 0, 'missed': 1, 'spurious': 1, 'possible': 17, 'actual': 17, 'precision': 0.9411764705882353, 'recall': 0.9411764705882353, 'f1': 0.9411764705882353}, 'partial': {'correct': 16, 'incorrect': 0, 'partial': 0, 'missed': 1, 'spurious': 1, 'possible': 17, 'actual': 17, 'precision': 0.9411764705882353, 'recall': 0.9411764705882353, 'f1': 0.9411764705882353}, 'strict': {'correct': 16, 'incorrect': 0, 'partial': 0, 'missed': 1, 'spurious': 1, 'possible': 17, 'actual': 17, 'precision': 0.9411764705882353, 'recall': 0.9411764705882353, 'f1': 0.9411764705882353}, 'exact': {'correct': 16, 'incorrect': 0, 'partial': 0, 'missed': 1, 'spurious': 1, 'possible': 17, 'actual': 17, 'precision': 0.9411764705882353, 'recall': 0.9411764705882353, 'f1': 0.9411764705882353}}\n"
     ]
    }
   ],
   "source": [
    "test_text_4 = '''\n",
    "KOZO SUSHI\n",
    "Kozo Sushi - Moilili\n",
    "2334 South King Street\n",
    "Honolulu, HI 96826\n",
    "Take Out\n",
    "Server: Manager P\n",
    "Check #101\n",
    "Ordered :\n",
    "4/7/23 3:36 PM\n",
    "2 Cucumber Maki\n",
    "$3.98\n",
    "1 Shrimp Tempura Hr\n",
    "$3.30\n",
    "Subtotal\n",
    "$7.28\n",
    "Tax\n",
    "$0.33\n",
    "Total\n",
    "$7.61\n",
    "Cash Tendered\n",
    "$20.00\n",
    "Change\n",
    "$12.39\n",
    "Powered by Toast'''\n",
    "\n",
    "test_true_4 = '''\n",
    "{\n",
    "  \"ReceiptInfo\": {\n",
    "    \"merchant\": \"KOZO SUSHI\",\n",
    "    \"address\": \"2334 South King Street\",\n",
    "    \"city\": \"Honolulu\",\n",
    "    \"state\": \"HI\",\n",
    "    \"phoneNumber\": \"\",\n",
    "    \"tax\": \"0.33\",\n",
    "    \"total\": \"7.61\",\n",
    "    \"receiptDate\": \"4/7/23\",\n",
    "    \"receiptTime\": \"3:36 PM\",\n",
    "\n",
    "\n",
    "    \"ITEMS\": [\n",
    "      {\n",
    "        \"description\": \"Cucumber Maki\",\n",
    "        \"quantity\": \"2\",\n",
    "        \"unitPrice\": \"1.99\",\n",
    "        \"totalPrice\": \"3.98\",\n",
    "        \"discountAmount\": \"0.00\"\n",
    "      },\n",
    "      {\n",
    "        \"description\": \"Shrimp Tempura Hr\",\n",
    "        \"quantity\": \"1\",\n",
    "        \"unitPrice\": \"3.30\",\n",
    "        \"totalPrice\": \"3.30\",\n",
    "        \"discountAmount\": \"0.00\"\n",
    "      }\n",
    "    ]\n",
    "  }\n",
    "}\n",
    "'''\n",
    "\n",
    "test_pred_4 = '''\n",
    "{\n",
    "\"ReceiptInfo\": {\n",
    "\"merchant\": \"KOZO SUSHI\",\n",
    "\"address\": \"2334 South King Street\",\n",
    "\"city\": \"Honolulu\",\n",
    "\"state\": \"HI\",\n",
    "\"phoneNumber\": \"\",\n",
    "\"tax\": \"0.33\",\n",
    "\"total\": \"7.61\",\n",
    "\"receiptDate\": \"4/7/23\",\n",
    "\"receiptTime\": \"3:36 PM\",\n",
    "\"ITEMS\": [\n",
    "{\n",
    "\"description\": \"Cucumber Maki\",\n",
    "\"quantity\": \"2\",\n",
    "\"unitPrice\": \"3.98\",\n",
    "\"totalPrice\": \"3.98\",\n",
    "\"discountAmount\": \"0.00\"\n",
    "},\n",
    "{\n",
    "\"description\": \"Shrimp Tempura Hr\",\n",
    "\"quantity\": \"1\",\n",
    "\"unitPrice\": \"3.30\",\n",
    "\"totalPrice\": \"3.30\",\n",
    "\"discountAmount\": \"0.00\"\n",
    "}\n",
    "]\n",
    "}\n",
    "}'''\n",
    "\n",
    "get_prodigy_spans(test_text_4, test_true_4, test_pred_4)"
   ]
  },
  {
   "cell_type": "code",
   "execution_count": 41,
   "id": "7e518076",
   "metadata": {},
   "outputs": [
    {
     "name": "stdout",
     "output_type": "stream",
     "text": [
      "{'ent_type': {'correct': 13, 'incorrect': 0, 'partial': 0, 'missed': 0, 'spurious': 0, 'possible': 13, 'actual': 13, 'precision': 1.0, 'recall': 1.0, 'f1': 1.0}, 'partial': {'correct': 13, 'incorrect': 0, 'partial': 0, 'missed': 0, 'spurious': 0, 'possible': 13, 'actual': 13, 'precision': 1.0, 'recall': 1.0, 'f1': 1.0}, 'strict': {'correct': 13, 'incorrect': 0, 'partial': 0, 'missed': 0, 'spurious': 0, 'possible': 13, 'actual': 13, 'precision': 1.0, 'recall': 1.0, 'f1': 1.0}, 'exact': {'correct': 13, 'incorrect': 0, 'partial': 0, 'missed': 0, 'spurious': 0, 'possible': 13, 'actual': 13, 'precision': 1.0, 'recall': 1.0, 'f1': 1.0}}\n"
     ]
    }
   ],
   "source": [
    "test_text_5 = '''\n",
    "Hardware\n",
    "Hawaii\n",
    "CONTRACTOR'S\n",
    "CHOICE\n",
    "THANK YOU FOR SHOPPING AT\n",
    "<UNKNOWN> Hawaii Kailua\n",
    "30 Kihapai Street\n",
    "Kailua, Hawaii 96734\n",
    "www.hardwarehawaii.com\n",
    "(808) 266-1133\n",
    "Kailua\n",
    "10/07/23 10:30AM 1013\n",
    "106\n",
    "SALE\n",
    "QC\n",
    "1 BG\n",
    "$10.25 BG\n",
    "CONCRETE MIX 60lb QUIKRETE\n",
    "$10.25\n",
    "SUB-TOTAL:$\n",
    "10.25 TAX:\n",
    "$\n",
    ".48\n",
    "TOTAL: $\n",
    "10.73\n",
    "BC <UNKNOWN>\n",
    "$\n",
    "10.73'''\n",
    "\n",
    "test_true_5 = '''\n",
    "{\n",
    "  \"ReceiptInfo\": {\n",
    "    \"merchant\": \"Hardware Hawaii\",\n",
    "    \"address\": \"30 Kihapai Street\",\n",
    "    \"city\": \"Kailua\",\n",
    "    \"state\": \"Hawaii\",\n",
    "    \"phoneNumber\": \"(808) 266-1133\",\n",
    "    \"tax\": \"0.48\",\n",
    "    \"total\": \"10.73\",\n",
    "    \"receiptDate\": \"10/07/23\",\n",
    "    \"receiptTime\": \"10:30AM\",\n",
    "\n",
    "\n",
    "    \"ITEMS\": [\n",
    "      {\n",
    "        \"description\": \"CONCRETE MIX 60lb QUIKRETE\",\n",
    "        \"quantity\": \"1\",\n",
    "        \"unitPrice\": \"10.25\",\n",
    "        \"totalPrice\": \"10.25\",\n",
    "        \"discountAmount\": \"0.00\"\n",
    "      }\n",
    "    ]\n",
    "  }\n",
    "}\n",
    "'''\n",
    "\n",
    "test_pred_5 = '''\n",
    "{\n",
    "\"ReceiptInfo\": {\n",
    "\"merchant\": \"Hardware Hawaii\",\n",
    "\"address\": \"30 Kihapai Street\",\n",
    "\"city\": \"Kailua\",\n",
    "\"state\": \"Hawaii\",\n",
    "\"phoneNumber\": \"(808) 266-1133\",\n",
    "\"tax\": \"0.48\",\n",
    "\"total\": \"10.73\",\n",
    "\"receiptDate\": \"10/07/23\",\n",
    "\"receiptTime\": \"10:30AM\",\n",
    "\"ITEMS\": [\n",
    "{\n",
    "\"description\": \"CONCRETE MIX 60lb QUIKRETE\",\n",
    "\"quantity\": \"1\",\n",
    "\"unitPrice\": \"10.25\",\n",
    "\"totalPrice\": \"10.25\",\n",
    "\"discountAmount\": \"0.00\"\n",
    "}\n",
    "]\n",
    "}\n",
    "}'''\n",
    "\n",
    "get_prodigy_spans(test_text_5, test_true_5, test_pred_5)"
   ]
  }
 ],
 "metadata": {
  "kernelspec": {
   "display_name": "Python 3 (ipykernel)",
   "language": "python",
   "name": "python3"
  },
  "language_info": {
   "codemirror_mode": {
    "name": "ipython",
    "version": 3
   },
   "file_extension": ".py",
   "mimetype": "text/x-python",
   "name": "python",
   "nbconvert_exporter": "python",
   "pygments_lexer": "ipython3",
   "version": "3.9.18"
  }
 },
 "nbformat": 4,
 "nbformat_minor": 5
}
